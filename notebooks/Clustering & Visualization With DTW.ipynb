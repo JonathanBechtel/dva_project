{
 "cells": [
  {
   "cell_type": "code",
   "execution_count": 1,
   "id": "2e7a8728",
   "metadata": {},
   "outputs": [],
   "source": [
    "import numpy as np\n",
    "import plotly.express as px\n",
    "import pandas as pd\n",
    "from sktime.clustering.k_means import TimeSeriesKMeans\n",
    "from sklearn.decomposition import PCA"
   ]
  },
  {
   "cell_type": "code",
   "execution_count": 2,
   "id": "e4bded67",
   "metadata": {},
   "outputs": [],
   "source": [
    "# import DTW matrix\n",
    "with open('../artifacts/dtw_standardized.npy', 'rb') as infile:\n",
    "    returns = np.load(infile)\n",
    "    \n",
    "# load in data\n",
    "df = pd.read_csv('../data/returns_clean.csv', index_col = 'timestamp')\n",
    "coins = [col.split('_')[0] for col in df.columns[1:]]"
   ]
  },
  {
   "cell_type": "code",
   "execution_count": 3,
   "id": "72cf80f8",
   "metadata": {},
   "outputs": [],
   "source": [
    "# deconstruct matrix\n",
    "U, S, Vt = np.linalg.svd(returns)"
   ]
  },
  {
   "cell_type": "code",
   "execution_count": 4,
   "id": "1d08eb60",
   "metadata": {},
   "outputs": [
    {
     "data": {
      "text/html": [
       "<div>\n",
       "<style scoped>\n",
       "    .dataframe tbody tr th:only-of-type {\n",
       "        vertical-align: middle;\n",
       "    }\n",
       "\n",
       "    .dataframe tbody tr th {\n",
       "        vertical-align: top;\n",
       "    }\n",
       "\n",
       "    .dataframe thead th {\n",
       "        text-align: right;\n",
       "    }\n",
       "</style>\n",
       "<table border=\"1\" class=\"dataframe\">\n",
       "  <thead>\n",
       "    <tr style=\"text-align: right;\">\n",
       "      <th>timestamp</th>\n",
       "      <th>2019-05-31</th>\n",
       "      <th>2019-06-01</th>\n",
       "      <th>2019-06-02</th>\n",
       "      <th>2019-06-03</th>\n",
       "      <th>2019-06-04</th>\n",
       "      <th>2019-06-05</th>\n",
       "      <th>2019-06-06</th>\n",
       "      <th>2019-06-07</th>\n",
       "      <th>2019-06-08</th>\n",
       "      <th>2019-06-09</th>\n",
       "      <th>...</th>\n",
       "      <th>2023-02-24</th>\n",
       "      <th>2023-02-25</th>\n",
       "      <th>2023-02-26</th>\n",
       "      <th>2023-02-27</th>\n",
       "      <th>2023-02-28</th>\n",
       "      <th>2023-03-01</th>\n",
       "      <th>2023-03-02</th>\n",
       "      <th>2023-03-03</th>\n",
       "      <th>2023-03-04</th>\n",
       "      <th>2023-03-05</th>\n",
       "    </tr>\n",
       "  </thead>\n",
       "  <tbody>\n",
       "    <tr>\n",
       "      <th>bitcoin_price</th>\n",
       "      <td>-0.025871</td>\n",
       "      <td>0.023775</td>\n",
       "      <td>0.004893</td>\n",
       "      <td>0.017402</td>\n",
       "      <td>-0.056119</td>\n",
       "      <td>-0.053453</td>\n",
       "      <td>0.008372</td>\n",
       "      <td>-0.009295</td>\n",
       "      <td>0.008924</td>\n",
       "      <td>-0.011229</td>\n",
       "      <td>...</td>\n",
       "      <td>-0.010599</td>\n",
       "      <td>-0.031519</td>\n",
       "      <td>-0.000232</td>\n",
       "      <td>0.016325</td>\n",
       "      <td>-0.003104</td>\n",
       "      <td>-0.015358</td>\n",
       "      <td>0.021605</td>\n",
       "      <td>-0.007110</td>\n",
       "      <td>-0.048686</td>\n",
       "      <td>0.001225</td>\n",
       "    </tr>\n",
       "    <tr>\n",
       "      <th>ethereum_price</th>\n",
       "      <td>-0.035436</td>\n",
       "      <td>0.040092</td>\n",
       "      <td>-0.005639</td>\n",
       "      <td>0.015071</td>\n",
       "      <td>-0.057333</td>\n",
       "      <td>-0.035626</td>\n",
       "      <td>0.015090</td>\n",
       "      <td>0.002671</td>\n",
       "      <td>-0.017136</td>\n",
       "      <td>-0.020909</td>\n",
       "      <td>...</td>\n",
       "      <td>0.003975</td>\n",
       "      <td>-0.025758</td>\n",
       "      <td>-0.007615</td>\n",
       "      <td>0.028460</td>\n",
       "      <td>-0.005163</td>\n",
       "      <td>-0.017630</td>\n",
       "      <td>0.037032</td>\n",
       "      <td>-0.010413</td>\n",
       "      <td>-0.048904</td>\n",
       "      <td>0.000861</td>\n",
       "    </tr>\n",
       "    <tr>\n",
       "      <th>tether_price</th>\n",
       "      <td>0.018278</td>\n",
       "      <td>-0.008923</td>\n",
       "      <td>0.006562</td>\n",
       "      <td>-0.003888</td>\n",
       "      <td>0.012275</td>\n",
       "      <td>0.004158</td>\n",
       "      <td>-0.000942</td>\n",
       "      <td>-0.008418</td>\n",
       "      <td>-0.022599</td>\n",
       "      <td>-0.001912</td>\n",
       "      <td>...</td>\n",
       "      <td>0.000076</td>\n",
       "      <td>-0.000017</td>\n",
       "      <td>0.000642</td>\n",
       "      <td>-0.000498</td>\n",
       "      <td>-0.000151</td>\n",
       "      <td>0.000096</td>\n",
       "      <td>-0.000111</td>\n",
       "      <td>0.000035</td>\n",
       "      <td>0.000070</td>\n",
       "      <td>0.001571</td>\n",
       "    </tr>\n",
       "    <tr>\n",
       "      <th>binance-coin_price</th>\n",
       "      <td>-0.035600</td>\n",
       "      <td>0.004321</td>\n",
       "      <td>0.021325</td>\n",
       "      <td>-0.002473</td>\n",
       "      <td>-0.041074</td>\n",
       "      <td>-0.059972</td>\n",
       "      <td>0.048276</td>\n",
       "      <td>0.006676</td>\n",
       "      <td>-0.019190</td>\n",
       "      <td>0.015045</td>\n",
       "      <td>...</td>\n",
       "      <td>-0.015065</td>\n",
       "      <td>-0.018442</td>\n",
       "      <td>0.000781</td>\n",
       "      <td>0.020305</td>\n",
       "      <td>-0.013118</td>\n",
       "      <td>-0.011192</td>\n",
       "      <td>0.004464</td>\n",
       "      <td>-0.007885</td>\n",
       "      <td>-0.032717</td>\n",
       "      <td>-0.001800</td>\n",
       "    </tr>\n",
       "    <tr>\n",
       "      <th>usd-coin_price</th>\n",
       "      <td>0.023827</td>\n",
       "      <td>-0.012559</td>\n",
       "      <td>0.005687</td>\n",
       "      <td>-0.002923</td>\n",
       "      <td>0.013465</td>\n",
       "      <td>0.006992</td>\n",
       "      <td>-0.006063</td>\n",
       "      <td>-0.009109</td>\n",
       "      <td>-0.025402</td>\n",
       "      <td>-0.007582</td>\n",
       "      <td>...</td>\n",
       "      <td>0.000032</td>\n",
       "      <td>0.000087</td>\n",
       "      <td>0.000574</td>\n",
       "      <td>-0.000420</td>\n",
       "      <td>0.000135</td>\n",
       "      <td>-0.000388</td>\n",
       "      <td>0.000363</td>\n",
       "      <td>-0.000200</td>\n",
       "      <td>0.000075</td>\n",
       "      <td>0.001005</td>\n",
       "    </tr>\n",
       "    <tr>\n",
       "      <th>...</th>\n",
       "      <td>...</td>\n",
       "      <td>...</td>\n",
       "      <td>...</td>\n",
       "      <td>...</td>\n",
       "      <td>...</td>\n",
       "      <td>...</td>\n",
       "      <td>...</td>\n",
       "      <td>...</td>\n",
       "      <td>...</td>\n",
       "      <td>...</td>\n",
       "      <td>...</td>\n",
       "      <td>...</td>\n",
       "      <td>...</td>\n",
       "      <td>...</td>\n",
       "      <td>...</td>\n",
       "      <td>...</td>\n",
       "      <td>...</td>\n",
       "      <td>...</td>\n",
       "      <td>...</td>\n",
       "      <td>...</td>\n",
       "      <td>...</td>\n",
       "    </tr>\n",
       "    <tr>\n",
       "      <th>v-id_price</th>\n",
       "      <td>0.081559</td>\n",
       "      <td>-0.097937</td>\n",
       "      <td>-0.108218</td>\n",
       "      <td>0.104804</td>\n",
       "      <td>-0.211045</td>\n",
       "      <td>-0.045813</td>\n",
       "      <td>0.109741</td>\n",
       "      <td>0.024944</td>\n",
       "      <td>0.000000</td>\n",
       "      <td>0.000000</td>\n",
       "      <td>...</td>\n",
       "      <td>0.010827</td>\n",
       "      <td>-0.063428</td>\n",
       "      <td>-0.039287</td>\n",
       "      <td>0.028168</td>\n",
       "      <td>-0.007718</td>\n",
       "      <td>-0.021367</td>\n",
       "      <td>0.047133</td>\n",
       "      <td>-0.057222</td>\n",
       "      <td>-0.077017</td>\n",
       "      <td>0.048459</td>\n",
       "    </tr>\n",
       "    <tr>\n",
       "      <th>aeternity_price</th>\n",
       "      <td>-0.020498</td>\n",
       "      <td>0.023478</td>\n",
       "      <td>-0.037109</td>\n",
       "      <td>0.038580</td>\n",
       "      <td>-0.056825</td>\n",
       "      <td>-0.044157</td>\n",
       "      <td>0.018333</td>\n",
       "      <td>-0.014751</td>\n",
       "      <td>-0.011960</td>\n",
       "      <td>-0.018826</td>\n",
       "      <td>...</td>\n",
       "      <td>-0.006127</td>\n",
       "      <td>-0.013093</td>\n",
       "      <td>-0.002970</td>\n",
       "      <td>0.000659</td>\n",
       "      <td>0.018248</td>\n",
       "      <td>-0.011504</td>\n",
       "      <td>0.009839</td>\n",
       "      <td>-0.009384</td>\n",
       "      <td>-0.041474</td>\n",
       "      <td>0.000710</td>\n",
       "    </tr>\n",
       "    <tr>\n",
       "      <th>streamr-datacoin_price</th>\n",
       "      <td>-0.055636</td>\n",
       "      <td>0.046848</td>\n",
       "      <td>0.067867</td>\n",
       "      <td>0.013228</td>\n",
       "      <td>-0.119765</td>\n",
       "      <td>-0.011704</td>\n",
       "      <td>-0.019662</td>\n",
       "      <td>-0.016905</td>\n",
       "      <td>0.000000</td>\n",
       "      <td>0.000000</td>\n",
       "      <td>...</td>\n",
       "      <td>-0.044247</td>\n",
       "      <td>-0.063029</td>\n",
       "      <td>-0.012950</td>\n",
       "      <td>0.022010</td>\n",
       "      <td>-0.024042</td>\n",
       "      <td>-0.017726</td>\n",
       "      <td>0.055806</td>\n",
       "      <td>-0.038277</td>\n",
       "      <td>-0.082687</td>\n",
       "      <td>-0.022153</td>\n",
       "    </tr>\n",
       "    <tr>\n",
       "      <th>pivx_price</th>\n",
       "      <td>-0.034822</td>\n",
       "      <td>0.006719</td>\n",
       "      <td>-0.008601</td>\n",
       "      <td>0.052798</td>\n",
       "      <td>-0.065706</td>\n",
       "      <td>-0.036355</td>\n",
       "      <td>-0.001356</td>\n",
       "      <td>-0.025547</td>\n",
       "      <td>0.000000</td>\n",
       "      <td>0.000000</td>\n",
       "      <td>...</td>\n",
       "      <td>0.032095</td>\n",
       "      <td>-0.090504</td>\n",
       "      <td>-0.071488</td>\n",
       "      <td>0.051555</td>\n",
       "      <td>-0.055196</td>\n",
       "      <td>0.123969</td>\n",
       "      <td>0.047231</td>\n",
       "      <td>0.037702</td>\n",
       "      <td>0.004867</td>\n",
       "      <td>-0.095880</td>\n",
       "    </tr>\n",
       "    <tr>\n",
       "      <th>neblio_price</th>\n",
       "      <td>-0.009072</td>\n",
       "      <td>0.029768</td>\n",
       "      <td>0.018166</td>\n",
       "      <td>0.015916</td>\n",
       "      <td>-0.095824</td>\n",
       "      <td>-0.066908</td>\n",
       "      <td>0.058103</td>\n",
       "      <td>-0.025565</td>\n",
       "      <td>0.000000</td>\n",
       "      <td>0.000000</td>\n",
       "      <td>...</td>\n",
       "      <td>0.038666</td>\n",
       "      <td>-0.071965</td>\n",
       "      <td>0.009539</td>\n",
       "      <td>-0.004278</td>\n",
       "      <td>-0.049764</td>\n",
       "      <td>-0.068361</td>\n",
       "      <td>0.032771</td>\n",
       "      <td>-0.033860</td>\n",
       "      <td>-0.114782</td>\n",
       "      <td>0.046517</td>\n",
       "    </tr>\n",
       "  </tbody>\n",
       "</table>\n",
       "<p>189 rows × 1373 columns</p>\n",
       "</div>"
      ],
      "text/plain": [
       "timestamp               2019-05-31  2019-06-01  2019-06-02  2019-06-03  \\\n",
       "bitcoin_price            -0.025871    0.023775    0.004893    0.017402   \n",
       "ethereum_price           -0.035436    0.040092   -0.005639    0.015071   \n",
       "tether_price              0.018278   -0.008923    0.006562   -0.003888   \n",
       "binance-coin_price       -0.035600    0.004321    0.021325   -0.002473   \n",
       "usd-coin_price            0.023827   -0.012559    0.005687   -0.002923   \n",
       "...                            ...         ...         ...         ...   \n",
       "v-id_price                0.081559   -0.097937   -0.108218    0.104804   \n",
       "aeternity_price          -0.020498    0.023478   -0.037109    0.038580   \n",
       "streamr-datacoin_price   -0.055636    0.046848    0.067867    0.013228   \n",
       "pivx_price               -0.034822    0.006719   -0.008601    0.052798   \n",
       "neblio_price             -0.009072    0.029768    0.018166    0.015916   \n",
       "\n",
       "timestamp               2019-06-04  2019-06-05  2019-06-06  2019-06-07  \\\n",
       "bitcoin_price            -0.056119   -0.053453    0.008372   -0.009295   \n",
       "ethereum_price           -0.057333   -0.035626    0.015090    0.002671   \n",
       "tether_price              0.012275    0.004158   -0.000942   -0.008418   \n",
       "binance-coin_price       -0.041074   -0.059972    0.048276    0.006676   \n",
       "usd-coin_price            0.013465    0.006992   -0.006063   -0.009109   \n",
       "...                            ...         ...         ...         ...   \n",
       "v-id_price               -0.211045   -0.045813    0.109741    0.024944   \n",
       "aeternity_price          -0.056825   -0.044157    0.018333   -0.014751   \n",
       "streamr-datacoin_price   -0.119765   -0.011704   -0.019662   -0.016905   \n",
       "pivx_price               -0.065706   -0.036355   -0.001356   -0.025547   \n",
       "neblio_price             -0.095824   -0.066908    0.058103   -0.025565   \n",
       "\n",
       "timestamp               2019-06-08  2019-06-09  ...  2023-02-24  2023-02-25  \\\n",
       "bitcoin_price             0.008924   -0.011229  ...   -0.010599   -0.031519   \n",
       "ethereum_price           -0.017136   -0.020909  ...    0.003975   -0.025758   \n",
       "tether_price             -0.022599   -0.001912  ...    0.000076   -0.000017   \n",
       "binance-coin_price       -0.019190    0.015045  ...   -0.015065   -0.018442   \n",
       "usd-coin_price           -0.025402   -0.007582  ...    0.000032    0.000087   \n",
       "...                            ...         ...  ...         ...         ...   \n",
       "v-id_price                0.000000    0.000000  ...    0.010827   -0.063428   \n",
       "aeternity_price          -0.011960   -0.018826  ...   -0.006127   -0.013093   \n",
       "streamr-datacoin_price    0.000000    0.000000  ...   -0.044247   -0.063029   \n",
       "pivx_price                0.000000    0.000000  ...    0.032095   -0.090504   \n",
       "neblio_price              0.000000    0.000000  ...    0.038666   -0.071965   \n",
       "\n",
       "timestamp               2023-02-26  2023-02-27  2023-02-28  2023-03-01  \\\n",
       "bitcoin_price            -0.000232    0.016325   -0.003104   -0.015358   \n",
       "ethereum_price           -0.007615    0.028460   -0.005163   -0.017630   \n",
       "tether_price              0.000642   -0.000498   -0.000151    0.000096   \n",
       "binance-coin_price        0.000781    0.020305   -0.013118   -0.011192   \n",
       "usd-coin_price            0.000574   -0.000420    0.000135   -0.000388   \n",
       "...                            ...         ...         ...         ...   \n",
       "v-id_price               -0.039287    0.028168   -0.007718   -0.021367   \n",
       "aeternity_price          -0.002970    0.000659    0.018248   -0.011504   \n",
       "streamr-datacoin_price   -0.012950    0.022010   -0.024042   -0.017726   \n",
       "pivx_price               -0.071488    0.051555   -0.055196    0.123969   \n",
       "neblio_price              0.009539   -0.004278   -0.049764   -0.068361   \n",
       "\n",
       "timestamp               2023-03-02  2023-03-03  2023-03-04  2023-03-05  \n",
       "bitcoin_price             0.021605   -0.007110   -0.048686    0.001225  \n",
       "ethereum_price            0.037032   -0.010413   -0.048904    0.000861  \n",
       "tether_price             -0.000111    0.000035    0.000070    0.001571  \n",
       "binance-coin_price        0.004464   -0.007885   -0.032717   -0.001800  \n",
       "usd-coin_price            0.000363   -0.000200    0.000075    0.001005  \n",
       "...                            ...         ...         ...         ...  \n",
       "v-id_price                0.047133   -0.057222   -0.077017    0.048459  \n",
       "aeternity_price           0.009839   -0.009384   -0.041474    0.000710  \n",
       "streamr-datacoin_price    0.055806   -0.038277   -0.082687   -0.022153  \n",
       "pivx_price                0.047231    0.037702    0.004867   -0.095880  \n",
       "neblio_price              0.032771   -0.033860   -0.114782    0.046517  \n",
       "\n",
       "[189 rows x 1373 columns]"
      ]
     },
     "execution_count": 4,
     "metadata": {},
     "output_type": "execute_result"
    }
   ],
   "source": [
    "mod = TimeSeriesKMeans(n_clusters = 3)\n",
    "pca = PCA(n_components = 2)\n",
    "df.T"
   ]
  },
  {
   "cell_type": "code",
   "execution_count": 5,
   "id": "2698cde4",
   "metadata": {},
   "outputs": [
    {
     "data": {
      "text/html": [
       "<style>#sk-container-id-1 {color: black;background-color: white;}#sk-container-id-1 pre{padding: 0;}#sk-container-id-1 div.sk-toggleable {background-color: white;}#sk-container-id-1 label.sk-toggleable__label {cursor: pointer;display: block;width: 100%;margin-bottom: 0;padding: 0.3em;box-sizing: border-box;text-align: center;}#sk-container-id-1 label.sk-toggleable__label-arrow:before {content: \"▸\";float: left;margin-right: 0.25em;color: #696969;}#sk-container-id-1 label.sk-toggleable__label-arrow:hover:before {color: black;}#sk-container-id-1 div.sk-estimator:hover label.sk-toggleable__label-arrow:before {color: black;}#sk-container-id-1 div.sk-toggleable__content {max-height: 0;max-width: 0;overflow: hidden;text-align: left;background-color: #f0f8ff;}#sk-container-id-1 div.sk-toggleable__content pre {margin: 0.2em;color: black;border-radius: 0.25em;background-color: #f0f8ff;}#sk-container-id-1 input.sk-toggleable__control:checked~div.sk-toggleable__content {max-height: 200px;max-width: 100%;overflow: auto;}#sk-container-id-1 input.sk-toggleable__control:checked~label.sk-toggleable__label-arrow:before {content: \"▾\";}#sk-container-id-1 div.sk-estimator input.sk-toggleable__control:checked~label.sk-toggleable__label {background-color: #d4ebff;}#sk-container-id-1 div.sk-label input.sk-toggleable__control:checked~label.sk-toggleable__label {background-color: #d4ebff;}#sk-container-id-1 input.sk-hidden--visually {border: 0;clip: rect(1px 1px 1px 1px);clip: rect(1px, 1px, 1px, 1px);height: 1px;margin: -1px;overflow: hidden;padding: 0;position: absolute;width: 1px;}#sk-container-id-1 div.sk-estimator {font-family: monospace;background-color: #f0f8ff;border: 1px dotted black;border-radius: 0.25em;box-sizing: border-box;margin-bottom: 0.5em;}#sk-container-id-1 div.sk-estimator:hover {background-color: #d4ebff;}#sk-container-id-1 div.sk-parallel-item::after {content: \"\";width: 100%;border-bottom: 1px solid gray;flex-grow: 1;}#sk-container-id-1 div.sk-label:hover label.sk-toggleable__label {background-color: #d4ebff;}#sk-container-id-1 div.sk-serial::before {content: \"\";position: absolute;border-left: 1px solid gray;box-sizing: border-box;top: 0;bottom: 0;left: 50%;z-index: 0;}#sk-container-id-1 div.sk-serial {display: flex;flex-direction: column;align-items: center;background-color: white;padding-right: 0.2em;padding-left: 0.2em;position: relative;}#sk-container-id-1 div.sk-item {position: relative;z-index: 1;}#sk-container-id-1 div.sk-parallel {display: flex;align-items: stretch;justify-content: center;background-color: white;position: relative;}#sk-container-id-1 div.sk-item::before, #sk-container-id-1 div.sk-parallel-item::before {content: \"\";position: absolute;border-left: 1px solid gray;box-sizing: border-box;top: 0;bottom: 0;left: 50%;z-index: -1;}#sk-container-id-1 div.sk-parallel-item {display: flex;flex-direction: column;z-index: 1;position: relative;background-color: white;}#sk-container-id-1 div.sk-parallel-item:first-child::after {align-self: flex-end;width: 50%;}#sk-container-id-1 div.sk-parallel-item:last-child::after {align-self: flex-start;width: 50%;}#sk-container-id-1 div.sk-parallel-item:only-child::after {width: 0;}#sk-container-id-1 div.sk-dashed-wrapped {border: 1px dashed gray;margin: 0 0.4em 0.5em 0.4em;box-sizing: border-box;padding-bottom: 0.4em;background-color: white;}#sk-container-id-1 div.sk-label label {font-family: monospace;font-weight: bold;display: inline-block;line-height: 1.2em;}#sk-container-id-1 div.sk-label-container {text-align: center;}#sk-container-id-1 div.sk-container {/* jupyter's `normalize.less` sets `[hidden] { display: none; }` but bootstrap.min.css set `[hidden] { display: none !important; }` so we also need the `!important` here to be able to override the default hidden behavior on the sphinx rendered scikit-learn.org. See: https://github.com/scikit-learn/scikit-learn/issues/21755 */display: inline-block !important;position: relative;}#sk-container-id-1 div.sk-text-repr-fallback {display: none;}</style><div id=\"sk-container-id-1\" class=\"sk-top-container\"><div class=\"sk-text-repr-fallback\"><pre>TimeSeriesKMeans(n_clusters=3)</pre><b>In a Jupyter environment, please rerun this cell to show the HTML representation or trust the notebook. <br />On GitHub, the HTML representation is unable to render, please try loading this page with nbviewer.org.</b></div><div class=\"sk-container\" hidden><div class=\"sk-item\"><div class=\"sk-estimator sk-toggleable\"><input class=\"sk-toggleable__control sk-hidden--visually\" id=\"sk-estimator-id-1\" type=\"checkbox\" checked><label for=\"sk-estimator-id-1\" class=\"sk-toggleable__label sk-toggleable__label-arrow\">TimeSeriesKMeans</label><div class=\"sk-toggleable__content\"><pre>TimeSeriesKMeans(n_clusters=3)</pre></div></div></div></div></div>"
      ],
      "text/plain": [
       "TimeSeriesKMeans(n_clusters=3)"
      ]
     },
     "execution_count": 5,
     "metadata": {},
     "output_type": "execute_result"
    }
   ],
   "source": [
    "mod.fit(df.T.values)"
   ]
  },
  {
   "cell_type": "code",
   "execution_count": 6,
   "id": "fe3476c3",
   "metadata": {},
   "outputs": [],
   "source": [
    "preds = mod.predict(df.T.values)"
   ]
  },
  {
   "cell_type": "code",
   "execution_count": 7,
   "id": "6ac1f79e",
   "metadata": {},
   "outputs": [
    {
     "data": {
      "application/vnd.plotly.v1+json": {
       "config": {
        "plotlyServerURL": "https://plot.ly"
       },
       "data": [
        {
         "hovertemplate": "color=1<br>x=%{x}<br>index=%{y}<extra></extra>",
         "legendgroup": "1",
         "marker": {
          "color": "#636efa",
          "symbol": "circle"
         },
         "mode": "markers",
         "name": "1",
         "orientation": "h",
         "showlegend": true,
         "type": "scatter",
         "x": [
          0.08781251717010065,
          0.09761240296551693,
          0.05884044513677138,
          0.044818826849230664,
          0.026541531604948012,
          0.09398199777094107,
          -0.07650033217705884,
          0.06671385343778144,
          0.09756599526795186,
          0.07312966184349656,
          0.07910883004015005,
          0.08310308577899007,
          0.0879028261219966,
          0.06879951204454142,
          0.08144583515194818,
          0.07116745160809523,
          0.05202927355681681,
          0.03200299958972825,
          0.055441264263189474,
          0.09941240185942146,
          0.036172090173844,
          0.0668529188904827,
          0.01807044799399871,
          0.07254796959403675,
          0.08656305611140452,
          0.08845298262321044,
          0.04948956580396176,
          0.09173570160996027,
          0.035610582493380456,
          0.025202121345146933,
          0.06562623404072672,
          0.00733966002898198,
          0.06931832024333778,
          0.0005581835339595722,
          0.08567075901424961,
          0.0749309501692306,
          0.049364466250396866,
          0.05842823979781826,
          0.03787401152980572,
          0.07965197942040408,
          0.05358457194317804,
          0.07170326240486544,
          0.06593658947322312,
          0.03588350973471362,
          0.08927894267413704,
          0.058145061046396364,
          0.03527291876753619,
          0.07764229004407935,
          0.06206801237262098,
          0.07045313439756806,
          0.06035445279031421,
          0.030312998869911057,
          0.033498597006845446,
          0.03202670057375787,
          0.07419993814642951,
          0.07043610394897516,
          0.0840780199898428,
          0.07931740790719703,
          0.036650371992852995,
          0.0996939160549833,
          0.0514464992946409,
          0.0237769939350211,
          0.07696864076042435,
          0.05059555432842684,
          0.05621368046745037,
          0.02982089855407431,
          -0.020595263847415585,
          0.06812360129534713,
          0.013162112614595574,
          -0.0064342369807505895,
          0.07637746316795206,
          0.0015642004108839844,
          0.04112359528585795,
          0.06221757541078334,
          0.04157361095848854,
          0.07462765313895046,
          0.04212101730300845,
          0.0036580085522820026,
          -0.006523362751894409,
          0.03620410796483118,
          0.011406600174458338,
          0.0803196505735913,
          -0.06846444429793998,
          0.027362664770961036,
          -0.0434165997675502,
          -0.05708849258261341,
          -0.0036465940265188587,
          -0.18049177566595148,
          0.025193361640660883,
          0.025294013169494724,
          -0.00001907483399045004,
          0.0015822556360080922,
          0.04726744978295322,
          0.032375187325488594,
          0.016395902434203895,
          -0.13427273089185418,
          -0.012638805462806447,
          0.021522501069425867,
          0.04619537263126716,
          0.022953542782301842,
          0.059597082624637025,
          0.0748630643719655,
          0.03590661151386799,
          0.019377258367484423,
          -0.05991466156652003,
          0.042931503795747526,
          0.040234498244132055,
          0.036674573283258786,
          0.037924617659528884,
          0.027155152482422073,
          -0.019665841828897856,
          0.06755011101907281,
          0.0420223205214427,
          0.04385742524587554,
          -0.01645470227100294,
          0.06886475640542576,
          0.03564284332325953,
          -0.04501162148022021,
          -0.02746785058700006,
          -0.06217331279969037,
          0.05069371724633941,
          0.03368359962527053,
          -0.00971845136945481,
          0.019239052189364378,
          -0.009746395145218424,
          0.0006319906694543453,
          0.041851817796083934,
          0.004730935595948214,
          -0.029787983198521703,
          0.0309850152275712,
          0.07680478140688139,
          -0.010403105746834219,
          0.08391818942534889,
          -0.00012679049243918963,
          0.02384510184903574,
          0.056970309843357214,
          -0.03450666092424596,
          0.05429362035165673
         ],
         "xaxis": "x",
         "y": [
          0,
          1,
          3,
          5,
          6,
          7,
          8,
          9,
          10,
          11,
          12,
          15,
          16,
          18,
          19,
          20,
          21,
          22,
          23,
          24,
          25,
          26,
          27,
          28,
          29,
          30,
          32,
          33,
          34,
          35,
          36,
          38,
          39,
          40,
          44,
          45,
          46,
          47,
          48,
          49,
          50,
          51,
          52,
          54,
          55,
          56,
          57,
          58,
          59,
          61,
          62,
          63,
          64,
          65,
          67,
          68,
          69,
          70,
          71,
          72,
          73,
          74,
          75,
          77,
          78,
          80,
          81,
          82,
          83,
          84,
          86,
          87,
          89,
          90,
          92,
          93,
          94,
          96,
          99,
          100,
          101,
          102,
          103,
          104,
          105,
          106,
          107,
          108,
          109,
          110,
          111,
          113,
          115,
          117,
          118,
          122,
          123,
          126,
          127,
          128,
          129,
          131,
          132,
          135,
          138,
          141,
          143,
          144,
          145,
          146,
          147,
          148,
          149,
          150,
          152,
          153,
          154,
          155,
          156,
          157,
          158,
          159,
          160,
          161,
          166,
          171,
          172,
          173,
          174,
          175,
          176,
          177,
          178,
          180,
          181,
          185,
          186,
          187
         ],
         "yaxis": "y"
        },
        {
         "hovertemplate": "color=0<br>x=%{x}<br>index=%{y}<extra></extra>",
         "legendgroup": "0",
         "marker": {
          "color": "#EF553B",
          "symbol": "circle"
         },
         "mode": "markers",
         "name": "0",
         "orientation": "h",
         "showlegend": true,
         "type": "scatter",
         "x": [
          -0.13718479514737958,
          -0.09087874351070958,
          -0.03777341853986941,
          -0.039029475716028786,
          -0.10521437629365861,
          -0.004995622744874132,
          -0.21879030259753354,
          -0.017754746673934858
         ],
         "xaxis": "x",
         "y": [
          2,
          4,
          13,
          17,
          37,
          41,
          66,
          88
         ],
         "yaxis": "y"
        },
        {
         "hovertemplate": "color=2<br>x=%{x}<br>index=%{y}<extra></extra>",
         "legendgroup": "2",
         "marker": {
          "color": "#00cc96",
          "symbol": "circle"
         },
         "mode": "markers",
         "name": "2",
         "orientation": "h",
         "showlegend": true,
         "type": "scatter",
         "x": [
          -0.14153559013151815,
          -0.0020998520464320432,
          -0.20597918240948818,
          -0.23610406808868273,
          -0.10763611408001747,
          -0.00743521716394762,
          -0.060221598997986694,
          -0.021124748605854848,
          -0.01383938637820534,
          0.02724705310531418,
          -0.036439025717627506,
          0.013352405527631202,
          -0.016351909178753912,
          -0.21034646655406466,
          -0.02709935071070058,
          -0.027833322120013146,
          -0.008646357173082654,
          -0.03118115785242687,
          0.012182145930951065,
          -0.2600245600458064,
          -0.1870245694705038,
          -0.03927385768345308,
          0.021242854398547006,
          0.027230437963174713,
          0.014792668907258041,
          -0.06875190675213512,
          0.027626267395114923,
          -0.08206479935946714,
          -0.07778064929641686,
          -0.014409942504147882,
          -0.19283414437761748,
          0.017261089840851816,
          -0.08328386807857342,
          -0.19559633540563606,
          -0.010533121568466884,
          -0.18576354813089593,
          -0.014405988890107458,
          -0.1127769406699352,
          0.012686515738265968,
          -0.03389389400106219,
          -0.10630449549185701,
          -0.009182100731478392,
          0.004999351165810014
         ],
         "xaxis": "x",
         "y": [
          14,
          31,
          42,
          43,
          53,
          60,
          76,
          79,
          85,
          91,
          95,
          97,
          98,
          112,
          114,
          116,
          119,
          120,
          121,
          124,
          125,
          130,
          133,
          134,
          136,
          137,
          139,
          140,
          142,
          151,
          162,
          163,
          164,
          165,
          167,
          168,
          169,
          170,
          179,
          182,
          183,
          184,
          188
         ],
         "yaxis": "y"
        }
       ],
       "layout": {
        "legend": {
         "title": {
          "text": "color"
         },
         "tracegroupgap": 0
        },
        "margin": {
         "t": 60
        },
        "template": {
         "data": {
          "bar": [
           {
            "error_x": {
             "color": "#2a3f5f"
            },
            "error_y": {
             "color": "#2a3f5f"
            },
            "marker": {
             "line": {
              "color": "#E5ECF6",
              "width": 0.5
             },
             "pattern": {
              "fillmode": "overlay",
              "size": 10,
              "solidity": 0.2
             }
            },
            "type": "bar"
           }
          ],
          "barpolar": [
           {
            "marker": {
             "line": {
              "color": "#E5ECF6",
              "width": 0.5
             },
             "pattern": {
              "fillmode": "overlay",
              "size": 10,
              "solidity": 0.2
             }
            },
            "type": "barpolar"
           }
          ],
          "carpet": [
           {
            "aaxis": {
             "endlinecolor": "#2a3f5f",
             "gridcolor": "white",
             "linecolor": "white",
             "minorgridcolor": "white",
             "startlinecolor": "#2a3f5f"
            },
            "baxis": {
             "endlinecolor": "#2a3f5f",
             "gridcolor": "white",
             "linecolor": "white",
             "minorgridcolor": "white",
             "startlinecolor": "#2a3f5f"
            },
            "type": "carpet"
           }
          ],
          "choropleth": [
           {
            "colorbar": {
             "outlinewidth": 0,
             "ticks": ""
            },
            "type": "choropleth"
           }
          ],
          "contour": [
           {
            "colorbar": {
             "outlinewidth": 0,
             "ticks": ""
            },
            "colorscale": [
             [
              0,
              "#0d0887"
             ],
             [
              0.1111111111111111,
              "#46039f"
             ],
             [
              0.2222222222222222,
              "#7201a8"
             ],
             [
              0.3333333333333333,
              "#9c179e"
             ],
             [
              0.4444444444444444,
              "#bd3786"
             ],
             [
              0.5555555555555556,
              "#d8576b"
             ],
             [
              0.6666666666666666,
              "#ed7953"
             ],
             [
              0.7777777777777778,
              "#fb9f3a"
             ],
             [
              0.8888888888888888,
              "#fdca26"
             ],
             [
              1,
              "#f0f921"
             ]
            ],
            "type": "contour"
           }
          ],
          "contourcarpet": [
           {
            "colorbar": {
             "outlinewidth": 0,
             "ticks": ""
            },
            "type": "contourcarpet"
           }
          ],
          "heatmap": [
           {
            "colorbar": {
             "outlinewidth": 0,
             "ticks": ""
            },
            "colorscale": [
             [
              0,
              "#0d0887"
             ],
             [
              0.1111111111111111,
              "#46039f"
             ],
             [
              0.2222222222222222,
              "#7201a8"
             ],
             [
              0.3333333333333333,
              "#9c179e"
             ],
             [
              0.4444444444444444,
              "#bd3786"
             ],
             [
              0.5555555555555556,
              "#d8576b"
             ],
             [
              0.6666666666666666,
              "#ed7953"
             ],
             [
              0.7777777777777778,
              "#fb9f3a"
             ],
             [
              0.8888888888888888,
              "#fdca26"
             ],
             [
              1,
              "#f0f921"
             ]
            ],
            "type": "heatmap"
           }
          ],
          "heatmapgl": [
           {
            "colorbar": {
             "outlinewidth": 0,
             "ticks": ""
            },
            "colorscale": [
             [
              0,
              "#0d0887"
             ],
             [
              0.1111111111111111,
              "#46039f"
             ],
             [
              0.2222222222222222,
              "#7201a8"
             ],
             [
              0.3333333333333333,
              "#9c179e"
             ],
             [
              0.4444444444444444,
              "#bd3786"
             ],
             [
              0.5555555555555556,
              "#d8576b"
             ],
             [
              0.6666666666666666,
              "#ed7953"
             ],
             [
              0.7777777777777778,
              "#fb9f3a"
             ],
             [
              0.8888888888888888,
              "#fdca26"
             ],
             [
              1,
              "#f0f921"
             ]
            ],
            "type": "heatmapgl"
           }
          ],
          "histogram": [
           {
            "marker": {
             "pattern": {
              "fillmode": "overlay",
              "size": 10,
              "solidity": 0.2
             }
            },
            "type": "histogram"
           }
          ],
          "histogram2d": [
           {
            "colorbar": {
             "outlinewidth": 0,
             "ticks": ""
            },
            "colorscale": [
             [
              0,
              "#0d0887"
             ],
             [
              0.1111111111111111,
              "#46039f"
             ],
             [
              0.2222222222222222,
              "#7201a8"
             ],
             [
              0.3333333333333333,
              "#9c179e"
             ],
             [
              0.4444444444444444,
              "#bd3786"
             ],
             [
              0.5555555555555556,
              "#d8576b"
             ],
             [
              0.6666666666666666,
              "#ed7953"
             ],
             [
              0.7777777777777778,
              "#fb9f3a"
             ],
             [
              0.8888888888888888,
              "#fdca26"
             ],
             [
              1,
              "#f0f921"
             ]
            ],
            "type": "histogram2d"
           }
          ],
          "histogram2dcontour": [
           {
            "colorbar": {
             "outlinewidth": 0,
             "ticks": ""
            },
            "colorscale": [
             [
              0,
              "#0d0887"
             ],
             [
              0.1111111111111111,
              "#46039f"
             ],
             [
              0.2222222222222222,
              "#7201a8"
             ],
             [
              0.3333333333333333,
              "#9c179e"
             ],
             [
              0.4444444444444444,
              "#bd3786"
             ],
             [
              0.5555555555555556,
              "#d8576b"
             ],
             [
              0.6666666666666666,
              "#ed7953"
             ],
             [
              0.7777777777777778,
              "#fb9f3a"
             ],
             [
              0.8888888888888888,
              "#fdca26"
             ],
             [
              1,
              "#f0f921"
             ]
            ],
            "type": "histogram2dcontour"
           }
          ],
          "mesh3d": [
           {
            "colorbar": {
             "outlinewidth": 0,
             "ticks": ""
            },
            "type": "mesh3d"
           }
          ],
          "parcoords": [
           {
            "line": {
             "colorbar": {
              "outlinewidth": 0,
              "ticks": ""
             }
            },
            "type": "parcoords"
           }
          ],
          "pie": [
           {
            "automargin": true,
            "type": "pie"
           }
          ],
          "scatter": [
           {
            "fillpattern": {
             "fillmode": "overlay",
             "size": 10,
             "solidity": 0.2
            },
            "type": "scatter"
           }
          ],
          "scatter3d": [
           {
            "line": {
             "colorbar": {
              "outlinewidth": 0,
              "ticks": ""
             }
            },
            "marker": {
             "colorbar": {
              "outlinewidth": 0,
              "ticks": ""
             }
            },
            "type": "scatter3d"
           }
          ],
          "scattercarpet": [
           {
            "marker": {
             "colorbar": {
              "outlinewidth": 0,
              "ticks": ""
             }
            },
            "type": "scattercarpet"
           }
          ],
          "scattergeo": [
           {
            "marker": {
             "colorbar": {
              "outlinewidth": 0,
              "ticks": ""
             }
            },
            "type": "scattergeo"
           }
          ],
          "scattergl": [
           {
            "marker": {
             "colorbar": {
              "outlinewidth": 0,
              "ticks": ""
             }
            },
            "type": "scattergl"
           }
          ],
          "scattermapbox": [
           {
            "marker": {
             "colorbar": {
              "outlinewidth": 0,
              "ticks": ""
             }
            },
            "type": "scattermapbox"
           }
          ],
          "scatterpolar": [
           {
            "marker": {
             "colorbar": {
              "outlinewidth": 0,
              "ticks": ""
             }
            },
            "type": "scatterpolar"
           }
          ],
          "scatterpolargl": [
           {
            "marker": {
             "colorbar": {
              "outlinewidth": 0,
              "ticks": ""
             }
            },
            "type": "scatterpolargl"
           }
          ],
          "scatterternary": [
           {
            "marker": {
             "colorbar": {
              "outlinewidth": 0,
              "ticks": ""
             }
            },
            "type": "scatterternary"
           }
          ],
          "surface": [
           {
            "colorbar": {
             "outlinewidth": 0,
             "ticks": ""
            },
            "colorscale": [
             [
              0,
              "#0d0887"
             ],
             [
              0.1111111111111111,
              "#46039f"
             ],
             [
              0.2222222222222222,
              "#7201a8"
             ],
             [
              0.3333333333333333,
              "#9c179e"
             ],
             [
              0.4444444444444444,
              "#bd3786"
             ],
             [
              0.5555555555555556,
              "#d8576b"
             ],
             [
              0.6666666666666666,
              "#ed7953"
             ],
             [
              0.7777777777777778,
              "#fb9f3a"
             ],
             [
              0.8888888888888888,
              "#fdca26"
             ],
             [
              1,
              "#f0f921"
             ]
            ],
            "type": "surface"
           }
          ],
          "table": [
           {
            "cells": {
             "fill": {
              "color": "#EBF0F8"
             },
             "line": {
              "color": "white"
             }
            },
            "header": {
             "fill": {
              "color": "#C8D4E3"
             },
             "line": {
              "color": "white"
             }
            },
            "type": "table"
           }
          ]
         },
         "layout": {
          "annotationdefaults": {
           "arrowcolor": "#2a3f5f",
           "arrowhead": 0,
           "arrowwidth": 1
          },
          "autotypenumbers": "strict",
          "coloraxis": {
           "colorbar": {
            "outlinewidth": 0,
            "ticks": ""
           }
          },
          "colorscale": {
           "diverging": [
            [
             0,
             "#8e0152"
            ],
            [
             0.1,
             "#c51b7d"
            ],
            [
             0.2,
             "#de77ae"
            ],
            [
             0.3,
             "#f1b6da"
            ],
            [
             0.4,
             "#fde0ef"
            ],
            [
             0.5,
             "#f7f7f7"
            ],
            [
             0.6,
             "#e6f5d0"
            ],
            [
             0.7,
             "#b8e186"
            ],
            [
             0.8,
             "#7fbc41"
            ],
            [
             0.9,
             "#4d9221"
            ],
            [
             1,
             "#276419"
            ]
           ],
           "sequential": [
            [
             0,
             "#0d0887"
            ],
            [
             0.1111111111111111,
             "#46039f"
            ],
            [
             0.2222222222222222,
             "#7201a8"
            ],
            [
             0.3333333333333333,
             "#9c179e"
            ],
            [
             0.4444444444444444,
             "#bd3786"
            ],
            [
             0.5555555555555556,
             "#d8576b"
            ],
            [
             0.6666666666666666,
             "#ed7953"
            ],
            [
             0.7777777777777778,
             "#fb9f3a"
            ],
            [
             0.8888888888888888,
             "#fdca26"
            ],
            [
             1,
             "#f0f921"
            ]
           ],
           "sequentialminus": [
            [
             0,
             "#0d0887"
            ],
            [
             0.1111111111111111,
             "#46039f"
            ],
            [
             0.2222222222222222,
             "#7201a8"
            ],
            [
             0.3333333333333333,
             "#9c179e"
            ],
            [
             0.4444444444444444,
             "#bd3786"
            ],
            [
             0.5555555555555556,
             "#d8576b"
            ],
            [
             0.6666666666666666,
             "#ed7953"
            ],
            [
             0.7777777777777778,
             "#fb9f3a"
            ],
            [
             0.8888888888888888,
             "#fdca26"
            ],
            [
             1,
             "#f0f921"
            ]
           ]
          },
          "colorway": [
           "#636efa",
           "#EF553B",
           "#00cc96",
           "#ab63fa",
           "#FFA15A",
           "#19d3f3",
           "#FF6692",
           "#B6E880",
           "#FF97FF",
           "#FECB52"
          ],
          "font": {
           "color": "#2a3f5f"
          },
          "geo": {
           "bgcolor": "white",
           "lakecolor": "white",
           "landcolor": "#E5ECF6",
           "showlakes": true,
           "showland": true,
           "subunitcolor": "white"
          },
          "hoverlabel": {
           "align": "left"
          },
          "hovermode": "closest",
          "mapbox": {
           "style": "light"
          },
          "paper_bgcolor": "white",
          "plot_bgcolor": "#E5ECF6",
          "polar": {
           "angularaxis": {
            "gridcolor": "white",
            "linecolor": "white",
            "ticks": ""
           },
           "bgcolor": "#E5ECF6",
           "radialaxis": {
            "gridcolor": "white",
            "linecolor": "white",
            "ticks": ""
           }
          },
          "scene": {
           "xaxis": {
            "backgroundcolor": "#E5ECF6",
            "gridcolor": "white",
            "gridwidth": 2,
            "linecolor": "white",
            "showbackground": true,
            "ticks": "",
            "zerolinecolor": "white"
           },
           "yaxis": {
            "backgroundcolor": "#E5ECF6",
            "gridcolor": "white",
            "gridwidth": 2,
            "linecolor": "white",
            "showbackground": true,
            "ticks": "",
            "zerolinecolor": "white"
           },
           "zaxis": {
            "backgroundcolor": "#E5ECF6",
            "gridcolor": "white",
            "gridwidth": 2,
            "linecolor": "white",
            "showbackground": true,
            "ticks": "",
            "zerolinecolor": "white"
           }
          },
          "shapedefaults": {
           "line": {
            "color": "#2a3f5f"
           }
          },
          "ternary": {
           "aaxis": {
            "gridcolor": "white",
            "linecolor": "white",
            "ticks": ""
           },
           "baxis": {
            "gridcolor": "white",
            "linecolor": "white",
            "ticks": ""
           },
           "bgcolor": "#E5ECF6",
           "caxis": {
            "gridcolor": "white",
            "linecolor": "white",
            "ticks": ""
           }
          },
          "title": {
           "x": 0.05
          },
          "xaxis": {
           "automargin": true,
           "gridcolor": "white",
           "linecolor": "white",
           "ticks": "",
           "title": {
            "standoff": 15
           },
           "zerolinecolor": "white",
           "zerolinewidth": 2
          },
          "yaxis": {
           "automargin": true,
           "gridcolor": "white",
           "linecolor": "white",
           "ticks": "",
           "title": {
            "standoff": 15
           },
           "zerolinecolor": "white",
           "zerolinewidth": 2
          }
         }
        },
        "xaxis": {
         "anchor": "y",
         "domain": [
          0,
          1
         ],
         "title": {
          "text": "x"
         }
        },
        "yaxis": {
         "anchor": "x",
         "domain": [
          0,
          1
         ],
         "title": {
          "text": "index"
         }
        }
       }
      }
     },
     "metadata": {},
     "output_type": "display_data"
    }
   ],
   "source": [
    "# look at first two coins\n",
    "px.scatter(Vt[0, :], Vt[1, :], color = preds.astype(str))"
   ]
  }
 ],
 "metadata": {
  "kernelspec": {
   "display_name": "Python 3 (ipykernel)",
   "language": "python",
   "name": "python3"
  },
  "language_info": {
   "codemirror_mode": {
    "name": "ipython",
    "version": 3
   },
   "file_extension": ".py",
   "mimetype": "text/x-python",
   "name": "python",
   "nbconvert_exporter": "python",
   "pygments_lexer": "ipython3",
   "version": "3.9.16"
  }
 },
 "nbformat": 4,
 "nbformat_minor": 5
}
