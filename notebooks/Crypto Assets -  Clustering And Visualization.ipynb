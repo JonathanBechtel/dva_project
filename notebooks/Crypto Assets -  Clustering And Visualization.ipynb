{
 "cells": [
  {
   "cell_type": "code",
   "execution_count": 14,
   "id": "f89bb74f",
   "metadata": {},
   "outputs": [],
   "source": [
    "# imports\n",
    "import numpy as np\n",
    "import pandas as pd\n",
    "import plotly.express as px\n",
    "import plotly.graph_objects as go\n",
    "\n",
    "# load in data\n",
    "df = pd.read_csv('returns_clean.csv', parse_dates = ['timestamp'], \n",
    "                                      index_col = 'timestamp')\n",
    "\n",
    "coin_names = [col.split('_')[0] for col in df.columns]"
   ]
  },
  {
   "cell_type": "code",
   "execution_count": 39,
   "id": "ef4c9b85",
   "metadata": {},
   "outputs": [],
   "source": [
    "df2 = df.copy()\n",
    "\n",
    "df2 -= df2.mean()\n",
    "df2 /= df2.std()"
   ]
  },
  {
   "cell_type": "code",
   "execution_count": 49,
   "id": "b1ce974d",
   "metadata": {},
   "outputs": [
    {
     "data": {
      "application/vnd.plotly.v1+json": {
       "config": {
        "plotlyServerURL": "https://plot.ly"
       },
       "data": [
        {
         "hovertemplate": "color=bitcoin<br>x=%{x}<br>y=%{y}<extra></extra>",
         "legendgroup": "bitcoin",
         "marker": {
          "color": "#636efa",
          "symbol": "circle"
         },
         "mode": "markers",
         "name": "bitcoin",
         "orientation": "v",
         "showlegend": true,
         "type": "scatter",
         "x": [
          0.10106386517771485
         ],
         "xaxis": "x",
         "y": [
          -0.1020978313718519
         ],
         "yaxis": "y"
        },
        {
         "hovertemplate": "color=ethereum<br>x=%{x}<br>y=%{y}<extra></extra>",
         "legendgroup": "ethereum",
         "marker": {
          "color": "#EF553B",
          "symbol": "circle"
         },
         "mode": "markers",
         "name": "ethereum",
         "orientation": "v",
         "showlegend": true,
         "type": "scatter",
         "x": [
          0.10588742230314119
         ],
         "xaxis": "x",
         "y": [
          -0.10237301611244627
         ],
         "yaxis": "y"
        },
        {
         "hovertemplate": "color=tether<br>x=%{x}<br>y=%{y}<extra></extra>",
         "legendgroup": "tether",
         "marker": {
          "color": "#00cc96",
          "symbol": "circle"
         },
         "mode": "markers",
         "name": "tether",
         "orientation": "v",
         "showlegend": true,
         "type": "scatter",
         "x": [
          -0.011560110952445773
         ],
         "xaxis": "x",
         "y": [
          0.1072898447342463
         ],
         "yaxis": "y"
        },
        {
         "hovertemplate": "color=binance-coin<br>x=%{x}<br>y=%{y}<extra></extra>",
         "legendgroup": "binance-coin",
         "marker": {
          "color": "#ab63fa",
          "symbol": "circle"
         },
         "mode": "markers",
         "name": "binance-coin",
         "orientation": "v",
         "showlegend": true,
         "type": "scatter",
         "x": [
          0.09743784380569229
         ],
         "xaxis": "x",
         "y": [
          -0.06197432149420801
         ],
         "yaxis": "y"
        },
        {
         "hovertemplate": "color=usd-coin<br>x=%{x}<br>y=%{y}<extra></extra>",
         "legendgroup": "usd-coin",
         "marker": {
          "color": "#FFA15A",
          "symbol": "circle"
         },
         "mode": "markers",
         "name": "usd-coin",
         "orientation": "v",
         "showlegend": true,
         "type": "scatter",
         "x": [
          -0.019040220691337626
         ],
         "xaxis": "x",
         "y": [
          0.12022514444823793
         ],
         "yaxis": "y"
        },
        {
         "hovertemplate": "color=ripple<br>x=%{x}<br>y=%{y}<extra></extra>",
         "legendgroup": "ripple",
         "marker": {
          "color": "#19d3f3",
          "symbol": "circle"
         },
         "mode": "markers",
         "name": "ripple",
         "orientation": "v",
         "showlegend": true,
         "type": "scatter",
         "x": [
          0.08743947608789832
         ],
         "xaxis": "x",
         "y": [
          -0.06549359909803994
         ],
         "yaxis": "y"
        },
        {
         "hovertemplate": "color=okb<br>x=%{x}<br>y=%{y}<extra></extra>",
         "legendgroup": "okb",
         "marker": {
          "color": "#FF6692",
          "symbol": "circle"
         },
         "mode": "markers",
         "name": "okb",
         "orientation": "v",
         "showlegend": true,
         "type": "scatter",
         "x": [
          0.07495418154060725
         ],
         "xaxis": "x",
         "y": [
          -0.03417231139450211
         ],
         "yaxis": "y"
        },
        {
         "hovertemplate": "color=cardano<br>x=%{x}<br>y=%{y}<extra></extra>",
         "legendgroup": "cardano",
         "marker": {
          "color": "#B6E880",
          "symbol": "circle"
         },
         "mode": "markers",
         "name": "cardano",
         "orientation": "v",
         "showlegend": true,
         "type": "scatter",
         "x": [
          0.09674286833676908
         ],
         "xaxis": "x",
         "y": [
          -0.07654720621741504
         ],
         "yaxis": "y"
        },
        {
         "hovertemplate": "color=dogecoin<br>x=%{x}<br>y=%{y}<extra></extra>",
         "legendgroup": "dogecoin",
         "marker": {
          "color": "#FF97FF",
          "symbol": "circle"
         },
         "mode": "markers",
         "name": "dogecoin",
         "orientation": "v",
         "showlegend": true,
         "type": "scatter",
         "x": [
          0.0580430569749639
         ],
         "xaxis": "x",
         "y": [
          -0.0563858413987183
         ],
         "yaxis": "y"
        },
        {
         "hovertemplate": "color=matic-network<br>x=%{x}<br>y=%{y}<extra></extra>",
         "legendgroup": "matic-network",
         "marker": {
          "color": "#FECB52",
          "symbol": "circle"
         },
         "mode": "markers",
         "name": "matic-network",
         "orientation": "v",
         "showlegend": true,
         "type": "scatter",
         "x": [
          0.08567336462741054
         ],
         "xaxis": "x",
         "y": [
          -0.040805704071367896
         ],
         "yaxis": "y"
        },
        {
         "hovertemplate": "color=litecoin<br>x=%{x}<br>y=%{y}<extra></extra>",
         "legendgroup": "litecoin",
         "marker": {
          "color": "#636efa",
          "symbol": "circle"
         },
         "mode": "markers",
         "name": "litecoin",
         "orientation": "v",
         "showlegend": true,
         "type": "scatter",
         "x": [
          0.10298433551174983
         ],
         "xaxis": "x",
         "y": [
          -0.10688436765449352
         ],
         "yaxis": "y"
        },
        {
         "hovertemplate": "color=tron<br>x=%{x}<br>y=%{y}<extra></extra>",
         "legendgroup": "tron",
         "marker": {
          "color": "#EF553B",
          "symbol": "circle"
         },
         "mode": "markers",
         "name": "tron",
         "orientation": "v",
         "showlegend": true,
         "type": "scatter",
         "x": [
          0.09434596357987285
         ],
         "xaxis": "x",
         "y": [
          -0.04883241053878224
         ],
         "yaxis": "y"
        },
        {
         "hovertemplate": "color=wrapped-bitcoin<br>x=%{x}<br>y=%{y}<extra></extra>",
         "legendgroup": "wrapped-bitcoin",
         "marker": {
          "color": "#00cc96",
          "symbol": "circle"
         },
         "mode": "markers",
         "name": "wrapped-bitcoin",
         "orientation": "v",
         "showlegend": true,
         "type": "scatter",
         "x": [
          0.09490909644770845
         ],
         "xaxis": "x",
         "y": [
          -0.08873784937168222
         ],
         "yaxis": "y"
        },
        {
         "hovertemplate": "color=dai<br>x=%{x}<br>y=%{y}<extra></extra>",
         "legendgroup": "dai",
         "marker": {
          "color": "#ab63fa",
          "symbol": "circle"
         },
         "mode": "markers",
         "name": "dai",
         "orientation": "v",
         "showlegend": true,
         "type": "scatter",
         "x": [
          -0.020700407665730832
         ],
         "xaxis": "x",
         "y": [
          0.08795503966389523
         ],
         "yaxis": "y"
        },
        {
         "hovertemplate": "color=phx<br>x=%{x}<br>y=%{y}<extra></extra>",
         "legendgroup": "phx",
         "marker": {
          "color": "#FFA15A",
          "symbol": "circle"
         },
         "mode": "markers",
         "name": "phx",
         "orientation": "v",
         "showlegend": true,
         "type": "scatter",
         "x": [
          0.03251490100240578
         ],
         "xaxis": "x",
         "y": [
          0.018237142157476623
         ],
         "yaxis": "y"
        },
        {
         "hovertemplate": "color=cosmos<br>x=%{x}<br>y=%{y}<extra></extra>",
         "legendgroup": "cosmos",
         "marker": {
          "color": "#19d3f3",
          "symbol": "circle"
         },
         "mode": "markers",
         "name": "cosmos",
         "orientation": "v",
         "showlegend": true,
         "type": "scatter",
         "x": [
          0.08957275446929738
         ],
         "xaxis": "x",
         "y": [
          -0.05208711654756836
         ],
         "yaxis": "y"
        },
        {
         "hovertemplate": "color=chainlink<br>x=%{x}<br>y=%{y}<extra></extra>",
         "legendgroup": "chainlink",
         "marker": {
          "color": "#FF6692",
          "symbol": "circle"
         },
         "mode": "markers",
         "name": "chainlink",
         "orientation": "v",
         "showlegend": true,
         "type": "scatter",
         "x": [
          0.09361446358402387
         ],
         "xaxis": "x",
         "y": [
          -0.08728503760701949
         ],
         "yaxis": "y"
        },
        {
         "hovertemplate": "color=unus-sed-leo<br>x=%{x}<br>y=%{y}<extra></extra>",
         "legendgroup": "unus-sed-leo",
         "marker": {
          "color": "#B6E880",
          "symbol": "circle"
         },
         "mode": "markers",
         "name": "unus-sed-leo",
         "orientation": "v",
         "showlegend": true,
         "type": "scatter",
         "x": [
          0.014763008220714224
         ],
         "xaxis": "x",
         "y": [
          -0.06312025045222963
         ],
         "yaxis": "y"
        },
        {
         "hovertemplate": "color=ethereum-classic<br>x=%{x}<br>y=%{y}<extra></extra>",
         "legendgroup": "ethereum-classic",
         "marker": {
          "color": "#FF97FF",
          "symbol": "circle"
         },
         "mode": "markers",
         "name": "ethereum-classic",
         "orientation": "v",
         "showlegend": true,
         "type": "scatter",
         "x": [
          0.0921195723790426
         ],
         "xaxis": "x",
         "y": [
          -0.10251860999813903
         ],
         "yaxis": "y"
        },
        {
         "hovertemplate": "color=monero<br>x=%{x}<br>y=%{y}<extra></extra>",
         "legendgroup": "monero",
         "marker": {
          "color": "#FECB52",
          "symbol": "circle"
         },
         "mode": "markers",
         "name": "monero",
         "orientation": "v",
         "showlegend": true,
         "type": "scatter",
         "x": [
          0.093085288124317
         ],
         "xaxis": "x",
         "y": [
          -0.0775634435356573
         ],
         "yaxis": "y"
        },
        {
         "hovertemplate": "color=bitcoin-cash<br>x=%{x}<br>y=%{y}<extra></extra>",
         "legendgroup": "bitcoin-cash",
         "marker": {
          "color": "#636efa",
          "symbol": "circle"
         },
         "mode": "markers",
         "name": "bitcoin-cash",
         "orientation": "v",
         "showlegend": true,
         "type": "scatter",
         "x": [
          0.10150748390257336
         ],
         "xaxis": "x",
         "y": [
          -0.12073656724920521
         ],
         "yaxis": "y"
        },
        {
         "hovertemplate": "color=stellar<br>x=%{x}<br>y=%{y}<extra></extra>",
         "legendgroup": "stellar",
         "marker": {
          "color": "#EF553B",
          "symbol": "circle"
         },
         "mode": "markers",
         "name": "stellar",
         "orientation": "v",
         "showlegend": true,
         "type": "scatter",
         "x": [
          0.09479455448748568
         ],
         "xaxis": "x",
         "y": [
          -0.07337708749539265
         ],
         "yaxis": "y"
        },
        {
         "hovertemplate": "color=qnt<br>x=%{x}<br>y=%{y}<extra></extra>",
         "legendgroup": "qnt",
         "marker": {
          "color": "#00cc96",
          "symbol": "circle"
         },
         "mode": "markers",
         "name": "qnt",
         "orientation": "v",
         "showlegend": true,
         "type": "scatter",
         "x": [
          0.06545193609240249
         ],
         "xaxis": "x",
         "y": [
          -0.06370163567960763
         ],
         "yaxis": "y"
        },
        {
         "hovertemplate": "color=cro<br>x=%{x}<br>y=%{y}<extra></extra>",
         "legendgroup": "cro",
         "marker": {
          "color": "#ab63fa",
          "symbol": "circle"
         },
         "mode": "markers",
         "name": "cro",
         "orientation": "v",
         "showlegend": true,
         "type": "scatter",
         "x": [
          0.0857033016821491
         ],
         "xaxis": "x",
         "y": [
          -0.008895906967867274
         ],
         "yaxis": "y"
        },
        {
         "hovertemplate": "color=vet<br>x=%{x}<br>y=%{y}<extra></extra>",
         "legendgroup": "vet",
         "marker": {
          "color": "#FFA15A",
          "symbol": "circle"
         },
         "mode": "markers",
         "name": "vet",
         "orientation": "v",
         "showlegend": true,
         "type": "scatter",
         "x": [
          0.09908499305926273
         ],
         "xaxis": "x",
         "y": [
          -0.04962383015662542
         ],
         "yaxis": "y"
        },
        {
         "hovertemplate": "color=dfn<br>x=%{x}<br>y=%{y}<extra></extra>",
         "legendgroup": "dfn",
         "marker": {
          "color": "#19d3f3",
          "symbol": "circle"
         },
         "mode": "markers",
         "name": "dfn",
         "orientation": "v",
         "showlegend": true,
         "type": "scatter",
         "x": [
          0.054110266961355735
         ],
         "xaxis": "x",
         "y": [
          -0.018291529907507063
         ],
         "yaxis": "y"
        },
        {
         "hovertemplate": "color=eos<br>x=%{x}<br>y=%{y}<extra></extra>",
         "legendgroup": "eos",
         "marker": {
          "color": "#FF6692",
          "symbol": "circle"
         },
         "mode": "markers",
         "name": "eos",
         "orientation": "v",
         "showlegend": true,
         "type": "scatter",
         "x": [
          0.10090525259376706
         ],
         "xaxis": "x",
         "y": [
          -0.0861455152096351
         ],
         "yaxis": "y"
        },
        {
         "hovertemplate": "color=decentraland<br>x=%{x}<br>y=%{y}<extra></extra>",
         "legendgroup": "decentraland",
         "marker": {
          "color": "#B6E880",
          "symbol": "circle"
         },
         "mode": "markers",
         "name": "decentraland",
         "orientation": "v",
         "showlegend": true,
         "type": "scatter",
         "x": [
          0.08000302257980416
         ],
         "xaxis": "x",
         "y": [
          0.05279362955442362
         ],
         "yaxis": "y"
        },
        {
         "hovertemplate": "color=fantom<br>x=%{x}<br>y=%{y}<extra></extra>",
         "legendgroup": "fantom",
         "marker": {
          "color": "#FF97FF",
          "symbol": "circle"
         },
         "mode": "markers",
         "name": "fantom",
         "orientation": "v",
         "showlegend": true,
         "type": "scatter",
         "x": [
          0.0831314445337622
         ],
         "xaxis": "x",
         "y": [
          -0.02568794536405824
         ],
         "yaxis": "y"
        },
        {
         "hovertemplate": "color=tezos<br>x=%{x}<br>y=%{y}<extra></extra>",
         "legendgroup": "tezos",
         "marker": {
          "color": "#FECB52",
          "symbol": "circle"
         },
         "mode": "markers",
         "name": "tezos",
         "orientation": "v",
         "showlegend": true,
         "type": "scatter",
         "x": [
          0.0966014242761485
         ],
         "xaxis": "x",
         "y": [
          -0.05117504126757266
         ],
         "yaxis": "y"
        },
        {
         "hovertemplate": "color=theta-token<br>x=%{x}<br>y=%{y}<extra></extra>",
         "legendgroup": "theta-token",
         "marker": {
          "color": "#636efa",
          "symbol": "circle"
         },
         "mode": "markers",
         "name": "theta-token",
         "orientation": "v",
         "showlegend": true,
         "type": "scatter",
         "x": [
          0.08647286001125054
         ],
         "xaxis": "x",
         "y": [
          0.0020982215769495753
         ],
         "yaxis": "y"
        },
        {
         "hovertemplate": "color=blockstack<br>x=%{x}<br>y=%{y}<extra></extra>",
         "legendgroup": "blockstack",
         "marker": {
          "color": "#EF553B",
          "symbol": "circle"
         },
         "mode": "markers",
         "name": "blockstack",
         "orientation": "v",
         "showlegend": true,
         "type": "scatter",
         "x": [
          0.06445549463608206
         ],
         "xaxis": "x",
         "y": [
          -0.017834151265577265
         ],
         "yaxis": "y"
        },
        {
         "hovertemplate": "color=maker<br>x=%{x}<br>y=%{y}<extra></extra>",
         "legendgroup": "maker",
         "marker": {
          "color": "#00cc96",
          "symbol": "circle"
         },
         "mode": "markers",
         "name": "maker",
         "orientation": "v",
         "showlegend": true,
         "type": "scatter",
         "x": [
          0.08646980975970113
         ],
         "xaxis": "x",
         "y": [
          -0.088512900316449
         ],
         "yaxis": "y"
        },
        {
         "hovertemplate": "color=neo<br>x=%{x}<br>y=%{y}<extra></extra>",
         "legendgroup": "neo",
         "marker": {
          "color": "#ab63fa",
          "symbol": "circle"
         },
         "mode": "markers",
         "name": "neo",
         "orientation": "v",
         "showlegend": true,
         "type": "scatter",
         "x": [
          0.10153107017538025
         ],
         "xaxis": "x",
         "y": [
          -0.06688873941017895
         ],
         "yaxis": "y"
        },
        {
         "hovertemplate": "color=kucoin-shares<br>x=%{x}<br>y=%{y}<extra></extra>",
         "legendgroup": "kucoin-shares",
         "marker": {
          "color": "#FFA15A",
          "symbol": "circle"
         },
         "mode": "markers",
         "name": "kucoin-shares",
         "orientation": "v",
         "showlegend": true,
         "type": "scatter",
         "x": [
          0.08083181466430914
         ],
         "xaxis": "x",
         "y": [
          -0.04296072933846393
         ],
         "yaxis": "y"
        },
        {
         "hovertemplate": "color=huobi-token<br>x=%{x}<br>y=%{y}<extra></extra>",
         "legendgroup": "huobi-token",
         "marker": {
          "color": "#19d3f3",
          "symbol": "circle"
         },
         "mode": "markers",
         "name": "huobi-token",
         "orientation": "v",
         "showlegend": true,
         "type": "scatter",
         "x": [
          0.07781873166835579
         ],
         "xaxis": "x",
         "y": [
          -0.037305286403646575
         ],
         "yaxis": "y"
        },
        {
         "hovertemplate": "color=havven<br>x=%{x}<br>y=%{y}<extra></extra>",
         "legendgroup": "havven",
         "marker": {
          "color": "#FF6692",
          "symbol": "circle"
         },
         "mode": "markers",
         "name": "havven",
         "orientation": "v",
         "showlegend": true,
         "type": "scatter",
         "x": [
          0.07892351501386632
         ],
         "xaxis": "x",
         "y": [
          -0.03982483374347926
         ],
         "yaxis": "y"
        },
        {
         "hovertemplate": "color=trueusd<br>x=%{x}<br>y=%{y}<extra></extra>",
         "legendgroup": "trueusd",
         "marker": {
          "color": "#B6E880",
          "symbol": "circle"
         },
         "mode": "markers",
         "name": "trueusd",
         "orientation": "v",
         "showlegend": true,
         "type": "scatter",
         "x": [
          -0.01166839991383734
         ],
         "xaxis": "x",
         "y": [
          0.11535218067711302
         ],
         "yaxis": "y"
        },
        {
         "hovertemplate": "color=bitcoin-cash-sv<br>x=%{x}<br>y=%{y}<extra></extra>",
         "legendgroup": "bitcoin-cash-sv",
         "marker": {
          "color": "#FF97FF",
          "symbol": "circle"
         },
         "mode": "markers",
         "name": "bitcoin-cash-sv",
         "orientation": "v",
         "showlegend": true,
         "type": "scatter",
         "x": [
          0.08309881334977365
         ],
         "xaxis": "x",
         "y": [
          -0.09488544677064241
         ],
         "yaxis": "y"
        },
        {
         "hovertemplate": "color=dash<br>x=%{x}<br>y=%{y}<extra></extra>",
         "legendgroup": "dash",
         "marker": {
          "color": "#FECB52",
          "symbol": "circle"
         },
         "mode": "markers",
         "name": "dash",
         "orientation": "v",
         "showlegend": true,
         "type": "scatter",
         "x": [
          0.09482653593672859
         ],
         "xaxis": "x",
         "y": [
          -0.08188145437292073
         ],
         "yaxis": "y"
        },
        {
         "hovertemplate": "color=gatechain<br>x=%{x}<br>y=%{y}<extra></extra>",
         "legendgroup": "gatechain",
         "marker": {
          "color": "#636efa",
          "symbol": "circle"
         },
         "mode": "markers",
         "name": "gatechain",
         "orientation": "v",
         "showlegend": true,
         "type": "scatter",
         "x": [
          0.07866386777307724
         ],
         "xaxis": "x",
         "y": [
          -0.047953824184436784
         ],
         "yaxis": "y"
        },
        {
         "hovertemplate": "color=gusd<br>x=%{x}<br>y=%{y}<extra></extra>",
         "legendgroup": "gusd",
         "marker": {
          "color": "#EF553B",
          "symbol": "circle"
         },
         "mode": "markers",
         "name": "gusd",
         "orientation": "v",
         "showlegend": true,
         "type": "scatter",
         "x": [
          0.008733284874487362
         ],
         "xaxis": "x",
         "y": [
          0.02033358718416649
         ],
         "yaxis": "y"
        },
        {
         "hovertemplate": "color=moonx<br>x=%{x}<br>y=%{y}<extra></extra>",
         "legendgroup": "moonx",
         "marker": {
          "color": "#00cc96",
          "symbol": "circle"
         },
         "mode": "markers",
         "name": "moonx",
         "orientation": "v",
         "showlegend": true,
         "type": "scatter",
         "x": [
          0.0030806442754676587
         ],
         "xaxis": "x",
         "y": [
          0.012572295310597763
         ],
         "yaxis": "y"
        },
        {
         "hovertemplate": "color=cotrader<br>x=%{x}<br>y=%{y}<extra></extra>",
         "legendgroup": "cotrader",
         "marker": {
          "color": "#ab63fa",
          "symbol": "circle"
         },
         "mode": "markers",
         "name": "cotrader",
         "orientation": "v",
         "showlegend": true,
         "type": "scatter",
         "x": [
          0.007551723421131277
         ],
         "xaxis": "x",
         "y": [
          0.0013416576024036049
         ],
         "yaxis": "y"
        },
        {
         "hovertemplate": "color=zcash<br>x=%{x}<br>y=%{y}<extra></extra>",
         "legendgroup": "zcash",
         "marker": {
          "color": "#FFA15A",
          "symbol": "circle"
         },
         "mode": "markers",
         "name": "zcash",
         "orientation": "v",
         "showlegend": true,
         "type": "scatter",
         "x": [
          0.09431184775356882
         ],
         "xaxis": "x",
         "y": [
          -0.09194703106696528
         ],
         "yaxis": "y"
        },
        {
         "hovertemplate": "color=enjin-coin<br>x=%{x}<br>y=%{y}<extra></extra>",
         "legendgroup": "enjin-coin",
         "marker": {
          "color": "#19d3f3",
          "symbol": "circle"
         },
         "mode": "markers",
         "name": "enjin-coin",
         "orientation": "v",
         "showlegend": true,
         "type": "scatter",
         "x": [
          0.09035601791121364
         ],
         "xaxis": "x",
         "y": [
          0.02329859307428448
         ],
         "yaxis": "y"
        },
        {
         "hovertemplate": "color=zilliqa<br>x=%{x}<br>y=%{y}<extra></extra>",
         "legendgroup": "zilliqa",
         "marker": {
          "color": "#FF6692",
          "symbol": "circle"
         },
         "mode": "markers",
         "name": "zilliqa",
         "orientation": "v",
         "showlegend": true,
         "type": "scatter",
         "x": [
          0.09058324710809698
         ],
         "xaxis": "x",
         "y": [
          0.0079542664739153
         ],
         "yaxis": "y"
        },
        {
         "hovertemplate": "color=loopring<br>x=%{x}<br>y=%{y}<extra></extra>",
         "legendgroup": "loopring",
         "marker": {
          "color": "#B6E880",
          "symbol": "circle"
         },
         "mode": "markers",
         "name": "loopring",
         "orientation": "v",
         "showlegend": true,
         "type": "scatter",
         "x": [
          0.08236662210942618
         ],
         "xaxis": "x",
         "y": [
          -0.037148960505519
         ],
         "yaxis": "y"
        },
        {
         "hovertemplate": "color=xinfin-network<br>x=%{x}<br>y=%{y}<extra></extra>",
         "legendgroup": "xinfin-network",
         "marker": {
          "color": "#FF97FF",
          "symbol": "circle"
         },
         "mode": "markers",
         "name": "xinfin-network",
         "orientation": "v",
         "showlegend": true,
         "type": "scatter",
         "x": [
          0.05977517921111833
         ],
         "xaxis": "x",
         "y": [
          -0.047514444163080344
         ],
         "yaxis": "y"
        },
        {
         "hovertemplate": "color=basic-attention-token<br>x=%{x}<br>y=%{y}<extra></extra>",
         "legendgroup": "basic-attention-token",
         "marker": {
          "color": "#FECB52",
          "symbol": "circle"
         },
         "mode": "markers",
         "name": "basic-attention-token",
         "orientation": "v",
         "showlegend": true,
         "type": "scatter",
         "x": [
          0.097464381069662
         ],
         "xaxis": "x",
         "y": [
          -0.011924828858688228
         ],
         "yaxis": "y"
        },
        {
         "hovertemplate": "color=nem<br>x=%{x}<br>y=%{y}<extra></extra>",
         "legendgroup": "nem",
         "marker": {
          "color": "#636efa",
          "symbol": "circle"
         },
         "mode": "markers",
         "name": "nem",
         "orientation": "v",
         "showlegend": true,
         "type": "scatter",
         "x": [
          0.08819267724573232
         ],
         "xaxis": "x",
         "y": [
          0.0011213281698022055
         ],
         "yaxis": "y"
        },
        {
         "hovertemplate": "color=nexo<br>x=%{x}<br>y=%{y}<extra></extra>",
         "legendgroup": "nexo",
         "marker": {
          "color": "#EF553B",
          "symbol": "circle"
         },
         "mode": "markers",
         "name": "nexo",
         "orientation": "v",
         "showlegend": true,
         "type": "scatter",
         "x": [
          0.08622497191086496
         ],
         "xaxis": "x",
         "y": [
          -0.05955070507693551
         ],
         "yaxis": "y"
        },
        {
         "hovertemplate": "color=holo<br>x=%{x}<br>y=%{y}<extra></extra>",
         "legendgroup": "holo",
         "marker": {
          "color": "#00cc96",
          "symbol": "circle"
         },
         "mode": "markers",
         "name": "holo",
         "orientation": "v",
         "showlegend": true,
         "type": "scatter",
         "x": [
          0.08494033405379957
         ],
         "xaxis": "x",
         "y": [
          -0.004897458434519546
         ],
         "yaxis": "y"
        },
        {
         "hovertemplate": "color=decred<br>x=%{x}<br>y=%{y}<extra></extra>",
         "legendgroup": "decred",
         "marker": {
          "color": "#ab63fa",
          "symbol": "circle"
         },
         "mode": "markers",
         "name": "decred",
         "orientation": "v",
         "showlegend": true,
         "type": "scatter",
         "x": [
          0.05966237044139895
         ],
         "xaxis": "x",
         "y": [
          -0.004913427716457913
         ],
         "yaxis": "y"
        },
        {
         "hovertemplate": "color=thetafuel<br>x=%{x}<br>y=%{y}<extra></extra>",
         "legendgroup": "thetafuel",
         "marker": {
          "color": "#FFA15A",
          "symbol": "circle"
         },
         "mode": "markers",
         "name": "thetafuel",
         "orientation": "v",
         "showlegend": true,
         "type": "scatter",
         "x": [
          0.07123503605729757
         ],
         "xaxis": "x",
         "y": [
          0.05955512497335743
         ],
         "yaxis": "y"
        },
        {
         "hovertemplate": "color=qtum<br>x=%{x}<br>y=%{y}<extra></extra>",
         "legendgroup": "qtum",
         "marker": {
          "color": "#19d3f3",
          "symbol": "circle"
         },
         "mode": "markers",
         "name": "qtum",
         "orientation": "v",
         "showlegend": true,
         "type": "scatter",
         "x": [
          0.09960505497055154
         ],
         "xaxis": "x",
         "y": [
          -0.06103340015069175
         ],
         "yaxis": "y"
        },
        {
         "hovertemplate": "color=ravencoin<br>x=%{x}<br>y=%{y}<extra></extra>",
         "legendgroup": "ravencoin",
         "marker": {
          "color": "#FF6692",
          "symbol": "circle"
         },
         "mode": "markers",
         "name": "ravencoin",
         "orientation": "v",
         "showlegend": true,
         "type": "scatter",
         "x": [
          0.09090121885438444
         ],
         "xaxis": "x",
         "y": [
          -0.022654091930831146
         ],
         "yaxis": "y"
        },
        {
         "hovertemplate": "color=bitcoin-gold<br>x=%{x}<br>y=%{y}<extra></extra>",
         "legendgroup": "bitcoin-gold",
         "marker": {
          "color": "#B6E880",
          "symbol": "circle"
         },
         "mode": "markers",
         "name": "bitcoin-gold",
         "orientation": "v",
         "showlegend": true,
         "type": "scatter",
         "x": [
          0.08193084884465456
         ],
         "xaxis": "x",
         "y": [
          -0.07745547040604052
         ],
         "yaxis": "y"
        },
        {
         "hovertemplate": "color=fetch-ai<br>x=%{x}<br>y=%{y}<extra></extra>",
         "legendgroup": "fetch-ai",
         "marker": {
          "color": "#FF97FF",
          "symbol": "circle"
         },
         "mode": "markers",
         "name": "fetch-ai",
         "orientation": "v",
         "showlegend": true,
         "type": "scatter",
         "x": [
          0.08533861415663499
         ],
         "xaxis": "x",
         "y": [
          0.0023743209208886475
         ],
         "yaxis": "y"
        },
        {
         "hovertemplate": "color=ankr-network<br>x=%{x}<br>y=%{y}<extra></extra>",
         "legendgroup": "ankr-network",
         "marker": {
          "color": "#FECB52",
          "symbol": "circle"
         },
         "mode": "markers",
         "name": "ankr-network",
         "orientation": "v",
         "showlegend": true,
         "type": "scatter",
         "x": [
          0.08089925072256277
         ],
         "xaxis": "x",
         "y": [
          0.08792565899652227
         ],
         "yaxis": "y"
        },
        {
         "hovertemplate": "color=blox<br>x=%{x}<br>y=%{y}<extra></extra>",
         "legendgroup": "blox",
         "marker": {
          "color": "#636efa",
          "symbol": "circle"
         },
         "mode": "markers",
         "name": "blox",
         "orientation": "v",
         "showlegend": true,
         "type": "scatter",
         "x": [
          0.045671627499590105
         ],
         "xaxis": "x",
         "y": [
          -0.011881903213580354
         ],
         "yaxis": "y"
        },
        {
         "hovertemplate": "color=gnosis-gno<br>x=%{x}<br>y=%{y}<extra></extra>",
         "legendgroup": "gnosis-gno",
         "marker": {
          "color": "#EF553B",
          "symbol": "circle"
         },
         "mode": "markers",
         "name": "gnosis-gno",
         "orientation": "v",
         "showlegend": true,
         "type": "scatter",
         "x": [
          0.08590005903994873
         ],
         "xaxis": "x",
         "y": [
          -0.07252255012948859
         ],
         "yaxis": "y"
        },
        {
         "hovertemplate": "color=iostoken<br>x=%{x}<br>y=%{y}<extra></extra>",
         "legendgroup": "iostoken",
         "marker": {
          "color": "#00cc96",
          "symbol": "circle"
         },
         "mode": "markers",
         "name": "iostoken",
         "orientation": "v",
         "showlegend": true,
         "type": "scatter",
         "x": [
          0.08980222917219804
         ],
         "xaxis": "x",
         "y": [
          0.006016415118252794
         ],
         "yaxis": "y"
        },
        {
         "hovertemplate": "color=golem-network-tokens<br>x=%{x}<br>y=%{y}<extra></extra>",
         "legendgroup": "golem-network-tokens",
         "marker": {
          "color": "#ab63fa",
          "symbol": "circle"
         },
         "mode": "markers",
         "name": "golem-network-tokens",
         "orientation": "v",
         "showlegend": true,
         "type": "scatter",
         "x": [
          0.07869304450419053
         ],
         "xaxis": "x",
         "y": [
          0.12939918431115477
         ],
         "yaxis": "y"
        },
        {
         "hovertemplate": "color=iotex<br>x=%{x}<br>y=%{y}<extra></extra>",
         "legendgroup": "iotex",
         "marker": {
          "color": "#FFA15A",
          "symbol": "circle"
         },
         "mode": "markers",
         "name": "iotex",
         "orientation": "v",
         "showlegend": true,
         "type": "scatter",
         "x": [
          0.07418162442830316
         ],
         "xaxis": "x",
         "y": [
          0.006161754097988402
         ],
         "yaxis": "y"
        },
        {
         "hovertemplate": "color=waves<br>x=%{x}<br>y=%{y}<extra></extra>",
         "legendgroup": "waves",
         "marker": {
          "color": "#19d3f3",
          "symbol": "circle"
         },
         "mode": "markers",
         "name": "waves",
         "orientation": "v",
         "showlegend": true,
         "type": "scatter",
         "x": [
          0.081093407962455
         ],
         "xaxis": "x",
         "y": [
          0.004761875792001508
         ],
         "yaxis": "y"
        },
        {
         "hovertemplate": "color=eur-tether<br>x=%{x}<br>y=%{y}<extra></extra>",
         "legendgroup": "eur-tether",
         "marker": {
          "color": "#FF6692",
          "symbol": "circle"
         },
         "mode": "markers",
         "name": "eur-tether",
         "orientation": "v",
         "showlegend": true,
         "type": "scatter",
         "x": [
          -0.0019113597590179742
         ],
         "xaxis": "x",
         "y": [
          -0.011122338258725339
         ],
         "yaxis": "y"
        },
        {
         "hovertemplate": "color=omisego<br>x=%{x}<br>y=%{y}<extra></extra>",
         "legendgroup": "omisego",
         "marker": {
          "color": "#B6E880",
          "symbol": "circle"
         },
         "mode": "markers",
         "name": "omisego",
         "orientation": "v",
         "showlegend": true,
         "type": "scatter",
         "x": [
          0.09279401498332429
         ],
         "xaxis": "x",
         "y": [
          -0.03479997811496287
         ],
         "yaxis": "y"
        },
        {
         "hovertemplate": "color=0x<br>x=%{x}<br>y=%{y}<extra></extra>",
         "legendgroup": "0x",
         "marker": {
          "color": "#FF97FF",
          "symbol": "circle"
         },
         "mode": "markers",
         "name": "0x",
         "orientation": "v",
         "showlegend": true,
         "type": "scatter",
         "x": [
          0.093176066914612
         ],
         "xaxis": "x",
         "y": [
          0.004460030176732764
         ],
         "yaxis": "y"
        },
        {
         "hovertemplate": "color=icon<br>x=%{x}<br>y=%{y}<extra></extra>",
         "legendgroup": "icon",
         "marker": {
          "color": "#FECB52",
          "symbol": "circle"
         },
         "mode": "markers",
         "name": "icon",
         "orientation": "v",
         "showlegend": true,
         "type": "scatter",
         "x": [
          0.09532373964512014
         ],
         "xaxis": "x",
         "y": [
          0.012403198692070305
         ],
         "yaxis": "y"
        },
        {
         "hovertemplate": "color=siacoin<br>x=%{x}<br>y=%{y}<extra></extra>",
         "legendgroup": "siacoin",
         "marker": {
          "color": "#636efa",
          "symbol": "circle"
         },
         "mode": "markers",
         "name": "siacoin",
         "orientation": "v",
         "showlegend": true,
         "type": "scatter",
         "x": [
          0.09526449428976938
         ],
         "xaxis": "x",
         "y": [
          0.05945598999921281
         ],
         "yaxis": "y"
        },
        {
         "hovertemplate": "color=zelcash<br>x=%{x}<br>y=%{y}<extra></extra>",
         "legendgroup": "zelcash",
         "marker": {
          "color": "#EF553B",
          "symbol": "circle"
         },
         "mode": "markers",
         "name": "zelcash",
         "orientation": "v",
         "showlegend": true,
         "type": "scatter",
         "x": [
          0.06390770212474021
         ],
         "xaxis": "x",
         "y": [
          -0.014893905275763765
         ],
         "yaxis": "y"
        },
        {
         "hovertemplate": "color=ontology<br>x=%{x}<br>y=%{y}<extra></extra>",
         "legendgroup": "ontology",
         "marker": {
          "color": "#00cc96",
          "symbol": "circle"
         },
         "mode": "markers",
         "name": "ontology",
         "orientation": "v",
         "showlegend": true,
         "type": "scatter",
         "x": [
          0.1052003518525397
         ],
         "xaxis": "x",
         "y": [
          -0.010650949595295445
         ],
         "yaxis": "y"
        },
        {
         "hovertemplate": "color=swissborg<br>x=%{x}<br>y=%{y}<extra></extra>",
         "legendgroup": "swissborg",
         "marker": {
          "color": "#ab63fa",
          "symbol": "circle"
         },
         "mode": "markers",
         "name": "swissborg",
         "orientation": "v",
         "showlegend": true,
         "type": "scatter",
         "x": [
          0.06382178136740928
         ],
         "xaxis": "x",
         "y": [
          -0.055227848622721516
         ],
         "yaxis": "y"
        },
        {
         "hovertemplate": "color=mxtoken<br>x=%{x}<br>y=%{y}<extra></extra>",
         "legendgroup": "mxtoken",
         "marker": {
          "color": "#FFA15A",
          "symbol": "circle"
         },
         "mode": "markers",
         "name": "mxtoken",
         "orientation": "v",
         "showlegend": true,
         "type": "scatter",
         "x": [
          0.06623508892915864
         ],
         "xaxis": "x",
         "y": [
          -0.040825786285296935
         ],
         "yaxis": "y"
        },
        {
         "hovertemplate": "color=reserve-protocol<br>x=%{x}<br>y=%{y}<extra></extra>",
         "legendgroup": "reserve-protocol",
         "marker": {
          "color": "#19d3f3",
          "symbol": "circle"
         },
         "mode": "markers",
         "name": "reserve-protocol",
         "orientation": "v",
         "showlegend": true,
         "type": "scatter",
         "x": [
          0.08141869789913543
         ],
         "xaxis": "x",
         "y": [
          -0.033151246831656114
         ],
         "yaxis": "y"
        },
        {
         "hovertemplate": "color=bora-ecosystem<br>x=%{x}<br>y=%{y}<extra></extra>",
         "legendgroup": "bora-ecosystem",
         "marker": {
          "color": "#FF6692",
          "symbol": "circle"
         },
         "mode": "markers",
         "name": "bora-ecosystem",
         "orientation": "v",
         "showlegend": true,
         "type": "scatter",
         "x": [
          0.05868586691697882
         ],
         "xaxis": "x",
         "y": [
          0.1015838528582717
         ],
         "yaxis": "y"
        },
        {
         "hovertemplate": "color=telcoin<br>x=%{x}<br>y=%{y}<extra></extra>",
         "legendgroup": "telcoin",
         "marker": {
          "color": "#B6E880",
          "symbol": "circle"
         },
         "mode": "markers",
         "name": "telcoin",
         "orientation": "v",
         "showlegend": true,
         "type": "scatter",
         "x": [
          0.06938545536705173
         ],
         "xaxis": "x",
         "y": [
          -0.06192401977398729
         ],
         "yaxis": "y"
        },
        {
         "hovertemplate": "color=ocean-protocol<br>x=%{x}<br>y=%{y}<extra></extra>",
         "legendgroup": "ocean-protocol",
         "marker": {
          "color": "#FF97FF",
          "symbol": "circle"
         },
         "mode": "markers",
         "name": "ocean-protocol",
         "orientation": "v",
         "showlegend": true,
         "type": "scatter",
         "x": [
          0.08142957568728475
         ],
         "xaxis": "x",
         "y": [
          -0.023425061834695924
         ],
         "yaxis": "y"
        },
        {
         "hovertemplate": "color=celsius<br>x=%{x}<br>y=%{y}<extra></extra>",
         "legendgroup": "celsius",
         "marker": {
          "color": "#FECB52",
          "symbol": "circle"
         },
         "mode": "markers",
         "name": "celsius",
         "orientation": "v",
         "showlegend": true,
         "type": "scatter",
         "x": [
          0.05697942187560207
         ],
         "xaxis": "x",
         "y": [
          -0.0388691234816113
         ],
         "yaxis": "y"
        },
        {
         "hovertemplate": "color=polymath-network<br>x=%{x}<br>y=%{y}<extra></extra>",
         "legendgroup": "polymath-network",
         "marker": {
          "color": "#636efa",
          "symbol": "circle"
         },
         "mode": "markers",
         "name": "polymath-network",
         "orientation": "v",
         "showlegend": true,
         "type": "scatter",
         "x": [
          0.07895787380058149
         ],
         "xaxis": "x",
         "y": [
          0.15698482757965593
         ],
         "yaxis": "y"
        },
        {
         "hovertemplate": "color=wax<br>x=%{x}<br>y=%{y}<extra></extra>",
         "legendgroup": "wax",
         "marker": {
          "color": "#EF553B",
          "symbol": "circle"
         },
         "mode": "markers",
         "name": "wax",
         "orientation": "v",
         "showlegend": true,
         "type": "scatter",
         "x": [
          0.07184089507482694
         ],
         "xaxis": "x",
         "y": [
          0.13120557381155246
         ],
         "yaxis": "y"
        },
        {
         "hovertemplate": "color=digibyte<br>x=%{x}<br>y=%{y}<extra></extra>",
         "legendgroup": "digibyte",
         "marker": {
          "color": "#00cc96",
          "symbol": "circle"
         },
         "mode": "markers",
         "name": "digibyte",
         "orientation": "v",
         "showlegend": true,
         "type": "scatter",
         "x": [
          0.08840758651466388
         ],
         "xaxis": "x",
         "y": [
          -0.046440705607400566
         ],
         "yaxis": "y"
        },
        {
         "hovertemplate": "color=livepeer<br>x=%{x}<br>y=%{y}<extra></extra>",
         "legendgroup": "livepeer",
         "marker": {
          "color": "#ab63fa",
          "symbol": "circle"
         },
         "mode": "markers",
         "name": "livepeer",
         "orientation": "v",
         "showlegend": true,
         "type": "scatter",
         "x": [
          0.05870225982856124
         ],
         "xaxis": "x",
         "y": [
          -0.044691217141599814
         ],
         "yaxis": "y"
        },
        {
         "hovertemplate": "color=lisk<br>x=%{x}<br>y=%{y}<extra></extra>",
         "legendgroup": "lisk",
         "marker": {
          "color": "#FFA15A",
          "symbol": "circle"
         },
         "mode": "markers",
         "name": "lisk",
         "orientation": "v",
         "showlegend": true,
         "type": "scatter",
         "x": [
          0.07180674423435321
         ],
         "xaxis": "x",
         "y": [
          0.050997336272412416
         ],
         "yaxis": "y"
        },
        {
         "hovertemplate": "color=rif<br>x=%{x}<br>y=%{y}<extra></extra>",
         "legendgroup": "rif",
         "marker": {
          "color": "#19d3f3",
          "symbol": "circle"
         },
         "mode": "markers",
         "name": "rif",
         "orientation": "v",
         "showlegend": true,
         "type": "scatter",
         "x": [
          0.06947854524832067
         ],
         "xaxis": "x",
         "y": [
          -0.06030035363526675
         ],
         "yaxis": "y"
        },
        {
         "hovertemplate": "color=zencash<br>x=%{x}<br>y=%{y}<extra></extra>",
         "legendgroup": "zencash",
         "marker": {
          "color": "#FF6692",
          "symbol": "circle"
         },
         "mode": "markers",
         "name": "zencash",
         "orientation": "v",
         "showlegend": true,
         "type": "scatter",
         "x": [
          0.08607752723511415
         ],
         "xaxis": "x",
         "y": [
          -0.044110893943641205
         ],
         "yaxis": "y"
        },
        {
         "hovertemplate": "color=aelf<br>x=%{x}<br>y=%{y}<extra></extra>",
         "legendgroup": "aelf",
         "marker": {
          "color": "#B6E880",
          "symbol": "circle"
         },
         "mode": "markers",
         "name": "aelf",
         "orientation": "v",
         "showlegend": true,
         "type": "scatter",
         "x": [
          0.07597026573035416
         ],
         "xaxis": "x",
         "y": [
          0.12413211741570133
         ],
         "yaxis": "y"
        },
        {
         "hovertemplate": "color=stasis-eurs<br>x=%{x}<br>y=%{y}<extra></extra>",
         "legendgroup": "stasis-eurs",
         "marker": {
          "color": "#FF97FF",
          "symbol": "circle"
         },
         "mode": "markers",
         "name": "stasis-eurs",
         "orientation": "v",
         "showlegend": true,
         "type": "scatter",
         "x": [
          0.028936149485389705
         ],
         "xaxis": "x",
         "y": [
          -0.024754951852964432
         ],
         "yaxis": "y"
        },
        {
         "hovertemplate": "color=rlc<br>x=%{x}<br>y=%{y}<extra></extra>",
         "legendgroup": "rlc",
         "marker": {
          "color": "#FECB52",
          "symbol": "circle"
         },
         "mode": "markers",
         "name": "rlc",
         "orientation": "v",
         "showlegend": true,
         "type": "scatter",
         "x": [
          0.08165962093676178
         ],
         "xaxis": "x",
         "y": [
          -0.021864623742026287
         ],
         "yaxis": "y"
        },
        {
         "hovertemplate": "color=constellation<br>x=%{x}<br>y=%{y}<extra></extra>",
         "legendgroup": "constellation",
         "marker": {
          "color": "#636efa",
          "symbol": "circle"
         },
         "mode": "markers",
         "name": "constellation",
         "orientation": "v",
         "showlegend": true,
         "type": "scatter",
         "x": [
          0.06647485967054768
         ],
         "xaxis": "x",
         "y": [
          -0.03767655417587649
         ],
         "yaxis": "y"
        },
        {
         "hovertemplate": "color=origintrail<br>x=%{x}<br>y=%{y}<extra></extra>",
         "legendgroup": "origintrail",
         "marker": {
          "color": "#EF553B",
          "symbol": "circle"
         },
         "mode": "markers",
         "name": "origintrail",
         "orientation": "v",
         "showlegend": true,
         "type": "scatter",
         "x": [
          0.06550001838740559
         ],
         "xaxis": "x",
         "y": [
          -0.015330849077157233
         ],
         "yaxis": "y"
        },
        {
         "hovertemplate": "color=coinextoken<br>x=%{x}<br>y=%{y}<extra></extra>",
         "legendgroup": "coinextoken",
         "marker": {
          "color": "#00cc96",
          "symbol": "circle"
         },
         "mode": "markers",
         "name": "coinextoken",
         "orientation": "v",
         "showlegend": true,
         "type": "scatter",
         "x": [
          0.08455125407880881
         ],
         "xaxis": "x",
         "y": [
          -0.05584644780047811
         ],
         "yaxis": "y"
        },
        {
         "hovertemplate": "color=republic-protocol<br>x=%{x}<br>y=%{y}<extra></extra>",
         "legendgroup": "republic-protocol",
         "marker": {
          "color": "#ab63fa",
          "symbol": "circle"
         },
         "mode": "markers",
         "name": "republic-protocol",
         "orientation": "v",
         "showlegend": true,
         "type": "scatter",
         "x": [
          0.08425940991431953
         ],
         "xaxis": "x",
         "y": [
          -0.039992192231356645
         ],
         "yaxis": "y"
        },
        {
         "hovertemplate": "color=syscoin<br>x=%{x}<br>y=%{y}<extra></extra>",
         "legendgroup": "syscoin",
         "marker": {
          "color": "#FFA15A",
          "symbol": "circle"
         },
         "mode": "markers",
         "name": "syscoin",
         "orientation": "v",
         "showlegend": true,
         "type": "scatter",
         "x": [
          0.07646228892303372
         ],
         "xaxis": "x",
         "y": [
          -0.0014891517837028435
         ],
         "yaxis": "y"
        },
        {
         "hovertemplate": "color=numeraire<br>x=%{x}<br>y=%{y}<extra></extra>",
         "legendgroup": "numeraire",
         "marker": {
          "color": "#19d3f3",
          "symbol": "circle"
         },
         "mode": "markers",
         "name": "numeraire",
         "orientation": "v",
         "showlegend": true,
         "type": "scatter",
         "x": [
          0.061051860370176854
         ],
         "xaxis": "x",
         "y": [
          -0.03118773015342654
         ],
         "yaxis": "y"
        },
        {
         "hovertemplate": "color=nano<br>x=%{x}<br>y=%{y}<extra></extra>",
         "legendgroup": "nano",
         "marker": {
          "color": "#FF6692",
          "symbol": "circle"
         },
         "mode": "markers",
         "name": "nano",
         "orientation": "v",
         "showlegend": true,
         "type": "scatter",
         "x": [
          0.08053938513567578
         ],
         "xaxis": "x",
         "y": [
          -0.03343574688632414
         ],
         "yaxis": "y"
        },
        {
         "hovertemplate": "color=ethos<br>x=%{x}<br>y=%{y}<extra></extra>",
         "legendgroup": "ethos",
         "marker": {
          "color": "#B6E880",
          "symbol": "circle"
         },
         "mode": "markers",
         "name": "ethos",
         "orientation": "v",
         "showlegend": true,
         "type": "scatter",
         "x": [
          0.05539883519168064
         ],
         "xaxis": "x",
         "y": [
          0.0026994582431802867
         ],
         "yaxis": "y"
        },
        {
         "hovertemplate": "color=function-x<br>x=%{x}<br>y=%{y}<extra></extra>",
         "legendgroup": "function-x",
         "marker": {
          "color": "#FF97FF",
          "symbol": "circle"
         },
         "mode": "markers",
         "name": "function-x",
         "orientation": "v",
         "showlegend": true,
         "type": "scatter",
         "x": [
          0.053418508754077575
         ],
         "xaxis": "x",
         "y": [
          -0.00012063977538175755
         ],
         "yaxis": "y"
        },
        {
         "hovertemplate": "color=medibloc<br>x=%{x}<br>y=%{y}<extra></extra>",
         "legendgroup": "medibloc",
         "marker": {
          "color": "#FECB52",
          "symbol": "circle"
         },
         "mode": "markers",
         "name": "medibloc",
         "orientation": "v",
         "showlegend": true,
         "type": "scatter",
         "x": [
          0.07024253200103817
         ],
         "xaxis": "x",
         "y": [
          0.15995747551179976
         ],
         "yaxis": "y"
        },
        {
         "hovertemplate": "color=dent<br>x=%{x}<br>y=%{y}<extra></extra>",
         "legendgroup": "dent",
         "marker": {
          "color": "#636efa",
          "symbol": "circle"
         },
         "mode": "markers",
         "name": "dent",
         "orientation": "v",
         "showlegend": true,
         "type": "scatter",
         "x": [
          0.08196695178624164
         ],
         "xaxis": "x",
         "y": [
          -0.007189121784852715
         ],
         "yaxis": "y"
        },
        {
         "hovertemplate": "color=status<br>x=%{x}<br>y=%{y}<extra></extra>",
         "legendgroup": "status",
         "marker": {
          "color": "#EF553B",
          "symbol": "circle"
         },
         "mode": "markers",
         "name": "status",
         "orientation": "v",
         "showlegend": true,
         "type": "scatter",
         "x": [
          0.08871338440938935
         ],
         "xaxis": "x",
         "y": [
          0.029090704169270724
         ],
         "yaxis": "y"
        },
        {
         "hovertemplate": "color=celer-network<br>x=%{x}<br>y=%{y}<extra></extra>",
         "legendgroup": "celer-network",
         "marker": {
          "color": "#00cc96",
          "symbol": "circle"
         },
         "mode": "markers",
         "name": "celer-network",
         "orientation": "v",
         "showlegend": true,
         "type": "scatter",
         "x": [
          0.08845456416114009
         ],
         "xaxis": "x",
         "y": [
          0.026318763126385807
         ],
         "yaxis": "y"
        },
        {
         "hovertemplate": "color=ergo<br>x=%{x}<br>y=%{y}<extra></extra>",
         "legendgroup": "ergo",
         "marker": {
          "color": "#ab63fa",
          "symbol": "circle"
         },
         "mode": "markers",
         "name": "ergo",
         "orientation": "v",
         "showlegend": true,
         "type": "scatter",
         "x": [
          0.04104736657897507
         ],
         "xaxis": "x",
         "y": [
          -0.04223413233415344
         ],
         "yaxis": "y"
        },
        {
         "hovertemplate": "color=mass-vehicle-ledger<br>x=%{x}<br>y=%{y}<extra></extra>",
         "legendgroup": "mass-vehicle-ledger",
         "marker": {
          "color": "#FFA15A",
          "symbol": "circle"
         },
         "mode": "markers",
         "name": "mass-vehicle-ledger",
         "orientation": "v",
         "showlegend": true,
         "type": "scatter",
         "x": [
          0.06275603071476207
         ],
         "xaxis": "x",
         "y": [
          0.12270924011215385
         ],
         "yaxis": "y"
        },
        {
         "hovertemplate": "color=aragon<br>x=%{x}<br>y=%{y}<extra></extra>",
         "legendgroup": "aragon",
         "marker": {
          "color": "#19d3f3",
          "symbol": "circle"
         },
         "mode": "markers",
         "name": "aragon",
         "orientation": "v",
         "showlegend": true,
         "type": "scatter",
         "x": [
          0.06190313961609764
         ],
         "xaxis": "x",
         "y": [
          -0.03135627139915914
         ],
         "yaxis": "y"
        },
        {
         "hovertemplate": "color=ontology-gas<br>x=%{x}<br>y=%{y}<extra></extra>",
         "legendgroup": "ontology-gas",
         "marker": {
          "color": "#FF6692",
          "symbol": "circle"
         },
         "mode": "markers",
         "name": "ontology-gas",
         "orientation": "v",
         "showlegend": true,
         "type": "scatter",
         "x": [
          0.0634669975459429
         ],
         "xaxis": "x",
         "y": [
          0.11159060276691968
         ],
         "yaxis": "y"
        },
        {
         "hovertemplate": "color=orbs<br>x=%{x}<br>y=%{y}<extra></extra>",
         "legendgroup": "orbs",
         "marker": {
          "color": "#B6E880",
          "symbol": "circle"
         },
         "mode": "markers",
         "name": "orbs",
         "orientation": "v",
         "showlegend": true,
         "type": "scatter",
         "x": [
          0.07544999997970402
         ],
         "xaxis": "x",
         "y": [
          0.13483567820708794
         ],
         "yaxis": "y"
        },
        {
         "hovertemplate": "color=humanscape<br>x=%{x}<br>y=%{y}<extra></extra>",
         "legendgroup": "humanscape",
         "marker": {
          "color": "#FF97FF",
          "symbol": "circle"
         },
         "mode": "markers",
         "name": "humanscape",
         "orientation": "v",
         "showlegend": true,
         "type": "scatter",
         "x": [
          0.024652667705543238
         ],
         "xaxis": "x",
         "y": [
          0.07720648345330257
         ],
         "yaxis": "y"
        },
        {
         "hovertemplate": "color=ardor<br>x=%{x}<br>y=%{y}<extra></extra>",
         "legendgroup": "ardor",
         "marker": {
          "color": "#FECB52",
          "symbol": "circle"
         },
         "mode": "markers",
         "name": "ardor",
         "orientation": "v",
         "showlegend": true,
         "type": "scatter",
         "x": [
          0.08457761350640007
         ],
         "xaxis": "x",
         "y": [
          0.15218722994425157
         ],
         "yaxis": "y"
        },
        {
         "hovertemplate": "color=steem<br>x=%{x}<br>y=%{y}<extra></extra>",
         "legendgroup": "steem",
         "marker": {
          "color": "#636efa",
          "symbol": "circle"
         },
         "mode": "markers",
         "name": "steem",
         "orientation": "v",
         "showlegend": true,
         "type": "scatter",
         "x": [
          0.08291284062505147
         ],
         "xaxis": "x",
         "y": [
          0.10399466685750186
         ],
         "yaxis": "y"
        },
        {
         "hovertemplate": "color=civic<br>x=%{x}<br>y=%{y}<extra></extra>",
         "legendgroup": "civic",
         "marker": {
          "color": "#EF553B",
          "symbol": "circle"
         },
         "mode": "markers",
         "name": "civic",
         "orientation": "v",
         "showlegend": true,
         "type": "scatter",
         "x": [
          0.07677300297818199
         ],
         "xaxis": "x",
         "y": [
          0.12552226322943374
         ],
         "yaxis": "y"
        },
        {
         "hovertemplate": "color=mir<br>x=%{x}<br>y=%{y}<extra></extra>",
         "legendgroup": "mir",
         "marker": {
          "color": "#00cc96",
          "symbol": "circle"
         },
         "mode": "markers",
         "name": "mir",
         "orientation": "v",
         "showlegend": true,
         "type": "scatter",
         "x": [
          0.01109252014885397
         ],
         "xaxis": "x",
         "y": [
          -0.009858600525081578
         ],
         "yaxis": "y"
        },
        {
         "hovertemplate": "color=everipedia<br>x=%{x}<br>y=%{y}<extra></extra>",
         "legendgroup": "everipedia",
         "marker": {
          "color": "#ab63fa",
          "symbol": "circle"
         },
         "mode": "markers",
         "name": "everipedia",
         "orientation": "v",
         "showlegend": true,
         "type": "scatter",
         "x": [
          0.07148481162462487
         ],
         "xaxis": "x",
         "y": [
          0.17491907888422095
         ],
         "yaxis": "y"
        },
        {
         "hovertemplate": "color=zeon<br>x=%{x}<br>y=%{y}<extra></extra>",
         "legendgroup": "zeon",
         "marker": {
          "color": "#FFA15A",
          "symbol": "circle"
         },
         "mode": "markers",
         "name": "zeon",
         "orientation": "v",
         "showlegend": true,
         "type": "scatter",
         "x": [
          0.010305752493207428
         ],
         "xaxis": "x",
         "y": [
          -0.040139024623326566
         ],
         "yaxis": "y"
        },
        {
         "hovertemplate": "color=vethor-token<br>x=%{x}<br>y=%{y}<extra></extra>",
         "legendgroup": "vethor-token",
         "marker": {
          "color": "#19d3f3",
          "symbol": "circle"
         },
         "mode": "markers",
         "name": "vethor-token",
         "orientation": "v",
         "showlegend": true,
         "type": "scatter",
         "x": [
          0.07803873756297697
         ],
         "xaxis": "x",
         "y": [
          -0.01999864948267083
         ],
         "yaxis": "y"
        },
        {
         "hovertemplate": "color=ceek-vr<br>x=%{x}<br>y=%{y}<extra></extra>",
         "legendgroup": "ceek-vr",
         "marker": {
          "color": "#FF6692",
          "symbol": "circle"
         },
         "mode": "markers",
         "name": "ceek-vr",
         "orientation": "v",
         "showlegend": true,
         "type": "scatter",
         "x": [
          0.040716489902244545
         ],
         "xaxis": "x",
         "y": [
          0.021781765211279447
         ],
         "yaxis": "y"
        },
        {
         "hovertemplate": "color=power-ledger<br>x=%{x}<br>y=%{y}<extra></extra>",
         "legendgroup": "power-ledger",
         "marker": {
          "color": "#B6E880",
          "symbol": "circle"
         },
         "mode": "markers",
         "name": "power-ledger",
         "orientation": "v",
         "showlegend": true,
         "type": "scatter",
         "x": [
          0.08294505626693614
         ],
         "xaxis": "x",
         "y": [
          0.15351014859974485
         ],
         "yaxis": "y"
        },
        {
         "hovertemplate": "color=stratis<br>x=%{x}<br>y=%{y}<extra></extra>",
         "legendgroup": "stratis",
         "marker": {
          "color": "#FF97FF",
          "symbol": "circle"
         },
         "mode": "markers",
         "name": "stratis",
         "orientation": "v",
         "showlegend": true,
         "type": "scatter",
         "x": [
          0.061967253647775486
         ],
         "xaxis": "x",
         "y": [
          0.13686545576991455
         ],
         "yaxis": "y"
        },
        {
         "hovertemplate": "color=abbc-foundation<br>x=%{x}<br>y=%{y}<extra></extra>",
         "legendgroup": "abbc-foundation",
         "marker": {
          "color": "#FECB52",
          "symbol": "circle"
         },
         "mode": "markers",
         "name": "abbc-foundation",
         "orientation": "v",
         "showlegend": true,
         "type": "scatter",
         "x": [
          0.039588444137455464
         ],
         "xaxis": "x",
         "y": [
          -0.017005862980107086
         ],
         "yaxis": "y"
        },
        {
         "hovertemplate": "color=request-network<br>x=%{x}<br>y=%{y}<extra></extra>",
         "legendgroup": "request-network",
         "marker": {
          "color": "#636efa",
          "symbol": "circle"
         },
         "mode": "markers",
         "name": "request-network",
         "orientation": "v",
         "showlegend": true,
         "type": "scatter",
         "x": [
          0.06591732240770858
         ],
         "xaxis": "x",
         "y": [
          0.010150613061722656
         ],
         "yaxis": "y"
        },
        {
         "hovertemplate": "color=xyo-network<br>x=%{x}<br>y=%{y}<extra></extra>",
         "legendgroup": "xyo-network",
         "marker": {
          "color": "#EF553B",
          "symbol": "circle"
         },
         "mode": "markers",
         "name": "xyo-network",
         "orientation": "v",
         "showlegend": true,
         "type": "scatter",
         "x": [
          0.048628352665561425
         ],
         "xaxis": "x",
         "y": [
          0.008458146198196126
         ],
         "yaxis": "y"
        },
        {
         "hovertemplate": "color=rsk<br>x=%{x}<br>y=%{y}<extra></extra>",
         "legendgroup": "rsk",
         "marker": {
          "color": "#00cc96",
          "symbol": "circle"
         },
         "mode": "markers",
         "name": "rsk",
         "orientation": "v",
         "showlegend": true,
         "type": "scatter",
         "x": [
          0.05518953437156285
         ],
         "xaxis": "x",
         "y": [
          -0.07180658824186258
         ],
         "yaxis": "y"
        },
        {
         "hovertemplate": "color=metal<br>x=%{x}<br>y=%{y}<extra></extra>",
         "legendgroup": "metal",
         "marker": {
          "color": "#ab63fa",
          "symbol": "circle"
         },
         "mode": "markers",
         "name": "metal",
         "orientation": "v",
         "showlegend": true,
         "type": "scatter",
         "x": [
          0.0743297134922537
         ],
         "xaxis": "x",
         "y": [
          0.11766875581344564
         ],
         "yaxis": "y"
        },
        {
         "hovertemplate": "color=covalent<br>x=%{x}<br>y=%{y}<extra></extra>",
         "legendgroup": "covalent",
         "marker": {
          "color": "#FFA15A",
          "symbol": "circle"
         },
         "mode": "markers",
         "name": "covalent",
         "orientation": "v",
         "showlegend": true,
         "type": "scatter",
         "x": [
          0.02112663061126615
         ],
         "xaxis": "x",
         "y": [
          -0.010318007355794911
         ],
         "yaxis": "y"
        },
        {
         "hovertemplate": "color=gxchain<br>x=%{x}<br>y=%{y}<extra></extra>",
         "legendgroup": "gxchain",
         "marker": {
          "color": "#19d3f3",
          "symbol": "circle"
         },
         "mode": "markers",
         "name": "gxchain",
         "orientation": "v",
         "showlegend": true,
         "type": "scatter",
         "x": [
          0.02513380075546541
         ],
         "xaxis": "x",
         "y": [
          -0.002604988121780714
         ],
         "yaxis": "y"
        },
        {
         "hovertemplate": "color=bancor<br>x=%{x}<br>y=%{y}<extra></extra>",
         "legendgroup": "bancor",
         "marker": {
          "color": "#FF6692",
          "symbol": "circle"
         },
         "mode": "markers",
         "name": "bancor",
         "orientation": "v",
         "showlegend": true,
         "type": "scatter",
         "x": [
          0.08261298837351705
         ],
         "xaxis": "x",
         "y": [
          -0.052573589400624524
         ],
         "yaxis": "y"
        },
        {
         "hovertemplate": "color=funfair<br>x=%{x}<br>y=%{y}<extra></extra>",
         "legendgroup": "funfair",
         "marker": {
          "color": "#B6E880",
          "symbol": "circle"
         },
         "mode": "markers",
         "name": "funfair",
         "orientation": "v",
         "showlegend": true,
         "type": "scatter",
         "x": [
          0.07744364028647294
         ],
         "xaxis": "x",
         "y": [
          -0.006138391219292235
         ],
         "yaxis": "y"
        },
        {
         "hovertemplate": "color=quarkchain<br>x=%{x}<br>y=%{y}<extra></extra>",
         "legendgroup": "quarkchain",
         "marker": {
          "color": "#FF97FF",
          "symbol": "circle"
         },
         "mode": "markers",
         "name": "quarkchain",
         "orientation": "v",
         "showlegend": true,
         "type": "scatter",
         "x": [
          0.07855574339219963
         ],
         "xaxis": "x",
         "y": [
          0.17463012832157063
         ],
         "yaxis": "y"
        },
        {
         "hovertemplate": "color=morpheus-network<br>x=%{x}<br>y=%{y}<extra></extra>",
         "legendgroup": "morpheus-network",
         "marker": {
          "color": "#FECB52",
          "symbol": "circle"
         },
         "mode": "markers",
         "name": "morpheus-network",
         "orientation": "v",
         "showlegend": true,
         "type": "scatter",
         "x": [
          0.06701765206768857
         ],
         "xaxis": "x",
         "y": [
          -0.02893091440531799
         ],
         "yaxis": "y"
        },
        {
         "hovertemplate": "color=nkn<br>x=%{x}<br>y=%{y}<extra></extra>",
         "legendgroup": "nkn",
         "marker": {
          "color": "#636efa",
          "symbol": "circle"
         },
         "mode": "markers",
         "name": "nkn",
         "orientation": "v",
         "showlegend": true,
         "type": "scatter",
         "x": [
          0.05141414333928972
         ],
         "xaxis": "x",
         "y": [
          -0.0404276344871128
         ],
         "yaxis": "y"
        },
        {
         "hovertemplate": "color=kyber-network<br>x=%{x}<br>y=%{y}<extra></extra>",
         "legendgroup": "kyber-network",
         "marker": {
          "color": "#EF553B",
          "symbol": "circle"
         },
         "mode": "markers",
         "name": "kyber-network",
         "orientation": "v",
         "showlegend": true,
         "type": "scatter",
         "x": [
          0.08722901325242363
         ],
         "xaxis": "x",
         "y": [
          0.009649628743436632
         ],
         "yaxis": "y"
        },
        {
         "hovertemplate": "color=storm<br>x=%{x}<br>y=%{y}<extra></extra>",
         "legendgroup": "storm",
         "marker": {
          "color": "#00cc96",
          "symbol": "circle"
         },
         "mode": "markers",
         "name": "storm",
         "orientation": "v",
         "showlegend": true,
         "type": "scatter",
         "x": [
          0.08045139516822229
         ],
         "xaxis": "x",
         "y": [
          0.13241227433457575
         ],
         "yaxis": "y"
        },
        {
         "hovertemplate": "color=veritaseum<br>x=%{x}<br>y=%{y}<extra></extra>",
         "legendgroup": "veritaseum",
         "marker": {
          "color": "#ab63fa",
          "symbol": "circle"
         },
         "mode": "markers",
         "name": "veritaseum",
         "orientation": "v",
         "showlegend": true,
         "type": "scatter",
         "x": [
          0.038319857490305365
         ],
         "xaxis": "x",
         "y": [
          -0.035564764938868565
         ],
         "yaxis": "y"
        },
        {
         "hovertemplate": "color=maidsafecoin<br>x=%{x}<br>y=%{y}<extra></extra>",
         "legendgroup": "maidsafecoin",
         "marker": {
          "color": "#FFA15A",
          "symbol": "circle"
         },
         "mode": "markers",
         "name": "maidsafecoin",
         "orientation": "v",
         "showlegend": true,
         "type": "scatter",
         "x": [
          0.05337004903870396
         ],
         "xaxis": "x",
         "y": [
          -0.04966155720084241
         ],
         "yaxis": "y"
        },
        {
         "hovertemplate": "color=augur<br>x=%{x}<br>y=%{y}<extra></extra>",
         "legendgroup": "augur",
         "marker": {
          "color": "#19d3f3",
          "symbol": "circle"
         },
         "mode": "markers",
         "name": "augur",
         "orientation": "v",
         "showlegend": true,
         "type": "scatter",
         "x": [
          0.0809296739770666
         ],
         "xaxis": "x",
         "y": [
          0.0413817833894282
         ],
         "yaxis": "y"
        },
        {
         "hovertemplate": "color=selfkey<br>x=%{x}<br>y=%{y}<extra></extra>",
         "legendgroup": "selfkey",
         "marker": {
          "color": "#FF6692",
          "symbol": "circle"
         },
         "mode": "markers",
         "name": "selfkey",
         "orientation": "v",
         "showlegend": true,
         "type": "scatter",
         "x": [
          0.07254532720533938
         ],
         "xaxis": "x",
         "y": [
          0.03340838692257129
         ],
         "yaxis": "y"
        },
        {
         "hovertemplate": "color=hxro<br>x=%{x}<br>y=%{y}<extra></extra>",
         "legendgroup": "hxro",
         "marker": {
          "color": "#B6E880",
          "symbol": "circle"
         },
         "mode": "markers",
         "name": "hxro",
         "orientation": "v",
         "showlegend": true,
         "type": "scatter",
         "x": [
          0.030784881906836033
         ],
         "xaxis": "x",
         "y": [
          -0.009792693748127718
         ],
         "yaxis": "y"
        },
        {
         "hovertemplate": "color=ark<br>x=%{x}<br>y=%{y}<extra></extra>",
         "legendgroup": "ark",
         "marker": {
          "color": "#FF97FF",
          "symbol": "circle"
         },
         "mode": "markers",
         "name": "ark",
         "orientation": "v",
         "showlegend": true,
         "type": "scatter",
         "x": [
          0.06898617984843813
         ],
         "xaxis": "x",
         "y": [
          0.13349105807014702
         ],
         "yaxis": "y"
        },
        {
         "hovertemplate": "color=mxc<br>x=%{x}<br>y=%{y}<extra></extra>",
         "legendgroup": "mxc",
         "marker": {
          "color": "#FECB52",
          "symbol": "circle"
         },
         "mode": "markers",
         "name": "mxc",
         "orientation": "v",
         "showlegend": true,
         "type": "scatter",
         "x": [
          0.05619329799265547
         ],
         "xaxis": "x",
         "y": [
          0.009563919157247063
         ],
         "yaxis": "y"
        },
        {
         "hovertemplate": "color=monaco<br>x=%{x}<br>y=%{y}<extra></extra>",
         "legendgroup": "monaco",
         "marker": {
          "color": "#636efa",
          "symbol": "circle"
         },
         "mode": "markers",
         "name": "monaco",
         "orientation": "v",
         "showlegend": true,
         "type": "scatter",
         "x": [
          0.048545730246091434
         ],
         "xaxis": "x",
         "y": [
          -0.0017164362607733127
         ],
         "yaxis": "y"
        },
        {
         "hovertemplate": "color=irisnet<br>x=%{x}<br>y=%{y}<extra></extra>",
         "legendgroup": "irisnet",
         "marker": {
          "color": "#EF553B",
          "symbol": "circle"
         },
         "mode": "markers",
         "name": "irisnet",
         "orientation": "v",
         "showlegend": true,
         "type": "scatter",
         "x": [
          0.08196734956158572
         ],
         "xaxis": "x",
         "y": [
          -0.01534593836367424
         ],
         "yaxis": "y"
        },
        {
         "hovertemplate": "color=whitecoin<br>x=%{x}<br>y=%{y}<extra></extra>",
         "legendgroup": "whitecoin",
         "marker": {
          "color": "#00cc96",
          "symbol": "circle"
         },
         "mode": "markers",
         "name": "whitecoin",
         "orientation": "v",
         "showlegend": true,
         "type": "scatter",
         "x": [
          0.02094633426698977
         ],
         "xaxis": "x",
         "y": [
          -0.015396857836019016
         ],
         "yaxis": "y"
        },
        {
         "hovertemplate": "color=aergo<br>x=%{x}<br>y=%{y}<extra></extra>",
         "legendgroup": "aergo",
         "marker": {
          "color": "#ab63fa",
          "symbol": "circle"
         },
         "mode": "markers",
         "name": "aergo",
         "orientation": "v",
         "showlegend": true,
         "type": "scatter",
         "x": [
          0.07666596394629399
         ],
         "xaxis": "x",
         "y": [
          0.1622965613566212
         ],
         "yaxis": "y"
        },
        {
         "hovertemplate": "color=bytom<br>x=%{x}<br>y=%{y}<extra></extra>",
         "legendgroup": "bytom",
         "marker": {
          "color": "#FFA15A",
          "symbol": "circle"
         },
         "mode": "markers",
         "name": "bytom",
         "orientation": "v",
         "showlegend": true,
         "type": "scatter",
         "x": [
          0.08254207403857604
         ],
         "xaxis": "x",
         "y": [
          -0.05784640932389814
         ],
         "yaxis": "y"
        },
        {
         "hovertemplate": "color=storj<br>x=%{x}<br>y=%{y}<extra></extra>",
         "legendgroup": "storj",
         "marker": {
          "color": "#19d3f3",
          "symbol": "circle"
         },
         "mode": "markers",
         "name": "storj",
         "orientation": "v",
         "showlegend": true,
         "type": "scatter",
         "x": [
          0.08532894438800155
         ],
         "xaxis": "x",
         "y": [
          0.08319720623651221
         ],
         "yaxis": "y"
        },
        {
         "hovertemplate": "color=meta<br>x=%{x}<br>y=%{y}<extra></extra>",
         "legendgroup": "meta",
         "marker": {
          "color": "#FF6692",
          "symbol": "circle"
         },
         "mode": "markers",
         "name": "meta",
         "orientation": "v",
         "showlegend": true,
         "type": "scatter",
         "x": [
          0.07475979600232481
         ],
         "xaxis": "x",
         "y": [
          0.12269399221751434
         ],
         "yaxis": "y"
        },
        {
         "hovertemplate": "color=moviebloc<br>x=%{x}<br>y=%{y}<extra></extra>",
         "legendgroup": "moviebloc",
         "marker": {
          "color": "#B6E880",
          "symbol": "circle"
         },
         "mode": "markers",
         "name": "moviebloc",
         "orientation": "v",
         "showlegend": true,
         "type": "scatter",
         "x": [
          0.06299046766616234
         ],
         "xaxis": "x",
         "y": [
          0.162307962597882
         ],
         "yaxis": "y"
        },
        {
         "hovertemplate": "color=wanchain<br>x=%{x}<br>y=%{y}<extra></extra>",
         "legendgroup": "wanchain",
         "marker": {
          "color": "#FF97FF",
          "symbol": "circle"
         },
         "mode": "markers",
         "name": "wanchain",
         "orientation": "v",
         "showlegend": true,
         "type": "scatter",
         "x": [
          0.08925643237393655
         ],
         "xaxis": "x",
         "y": [
          -0.0002630408088082757
         ],
         "yaxis": "y"
        },
        {
         "hovertemplate": "color=mainframe<br>x=%{x}<br>y=%{y}<extra></extra>",
         "legendgroup": "mainframe",
         "marker": {
          "color": "#FECB52",
          "symbol": "circle"
         },
         "mode": "markers",
         "name": "mainframe",
         "orientation": "v",
         "showlegend": true,
         "type": "scatter",
         "x": [
          0.07501423012911568
         ],
         "xaxis": "x",
         "y": [
          0.13217744375328874
         ],
         "yaxis": "y"
        },
        {
         "hovertemplate": "color=dero<br>x=%{x}<br>y=%{y}<extra></extra>",
         "legendgroup": "dero",
         "marker": {
          "color": "#636efa",
          "symbol": "circle"
         },
         "mode": "markers",
         "name": "dero",
         "orientation": "v",
         "showlegend": true,
         "type": "scatter",
         "x": [
          0.05892752581211677
         ],
         "xaxis": "x",
         "y": [
          -0.04775382525840214
         ],
         "yaxis": "y"
        },
        {
         "hovertemplate": "color=cortex<br>x=%{x}<br>y=%{y}<extra></extra>",
         "legendgroup": "cortex",
         "marker": {
          "color": "#EF553B",
          "symbol": "circle"
         },
         "mode": "markers",
         "name": "cortex",
         "orientation": "v",
         "showlegend": true,
         "type": "scatter",
         "x": [
          0.06269517688152076
         ],
         "xaxis": "x",
         "y": [
          0.03003358873318823
         ],
         "yaxis": "y"
        },
        {
         "hovertemplate": "color=telos-blockchain-network<br>x=%{x}<br>y=%{y}<extra></extra>",
         "legendgroup": "telos-blockchain-network",
         "marker": {
          "color": "#00cc96",
          "symbol": "circle"
         },
         "mode": "markers",
         "name": "telos-blockchain-network",
         "orientation": "v",
         "showlegend": true,
         "type": "scatter",
         "x": [
          0.047076351062579395
         ],
         "xaxis": "x",
         "y": [
          -0.04834301348433148
         ],
         "yaxis": "y"
        },
        {
         "hovertemplate": "color=verge<br>x=%{x}<br>y=%{y}<extra></extra>",
         "legendgroup": "verge",
         "marker": {
          "color": "#ab63fa",
          "symbol": "circle"
         },
         "mode": "markers",
         "name": "verge",
         "orientation": "v",
         "showlegend": true,
         "type": "scatter",
         "x": [
          0.08909032640031946
         ],
         "xaxis": "x",
         "y": [
          -0.03296148815993616
         ],
         "yaxis": "y"
        },
        {
         "hovertemplate": "color=utrust<br>x=%{x}<br>y=%{y}<extra></extra>",
         "legendgroup": "utrust",
         "marker": {
          "color": "#FFA15A",
          "symbol": "circle"
         },
         "mode": "markers",
         "name": "utrust",
         "orientation": "v",
         "showlegend": true,
         "type": "scatter",
         "x": [
          0.0791435180415493
         ],
         "xaxis": "x",
         "y": [
          -0.042068517818756576
         ],
         "yaxis": "y"
        },
        {
         "hovertemplate": "color=uquid-coin<br>x=%{x}<br>y=%{y}<extra></extra>",
         "legendgroup": "uquid-coin",
         "marker": {
          "color": "#19d3f3",
          "symbol": "circle"
         },
         "mode": "markers",
         "name": "uquid-coin",
         "orientation": "v",
         "showlegend": true,
         "type": "scatter",
         "x": [
          0.0503378073893581
         ],
         "xaxis": "x",
         "y": [
          -0.038546180969624366
         ],
         "yaxis": "y"
        },
        {
         "hovertemplate": "color=revain<br>x=%{x}<br>y=%{y}<extra></extra>",
         "legendgroup": "revain",
         "marker": {
          "color": "#FF6692",
          "symbol": "circle"
         },
         "mode": "markers",
         "name": "revain",
         "orientation": "v",
         "showlegend": true,
         "type": "scatter",
         "x": [
          0.05089430699348657
         ],
         "xaxis": "x",
         "y": [
          -0.015108455077876021
         ],
         "yaxis": "y"
        },
        {
         "hovertemplate": "color=thundercore<br>x=%{x}<br>y=%{y}<extra></extra>",
         "legendgroup": "thundercore",
         "marker": {
          "color": "#B6E880",
          "symbol": "circle"
         },
         "mode": "markers",
         "name": "thundercore",
         "orientation": "v",
         "showlegend": true,
         "type": "scatter",
         "x": [
          0.06362087231563603
         ],
         "xaxis": "x",
         "y": [
          0.20039324406041462
         ],
         "yaxis": "y"
        },
        {
         "hovertemplate": "color=loom-network<br>x=%{x}<br>y=%{y}<extra></extra>",
         "legendgroup": "loom-network",
         "marker": {
          "color": "#FF97FF",
          "symbol": "circle"
         },
         "mode": "markers",
         "name": "loom-network",
         "orientation": "v",
         "showlegend": true,
         "type": "scatter",
         "x": [
          0.07910782401376261
         ],
         "xaxis": "x",
         "y": [
          0.15808458014265278
         ],
         "yaxis": "y"
        },
        {
         "hovertemplate": "color=lto-network<br>x=%{x}<br>y=%{y}<extra></extra>",
         "legendgroup": "lto-network",
         "marker": {
          "color": "#FECB52",
          "symbol": "circle"
         },
         "mode": "markers",
         "name": "lto-network",
         "orientation": "v",
         "showlegend": true,
         "type": "scatter",
         "x": [
          0.08140368822582116
         ],
         "xaxis": "x",
         "y": [
          -0.021349743586784653
         ],
         "yaxis": "y"
        },
        {
         "hovertemplate": "color=gas<br>x=%{x}<br>y=%{y}<extra></extra>",
         "legendgroup": "gas",
         "marker": {
          "color": "#636efa",
          "symbol": "circle"
         },
         "mode": "markers",
         "name": "gas",
         "orientation": "v",
         "showlegend": true,
         "type": "scatter",
         "x": [
          0.06885207755265396
         ],
         "xaxis": "x",
         "y": [
          0.08830110887555748
         ],
         "yaxis": "y"
        },
        {
         "hovertemplate": "color=electroneum<br>x=%{x}<br>y=%{y}<extra></extra>",
         "legendgroup": "electroneum",
         "marker": {
          "color": "#EF553B",
          "symbol": "circle"
         },
         "mode": "markers",
         "name": "electroneum",
         "orientation": "v",
         "showlegend": true,
         "type": "scatter",
         "x": [
          0.06559565902297178
         ],
         "xaxis": "x",
         "y": [
          -0.042231023874929136
         ],
         "yaxis": "y"
        },
        {
         "hovertemplate": "color=hyperion<br>x=%{x}<br>y=%{y}<extra></extra>",
         "legendgroup": "hyperion",
         "marker": {
          "color": "#00cc96",
          "symbol": "circle"
         },
         "mode": "markers",
         "name": "hyperion",
         "orientation": "v",
         "showlegend": true,
         "type": "scatter",
         "x": [
          0.005477571767032321
         ],
         "xaxis": "x",
         "y": [
          -0.007322368714243196
         ],
         "yaxis": "y"
        },
        {
         "hovertemplate": "color=measurable-data-token<br>x=%{x}<br>y=%{y}<extra></extra>",
         "legendgroup": "measurable-data-token",
         "marker": {
          "color": "#ab63fa",
          "symbol": "circle"
         },
         "mode": "markers",
         "name": "measurable-data-token",
         "orientation": "v",
         "showlegend": true,
         "type": "scatter",
         "x": [
          0.06592003362387565
         ],
         "xaxis": "x",
         "y": [
          -0.010225456246827459
         ],
         "yaxis": "y"
        },
        {
         "hovertemplate": "color=ethlend<br>x=%{x}<br>y=%{y}<extra></extra>",
         "legendgroup": "ethlend",
         "marker": {
          "color": "#FFA15A",
          "symbol": "circle"
         },
         "mode": "markers",
         "name": "ethlend",
         "orientation": "v",
         "showlegend": true,
         "type": "scatter",
         "x": [
          0.03894612915696362
         ],
         "xaxis": "x",
         "y": [
          0.022851548786901127
         ],
         "yaxis": "y"
        },
        {
         "hovertemplate": "color=lition<br>x=%{x}<br>y=%{y}<extra></extra>",
         "legendgroup": "lition",
         "marker": {
          "color": "#19d3f3",
          "symbol": "circle"
         },
         "mode": "markers",
         "name": "lition",
         "orientation": "v",
         "showlegend": true,
         "type": "scatter",
         "x": [
          0.0247358070531725
         ],
         "xaxis": "x",
         "y": [
          -0.02334478285056007
         ],
         "yaxis": "y"
        },
        {
         "hovertemplate": "color=mossland<br>x=%{x}<br>y=%{y}<extra></extra>",
         "legendgroup": "mossland",
         "marker": {
          "color": "#FF6692",
          "symbol": "circle"
         },
         "mode": "markers",
         "name": "mossland",
         "orientation": "v",
         "showlegend": true,
         "type": "scatter",
         "x": [
          0.06942156000071051
         ],
         "xaxis": "x",
         "y": [
          0.17878934272066307
         ],
         "yaxis": "y"
        },
        {
         "hovertemplate": "color=gifto<br>x=%{x}<br>y=%{y}<extra></extra>",
         "legendgroup": "gifto",
         "marker": {
          "color": "#B6E880",
          "symbol": "circle"
         },
         "mode": "markers",
         "name": "gifto",
         "orientation": "v",
         "showlegend": true,
         "type": "scatter",
         "x": [
          0.05839384400955807
         ],
         "xaxis": "x",
         "y": [
          0.068580929810211
         ],
         "yaxis": "y"
        },
        {
         "hovertemplate": "color=stox<br>x=%{x}<br>y=%{y}<extra></extra>",
         "legendgroup": "stox",
         "marker": {
          "color": "#FF97FF",
          "symbol": "circle"
         },
         "mode": "markers",
         "name": "stox",
         "orientation": "v",
         "showlegend": true,
         "type": "scatter",
         "x": [
          0.02304777057538406
         ],
         "xaxis": "x",
         "y": [
          0.004189038184632501
         ],
         "yaxis": "y"
        },
        {
         "hovertemplate": "color=chronobank<br>x=%{x}<br>y=%{y}<extra></extra>",
         "legendgroup": "chronobank",
         "marker": {
          "color": "#FECB52",
          "symbol": "circle"
         },
         "mode": "markers",
         "name": "chronobank",
         "orientation": "v",
         "showlegend": true,
         "type": "scatter",
         "x": [
          0.03990019671301879
         ],
         "xaxis": "x",
         "y": [
          -0.02949268909140971
         ],
         "yaxis": "y"
        },
        {
         "hovertemplate": "color=sonm<br>x=%{x}<br>y=%{y}<extra></extra>",
         "legendgroup": "sonm",
         "marker": {
          "color": "#636efa",
          "symbol": "circle"
         },
         "mode": "markers",
         "name": "sonm",
         "orientation": "v",
         "showlegend": true,
         "type": "scatter",
         "x": [
          0.050465820140002324
         ],
         "xaxis": "x",
         "y": [
          0.02924542307790936
         ],
         "yaxis": "y"
        },
        {
         "hovertemplate": "color=bitmax-token<br>x=%{x}<br>y=%{y}<extra></extra>",
         "legendgroup": "bitmax-token",
         "marker": {
          "color": "#EF553B",
          "symbol": "circle"
         },
         "mode": "markers",
         "name": "bitmax-token",
         "orientation": "v",
         "showlegend": true,
         "type": "scatter",
         "x": [
          0.048976796682977816
         ],
         "xaxis": "x",
         "y": [
          0.0008503556015811075
         ],
         "yaxis": "y"
        },
        {
         "hovertemplate": "color=travala<br>x=%{x}<br>y=%{y}<extra></extra>",
         "legendgroup": "travala",
         "marker": {
          "color": "#00cc96",
          "symbol": "circle"
         },
         "mode": "markers",
         "name": "travala",
         "orientation": "v",
         "showlegend": true,
         "type": "scatter",
         "x": [
          0.07174398950031201
         ],
         "xaxis": "x",
         "y": [
          -0.013173863833958072
         ],
         "yaxis": "y"
        },
        {
         "hovertemplate": "color=komodo<br>x=%{x}<br>y=%{y}<extra></extra>",
         "legendgroup": "komodo",
         "marker": {
          "color": "#ab63fa",
          "symbol": "circle"
         },
         "mode": "markers",
         "name": "komodo",
         "orientation": "v",
         "showlegend": true,
         "type": "scatter",
         "x": [
          0.07835091718525436
         ],
         "xaxis": "x",
         "y": [
          0.05347598486824128
         ],
         "yaxis": "y"
        },
        {
         "hovertemplate": "color=steem-dollars<br>x=%{x}<br>y=%{y}<extra></extra>",
         "legendgroup": "steem-dollars",
         "marker": {
          "color": "#FFA15A",
          "symbol": "circle"
         },
         "mode": "markers",
         "name": "steem-dollars",
         "orientation": "v",
         "showlegend": true,
         "type": "scatter",
         "x": [
          0.05871951327172789
         ],
         "xaxis": "x",
         "y": [
          0.14150123753638902
         ],
         "yaxis": "y"
        },
        {
         "hovertemplate": "color=melon<br>x=%{x}<br>y=%{y}<extra></extra>",
         "legendgroup": "melon",
         "marker": {
          "color": "#19d3f3",
          "symbol": "circle"
         },
         "mode": "markers",
         "name": "melon",
         "orientation": "v",
         "showlegend": true,
         "type": "scatter",
         "x": [
          0.06196866400950166
         ],
         "xaxis": "x",
         "y": [
          -0.010186033448369661
         ],
         "yaxis": "y"
        },
        {
         "hovertemplate": "color=bluzelle<br>x=%{x}<br>y=%{y}<extra></extra>",
         "legendgroup": "bluzelle",
         "marker": {
          "color": "#FF6692",
          "symbol": "circle"
         },
         "mode": "markers",
         "name": "bluzelle",
         "orientation": "v",
         "showlegend": true,
         "type": "scatter",
         "x": [
          0.08756297645577975
         ],
         "xaxis": "x",
         "y": [
          2.8743815228817367e-05
         ],
         "yaxis": "y"
        },
        {
         "hovertemplate": "color=groestlcoin<br>x=%{x}<br>y=%{y}<extra></extra>",
         "legendgroup": "groestlcoin",
         "marker": {
          "color": "#B6E880",
          "symbol": "circle"
         },
         "mode": "markers",
         "name": "groestlcoin",
         "orientation": "v",
         "showlegend": true,
         "type": "scatter",
         "x": [
          0.07370702908755693
         ],
         "xaxis": "x",
         "y": [
          0.16862583987674756
         ],
         "yaxis": "y"
        },
        {
         "hovertemplate": "color=tomochain<br>x=%{x}<br>y=%{y}<extra></extra>",
         "legendgroup": "tomochain",
         "marker": {
          "color": "#FF97FF",
          "symbol": "circle"
         },
         "mode": "markers",
         "name": "tomochain",
         "orientation": "v",
         "showlegend": true,
         "type": "scatter",
         "x": [
          0.08461650225549244
         ],
         "xaxis": "x",
         "y": [
          -0.031157793820047623
         ],
         "yaxis": "y"
        },
        {
         "hovertemplate": "color=bitcoin-diamond<br>x=%{x}<br>y=%{y}<extra></extra>",
         "legendgroup": "bitcoin-diamond",
         "marker": {
          "color": "#FECB52",
          "symbol": "circle"
         },
         "mode": "markers",
         "name": "bitcoin-diamond",
         "orientation": "v",
         "showlegend": true,
         "type": "scatter",
         "x": [
          0.0669305892931868
         ],
         "xaxis": "x",
         "y": [
          -0.07152978289224671
         ],
         "yaxis": "y"
        },
        {
         "hovertemplate": "color=monacoin<br>x=%{x}<br>y=%{y}<extra></extra>",
         "legendgroup": "monacoin",
         "marker": {
          "color": "#636efa",
          "symbol": "circle"
         },
         "mode": "markers",
         "name": "monacoin",
         "orientation": "v",
         "showlegend": true,
         "type": "scatter",
         "x": [
          0.06905788461133584
         ],
         "xaxis": "x",
         "y": [
          -0.05067293485523454
         ],
         "yaxis": "y"
        },
        {
         "hovertemplate": "color=bitshares<br>x=%{x}<br>y=%{y}<extra></extra>",
         "legendgroup": "bitshares",
         "marker": {
          "color": "#EF553B",
          "symbol": "circle"
         },
         "mode": "markers",
         "name": "bitshares",
         "orientation": "v",
         "showlegend": true,
         "type": "scatter",
         "x": [
          0.0847123561847486
         ],
         "xaxis": "x",
         "y": [
          -0.04098639954742705
         ],
         "yaxis": "y"
        },
        {
         "hovertemplate": "color=tpt<br>x=%{x}<br>y=%{y}<extra></extra>",
         "legendgroup": "tpt",
         "marker": {
          "color": "#00cc96",
          "symbol": "circle"
         },
         "mode": "markers",
         "name": "tpt",
         "orientation": "v",
         "showlegend": true,
         "type": "scatter",
         "x": [
          0.0505528444709226
         ],
         "xaxis": "x",
         "y": [
          -0.03731800009601909
         ],
         "yaxis": "y"
        },
        {
         "hovertemplate": "color=refereum<br>x=%{x}<br>y=%{y}<extra></extra>",
         "legendgroup": "refereum",
         "marker": {
          "color": "#ab63fa",
          "symbol": "circle"
         },
         "mode": "markers",
         "name": "refereum",
         "orientation": "v",
         "showlegend": true,
         "type": "scatter",
         "x": [
          0.05272290905308084
         ],
         "xaxis": "x",
         "y": [
          0.16394040106821586
         ],
         "yaxis": "y"
        },
        {
         "hovertemplate": "color=v-id<br>x=%{x}<br>y=%{y}<extra></extra>",
         "legendgroup": "v-id",
         "marker": {
          "color": "#FFA15A",
          "symbol": "circle"
         },
         "mode": "markers",
         "name": "v-id",
         "orientation": "v",
         "showlegend": true,
         "type": "scatter",
         "x": [
          0.06193153094939041
         ],
         "xaxis": "x",
         "y": [
          -0.007660997301614529
         ],
         "yaxis": "y"
        },
        {
         "hovertemplate": "color=aeternity<br>x=%{x}<br>y=%{y}<extra></extra>",
         "legendgroup": "aeternity",
         "marker": {
          "color": "#19d3f3",
          "symbol": "circle"
         },
         "mode": "markers",
         "name": "aeternity",
         "orientation": "v",
         "showlegend": true,
         "type": "scatter",
         "x": [
          0.08093840969734134
         ],
         "xaxis": "x",
         "y": [
          -0.02189487406204073
         ],
         "yaxis": "y"
        },
        {
         "hovertemplate": "color=streamr-datacoin<br>x=%{x}<br>y=%{y}<extra></extra>",
         "legendgroup": "streamr-datacoin",
         "marker": {
          "color": "#FF6692",
          "symbol": "circle"
         },
         "mode": "markers",
         "name": "streamr-datacoin",
         "orientation": "v",
         "showlegend": true,
         "type": "scatter",
         "x": [
          0.077018632987386
         ],
         "xaxis": "x",
         "y": [
          -0.004486191832594629
         ],
         "yaxis": "y"
        },
        {
         "hovertemplate": "color=pivx<br>x=%{x}<br>y=%{y}<extra></extra>",
         "legendgroup": "pivx",
         "marker": {
          "color": "#B6E880",
          "symbol": "circle"
         },
         "mode": "markers",
         "name": "pivx",
         "orientation": "v",
         "showlegend": true,
         "type": "scatter",
         "x": [
          0.0814458739531465
         ],
         "xaxis": "x",
         "y": [
          -0.0066937348278762136
         ],
         "yaxis": "y"
        },
        {
         "hovertemplate": "color=neblio<br>x=%{x}<br>y=%{y}<extra></extra>",
         "legendgroup": "neblio",
         "marker": {
          "color": "#FF97FF",
          "symbol": "circle"
         },
         "mode": "markers",
         "name": "neblio",
         "orientation": "v",
         "showlegend": true,
         "type": "scatter",
         "x": [
          0.06559024084001867
         ],
         "xaxis": "x",
         "y": [
          -0.005012519679842439
         ],
         "yaxis": "y"
        }
       ],
       "layout": {
        "legend": {
         "title": {
          "text": "color"
         },
         "tracegroupgap": 0
        },
        "template": {
         "data": {
          "bar": [
           {
            "error_x": {
             "color": "#2a3f5f"
            },
            "error_y": {
             "color": "#2a3f5f"
            },
            "marker": {
             "line": {
              "color": "#E5ECF6",
              "width": 0.5
             },
             "pattern": {
              "fillmode": "overlay",
              "size": 10,
              "solidity": 0.2
             }
            },
            "type": "bar"
           }
          ],
          "barpolar": [
           {
            "marker": {
             "line": {
              "color": "#E5ECF6",
              "width": 0.5
             },
             "pattern": {
              "fillmode": "overlay",
              "size": 10,
              "solidity": 0.2
             }
            },
            "type": "barpolar"
           }
          ],
          "carpet": [
           {
            "aaxis": {
             "endlinecolor": "#2a3f5f",
             "gridcolor": "white",
             "linecolor": "white",
             "minorgridcolor": "white",
             "startlinecolor": "#2a3f5f"
            },
            "baxis": {
             "endlinecolor": "#2a3f5f",
             "gridcolor": "white",
             "linecolor": "white",
             "minorgridcolor": "white",
             "startlinecolor": "#2a3f5f"
            },
            "type": "carpet"
           }
          ],
          "choropleth": [
           {
            "colorbar": {
             "outlinewidth": 0,
             "ticks": ""
            },
            "type": "choropleth"
           }
          ],
          "contour": [
           {
            "colorbar": {
             "outlinewidth": 0,
             "ticks": ""
            },
            "colorscale": [
             [
              0,
              "#0d0887"
             ],
             [
              0.1111111111111111,
              "#46039f"
             ],
             [
              0.2222222222222222,
              "#7201a8"
             ],
             [
              0.3333333333333333,
              "#9c179e"
             ],
             [
              0.4444444444444444,
              "#bd3786"
             ],
             [
              0.5555555555555556,
              "#d8576b"
             ],
             [
              0.6666666666666666,
              "#ed7953"
             ],
             [
              0.7777777777777778,
              "#fb9f3a"
             ],
             [
              0.8888888888888888,
              "#fdca26"
             ],
             [
              1,
              "#f0f921"
             ]
            ],
            "type": "contour"
           }
          ],
          "contourcarpet": [
           {
            "colorbar": {
             "outlinewidth": 0,
             "ticks": ""
            },
            "type": "contourcarpet"
           }
          ],
          "heatmap": [
           {
            "colorbar": {
             "outlinewidth": 0,
             "ticks": ""
            },
            "colorscale": [
             [
              0,
              "#0d0887"
             ],
             [
              0.1111111111111111,
              "#46039f"
             ],
             [
              0.2222222222222222,
              "#7201a8"
             ],
             [
              0.3333333333333333,
              "#9c179e"
             ],
             [
              0.4444444444444444,
              "#bd3786"
             ],
             [
              0.5555555555555556,
              "#d8576b"
             ],
             [
              0.6666666666666666,
              "#ed7953"
             ],
             [
              0.7777777777777778,
              "#fb9f3a"
             ],
             [
              0.8888888888888888,
              "#fdca26"
             ],
             [
              1,
              "#f0f921"
             ]
            ],
            "type": "heatmap"
           }
          ],
          "heatmapgl": [
           {
            "colorbar": {
             "outlinewidth": 0,
             "ticks": ""
            },
            "colorscale": [
             [
              0,
              "#0d0887"
             ],
             [
              0.1111111111111111,
              "#46039f"
             ],
             [
              0.2222222222222222,
              "#7201a8"
             ],
             [
              0.3333333333333333,
              "#9c179e"
             ],
             [
              0.4444444444444444,
              "#bd3786"
             ],
             [
              0.5555555555555556,
              "#d8576b"
             ],
             [
              0.6666666666666666,
              "#ed7953"
             ],
             [
              0.7777777777777778,
              "#fb9f3a"
             ],
             [
              0.8888888888888888,
              "#fdca26"
             ],
             [
              1,
              "#f0f921"
             ]
            ],
            "type": "heatmapgl"
           }
          ],
          "histogram": [
           {
            "marker": {
             "pattern": {
              "fillmode": "overlay",
              "size": 10,
              "solidity": 0.2
             }
            },
            "type": "histogram"
           }
          ],
          "histogram2d": [
           {
            "colorbar": {
             "outlinewidth": 0,
             "ticks": ""
            },
            "colorscale": [
             [
              0,
              "#0d0887"
             ],
             [
              0.1111111111111111,
              "#46039f"
             ],
             [
              0.2222222222222222,
              "#7201a8"
             ],
             [
              0.3333333333333333,
              "#9c179e"
             ],
             [
              0.4444444444444444,
              "#bd3786"
             ],
             [
              0.5555555555555556,
              "#d8576b"
             ],
             [
              0.6666666666666666,
              "#ed7953"
             ],
             [
              0.7777777777777778,
              "#fb9f3a"
             ],
             [
              0.8888888888888888,
              "#fdca26"
             ],
             [
              1,
              "#f0f921"
             ]
            ],
            "type": "histogram2d"
           }
          ],
          "histogram2dcontour": [
           {
            "colorbar": {
             "outlinewidth": 0,
             "ticks": ""
            },
            "colorscale": [
             [
              0,
              "#0d0887"
             ],
             [
              0.1111111111111111,
              "#46039f"
             ],
             [
              0.2222222222222222,
              "#7201a8"
             ],
             [
              0.3333333333333333,
              "#9c179e"
             ],
             [
              0.4444444444444444,
              "#bd3786"
             ],
             [
              0.5555555555555556,
              "#d8576b"
             ],
             [
              0.6666666666666666,
              "#ed7953"
             ],
             [
              0.7777777777777778,
              "#fb9f3a"
             ],
             [
              0.8888888888888888,
              "#fdca26"
             ],
             [
              1,
              "#f0f921"
             ]
            ],
            "type": "histogram2dcontour"
           }
          ],
          "mesh3d": [
           {
            "colorbar": {
             "outlinewidth": 0,
             "ticks": ""
            },
            "type": "mesh3d"
           }
          ],
          "parcoords": [
           {
            "line": {
             "colorbar": {
              "outlinewidth": 0,
              "ticks": ""
             }
            },
            "type": "parcoords"
           }
          ],
          "pie": [
           {
            "automargin": true,
            "type": "pie"
           }
          ],
          "scatter": [
           {
            "fillpattern": {
             "fillmode": "overlay",
             "size": 10,
             "solidity": 0.2
            },
            "type": "scatter"
           }
          ],
          "scatter3d": [
           {
            "line": {
             "colorbar": {
              "outlinewidth": 0,
              "ticks": ""
             }
            },
            "marker": {
             "colorbar": {
              "outlinewidth": 0,
              "ticks": ""
             }
            },
            "type": "scatter3d"
           }
          ],
          "scattercarpet": [
           {
            "marker": {
             "colorbar": {
              "outlinewidth": 0,
              "ticks": ""
             }
            },
            "type": "scattercarpet"
           }
          ],
          "scattergeo": [
           {
            "marker": {
             "colorbar": {
              "outlinewidth": 0,
              "ticks": ""
             }
            },
            "type": "scattergeo"
           }
          ],
          "scattergl": [
           {
            "marker": {
             "colorbar": {
              "outlinewidth": 0,
              "ticks": ""
             }
            },
            "type": "scattergl"
           }
          ],
          "scattermapbox": [
           {
            "marker": {
             "colorbar": {
              "outlinewidth": 0,
              "ticks": ""
             }
            },
            "type": "scattermapbox"
           }
          ],
          "scatterpolar": [
           {
            "marker": {
             "colorbar": {
              "outlinewidth": 0,
              "ticks": ""
             }
            },
            "type": "scatterpolar"
           }
          ],
          "scatterpolargl": [
           {
            "marker": {
             "colorbar": {
              "outlinewidth": 0,
              "ticks": ""
             }
            },
            "type": "scatterpolargl"
           }
          ],
          "scatterternary": [
           {
            "marker": {
             "colorbar": {
              "outlinewidth": 0,
              "ticks": ""
             }
            },
            "type": "scatterternary"
           }
          ],
          "surface": [
           {
            "colorbar": {
             "outlinewidth": 0,
             "ticks": ""
            },
            "colorscale": [
             [
              0,
              "#0d0887"
             ],
             [
              0.1111111111111111,
              "#46039f"
             ],
             [
              0.2222222222222222,
              "#7201a8"
             ],
             [
              0.3333333333333333,
              "#9c179e"
             ],
             [
              0.4444444444444444,
              "#bd3786"
             ],
             [
              0.5555555555555556,
              "#d8576b"
             ],
             [
              0.6666666666666666,
              "#ed7953"
             ],
             [
              0.7777777777777778,
              "#fb9f3a"
             ],
             [
              0.8888888888888888,
              "#fdca26"
             ],
             [
              1,
              "#f0f921"
             ]
            ],
            "type": "surface"
           }
          ],
          "table": [
           {
            "cells": {
             "fill": {
              "color": "#EBF0F8"
             },
             "line": {
              "color": "white"
             }
            },
            "header": {
             "fill": {
              "color": "#C8D4E3"
             },
             "line": {
              "color": "white"
             }
            },
            "type": "table"
           }
          ]
         },
         "layout": {
          "annotationdefaults": {
           "arrowcolor": "#2a3f5f",
           "arrowhead": 0,
           "arrowwidth": 1
          },
          "autotypenumbers": "strict",
          "coloraxis": {
           "colorbar": {
            "outlinewidth": 0,
            "ticks": ""
           }
          },
          "colorscale": {
           "diverging": [
            [
             0,
             "#8e0152"
            ],
            [
             0.1,
             "#c51b7d"
            ],
            [
             0.2,
             "#de77ae"
            ],
            [
             0.3,
             "#f1b6da"
            ],
            [
             0.4,
             "#fde0ef"
            ],
            [
             0.5,
             "#f7f7f7"
            ],
            [
             0.6,
             "#e6f5d0"
            ],
            [
             0.7,
             "#b8e186"
            ],
            [
             0.8,
             "#7fbc41"
            ],
            [
             0.9,
             "#4d9221"
            ],
            [
             1,
             "#276419"
            ]
           ],
           "sequential": [
            [
             0,
             "#0d0887"
            ],
            [
             0.1111111111111111,
             "#46039f"
            ],
            [
             0.2222222222222222,
             "#7201a8"
            ],
            [
             0.3333333333333333,
             "#9c179e"
            ],
            [
             0.4444444444444444,
             "#bd3786"
            ],
            [
             0.5555555555555556,
             "#d8576b"
            ],
            [
             0.6666666666666666,
             "#ed7953"
            ],
            [
             0.7777777777777778,
             "#fb9f3a"
            ],
            [
             0.8888888888888888,
             "#fdca26"
            ],
            [
             1,
             "#f0f921"
            ]
           ],
           "sequentialminus": [
            [
             0,
             "#0d0887"
            ],
            [
             0.1111111111111111,
             "#46039f"
            ],
            [
             0.2222222222222222,
             "#7201a8"
            ],
            [
             0.3333333333333333,
             "#9c179e"
            ],
            [
             0.4444444444444444,
             "#bd3786"
            ],
            [
             0.5555555555555556,
             "#d8576b"
            ],
            [
             0.6666666666666666,
             "#ed7953"
            ],
            [
             0.7777777777777778,
             "#fb9f3a"
            ],
            [
             0.8888888888888888,
             "#fdca26"
            ],
            [
             1,
             "#f0f921"
            ]
           ]
          },
          "colorway": [
           "#636efa",
           "#EF553B",
           "#00cc96",
           "#ab63fa",
           "#FFA15A",
           "#19d3f3",
           "#FF6692",
           "#B6E880",
           "#FF97FF",
           "#FECB52"
          ],
          "font": {
           "color": "#2a3f5f"
          },
          "geo": {
           "bgcolor": "white",
           "lakecolor": "white",
           "landcolor": "#E5ECF6",
           "showlakes": true,
           "showland": true,
           "subunitcolor": "white"
          },
          "hoverlabel": {
           "align": "left"
          },
          "hovermode": "closest",
          "mapbox": {
           "style": "light"
          },
          "paper_bgcolor": "white",
          "plot_bgcolor": "#E5ECF6",
          "polar": {
           "angularaxis": {
            "gridcolor": "white",
            "linecolor": "white",
            "ticks": ""
           },
           "bgcolor": "#E5ECF6",
           "radialaxis": {
            "gridcolor": "white",
            "linecolor": "white",
            "ticks": ""
           }
          },
          "scene": {
           "xaxis": {
            "backgroundcolor": "#E5ECF6",
            "gridcolor": "white",
            "gridwidth": 2,
            "linecolor": "white",
            "showbackground": true,
            "ticks": "",
            "zerolinecolor": "white"
           },
           "yaxis": {
            "backgroundcolor": "#E5ECF6",
            "gridcolor": "white",
            "gridwidth": 2,
            "linecolor": "white",
            "showbackground": true,
            "ticks": "",
            "zerolinecolor": "white"
           },
           "zaxis": {
            "backgroundcolor": "#E5ECF6",
            "gridcolor": "white",
            "gridwidth": 2,
            "linecolor": "white",
            "showbackground": true,
            "ticks": "",
            "zerolinecolor": "white"
           }
          },
          "shapedefaults": {
           "line": {
            "color": "#2a3f5f"
           }
          },
          "ternary": {
           "aaxis": {
            "gridcolor": "white",
            "linecolor": "white",
            "ticks": ""
           },
           "baxis": {
            "gridcolor": "white",
            "linecolor": "white",
            "ticks": ""
           },
           "bgcolor": "#E5ECF6",
           "caxis": {
            "gridcolor": "white",
            "linecolor": "white",
            "ticks": ""
           }
          },
          "title": {
           "x": 0.05
          },
          "xaxis": {
           "automargin": true,
           "gridcolor": "white",
           "linecolor": "white",
           "ticks": "",
           "title": {
            "standoff": 15
           },
           "zerolinecolor": "white",
           "zerolinewidth": 2
          },
          "yaxis": {
           "automargin": true,
           "gridcolor": "white",
           "linecolor": "white",
           "ticks": "",
           "title": {
            "standoff": 15
           },
           "zerolinecolor": "white",
           "zerolinewidth": 2
          }
         }
        },
        "title": {
         "text": "Latent Relationships Between Different Crypto Tokens"
        },
        "xaxis": {
         "anchor": "y",
         "domain": [
          0,
          1
         ],
         "title": {
          "text": "x"
         }
        },
        "yaxis": {
         "anchor": "x",
         "domain": [
          0,
          1
         ],
         "title": {
          "text": "y"
         }
        }
       }
      },
      "text/html": [
       "<div>                            <div id=\"1fd6048b-9690-4418-8de5-d0e08994c5f2\" class=\"plotly-graph-div\" style=\"height:525px; width:100%;\"></div>            <script type=\"text/javascript\">                require([\"plotly\"], function(Plotly) {                    window.PLOTLYENV=window.PLOTLYENV || {};                                    if (document.getElementById(\"1fd6048b-9690-4418-8de5-d0e08994c5f2\")) {                    Plotly.newPlot(                        \"1fd6048b-9690-4418-8de5-d0e08994c5f2\",                        [{\"hovertemplate\":\"color=bitcoin<br>x=%{x}<br>y=%{y}<extra></extra>\",\"legendgroup\":\"bitcoin\",\"marker\":{\"color\":\"#636efa\",\"symbol\":\"circle\"},\"mode\":\"markers\",\"name\":\"bitcoin\",\"orientation\":\"v\",\"showlegend\":true,\"x\":[0.10106386517771485],\"xaxis\":\"x\",\"y\":[-0.1020978313718519],\"yaxis\":\"y\",\"type\":\"scatter\"},{\"hovertemplate\":\"color=ethereum<br>x=%{x}<br>y=%{y}<extra></extra>\",\"legendgroup\":\"ethereum\",\"marker\":{\"color\":\"#EF553B\",\"symbol\":\"circle\"},\"mode\":\"markers\",\"name\":\"ethereum\",\"orientation\":\"v\",\"showlegend\":true,\"x\":[0.10588742230314119],\"xaxis\":\"x\",\"y\":[-0.10237301611244627],\"yaxis\":\"y\",\"type\":\"scatter\"},{\"hovertemplate\":\"color=tether<br>x=%{x}<br>y=%{y}<extra></extra>\",\"legendgroup\":\"tether\",\"marker\":{\"color\":\"#00cc96\",\"symbol\":\"circle\"},\"mode\":\"markers\",\"name\":\"tether\",\"orientation\":\"v\",\"showlegend\":true,\"x\":[-0.011560110952445773],\"xaxis\":\"x\",\"y\":[0.1072898447342463],\"yaxis\":\"y\",\"type\":\"scatter\"},{\"hovertemplate\":\"color=binance-coin<br>x=%{x}<br>y=%{y}<extra></extra>\",\"legendgroup\":\"binance-coin\",\"marker\":{\"color\":\"#ab63fa\",\"symbol\":\"circle\"},\"mode\":\"markers\",\"name\":\"binance-coin\",\"orientation\":\"v\",\"showlegend\":true,\"x\":[0.09743784380569229],\"xaxis\":\"x\",\"y\":[-0.06197432149420801],\"yaxis\":\"y\",\"type\":\"scatter\"},{\"hovertemplate\":\"color=usd-coin<br>x=%{x}<br>y=%{y}<extra></extra>\",\"legendgroup\":\"usd-coin\",\"marker\":{\"color\":\"#FFA15A\",\"symbol\":\"circle\"},\"mode\":\"markers\",\"name\":\"usd-coin\",\"orientation\":\"v\",\"showlegend\":true,\"x\":[-0.019040220691337626],\"xaxis\":\"x\",\"y\":[0.12022514444823793],\"yaxis\":\"y\",\"type\":\"scatter\"},{\"hovertemplate\":\"color=ripple<br>x=%{x}<br>y=%{y}<extra></extra>\",\"legendgroup\":\"ripple\",\"marker\":{\"color\":\"#19d3f3\",\"symbol\":\"circle\"},\"mode\":\"markers\",\"name\":\"ripple\",\"orientation\":\"v\",\"showlegend\":true,\"x\":[0.08743947608789832],\"xaxis\":\"x\",\"y\":[-0.06549359909803994],\"yaxis\":\"y\",\"type\":\"scatter\"},{\"hovertemplate\":\"color=okb<br>x=%{x}<br>y=%{y}<extra></extra>\",\"legendgroup\":\"okb\",\"marker\":{\"color\":\"#FF6692\",\"symbol\":\"circle\"},\"mode\":\"markers\",\"name\":\"okb\",\"orientation\":\"v\",\"showlegend\":true,\"x\":[0.07495418154060725],\"xaxis\":\"x\",\"y\":[-0.03417231139450211],\"yaxis\":\"y\",\"type\":\"scatter\"},{\"hovertemplate\":\"color=cardano<br>x=%{x}<br>y=%{y}<extra></extra>\",\"legendgroup\":\"cardano\",\"marker\":{\"color\":\"#B6E880\",\"symbol\":\"circle\"},\"mode\":\"markers\",\"name\":\"cardano\",\"orientation\":\"v\",\"showlegend\":true,\"x\":[0.09674286833676908],\"xaxis\":\"x\",\"y\":[-0.07654720621741504],\"yaxis\":\"y\",\"type\":\"scatter\"},{\"hovertemplate\":\"color=dogecoin<br>x=%{x}<br>y=%{y}<extra></extra>\",\"legendgroup\":\"dogecoin\",\"marker\":{\"color\":\"#FF97FF\",\"symbol\":\"circle\"},\"mode\":\"markers\",\"name\":\"dogecoin\",\"orientation\":\"v\",\"showlegend\":true,\"x\":[0.0580430569749639],\"xaxis\":\"x\",\"y\":[-0.0563858413987183],\"yaxis\":\"y\",\"type\":\"scatter\"},{\"hovertemplate\":\"color=matic-network<br>x=%{x}<br>y=%{y}<extra></extra>\",\"legendgroup\":\"matic-network\",\"marker\":{\"color\":\"#FECB52\",\"symbol\":\"circle\"},\"mode\":\"markers\",\"name\":\"matic-network\",\"orientation\":\"v\",\"showlegend\":true,\"x\":[0.08567336462741054],\"xaxis\":\"x\",\"y\":[-0.040805704071367896],\"yaxis\":\"y\",\"type\":\"scatter\"},{\"hovertemplate\":\"color=litecoin<br>x=%{x}<br>y=%{y}<extra></extra>\",\"legendgroup\":\"litecoin\",\"marker\":{\"color\":\"#636efa\",\"symbol\":\"circle\"},\"mode\":\"markers\",\"name\":\"litecoin\",\"orientation\":\"v\",\"showlegend\":true,\"x\":[0.10298433551174983],\"xaxis\":\"x\",\"y\":[-0.10688436765449352],\"yaxis\":\"y\",\"type\":\"scatter\"},{\"hovertemplate\":\"color=tron<br>x=%{x}<br>y=%{y}<extra></extra>\",\"legendgroup\":\"tron\",\"marker\":{\"color\":\"#EF553B\",\"symbol\":\"circle\"},\"mode\":\"markers\",\"name\":\"tron\",\"orientation\":\"v\",\"showlegend\":true,\"x\":[0.09434596357987285],\"xaxis\":\"x\",\"y\":[-0.04883241053878224],\"yaxis\":\"y\",\"type\":\"scatter\"},{\"hovertemplate\":\"color=wrapped-bitcoin<br>x=%{x}<br>y=%{y}<extra></extra>\",\"legendgroup\":\"wrapped-bitcoin\",\"marker\":{\"color\":\"#00cc96\",\"symbol\":\"circle\"},\"mode\":\"markers\",\"name\":\"wrapped-bitcoin\",\"orientation\":\"v\",\"showlegend\":true,\"x\":[0.09490909644770845],\"xaxis\":\"x\",\"y\":[-0.08873784937168222],\"yaxis\":\"y\",\"type\":\"scatter\"},{\"hovertemplate\":\"color=dai<br>x=%{x}<br>y=%{y}<extra></extra>\",\"legendgroup\":\"dai\",\"marker\":{\"color\":\"#ab63fa\",\"symbol\":\"circle\"},\"mode\":\"markers\",\"name\":\"dai\",\"orientation\":\"v\",\"showlegend\":true,\"x\":[-0.020700407665730832],\"xaxis\":\"x\",\"y\":[0.08795503966389523],\"yaxis\":\"y\",\"type\":\"scatter\"},{\"hovertemplate\":\"color=phx<br>x=%{x}<br>y=%{y}<extra></extra>\",\"legendgroup\":\"phx\",\"marker\":{\"color\":\"#FFA15A\",\"symbol\":\"circle\"},\"mode\":\"markers\",\"name\":\"phx\",\"orientation\":\"v\",\"showlegend\":true,\"x\":[0.03251490100240578],\"xaxis\":\"x\",\"y\":[0.018237142157476623],\"yaxis\":\"y\",\"type\":\"scatter\"},{\"hovertemplate\":\"color=cosmos<br>x=%{x}<br>y=%{y}<extra></extra>\",\"legendgroup\":\"cosmos\",\"marker\":{\"color\":\"#19d3f3\",\"symbol\":\"circle\"},\"mode\":\"markers\",\"name\":\"cosmos\",\"orientation\":\"v\",\"showlegend\":true,\"x\":[0.08957275446929738],\"xaxis\":\"x\",\"y\":[-0.05208711654756836],\"yaxis\":\"y\",\"type\":\"scatter\"},{\"hovertemplate\":\"color=chainlink<br>x=%{x}<br>y=%{y}<extra></extra>\",\"legendgroup\":\"chainlink\",\"marker\":{\"color\":\"#FF6692\",\"symbol\":\"circle\"},\"mode\":\"markers\",\"name\":\"chainlink\",\"orientation\":\"v\",\"showlegend\":true,\"x\":[0.09361446358402387],\"xaxis\":\"x\",\"y\":[-0.08728503760701949],\"yaxis\":\"y\",\"type\":\"scatter\"},{\"hovertemplate\":\"color=unus-sed-leo<br>x=%{x}<br>y=%{y}<extra></extra>\",\"legendgroup\":\"unus-sed-leo\",\"marker\":{\"color\":\"#B6E880\",\"symbol\":\"circle\"},\"mode\":\"markers\",\"name\":\"unus-sed-leo\",\"orientation\":\"v\",\"showlegend\":true,\"x\":[0.014763008220714224],\"xaxis\":\"x\",\"y\":[-0.06312025045222963],\"yaxis\":\"y\",\"type\":\"scatter\"},{\"hovertemplate\":\"color=ethereum-classic<br>x=%{x}<br>y=%{y}<extra></extra>\",\"legendgroup\":\"ethereum-classic\",\"marker\":{\"color\":\"#FF97FF\",\"symbol\":\"circle\"},\"mode\":\"markers\",\"name\":\"ethereum-classic\",\"orientation\":\"v\",\"showlegend\":true,\"x\":[0.0921195723790426],\"xaxis\":\"x\",\"y\":[-0.10251860999813903],\"yaxis\":\"y\",\"type\":\"scatter\"},{\"hovertemplate\":\"color=monero<br>x=%{x}<br>y=%{y}<extra></extra>\",\"legendgroup\":\"monero\",\"marker\":{\"color\":\"#FECB52\",\"symbol\":\"circle\"},\"mode\":\"markers\",\"name\":\"monero\",\"orientation\":\"v\",\"showlegend\":true,\"x\":[0.093085288124317],\"xaxis\":\"x\",\"y\":[-0.0775634435356573],\"yaxis\":\"y\",\"type\":\"scatter\"},{\"hovertemplate\":\"color=bitcoin-cash<br>x=%{x}<br>y=%{y}<extra></extra>\",\"legendgroup\":\"bitcoin-cash\",\"marker\":{\"color\":\"#636efa\",\"symbol\":\"circle\"},\"mode\":\"markers\",\"name\":\"bitcoin-cash\",\"orientation\":\"v\",\"showlegend\":true,\"x\":[0.10150748390257336],\"xaxis\":\"x\",\"y\":[-0.12073656724920521],\"yaxis\":\"y\",\"type\":\"scatter\"},{\"hovertemplate\":\"color=stellar<br>x=%{x}<br>y=%{y}<extra></extra>\",\"legendgroup\":\"stellar\",\"marker\":{\"color\":\"#EF553B\",\"symbol\":\"circle\"},\"mode\":\"markers\",\"name\":\"stellar\",\"orientation\":\"v\",\"showlegend\":true,\"x\":[0.09479455448748568],\"xaxis\":\"x\",\"y\":[-0.07337708749539265],\"yaxis\":\"y\",\"type\":\"scatter\"},{\"hovertemplate\":\"color=qnt<br>x=%{x}<br>y=%{y}<extra></extra>\",\"legendgroup\":\"qnt\",\"marker\":{\"color\":\"#00cc96\",\"symbol\":\"circle\"},\"mode\":\"markers\",\"name\":\"qnt\",\"orientation\":\"v\",\"showlegend\":true,\"x\":[0.06545193609240249],\"xaxis\":\"x\",\"y\":[-0.06370163567960763],\"yaxis\":\"y\",\"type\":\"scatter\"},{\"hovertemplate\":\"color=cro<br>x=%{x}<br>y=%{y}<extra></extra>\",\"legendgroup\":\"cro\",\"marker\":{\"color\":\"#ab63fa\",\"symbol\":\"circle\"},\"mode\":\"markers\",\"name\":\"cro\",\"orientation\":\"v\",\"showlegend\":true,\"x\":[0.0857033016821491],\"xaxis\":\"x\",\"y\":[-0.008895906967867274],\"yaxis\":\"y\",\"type\":\"scatter\"},{\"hovertemplate\":\"color=vet<br>x=%{x}<br>y=%{y}<extra></extra>\",\"legendgroup\":\"vet\",\"marker\":{\"color\":\"#FFA15A\",\"symbol\":\"circle\"},\"mode\":\"markers\",\"name\":\"vet\",\"orientation\":\"v\",\"showlegend\":true,\"x\":[0.09908499305926273],\"xaxis\":\"x\",\"y\":[-0.04962383015662542],\"yaxis\":\"y\",\"type\":\"scatter\"},{\"hovertemplate\":\"color=dfn<br>x=%{x}<br>y=%{y}<extra></extra>\",\"legendgroup\":\"dfn\",\"marker\":{\"color\":\"#19d3f3\",\"symbol\":\"circle\"},\"mode\":\"markers\",\"name\":\"dfn\",\"orientation\":\"v\",\"showlegend\":true,\"x\":[0.054110266961355735],\"xaxis\":\"x\",\"y\":[-0.018291529907507063],\"yaxis\":\"y\",\"type\":\"scatter\"},{\"hovertemplate\":\"color=eos<br>x=%{x}<br>y=%{y}<extra></extra>\",\"legendgroup\":\"eos\",\"marker\":{\"color\":\"#FF6692\",\"symbol\":\"circle\"},\"mode\":\"markers\",\"name\":\"eos\",\"orientation\":\"v\",\"showlegend\":true,\"x\":[0.10090525259376706],\"xaxis\":\"x\",\"y\":[-0.0861455152096351],\"yaxis\":\"y\",\"type\":\"scatter\"},{\"hovertemplate\":\"color=decentraland<br>x=%{x}<br>y=%{y}<extra></extra>\",\"legendgroup\":\"decentraland\",\"marker\":{\"color\":\"#B6E880\",\"symbol\":\"circle\"},\"mode\":\"markers\",\"name\":\"decentraland\",\"orientation\":\"v\",\"showlegend\":true,\"x\":[0.08000302257980416],\"xaxis\":\"x\",\"y\":[0.05279362955442362],\"yaxis\":\"y\",\"type\":\"scatter\"},{\"hovertemplate\":\"color=fantom<br>x=%{x}<br>y=%{y}<extra></extra>\",\"legendgroup\":\"fantom\",\"marker\":{\"color\":\"#FF97FF\",\"symbol\":\"circle\"},\"mode\":\"markers\",\"name\":\"fantom\",\"orientation\":\"v\",\"showlegend\":true,\"x\":[0.0831314445337622],\"xaxis\":\"x\",\"y\":[-0.02568794536405824],\"yaxis\":\"y\",\"type\":\"scatter\"},{\"hovertemplate\":\"color=tezos<br>x=%{x}<br>y=%{y}<extra></extra>\",\"legendgroup\":\"tezos\",\"marker\":{\"color\":\"#FECB52\",\"symbol\":\"circle\"},\"mode\":\"markers\",\"name\":\"tezos\",\"orientation\":\"v\",\"showlegend\":true,\"x\":[0.0966014242761485],\"xaxis\":\"x\",\"y\":[-0.05117504126757266],\"yaxis\":\"y\",\"type\":\"scatter\"},{\"hovertemplate\":\"color=theta-token<br>x=%{x}<br>y=%{y}<extra></extra>\",\"legendgroup\":\"theta-token\",\"marker\":{\"color\":\"#636efa\",\"symbol\":\"circle\"},\"mode\":\"markers\",\"name\":\"theta-token\",\"orientation\":\"v\",\"showlegend\":true,\"x\":[0.08647286001125054],\"xaxis\":\"x\",\"y\":[0.0020982215769495753],\"yaxis\":\"y\",\"type\":\"scatter\"},{\"hovertemplate\":\"color=blockstack<br>x=%{x}<br>y=%{y}<extra></extra>\",\"legendgroup\":\"blockstack\",\"marker\":{\"color\":\"#EF553B\",\"symbol\":\"circle\"},\"mode\":\"markers\",\"name\":\"blockstack\",\"orientation\":\"v\",\"showlegend\":true,\"x\":[0.06445549463608206],\"xaxis\":\"x\",\"y\":[-0.017834151265577265],\"yaxis\":\"y\",\"type\":\"scatter\"},{\"hovertemplate\":\"color=maker<br>x=%{x}<br>y=%{y}<extra></extra>\",\"legendgroup\":\"maker\",\"marker\":{\"color\":\"#00cc96\",\"symbol\":\"circle\"},\"mode\":\"markers\",\"name\":\"maker\",\"orientation\":\"v\",\"showlegend\":true,\"x\":[0.08646980975970113],\"xaxis\":\"x\",\"y\":[-0.088512900316449],\"yaxis\":\"y\",\"type\":\"scatter\"},{\"hovertemplate\":\"color=neo<br>x=%{x}<br>y=%{y}<extra></extra>\",\"legendgroup\":\"neo\",\"marker\":{\"color\":\"#ab63fa\",\"symbol\":\"circle\"},\"mode\":\"markers\",\"name\":\"neo\",\"orientation\":\"v\",\"showlegend\":true,\"x\":[0.10153107017538025],\"xaxis\":\"x\",\"y\":[-0.06688873941017895],\"yaxis\":\"y\",\"type\":\"scatter\"},{\"hovertemplate\":\"color=kucoin-shares<br>x=%{x}<br>y=%{y}<extra></extra>\",\"legendgroup\":\"kucoin-shares\",\"marker\":{\"color\":\"#FFA15A\",\"symbol\":\"circle\"},\"mode\":\"markers\",\"name\":\"kucoin-shares\",\"orientation\":\"v\",\"showlegend\":true,\"x\":[0.08083181466430914],\"xaxis\":\"x\",\"y\":[-0.04296072933846393],\"yaxis\":\"y\",\"type\":\"scatter\"},{\"hovertemplate\":\"color=huobi-token<br>x=%{x}<br>y=%{y}<extra></extra>\",\"legendgroup\":\"huobi-token\",\"marker\":{\"color\":\"#19d3f3\",\"symbol\":\"circle\"},\"mode\":\"markers\",\"name\":\"huobi-token\",\"orientation\":\"v\",\"showlegend\":true,\"x\":[0.07781873166835579],\"xaxis\":\"x\",\"y\":[-0.037305286403646575],\"yaxis\":\"y\",\"type\":\"scatter\"},{\"hovertemplate\":\"color=havven<br>x=%{x}<br>y=%{y}<extra></extra>\",\"legendgroup\":\"havven\",\"marker\":{\"color\":\"#FF6692\",\"symbol\":\"circle\"},\"mode\":\"markers\",\"name\":\"havven\",\"orientation\":\"v\",\"showlegend\":true,\"x\":[0.07892351501386632],\"xaxis\":\"x\",\"y\":[-0.03982483374347926],\"yaxis\":\"y\",\"type\":\"scatter\"},{\"hovertemplate\":\"color=trueusd<br>x=%{x}<br>y=%{y}<extra></extra>\",\"legendgroup\":\"trueusd\",\"marker\":{\"color\":\"#B6E880\",\"symbol\":\"circle\"},\"mode\":\"markers\",\"name\":\"trueusd\",\"orientation\":\"v\",\"showlegend\":true,\"x\":[-0.01166839991383734],\"xaxis\":\"x\",\"y\":[0.11535218067711302],\"yaxis\":\"y\",\"type\":\"scatter\"},{\"hovertemplate\":\"color=bitcoin-cash-sv<br>x=%{x}<br>y=%{y}<extra></extra>\",\"legendgroup\":\"bitcoin-cash-sv\",\"marker\":{\"color\":\"#FF97FF\",\"symbol\":\"circle\"},\"mode\":\"markers\",\"name\":\"bitcoin-cash-sv\",\"orientation\":\"v\",\"showlegend\":true,\"x\":[0.08309881334977365],\"xaxis\":\"x\",\"y\":[-0.09488544677064241],\"yaxis\":\"y\",\"type\":\"scatter\"},{\"hovertemplate\":\"color=dash<br>x=%{x}<br>y=%{y}<extra></extra>\",\"legendgroup\":\"dash\",\"marker\":{\"color\":\"#FECB52\",\"symbol\":\"circle\"},\"mode\":\"markers\",\"name\":\"dash\",\"orientation\":\"v\",\"showlegend\":true,\"x\":[0.09482653593672859],\"xaxis\":\"x\",\"y\":[-0.08188145437292073],\"yaxis\":\"y\",\"type\":\"scatter\"},{\"hovertemplate\":\"color=gatechain<br>x=%{x}<br>y=%{y}<extra></extra>\",\"legendgroup\":\"gatechain\",\"marker\":{\"color\":\"#636efa\",\"symbol\":\"circle\"},\"mode\":\"markers\",\"name\":\"gatechain\",\"orientation\":\"v\",\"showlegend\":true,\"x\":[0.07866386777307724],\"xaxis\":\"x\",\"y\":[-0.047953824184436784],\"yaxis\":\"y\",\"type\":\"scatter\"},{\"hovertemplate\":\"color=gusd<br>x=%{x}<br>y=%{y}<extra></extra>\",\"legendgroup\":\"gusd\",\"marker\":{\"color\":\"#EF553B\",\"symbol\":\"circle\"},\"mode\":\"markers\",\"name\":\"gusd\",\"orientation\":\"v\",\"showlegend\":true,\"x\":[0.008733284874487362],\"xaxis\":\"x\",\"y\":[0.02033358718416649],\"yaxis\":\"y\",\"type\":\"scatter\"},{\"hovertemplate\":\"color=moonx<br>x=%{x}<br>y=%{y}<extra></extra>\",\"legendgroup\":\"moonx\",\"marker\":{\"color\":\"#00cc96\",\"symbol\":\"circle\"},\"mode\":\"markers\",\"name\":\"moonx\",\"orientation\":\"v\",\"showlegend\":true,\"x\":[0.0030806442754676587],\"xaxis\":\"x\",\"y\":[0.012572295310597763],\"yaxis\":\"y\",\"type\":\"scatter\"},{\"hovertemplate\":\"color=cotrader<br>x=%{x}<br>y=%{y}<extra></extra>\",\"legendgroup\":\"cotrader\",\"marker\":{\"color\":\"#ab63fa\",\"symbol\":\"circle\"},\"mode\":\"markers\",\"name\":\"cotrader\",\"orientation\":\"v\",\"showlegend\":true,\"x\":[0.007551723421131277],\"xaxis\":\"x\",\"y\":[0.0013416576024036049],\"yaxis\":\"y\",\"type\":\"scatter\"},{\"hovertemplate\":\"color=zcash<br>x=%{x}<br>y=%{y}<extra></extra>\",\"legendgroup\":\"zcash\",\"marker\":{\"color\":\"#FFA15A\",\"symbol\":\"circle\"},\"mode\":\"markers\",\"name\":\"zcash\",\"orientation\":\"v\",\"showlegend\":true,\"x\":[0.09431184775356882],\"xaxis\":\"x\",\"y\":[-0.09194703106696528],\"yaxis\":\"y\",\"type\":\"scatter\"},{\"hovertemplate\":\"color=enjin-coin<br>x=%{x}<br>y=%{y}<extra></extra>\",\"legendgroup\":\"enjin-coin\",\"marker\":{\"color\":\"#19d3f3\",\"symbol\":\"circle\"},\"mode\":\"markers\",\"name\":\"enjin-coin\",\"orientation\":\"v\",\"showlegend\":true,\"x\":[0.09035601791121364],\"xaxis\":\"x\",\"y\":[0.02329859307428448],\"yaxis\":\"y\",\"type\":\"scatter\"},{\"hovertemplate\":\"color=zilliqa<br>x=%{x}<br>y=%{y}<extra></extra>\",\"legendgroup\":\"zilliqa\",\"marker\":{\"color\":\"#FF6692\",\"symbol\":\"circle\"},\"mode\":\"markers\",\"name\":\"zilliqa\",\"orientation\":\"v\",\"showlegend\":true,\"x\":[0.09058324710809698],\"xaxis\":\"x\",\"y\":[0.0079542664739153],\"yaxis\":\"y\",\"type\":\"scatter\"},{\"hovertemplate\":\"color=loopring<br>x=%{x}<br>y=%{y}<extra></extra>\",\"legendgroup\":\"loopring\",\"marker\":{\"color\":\"#B6E880\",\"symbol\":\"circle\"},\"mode\":\"markers\",\"name\":\"loopring\",\"orientation\":\"v\",\"showlegend\":true,\"x\":[0.08236662210942618],\"xaxis\":\"x\",\"y\":[-0.037148960505519],\"yaxis\":\"y\",\"type\":\"scatter\"},{\"hovertemplate\":\"color=xinfin-network<br>x=%{x}<br>y=%{y}<extra></extra>\",\"legendgroup\":\"xinfin-network\",\"marker\":{\"color\":\"#FF97FF\",\"symbol\":\"circle\"},\"mode\":\"markers\",\"name\":\"xinfin-network\",\"orientation\":\"v\",\"showlegend\":true,\"x\":[0.05977517921111833],\"xaxis\":\"x\",\"y\":[-0.047514444163080344],\"yaxis\":\"y\",\"type\":\"scatter\"},{\"hovertemplate\":\"color=basic-attention-token<br>x=%{x}<br>y=%{y}<extra></extra>\",\"legendgroup\":\"basic-attention-token\",\"marker\":{\"color\":\"#FECB52\",\"symbol\":\"circle\"},\"mode\":\"markers\",\"name\":\"basic-attention-token\",\"orientation\":\"v\",\"showlegend\":true,\"x\":[0.097464381069662],\"xaxis\":\"x\",\"y\":[-0.011924828858688228],\"yaxis\":\"y\",\"type\":\"scatter\"},{\"hovertemplate\":\"color=nem<br>x=%{x}<br>y=%{y}<extra></extra>\",\"legendgroup\":\"nem\",\"marker\":{\"color\":\"#636efa\",\"symbol\":\"circle\"},\"mode\":\"markers\",\"name\":\"nem\",\"orientation\":\"v\",\"showlegend\":true,\"x\":[0.08819267724573232],\"xaxis\":\"x\",\"y\":[0.0011213281698022055],\"yaxis\":\"y\",\"type\":\"scatter\"},{\"hovertemplate\":\"color=nexo<br>x=%{x}<br>y=%{y}<extra></extra>\",\"legendgroup\":\"nexo\",\"marker\":{\"color\":\"#EF553B\",\"symbol\":\"circle\"},\"mode\":\"markers\",\"name\":\"nexo\",\"orientation\":\"v\",\"showlegend\":true,\"x\":[0.08622497191086496],\"xaxis\":\"x\",\"y\":[-0.05955070507693551],\"yaxis\":\"y\",\"type\":\"scatter\"},{\"hovertemplate\":\"color=holo<br>x=%{x}<br>y=%{y}<extra></extra>\",\"legendgroup\":\"holo\",\"marker\":{\"color\":\"#00cc96\",\"symbol\":\"circle\"},\"mode\":\"markers\",\"name\":\"holo\",\"orientation\":\"v\",\"showlegend\":true,\"x\":[0.08494033405379957],\"xaxis\":\"x\",\"y\":[-0.004897458434519546],\"yaxis\":\"y\",\"type\":\"scatter\"},{\"hovertemplate\":\"color=decred<br>x=%{x}<br>y=%{y}<extra></extra>\",\"legendgroup\":\"decred\",\"marker\":{\"color\":\"#ab63fa\",\"symbol\":\"circle\"},\"mode\":\"markers\",\"name\":\"decred\",\"orientation\":\"v\",\"showlegend\":true,\"x\":[0.05966237044139895],\"xaxis\":\"x\",\"y\":[-0.004913427716457913],\"yaxis\":\"y\",\"type\":\"scatter\"},{\"hovertemplate\":\"color=thetafuel<br>x=%{x}<br>y=%{y}<extra></extra>\",\"legendgroup\":\"thetafuel\",\"marker\":{\"color\":\"#FFA15A\",\"symbol\":\"circle\"},\"mode\":\"markers\",\"name\":\"thetafuel\",\"orientation\":\"v\",\"showlegend\":true,\"x\":[0.07123503605729757],\"xaxis\":\"x\",\"y\":[0.05955512497335743],\"yaxis\":\"y\",\"type\":\"scatter\"},{\"hovertemplate\":\"color=qtum<br>x=%{x}<br>y=%{y}<extra></extra>\",\"legendgroup\":\"qtum\",\"marker\":{\"color\":\"#19d3f3\",\"symbol\":\"circle\"},\"mode\":\"markers\",\"name\":\"qtum\",\"orientation\":\"v\",\"showlegend\":true,\"x\":[0.09960505497055154],\"xaxis\":\"x\",\"y\":[-0.06103340015069175],\"yaxis\":\"y\",\"type\":\"scatter\"},{\"hovertemplate\":\"color=ravencoin<br>x=%{x}<br>y=%{y}<extra></extra>\",\"legendgroup\":\"ravencoin\",\"marker\":{\"color\":\"#FF6692\",\"symbol\":\"circle\"},\"mode\":\"markers\",\"name\":\"ravencoin\",\"orientation\":\"v\",\"showlegend\":true,\"x\":[0.09090121885438444],\"xaxis\":\"x\",\"y\":[-0.022654091930831146],\"yaxis\":\"y\",\"type\":\"scatter\"},{\"hovertemplate\":\"color=bitcoin-gold<br>x=%{x}<br>y=%{y}<extra></extra>\",\"legendgroup\":\"bitcoin-gold\",\"marker\":{\"color\":\"#B6E880\",\"symbol\":\"circle\"},\"mode\":\"markers\",\"name\":\"bitcoin-gold\",\"orientation\":\"v\",\"showlegend\":true,\"x\":[0.08193084884465456],\"xaxis\":\"x\",\"y\":[-0.07745547040604052],\"yaxis\":\"y\",\"type\":\"scatter\"},{\"hovertemplate\":\"color=fetch-ai<br>x=%{x}<br>y=%{y}<extra></extra>\",\"legendgroup\":\"fetch-ai\",\"marker\":{\"color\":\"#FF97FF\",\"symbol\":\"circle\"},\"mode\":\"markers\",\"name\":\"fetch-ai\",\"orientation\":\"v\",\"showlegend\":true,\"x\":[0.08533861415663499],\"xaxis\":\"x\",\"y\":[0.0023743209208886475],\"yaxis\":\"y\",\"type\":\"scatter\"},{\"hovertemplate\":\"color=ankr-network<br>x=%{x}<br>y=%{y}<extra></extra>\",\"legendgroup\":\"ankr-network\",\"marker\":{\"color\":\"#FECB52\",\"symbol\":\"circle\"},\"mode\":\"markers\",\"name\":\"ankr-network\",\"orientation\":\"v\",\"showlegend\":true,\"x\":[0.08089925072256277],\"xaxis\":\"x\",\"y\":[0.08792565899652227],\"yaxis\":\"y\",\"type\":\"scatter\"},{\"hovertemplate\":\"color=blox<br>x=%{x}<br>y=%{y}<extra></extra>\",\"legendgroup\":\"blox\",\"marker\":{\"color\":\"#636efa\",\"symbol\":\"circle\"},\"mode\":\"markers\",\"name\":\"blox\",\"orientation\":\"v\",\"showlegend\":true,\"x\":[0.045671627499590105],\"xaxis\":\"x\",\"y\":[-0.011881903213580354],\"yaxis\":\"y\",\"type\":\"scatter\"},{\"hovertemplate\":\"color=gnosis-gno<br>x=%{x}<br>y=%{y}<extra></extra>\",\"legendgroup\":\"gnosis-gno\",\"marker\":{\"color\":\"#EF553B\",\"symbol\":\"circle\"},\"mode\":\"markers\",\"name\":\"gnosis-gno\",\"orientation\":\"v\",\"showlegend\":true,\"x\":[0.08590005903994873],\"xaxis\":\"x\",\"y\":[-0.07252255012948859],\"yaxis\":\"y\",\"type\":\"scatter\"},{\"hovertemplate\":\"color=iostoken<br>x=%{x}<br>y=%{y}<extra></extra>\",\"legendgroup\":\"iostoken\",\"marker\":{\"color\":\"#00cc96\",\"symbol\":\"circle\"},\"mode\":\"markers\",\"name\":\"iostoken\",\"orientation\":\"v\",\"showlegend\":true,\"x\":[0.08980222917219804],\"xaxis\":\"x\",\"y\":[0.006016415118252794],\"yaxis\":\"y\",\"type\":\"scatter\"},{\"hovertemplate\":\"color=golem-network-tokens<br>x=%{x}<br>y=%{y}<extra></extra>\",\"legendgroup\":\"golem-network-tokens\",\"marker\":{\"color\":\"#ab63fa\",\"symbol\":\"circle\"},\"mode\":\"markers\",\"name\":\"golem-network-tokens\",\"orientation\":\"v\",\"showlegend\":true,\"x\":[0.07869304450419053],\"xaxis\":\"x\",\"y\":[0.12939918431115477],\"yaxis\":\"y\",\"type\":\"scatter\"},{\"hovertemplate\":\"color=iotex<br>x=%{x}<br>y=%{y}<extra></extra>\",\"legendgroup\":\"iotex\",\"marker\":{\"color\":\"#FFA15A\",\"symbol\":\"circle\"},\"mode\":\"markers\",\"name\":\"iotex\",\"orientation\":\"v\",\"showlegend\":true,\"x\":[0.07418162442830316],\"xaxis\":\"x\",\"y\":[0.006161754097988402],\"yaxis\":\"y\",\"type\":\"scatter\"},{\"hovertemplate\":\"color=waves<br>x=%{x}<br>y=%{y}<extra></extra>\",\"legendgroup\":\"waves\",\"marker\":{\"color\":\"#19d3f3\",\"symbol\":\"circle\"},\"mode\":\"markers\",\"name\":\"waves\",\"orientation\":\"v\",\"showlegend\":true,\"x\":[0.081093407962455],\"xaxis\":\"x\",\"y\":[0.004761875792001508],\"yaxis\":\"y\",\"type\":\"scatter\"},{\"hovertemplate\":\"color=eur-tether<br>x=%{x}<br>y=%{y}<extra></extra>\",\"legendgroup\":\"eur-tether\",\"marker\":{\"color\":\"#FF6692\",\"symbol\":\"circle\"},\"mode\":\"markers\",\"name\":\"eur-tether\",\"orientation\":\"v\",\"showlegend\":true,\"x\":[-0.0019113597590179742],\"xaxis\":\"x\",\"y\":[-0.011122338258725339],\"yaxis\":\"y\",\"type\":\"scatter\"},{\"hovertemplate\":\"color=omisego<br>x=%{x}<br>y=%{y}<extra></extra>\",\"legendgroup\":\"omisego\",\"marker\":{\"color\":\"#B6E880\",\"symbol\":\"circle\"},\"mode\":\"markers\",\"name\":\"omisego\",\"orientation\":\"v\",\"showlegend\":true,\"x\":[0.09279401498332429],\"xaxis\":\"x\",\"y\":[-0.03479997811496287],\"yaxis\":\"y\",\"type\":\"scatter\"},{\"hovertemplate\":\"color=0x<br>x=%{x}<br>y=%{y}<extra></extra>\",\"legendgroup\":\"0x\",\"marker\":{\"color\":\"#FF97FF\",\"symbol\":\"circle\"},\"mode\":\"markers\",\"name\":\"0x\",\"orientation\":\"v\",\"showlegend\":true,\"x\":[0.093176066914612],\"xaxis\":\"x\",\"y\":[0.004460030176732764],\"yaxis\":\"y\",\"type\":\"scatter\"},{\"hovertemplate\":\"color=icon<br>x=%{x}<br>y=%{y}<extra></extra>\",\"legendgroup\":\"icon\",\"marker\":{\"color\":\"#FECB52\",\"symbol\":\"circle\"},\"mode\":\"markers\",\"name\":\"icon\",\"orientation\":\"v\",\"showlegend\":true,\"x\":[0.09532373964512014],\"xaxis\":\"x\",\"y\":[0.012403198692070305],\"yaxis\":\"y\",\"type\":\"scatter\"},{\"hovertemplate\":\"color=siacoin<br>x=%{x}<br>y=%{y}<extra></extra>\",\"legendgroup\":\"siacoin\",\"marker\":{\"color\":\"#636efa\",\"symbol\":\"circle\"},\"mode\":\"markers\",\"name\":\"siacoin\",\"orientation\":\"v\",\"showlegend\":true,\"x\":[0.09526449428976938],\"xaxis\":\"x\",\"y\":[0.05945598999921281],\"yaxis\":\"y\",\"type\":\"scatter\"},{\"hovertemplate\":\"color=zelcash<br>x=%{x}<br>y=%{y}<extra></extra>\",\"legendgroup\":\"zelcash\",\"marker\":{\"color\":\"#EF553B\",\"symbol\":\"circle\"},\"mode\":\"markers\",\"name\":\"zelcash\",\"orientation\":\"v\",\"showlegend\":true,\"x\":[0.06390770212474021],\"xaxis\":\"x\",\"y\":[-0.014893905275763765],\"yaxis\":\"y\",\"type\":\"scatter\"},{\"hovertemplate\":\"color=ontology<br>x=%{x}<br>y=%{y}<extra></extra>\",\"legendgroup\":\"ontology\",\"marker\":{\"color\":\"#00cc96\",\"symbol\":\"circle\"},\"mode\":\"markers\",\"name\":\"ontology\",\"orientation\":\"v\",\"showlegend\":true,\"x\":[0.1052003518525397],\"xaxis\":\"x\",\"y\":[-0.010650949595295445],\"yaxis\":\"y\",\"type\":\"scatter\"},{\"hovertemplate\":\"color=swissborg<br>x=%{x}<br>y=%{y}<extra></extra>\",\"legendgroup\":\"swissborg\",\"marker\":{\"color\":\"#ab63fa\",\"symbol\":\"circle\"},\"mode\":\"markers\",\"name\":\"swissborg\",\"orientation\":\"v\",\"showlegend\":true,\"x\":[0.06382178136740928],\"xaxis\":\"x\",\"y\":[-0.055227848622721516],\"yaxis\":\"y\",\"type\":\"scatter\"},{\"hovertemplate\":\"color=mxtoken<br>x=%{x}<br>y=%{y}<extra></extra>\",\"legendgroup\":\"mxtoken\",\"marker\":{\"color\":\"#FFA15A\",\"symbol\":\"circle\"},\"mode\":\"markers\",\"name\":\"mxtoken\",\"orientation\":\"v\",\"showlegend\":true,\"x\":[0.06623508892915864],\"xaxis\":\"x\",\"y\":[-0.040825786285296935],\"yaxis\":\"y\",\"type\":\"scatter\"},{\"hovertemplate\":\"color=reserve-protocol<br>x=%{x}<br>y=%{y}<extra></extra>\",\"legendgroup\":\"reserve-protocol\",\"marker\":{\"color\":\"#19d3f3\",\"symbol\":\"circle\"},\"mode\":\"markers\",\"name\":\"reserve-protocol\",\"orientation\":\"v\",\"showlegend\":true,\"x\":[0.08141869789913543],\"xaxis\":\"x\",\"y\":[-0.033151246831656114],\"yaxis\":\"y\",\"type\":\"scatter\"},{\"hovertemplate\":\"color=bora-ecosystem<br>x=%{x}<br>y=%{y}<extra></extra>\",\"legendgroup\":\"bora-ecosystem\",\"marker\":{\"color\":\"#FF6692\",\"symbol\":\"circle\"},\"mode\":\"markers\",\"name\":\"bora-ecosystem\",\"orientation\":\"v\",\"showlegend\":true,\"x\":[0.05868586691697882],\"xaxis\":\"x\",\"y\":[0.1015838528582717],\"yaxis\":\"y\",\"type\":\"scatter\"},{\"hovertemplate\":\"color=telcoin<br>x=%{x}<br>y=%{y}<extra></extra>\",\"legendgroup\":\"telcoin\",\"marker\":{\"color\":\"#B6E880\",\"symbol\":\"circle\"},\"mode\":\"markers\",\"name\":\"telcoin\",\"orientation\":\"v\",\"showlegend\":true,\"x\":[0.06938545536705173],\"xaxis\":\"x\",\"y\":[-0.06192401977398729],\"yaxis\":\"y\",\"type\":\"scatter\"},{\"hovertemplate\":\"color=ocean-protocol<br>x=%{x}<br>y=%{y}<extra></extra>\",\"legendgroup\":\"ocean-protocol\",\"marker\":{\"color\":\"#FF97FF\",\"symbol\":\"circle\"},\"mode\":\"markers\",\"name\":\"ocean-protocol\",\"orientation\":\"v\",\"showlegend\":true,\"x\":[0.08142957568728475],\"xaxis\":\"x\",\"y\":[-0.023425061834695924],\"yaxis\":\"y\",\"type\":\"scatter\"},{\"hovertemplate\":\"color=celsius<br>x=%{x}<br>y=%{y}<extra></extra>\",\"legendgroup\":\"celsius\",\"marker\":{\"color\":\"#FECB52\",\"symbol\":\"circle\"},\"mode\":\"markers\",\"name\":\"celsius\",\"orientation\":\"v\",\"showlegend\":true,\"x\":[0.05697942187560207],\"xaxis\":\"x\",\"y\":[-0.0388691234816113],\"yaxis\":\"y\",\"type\":\"scatter\"},{\"hovertemplate\":\"color=polymath-network<br>x=%{x}<br>y=%{y}<extra></extra>\",\"legendgroup\":\"polymath-network\",\"marker\":{\"color\":\"#636efa\",\"symbol\":\"circle\"},\"mode\":\"markers\",\"name\":\"polymath-network\",\"orientation\":\"v\",\"showlegend\":true,\"x\":[0.07895787380058149],\"xaxis\":\"x\",\"y\":[0.15698482757965593],\"yaxis\":\"y\",\"type\":\"scatter\"},{\"hovertemplate\":\"color=wax<br>x=%{x}<br>y=%{y}<extra></extra>\",\"legendgroup\":\"wax\",\"marker\":{\"color\":\"#EF553B\",\"symbol\":\"circle\"},\"mode\":\"markers\",\"name\":\"wax\",\"orientation\":\"v\",\"showlegend\":true,\"x\":[0.07184089507482694],\"xaxis\":\"x\",\"y\":[0.13120557381155246],\"yaxis\":\"y\",\"type\":\"scatter\"},{\"hovertemplate\":\"color=digibyte<br>x=%{x}<br>y=%{y}<extra></extra>\",\"legendgroup\":\"digibyte\",\"marker\":{\"color\":\"#00cc96\",\"symbol\":\"circle\"},\"mode\":\"markers\",\"name\":\"digibyte\",\"orientation\":\"v\",\"showlegend\":true,\"x\":[0.08840758651466388],\"xaxis\":\"x\",\"y\":[-0.046440705607400566],\"yaxis\":\"y\",\"type\":\"scatter\"},{\"hovertemplate\":\"color=livepeer<br>x=%{x}<br>y=%{y}<extra></extra>\",\"legendgroup\":\"livepeer\",\"marker\":{\"color\":\"#ab63fa\",\"symbol\":\"circle\"},\"mode\":\"markers\",\"name\":\"livepeer\",\"orientation\":\"v\",\"showlegend\":true,\"x\":[0.05870225982856124],\"xaxis\":\"x\",\"y\":[-0.044691217141599814],\"yaxis\":\"y\",\"type\":\"scatter\"},{\"hovertemplate\":\"color=lisk<br>x=%{x}<br>y=%{y}<extra></extra>\",\"legendgroup\":\"lisk\",\"marker\":{\"color\":\"#FFA15A\",\"symbol\":\"circle\"},\"mode\":\"markers\",\"name\":\"lisk\",\"orientation\":\"v\",\"showlegend\":true,\"x\":[0.07180674423435321],\"xaxis\":\"x\",\"y\":[0.050997336272412416],\"yaxis\":\"y\",\"type\":\"scatter\"},{\"hovertemplate\":\"color=rif<br>x=%{x}<br>y=%{y}<extra></extra>\",\"legendgroup\":\"rif\",\"marker\":{\"color\":\"#19d3f3\",\"symbol\":\"circle\"},\"mode\":\"markers\",\"name\":\"rif\",\"orientation\":\"v\",\"showlegend\":true,\"x\":[0.06947854524832067],\"xaxis\":\"x\",\"y\":[-0.06030035363526675],\"yaxis\":\"y\",\"type\":\"scatter\"},{\"hovertemplate\":\"color=zencash<br>x=%{x}<br>y=%{y}<extra></extra>\",\"legendgroup\":\"zencash\",\"marker\":{\"color\":\"#FF6692\",\"symbol\":\"circle\"},\"mode\":\"markers\",\"name\":\"zencash\",\"orientation\":\"v\",\"showlegend\":true,\"x\":[0.08607752723511415],\"xaxis\":\"x\",\"y\":[-0.044110893943641205],\"yaxis\":\"y\",\"type\":\"scatter\"},{\"hovertemplate\":\"color=aelf<br>x=%{x}<br>y=%{y}<extra></extra>\",\"legendgroup\":\"aelf\",\"marker\":{\"color\":\"#B6E880\",\"symbol\":\"circle\"},\"mode\":\"markers\",\"name\":\"aelf\",\"orientation\":\"v\",\"showlegend\":true,\"x\":[0.07597026573035416],\"xaxis\":\"x\",\"y\":[0.12413211741570133],\"yaxis\":\"y\",\"type\":\"scatter\"},{\"hovertemplate\":\"color=stasis-eurs<br>x=%{x}<br>y=%{y}<extra></extra>\",\"legendgroup\":\"stasis-eurs\",\"marker\":{\"color\":\"#FF97FF\",\"symbol\":\"circle\"},\"mode\":\"markers\",\"name\":\"stasis-eurs\",\"orientation\":\"v\",\"showlegend\":true,\"x\":[0.028936149485389705],\"xaxis\":\"x\",\"y\":[-0.024754951852964432],\"yaxis\":\"y\",\"type\":\"scatter\"},{\"hovertemplate\":\"color=rlc<br>x=%{x}<br>y=%{y}<extra></extra>\",\"legendgroup\":\"rlc\",\"marker\":{\"color\":\"#FECB52\",\"symbol\":\"circle\"},\"mode\":\"markers\",\"name\":\"rlc\",\"orientation\":\"v\",\"showlegend\":true,\"x\":[0.08165962093676178],\"xaxis\":\"x\",\"y\":[-0.021864623742026287],\"yaxis\":\"y\",\"type\":\"scatter\"},{\"hovertemplate\":\"color=constellation<br>x=%{x}<br>y=%{y}<extra></extra>\",\"legendgroup\":\"constellation\",\"marker\":{\"color\":\"#636efa\",\"symbol\":\"circle\"},\"mode\":\"markers\",\"name\":\"constellation\",\"orientation\":\"v\",\"showlegend\":true,\"x\":[0.06647485967054768],\"xaxis\":\"x\",\"y\":[-0.03767655417587649],\"yaxis\":\"y\",\"type\":\"scatter\"},{\"hovertemplate\":\"color=origintrail<br>x=%{x}<br>y=%{y}<extra></extra>\",\"legendgroup\":\"origintrail\",\"marker\":{\"color\":\"#EF553B\",\"symbol\":\"circle\"},\"mode\":\"markers\",\"name\":\"origintrail\",\"orientation\":\"v\",\"showlegend\":true,\"x\":[0.06550001838740559],\"xaxis\":\"x\",\"y\":[-0.015330849077157233],\"yaxis\":\"y\",\"type\":\"scatter\"},{\"hovertemplate\":\"color=coinextoken<br>x=%{x}<br>y=%{y}<extra></extra>\",\"legendgroup\":\"coinextoken\",\"marker\":{\"color\":\"#00cc96\",\"symbol\":\"circle\"},\"mode\":\"markers\",\"name\":\"coinextoken\",\"orientation\":\"v\",\"showlegend\":true,\"x\":[0.08455125407880881],\"xaxis\":\"x\",\"y\":[-0.05584644780047811],\"yaxis\":\"y\",\"type\":\"scatter\"},{\"hovertemplate\":\"color=republic-protocol<br>x=%{x}<br>y=%{y}<extra></extra>\",\"legendgroup\":\"republic-protocol\",\"marker\":{\"color\":\"#ab63fa\",\"symbol\":\"circle\"},\"mode\":\"markers\",\"name\":\"republic-protocol\",\"orientation\":\"v\",\"showlegend\":true,\"x\":[0.08425940991431953],\"xaxis\":\"x\",\"y\":[-0.039992192231356645],\"yaxis\":\"y\",\"type\":\"scatter\"},{\"hovertemplate\":\"color=syscoin<br>x=%{x}<br>y=%{y}<extra></extra>\",\"legendgroup\":\"syscoin\",\"marker\":{\"color\":\"#FFA15A\",\"symbol\":\"circle\"},\"mode\":\"markers\",\"name\":\"syscoin\",\"orientation\":\"v\",\"showlegend\":true,\"x\":[0.07646228892303372],\"xaxis\":\"x\",\"y\":[-0.0014891517837028435],\"yaxis\":\"y\",\"type\":\"scatter\"},{\"hovertemplate\":\"color=numeraire<br>x=%{x}<br>y=%{y}<extra></extra>\",\"legendgroup\":\"numeraire\",\"marker\":{\"color\":\"#19d3f3\",\"symbol\":\"circle\"},\"mode\":\"markers\",\"name\":\"numeraire\",\"orientation\":\"v\",\"showlegend\":true,\"x\":[0.061051860370176854],\"xaxis\":\"x\",\"y\":[-0.03118773015342654],\"yaxis\":\"y\",\"type\":\"scatter\"},{\"hovertemplate\":\"color=nano<br>x=%{x}<br>y=%{y}<extra></extra>\",\"legendgroup\":\"nano\",\"marker\":{\"color\":\"#FF6692\",\"symbol\":\"circle\"},\"mode\":\"markers\",\"name\":\"nano\",\"orientation\":\"v\",\"showlegend\":true,\"x\":[0.08053938513567578],\"xaxis\":\"x\",\"y\":[-0.03343574688632414],\"yaxis\":\"y\",\"type\":\"scatter\"},{\"hovertemplate\":\"color=ethos<br>x=%{x}<br>y=%{y}<extra></extra>\",\"legendgroup\":\"ethos\",\"marker\":{\"color\":\"#B6E880\",\"symbol\":\"circle\"},\"mode\":\"markers\",\"name\":\"ethos\",\"orientation\":\"v\",\"showlegend\":true,\"x\":[0.05539883519168064],\"xaxis\":\"x\",\"y\":[0.0026994582431802867],\"yaxis\":\"y\",\"type\":\"scatter\"},{\"hovertemplate\":\"color=function-x<br>x=%{x}<br>y=%{y}<extra></extra>\",\"legendgroup\":\"function-x\",\"marker\":{\"color\":\"#FF97FF\",\"symbol\":\"circle\"},\"mode\":\"markers\",\"name\":\"function-x\",\"orientation\":\"v\",\"showlegend\":true,\"x\":[0.053418508754077575],\"xaxis\":\"x\",\"y\":[-0.00012063977538175755],\"yaxis\":\"y\",\"type\":\"scatter\"},{\"hovertemplate\":\"color=medibloc<br>x=%{x}<br>y=%{y}<extra></extra>\",\"legendgroup\":\"medibloc\",\"marker\":{\"color\":\"#FECB52\",\"symbol\":\"circle\"},\"mode\":\"markers\",\"name\":\"medibloc\",\"orientation\":\"v\",\"showlegend\":true,\"x\":[0.07024253200103817],\"xaxis\":\"x\",\"y\":[0.15995747551179976],\"yaxis\":\"y\",\"type\":\"scatter\"},{\"hovertemplate\":\"color=dent<br>x=%{x}<br>y=%{y}<extra></extra>\",\"legendgroup\":\"dent\",\"marker\":{\"color\":\"#636efa\",\"symbol\":\"circle\"},\"mode\":\"markers\",\"name\":\"dent\",\"orientation\":\"v\",\"showlegend\":true,\"x\":[0.08196695178624164],\"xaxis\":\"x\",\"y\":[-0.007189121784852715],\"yaxis\":\"y\",\"type\":\"scatter\"},{\"hovertemplate\":\"color=status<br>x=%{x}<br>y=%{y}<extra></extra>\",\"legendgroup\":\"status\",\"marker\":{\"color\":\"#EF553B\",\"symbol\":\"circle\"},\"mode\":\"markers\",\"name\":\"status\",\"orientation\":\"v\",\"showlegend\":true,\"x\":[0.08871338440938935],\"xaxis\":\"x\",\"y\":[0.029090704169270724],\"yaxis\":\"y\",\"type\":\"scatter\"},{\"hovertemplate\":\"color=celer-network<br>x=%{x}<br>y=%{y}<extra></extra>\",\"legendgroup\":\"celer-network\",\"marker\":{\"color\":\"#00cc96\",\"symbol\":\"circle\"},\"mode\":\"markers\",\"name\":\"celer-network\",\"orientation\":\"v\",\"showlegend\":true,\"x\":[0.08845456416114009],\"xaxis\":\"x\",\"y\":[0.026318763126385807],\"yaxis\":\"y\",\"type\":\"scatter\"},{\"hovertemplate\":\"color=ergo<br>x=%{x}<br>y=%{y}<extra></extra>\",\"legendgroup\":\"ergo\",\"marker\":{\"color\":\"#ab63fa\",\"symbol\":\"circle\"},\"mode\":\"markers\",\"name\":\"ergo\",\"orientation\":\"v\",\"showlegend\":true,\"x\":[0.04104736657897507],\"xaxis\":\"x\",\"y\":[-0.04223413233415344],\"yaxis\":\"y\",\"type\":\"scatter\"},{\"hovertemplate\":\"color=mass-vehicle-ledger<br>x=%{x}<br>y=%{y}<extra></extra>\",\"legendgroup\":\"mass-vehicle-ledger\",\"marker\":{\"color\":\"#FFA15A\",\"symbol\":\"circle\"},\"mode\":\"markers\",\"name\":\"mass-vehicle-ledger\",\"orientation\":\"v\",\"showlegend\":true,\"x\":[0.06275603071476207],\"xaxis\":\"x\",\"y\":[0.12270924011215385],\"yaxis\":\"y\",\"type\":\"scatter\"},{\"hovertemplate\":\"color=aragon<br>x=%{x}<br>y=%{y}<extra></extra>\",\"legendgroup\":\"aragon\",\"marker\":{\"color\":\"#19d3f3\",\"symbol\":\"circle\"},\"mode\":\"markers\",\"name\":\"aragon\",\"orientation\":\"v\",\"showlegend\":true,\"x\":[0.06190313961609764],\"xaxis\":\"x\",\"y\":[-0.03135627139915914],\"yaxis\":\"y\",\"type\":\"scatter\"},{\"hovertemplate\":\"color=ontology-gas<br>x=%{x}<br>y=%{y}<extra></extra>\",\"legendgroup\":\"ontology-gas\",\"marker\":{\"color\":\"#FF6692\",\"symbol\":\"circle\"},\"mode\":\"markers\",\"name\":\"ontology-gas\",\"orientation\":\"v\",\"showlegend\":true,\"x\":[0.0634669975459429],\"xaxis\":\"x\",\"y\":[0.11159060276691968],\"yaxis\":\"y\",\"type\":\"scatter\"},{\"hovertemplate\":\"color=orbs<br>x=%{x}<br>y=%{y}<extra></extra>\",\"legendgroup\":\"orbs\",\"marker\":{\"color\":\"#B6E880\",\"symbol\":\"circle\"},\"mode\":\"markers\",\"name\":\"orbs\",\"orientation\":\"v\",\"showlegend\":true,\"x\":[0.07544999997970402],\"xaxis\":\"x\",\"y\":[0.13483567820708794],\"yaxis\":\"y\",\"type\":\"scatter\"},{\"hovertemplate\":\"color=humanscape<br>x=%{x}<br>y=%{y}<extra></extra>\",\"legendgroup\":\"humanscape\",\"marker\":{\"color\":\"#FF97FF\",\"symbol\":\"circle\"},\"mode\":\"markers\",\"name\":\"humanscape\",\"orientation\":\"v\",\"showlegend\":true,\"x\":[0.024652667705543238],\"xaxis\":\"x\",\"y\":[0.07720648345330257],\"yaxis\":\"y\",\"type\":\"scatter\"},{\"hovertemplate\":\"color=ardor<br>x=%{x}<br>y=%{y}<extra></extra>\",\"legendgroup\":\"ardor\",\"marker\":{\"color\":\"#FECB52\",\"symbol\":\"circle\"},\"mode\":\"markers\",\"name\":\"ardor\",\"orientation\":\"v\",\"showlegend\":true,\"x\":[0.08457761350640007],\"xaxis\":\"x\",\"y\":[0.15218722994425157],\"yaxis\":\"y\",\"type\":\"scatter\"},{\"hovertemplate\":\"color=steem<br>x=%{x}<br>y=%{y}<extra></extra>\",\"legendgroup\":\"steem\",\"marker\":{\"color\":\"#636efa\",\"symbol\":\"circle\"},\"mode\":\"markers\",\"name\":\"steem\",\"orientation\":\"v\",\"showlegend\":true,\"x\":[0.08291284062505147],\"xaxis\":\"x\",\"y\":[0.10399466685750186],\"yaxis\":\"y\",\"type\":\"scatter\"},{\"hovertemplate\":\"color=civic<br>x=%{x}<br>y=%{y}<extra></extra>\",\"legendgroup\":\"civic\",\"marker\":{\"color\":\"#EF553B\",\"symbol\":\"circle\"},\"mode\":\"markers\",\"name\":\"civic\",\"orientation\":\"v\",\"showlegend\":true,\"x\":[0.07677300297818199],\"xaxis\":\"x\",\"y\":[0.12552226322943374],\"yaxis\":\"y\",\"type\":\"scatter\"},{\"hovertemplate\":\"color=mir<br>x=%{x}<br>y=%{y}<extra></extra>\",\"legendgroup\":\"mir\",\"marker\":{\"color\":\"#00cc96\",\"symbol\":\"circle\"},\"mode\":\"markers\",\"name\":\"mir\",\"orientation\":\"v\",\"showlegend\":true,\"x\":[0.01109252014885397],\"xaxis\":\"x\",\"y\":[-0.009858600525081578],\"yaxis\":\"y\",\"type\":\"scatter\"},{\"hovertemplate\":\"color=everipedia<br>x=%{x}<br>y=%{y}<extra></extra>\",\"legendgroup\":\"everipedia\",\"marker\":{\"color\":\"#ab63fa\",\"symbol\":\"circle\"},\"mode\":\"markers\",\"name\":\"everipedia\",\"orientation\":\"v\",\"showlegend\":true,\"x\":[0.07148481162462487],\"xaxis\":\"x\",\"y\":[0.17491907888422095],\"yaxis\":\"y\",\"type\":\"scatter\"},{\"hovertemplate\":\"color=zeon<br>x=%{x}<br>y=%{y}<extra></extra>\",\"legendgroup\":\"zeon\",\"marker\":{\"color\":\"#FFA15A\",\"symbol\":\"circle\"},\"mode\":\"markers\",\"name\":\"zeon\",\"orientation\":\"v\",\"showlegend\":true,\"x\":[0.010305752493207428],\"xaxis\":\"x\",\"y\":[-0.040139024623326566],\"yaxis\":\"y\",\"type\":\"scatter\"},{\"hovertemplate\":\"color=vethor-token<br>x=%{x}<br>y=%{y}<extra></extra>\",\"legendgroup\":\"vethor-token\",\"marker\":{\"color\":\"#19d3f3\",\"symbol\":\"circle\"},\"mode\":\"markers\",\"name\":\"vethor-token\",\"orientation\":\"v\",\"showlegend\":true,\"x\":[0.07803873756297697],\"xaxis\":\"x\",\"y\":[-0.01999864948267083],\"yaxis\":\"y\",\"type\":\"scatter\"},{\"hovertemplate\":\"color=ceek-vr<br>x=%{x}<br>y=%{y}<extra></extra>\",\"legendgroup\":\"ceek-vr\",\"marker\":{\"color\":\"#FF6692\",\"symbol\":\"circle\"},\"mode\":\"markers\",\"name\":\"ceek-vr\",\"orientation\":\"v\",\"showlegend\":true,\"x\":[0.040716489902244545],\"xaxis\":\"x\",\"y\":[0.021781765211279447],\"yaxis\":\"y\",\"type\":\"scatter\"},{\"hovertemplate\":\"color=power-ledger<br>x=%{x}<br>y=%{y}<extra></extra>\",\"legendgroup\":\"power-ledger\",\"marker\":{\"color\":\"#B6E880\",\"symbol\":\"circle\"},\"mode\":\"markers\",\"name\":\"power-ledger\",\"orientation\":\"v\",\"showlegend\":true,\"x\":[0.08294505626693614],\"xaxis\":\"x\",\"y\":[0.15351014859974485],\"yaxis\":\"y\",\"type\":\"scatter\"},{\"hovertemplate\":\"color=stratis<br>x=%{x}<br>y=%{y}<extra></extra>\",\"legendgroup\":\"stratis\",\"marker\":{\"color\":\"#FF97FF\",\"symbol\":\"circle\"},\"mode\":\"markers\",\"name\":\"stratis\",\"orientation\":\"v\",\"showlegend\":true,\"x\":[0.061967253647775486],\"xaxis\":\"x\",\"y\":[0.13686545576991455],\"yaxis\":\"y\",\"type\":\"scatter\"},{\"hovertemplate\":\"color=abbc-foundation<br>x=%{x}<br>y=%{y}<extra></extra>\",\"legendgroup\":\"abbc-foundation\",\"marker\":{\"color\":\"#FECB52\",\"symbol\":\"circle\"},\"mode\":\"markers\",\"name\":\"abbc-foundation\",\"orientation\":\"v\",\"showlegend\":true,\"x\":[0.039588444137455464],\"xaxis\":\"x\",\"y\":[-0.017005862980107086],\"yaxis\":\"y\",\"type\":\"scatter\"},{\"hovertemplate\":\"color=request-network<br>x=%{x}<br>y=%{y}<extra></extra>\",\"legendgroup\":\"request-network\",\"marker\":{\"color\":\"#636efa\",\"symbol\":\"circle\"},\"mode\":\"markers\",\"name\":\"request-network\",\"orientation\":\"v\",\"showlegend\":true,\"x\":[0.06591732240770858],\"xaxis\":\"x\",\"y\":[0.010150613061722656],\"yaxis\":\"y\",\"type\":\"scatter\"},{\"hovertemplate\":\"color=xyo-network<br>x=%{x}<br>y=%{y}<extra></extra>\",\"legendgroup\":\"xyo-network\",\"marker\":{\"color\":\"#EF553B\",\"symbol\":\"circle\"},\"mode\":\"markers\",\"name\":\"xyo-network\",\"orientation\":\"v\",\"showlegend\":true,\"x\":[0.048628352665561425],\"xaxis\":\"x\",\"y\":[0.008458146198196126],\"yaxis\":\"y\",\"type\":\"scatter\"},{\"hovertemplate\":\"color=rsk<br>x=%{x}<br>y=%{y}<extra></extra>\",\"legendgroup\":\"rsk\",\"marker\":{\"color\":\"#00cc96\",\"symbol\":\"circle\"},\"mode\":\"markers\",\"name\":\"rsk\",\"orientation\":\"v\",\"showlegend\":true,\"x\":[0.05518953437156285],\"xaxis\":\"x\",\"y\":[-0.07180658824186258],\"yaxis\":\"y\",\"type\":\"scatter\"},{\"hovertemplate\":\"color=metal<br>x=%{x}<br>y=%{y}<extra></extra>\",\"legendgroup\":\"metal\",\"marker\":{\"color\":\"#ab63fa\",\"symbol\":\"circle\"},\"mode\":\"markers\",\"name\":\"metal\",\"orientation\":\"v\",\"showlegend\":true,\"x\":[0.0743297134922537],\"xaxis\":\"x\",\"y\":[0.11766875581344564],\"yaxis\":\"y\",\"type\":\"scatter\"},{\"hovertemplate\":\"color=covalent<br>x=%{x}<br>y=%{y}<extra></extra>\",\"legendgroup\":\"covalent\",\"marker\":{\"color\":\"#FFA15A\",\"symbol\":\"circle\"},\"mode\":\"markers\",\"name\":\"covalent\",\"orientation\":\"v\",\"showlegend\":true,\"x\":[0.02112663061126615],\"xaxis\":\"x\",\"y\":[-0.010318007355794911],\"yaxis\":\"y\",\"type\":\"scatter\"},{\"hovertemplate\":\"color=gxchain<br>x=%{x}<br>y=%{y}<extra></extra>\",\"legendgroup\":\"gxchain\",\"marker\":{\"color\":\"#19d3f3\",\"symbol\":\"circle\"},\"mode\":\"markers\",\"name\":\"gxchain\",\"orientation\":\"v\",\"showlegend\":true,\"x\":[0.02513380075546541],\"xaxis\":\"x\",\"y\":[-0.002604988121780714],\"yaxis\":\"y\",\"type\":\"scatter\"},{\"hovertemplate\":\"color=bancor<br>x=%{x}<br>y=%{y}<extra></extra>\",\"legendgroup\":\"bancor\",\"marker\":{\"color\":\"#FF6692\",\"symbol\":\"circle\"},\"mode\":\"markers\",\"name\":\"bancor\",\"orientation\":\"v\",\"showlegend\":true,\"x\":[0.08261298837351705],\"xaxis\":\"x\",\"y\":[-0.052573589400624524],\"yaxis\":\"y\",\"type\":\"scatter\"},{\"hovertemplate\":\"color=funfair<br>x=%{x}<br>y=%{y}<extra></extra>\",\"legendgroup\":\"funfair\",\"marker\":{\"color\":\"#B6E880\",\"symbol\":\"circle\"},\"mode\":\"markers\",\"name\":\"funfair\",\"orientation\":\"v\",\"showlegend\":true,\"x\":[0.07744364028647294],\"xaxis\":\"x\",\"y\":[-0.006138391219292235],\"yaxis\":\"y\",\"type\":\"scatter\"},{\"hovertemplate\":\"color=quarkchain<br>x=%{x}<br>y=%{y}<extra></extra>\",\"legendgroup\":\"quarkchain\",\"marker\":{\"color\":\"#FF97FF\",\"symbol\":\"circle\"},\"mode\":\"markers\",\"name\":\"quarkchain\",\"orientation\":\"v\",\"showlegend\":true,\"x\":[0.07855574339219963],\"xaxis\":\"x\",\"y\":[0.17463012832157063],\"yaxis\":\"y\",\"type\":\"scatter\"},{\"hovertemplate\":\"color=morpheus-network<br>x=%{x}<br>y=%{y}<extra></extra>\",\"legendgroup\":\"morpheus-network\",\"marker\":{\"color\":\"#FECB52\",\"symbol\":\"circle\"},\"mode\":\"markers\",\"name\":\"morpheus-network\",\"orientation\":\"v\",\"showlegend\":true,\"x\":[0.06701765206768857],\"xaxis\":\"x\",\"y\":[-0.02893091440531799],\"yaxis\":\"y\",\"type\":\"scatter\"},{\"hovertemplate\":\"color=nkn<br>x=%{x}<br>y=%{y}<extra></extra>\",\"legendgroup\":\"nkn\",\"marker\":{\"color\":\"#636efa\",\"symbol\":\"circle\"},\"mode\":\"markers\",\"name\":\"nkn\",\"orientation\":\"v\",\"showlegend\":true,\"x\":[0.05141414333928972],\"xaxis\":\"x\",\"y\":[-0.0404276344871128],\"yaxis\":\"y\",\"type\":\"scatter\"},{\"hovertemplate\":\"color=kyber-network<br>x=%{x}<br>y=%{y}<extra></extra>\",\"legendgroup\":\"kyber-network\",\"marker\":{\"color\":\"#EF553B\",\"symbol\":\"circle\"},\"mode\":\"markers\",\"name\":\"kyber-network\",\"orientation\":\"v\",\"showlegend\":true,\"x\":[0.08722901325242363],\"xaxis\":\"x\",\"y\":[0.009649628743436632],\"yaxis\":\"y\",\"type\":\"scatter\"},{\"hovertemplate\":\"color=storm<br>x=%{x}<br>y=%{y}<extra></extra>\",\"legendgroup\":\"storm\",\"marker\":{\"color\":\"#00cc96\",\"symbol\":\"circle\"},\"mode\":\"markers\",\"name\":\"storm\",\"orientation\":\"v\",\"showlegend\":true,\"x\":[0.08045139516822229],\"xaxis\":\"x\",\"y\":[0.13241227433457575],\"yaxis\":\"y\",\"type\":\"scatter\"},{\"hovertemplate\":\"color=veritaseum<br>x=%{x}<br>y=%{y}<extra></extra>\",\"legendgroup\":\"veritaseum\",\"marker\":{\"color\":\"#ab63fa\",\"symbol\":\"circle\"},\"mode\":\"markers\",\"name\":\"veritaseum\",\"orientation\":\"v\",\"showlegend\":true,\"x\":[0.038319857490305365],\"xaxis\":\"x\",\"y\":[-0.035564764938868565],\"yaxis\":\"y\",\"type\":\"scatter\"},{\"hovertemplate\":\"color=maidsafecoin<br>x=%{x}<br>y=%{y}<extra></extra>\",\"legendgroup\":\"maidsafecoin\",\"marker\":{\"color\":\"#FFA15A\",\"symbol\":\"circle\"},\"mode\":\"markers\",\"name\":\"maidsafecoin\",\"orientation\":\"v\",\"showlegend\":true,\"x\":[0.05337004903870396],\"xaxis\":\"x\",\"y\":[-0.04966155720084241],\"yaxis\":\"y\",\"type\":\"scatter\"},{\"hovertemplate\":\"color=augur<br>x=%{x}<br>y=%{y}<extra></extra>\",\"legendgroup\":\"augur\",\"marker\":{\"color\":\"#19d3f3\",\"symbol\":\"circle\"},\"mode\":\"markers\",\"name\":\"augur\",\"orientation\":\"v\",\"showlegend\":true,\"x\":[0.0809296739770666],\"xaxis\":\"x\",\"y\":[0.0413817833894282],\"yaxis\":\"y\",\"type\":\"scatter\"},{\"hovertemplate\":\"color=selfkey<br>x=%{x}<br>y=%{y}<extra></extra>\",\"legendgroup\":\"selfkey\",\"marker\":{\"color\":\"#FF6692\",\"symbol\":\"circle\"},\"mode\":\"markers\",\"name\":\"selfkey\",\"orientation\":\"v\",\"showlegend\":true,\"x\":[0.07254532720533938],\"xaxis\":\"x\",\"y\":[0.03340838692257129],\"yaxis\":\"y\",\"type\":\"scatter\"},{\"hovertemplate\":\"color=hxro<br>x=%{x}<br>y=%{y}<extra></extra>\",\"legendgroup\":\"hxro\",\"marker\":{\"color\":\"#B6E880\",\"symbol\":\"circle\"},\"mode\":\"markers\",\"name\":\"hxro\",\"orientation\":\"v\",\"showlegend\":true,\"x\":[0.030784881906836033],\"xaxis\":\"x\",\"y\":[-0.009792693748127718],\"yaxis\":\"y\",\"type\":\"scatter\"},{\"hovertemplate\":\"color=ark<br>x=%{x}<br>y=%{y}<extra></extra>\",\"legendgroup\":\"ark\",\"marker\":{\"color\":\"#FF97FF\",\"symbol\":\"circle\"},\"mode\":\"markers\",\"name\":\"ark\",\"orientation\":\"v\",\"showlegend\":true,\"x\":[0.06898617984843813],\"xaxis\":\"x\",\"y\":[0.13349105807014702],\"yaxis\":\"y\",\"type\":\"scatter\"},{\"hovertemplate\":\"color=mxc<br>x=%{x}<br>y=%{y}<extra></extra>\",\"legendgroup\":\"mxc\",\"marker\":{\"color\":\"#FECB52\",\"symbol\":\"circle\"},\"mode\":\"markers\",\"name\":\"mxc\",\"orientation\":\"v\",\"showlegend\":true,\"x\":[0.05619329799265547],\"xaxis\":\"x\",\"y\":[0.009563919157247063],\"yaxis\":\"y\",\"type\":\"scatter\"},{\"hovertemplate\":\"color=monaco<br>x=%{x}<br>y=%{y}<extra></extra>\",\"legendgroup\":\"monaco\",\"marker\":{\"color\":\"#636efa\",\"symbol\":\"circle\"},\"mode\":\"markers\",\"name\":\"monaco\",\"orientation\":\"v\",\"showlegend\":true,\"x\":[0.048545730246091434],\"xaxis\":\"x\",\"y\":[-0.0017164362607733127],\"yaxis\":\"y\",\"type\":\"scatter\"},{\"hovertemplate\":\"color=irisnet<br>x=%{x}<br>y=%{y}<extra></extra>\",\"legendgroup\":\"irisnet\",\"marker\":{\"color\":\"#EF553B\",\"symbol\":\"circle\"},\"mode\":\"markers\",\"name\":\"irisnet\",\"orientation\":\"v\",\"showlegend\":true,\"x\":[0.08196734956158572],\"xaxis\":\"x\",\"y\":[-0.01534593836367424],\"yaxis\":\"y\",\"type\":\"scatter\"},{\"hovertemplate\":\"color=whitecoin<br>x=%{x}<br>y=%{y}<extra></extra>\",\"legendgroup\":\"whitecoin\",\"marker\":{\"color\":\"#00cc96\",\"symbol\":\"circle\"},\"mode\":\"markers\",\"name\":\"whitecoin\",\"orientation\":\"v\",\"showlegend\":true,\"x\":[0.02094633426698977],\"xaxis\":\"x\",\"y\":[-0.015396857836019016],\"yaxis\":\"y\",\"type\":\"scatter\"},{\"hovertemplate\":\"color=aergo<br>x=%{x}<br>y=%{y}<extra></extra>\",\"legendgroup\":\"aergo\",\"marker\":{\"color\":\"#ab63fa\",\"symbol\":\"circle\"},\"mode\":\"markers\",\"name\":\"aergo\",\"orientation\":\"v\",\"showlegend\":true,\"x\":[0.07666596394629399],\"xaxis\":\"x\",\"y\":[0.1622965613566212],\"yaxis\":\"y\",\"type\":\"scatter\"},{\"hovertemplate\":\"color=bytom<br>x=%{x}<br>y=%{y}<extra></extra>\",\"legendgroup\":\"bytom\",\"marker\":{\"color\":\"#FFA15A\",\"symbol\":\"circle\"},\"mode\":\"markers\",\"name\":\"bytom\",\"orientation\":\"v\",\"showlegend\":true,\"x\":[0.08254207403857604],\"xaxis\":\"x\",\"y\":[-0.05784640932389814],\"yaxis\":\"y\",\"type\":\"scatter\"},{\"hovertemplate\":\"color=storj<br>x=%{x}<br>y=%{y}<extra></extra>\",\"legendgroup\":\"storj\",\"marker\":{\"color\":\"#19d3f3\",\"symbol\":\"circle\"},\"mode\":\"markers\",\"name\":\"storj\",\"orientation\":\"v\",\"showlegend\":true,\"x\":[0.08532894438800155],\"xaxis\":\"x\",\"y\":[0.08319720623651221],\"yaxis\":\"y\",\"type\":\"scatter\"},{\"hovertemplate\":\"color=meta<br>x=%{x}<br>y=%{y}<extra></extra>\",\"legendgroup\":\"meta\",\"marker\":{\"color\":\"#FF6692\",\"symbol\":\"circle\"},\"mode\":\"markers\",\"name\":\"meta\",\"orientation\":\"v\",\"showlegend\":true,\"x\":[0.07475979600232481],\"xaxis\":\"x\",\"y\":[0.12269399221751434],\"yaxis\":\"y\",\"type\":\"scatter\"},{\"hovertemplate\":\"color=moviebloc<br>x=%{x}<br>y=%{y}<extra></extra>\",\"legendgroup\":\"moviebloc\",\"marker\":{\"color\":\"#B6E880\",\"symbol\":\"circle\"},\"mode\":\"markers\",\"name\":\"moviebloc\",\"orientation\":\"v\",\"showlegend\":true,\"x\":[0.06299046766616234],\"xaxis\":\"x\",\"y\":[0.162307962597882],\"yaxis\":\"y\",\"type\":\"scatter\"},{\"hovertemplate\":\"color=wanchain<br>x=%{x}<br>y=%{y}<extra></extra>\",\"legendgroup\":\"wanchain\",\"marker\":{\"color\":\"#FF97FF\",\"symbol\":\"circle\"},\"mode\":\"markers\",\"name\":\"wanchain\",\"orientation\":\"v\",\"showlegend\":true,\"x\":[0.08925643237393655],\"xaxis\":\"x\",\"y\":[-0.0002630408088082757],\"yaxis\":\"y\",\"type\":\"scatter\"},{\"hovertemplate\":\"color=mainframe<br>x=%{x}<br>y=%{y}<extra></extra>\",\"legendgroup\":\"mainframe\",\"marker\":{\"color\":\"#FECB52\",\"symbol\":\"circle\"},\"mode\":\"markers\",\"name\":\"mainframe\",\"orientation\":\"v\",\"showlegend\":true,\"x\":[0.07501423012911568],\"xaxis\":\"x\",\"y\":[0.13217744375328874],\"yaxis\":\"y\",\"type\":\"scatter\"},{\"hovertemplate\":\"color=dero<br>x=%{x}<br>y=%{y}<extra></extra>\",\"legendgroup\":\"dero\",\"marker\":{\"color\":\"#636efa\",\"symbol\":\"circle\"},\"mode\":\"markers\",\"name\":\"dero\",\"orientation\":\"v\",\"showlegend\":true,\"x\":[0.05892752581211677],\"xaxis\":\"x\",\"y\":[-0.04775382525840214],\"yaxis\":\"y\",\"type\":\"scatter\"},{\"hovertemplate\":\"color=cortex<br>x=%{x}<br>y=%{y}<extra></extra>\",\"legendgroup\":\"cortex\",\"marker\":{\"color\":\"#EF553B\",\"symbol\":\"circle\"},\"mode\":\"markers\",\"name\":\"cortex\",\"orientation\":\"v\",\"showlegend\":true,\"x\":[0.06269517688152076],\"xaxis\":\"x\",\"y\":[0.03003358873318823],\"yaxis\":\"y\",\"type\":\"scatter\"},{\"hovertemplate\":\"color=telos-blockchain-network<br>x=%{x}<br>y=%{y}<extra></extra>\",\"legendgroup\":\"telos-blockchain-network\",\"marker\":{\"color\":\"#00cc96\",\"symbol\":\"circle\"},\"mode\":\"markers\",\"name\":\"telos-blockchain-network\",\"orientation\":\"v\",\"showlegend\":true,\"x\":[0.047076351062579395],\"xaxis\":\"x\",\"y\":[-0.04834301348433148],\"yaxis\":\"y\",\"type\":\"scatter\"},{\"hovertemplate\":\"color=verge<br>x=%{x}<br>y=%{y}<extra></extra>\",\"legendgroup\":\"verge\",\"marker\":{\"color\":\"#ab63fa\",\"symbol\":\"circle\"},\"mode\":\"markers\",\"name\":\"verge\",\"orientation\":\"v\",\"showlegend\":true,\"x\":[0.08909032640031946],\"xaxis\":\"x\",\"y\":[-0.03296148815993616],\"yaxis\":\"y\",\"type\":\"scatter\"},{\"hovertemplate\":\"color=utrust<br>x=%{x}<br>y=%{y}<extra></extra>\",\"legendgroup\":\"utrust\",\"marker\":{\"color\":\"#FFA15A\",\"symbol\":\"circle\"},\"mode\":\"markers\",\"name\":\"utrust\",\"orientation\":\"v\",\"showlegend\":true,\"x\":[0.0791435180415493],\"xaxis\":\"x\",\"y\":[-0.042068517818756576],\"yaxis\":\"y\",\"type\":\"scatter\"},{\"hovertemplate\":\"color=uquid-coin<br>x=%{x}<br>y=%{y}<extra></extra>\",\"legendgroup\":\"uquid-coin\",\"marker\":{\"color\":\"#19d3f3\",\"symbol\":\"circle\"},\"mode\":\"markers\",\"name\":\"uquid-coin\",\"orientation\":\"v\",\"showlegend\":true,\"x\":[0.0503378073893581],\"xaxis\":\"x\",\"y\":[-0.038546180969624366],\"yaxis\":\"y\",\"type\":\"scatter\"},{\"hovertemplate\":\"color=revain<br>x=%{x}<br>y=%{y}<extra></extra>\",\"legendgroup\":\"revain\",\"marker\":{\"color\":\"#FF6692\",\"symbol\":\"circle\"},\"mode\":\"markers\",\"name\":\"revain\",\"orientation\":\"v\",\"showlegend\":true,\"x\":[0.05089430699348657],\"xaxis\":\"x\",\"y\":[-0.015108455077876021],\"yaxis\":\"y\",\"type\":\"scatter\"},{\"hovertemplate\":\"color=thundercore<br>x=%{x}<br>y=%{y}<extra></extra>\",\"legendgroup\":\"thundercore\",\"marker\":{\"color\":\"#B6E880\",\"symbol\":\"circle\"},\"mode\":\"markers\",\"name\":\"thundercore\",\"orientation\":\"v\",\"showlegend\":true,\"x\":[0.06362087231563603],\"xaxis\":\"x\",\"y\":[0.20039324406041462],\"yaxis\":\"y\",\"type\":\"scatter\"},{\"hovertemplate\":\"color=loom-network<br>x=%{x}<br>y=%{y}<extra></extra>\",\"legendgroup\":\"loom-network\",\"marker\":{\"color\":\"#FF97FF\",\"symbol\":\"circle\"},\"mode\":\"markers\",\"name\":\"loom-network\",\"orientation\":\"v\",\"showlegend\":true,\"x\":[0.07910782401376261],\"xaxis\":\"x\",\"y\":[0.15808458014265278],\"yaxis\":\"y\",\"type\":\"scatter\"},{\"hovertemplate\":\"color=lto-network<br>x=%{x}<br>y=%{y}<extra></extra>\",\"legendgroup\":\"lto-network\",\"marker\":{\"color\":\"#FECB52\",\"symbol\":\"circle\"},\"mode\":\"markers\",\"name\":\"lto-network\",\"orientation\":\"v\",\"showlegend\":true,\"x\":[0.08140368822582116],\"xaxis\":\"x\",\"y\":[-0.021349743586784653],\"yaxis\":\"y\",\"type\":\"scatter\"},{\"hovertemplate\":\"color=gas<br>x=%{x}<br>y=%{y}<extra></extra>\",\"legendgroup\":\"gas\",\"marker\":{\"color\":\"#636efa\",\"symbol\":\"circle\"},\"mode\":\"markers\",\"name\":\"gas\",\"orientation\":\"v\",\"showlegend\":true,\"x\":[0.06885207755265396],\"xaxis\":\"x\",\"y\":[0.08830110887555748],\"yaxis\":\"y\",\"type\":\"scatter\"},{\"hovertemplate\":\"color=electroneum<br>x=%{x}<br>y=%{y}<extra></extra>\",\"legendgroup\":\"electroneum\",\"marker\":{\"color\":\"#EF553B\",\"symbol\":\"circle\"},\"mode\":\"markers\",\"name\":\"electroneum\",\"orientation\":\"v\",\"showlegend\":true,\"x\":[0.06559565902297178],\"xaxis\":\"x\",\"y\":[-0.042231023874929136],\"yaxis\":\"y\",\"type\":\"scatter\"},{\"hovertemplate\":\"color=hyperion<br>x=%{x}<br>y=%{y}<extra></extra>\",\"legendgroup\":\"hyperion\",\"marker\":{\"color\":\"#00cc96\",\"symbol\":\"circle\"},\"mode\":\"markers\",\"name\":\"hyperion\",\"orientation\":\"v\",\"showlegend\":true,\"x\":[0.005477571767032321],\"xaxis\":\"x\",\"y\":[-0.007322368714243196],\"yaxis\":\"y\",\"type\":\"scatter\"},{\"hovertemplate\":\"color=measurable-data-token<br>x=%{x}<br>y=%{y}<extra></extra>\",\"legendgroup\":\"measurable-data-token\",\"marker\":{\"color\":\"#ab63fa\",\"symbol\":\"circle\"},\"mode\":\"markers\",\"name\":\"measurable-data-token\",\"orientation\":\"v\",\"showlegend\":true,\"x\":[0.06592003362387565],\"xaxis\":\"x\",\"y\":[-0.010225456246827459],\"yaxis\":\"y\",\"type\":\"scatter\"},{\"hovertemplate\":\"color=ethlend<br>x=%{x}<br>y=%{y}<extra></extra>\",\"legendgroup\":\"ethlend\",\"marker\":{\"color\":\"#FFA15A\",\"symbol\":\"circle\"},\"mode\":\"markers\",\"name\":\"ethlend\",\"orientation\":\"v\",\"showlegend\":true,\"x\":[0.03894612915696362],\"xaxis\":\"x\",\"y\":[0.022851548786901127],\"yaxis\":\"y\",\"type\":\"scatter\"},{\"hovertemplate\":\"color=lition<br>x=%{x}<br>y=%{y}<extra></extra>\",\"legendgroup\":\"lition\",\"marker\":{\"color\":\"#19d3f3\",\"symbol\":\"circle\"},\"mode\":\"markers\",\"name\":\"lition\",\"orientation\":\"v\",\"showlegend\":true,\"x\":[0.0247358070531725],\"xaxis\":\"x\",\"y\":[-0.02334478285056007],\"yaxis\":\"y\",\"type\":\"scatter\"},{\"hovertemplate\":\"color=mossland<br>x=%{x}<br>y=%{y}<extra></extra>\",\"legendgroup\":\"mossland\",\"marker\":{\"color\":\"#FF6692\",\"symbol\":\"circle\"},\"mode\":\"markers\",\"name\":\"mossland\",\"orientation\":\"v\",\"showlegend\":true,\"x\":[0.06942156000071051],\"xaxis\":\"x\",\"y\":[0.17878934272066307],\"yaxis\":\"y\",\"type\":\"scatter\"},{\"hovertemplate\":\"color=gifto<br>x=%{x}<br>y=%{y}<extra></extra>\",\"legendgroup\":\"gifto\",\"marker\":{\"color\":\"#B6E880\",\"symbol\":\"circle\"},\"mode\":\"markers\",\"name\":\"gifto\",\"orientation\":\"v\",\"showlegend\":true,\"x\":[0.05839384400955807],\"xaxis\":\"x\",\"y\":[0.068580929810211],\"yaxis\":\"y\",\"type\":\"scatter\"},{\"hovertemplate\":\"color=stox<br>x=%{x}<br>y=%{y}<extra></extra>\",\"legendgroup\":\"stox\",\"marker\":{\"color\":\"#FF97FF\",\"symbol\":\"circle\"},\"mode\":\"markers\",\"name\":\"stox\",\"orientation\":\"v\",\"showlegend\":true,\"x\":[0.02304777057538406],\"xaxis\":\"x\",\"y\":[0.004189038184632501],\"yaxis\":\"y\",\"type\":\"scatter\"},{\"hovertemplate\":\"color=chronobank<br>x=%{x}<br>y=%{y}<extra></extra>\",\"legendgroup\":\"chronobank\",\"marker\":{\"color\":\"#FECB52\",\"symbol\":\"circle\"},\"mode\":\"markers\",\"name\":\"chronobank\",\"orientation\":\"v\",\"showlegend\":true,\"x\":[0.03990019671301879],\"xaxis\":\"x\",\"y\":[-0.02949268909140971],\"yaxis\":\"y\",\"type\":\"scatter\"},{\"hovertemplate\":\"color=sonm<br>x=%{x}<br>y=%{y}<extra></extra>\",\"legendgroup\":\"sonm\",\"marker\":{\"color\":\"#636efa\",\"symbol\":\"circle\"},\"mode\":\"markers\",\"name\":\"sonm\",\"orientation\":\"v\",\"showlegend\":true,\"x\":[0.050465820140002324],\"xaxis\":\"x\",\"y\":[0.02924542307790936],\"yaxis\":\"y\",\"type\":\"scatter\"},{\"hovertemplate\":\"color=bitmax-token<br>x=%{x}<br>y=%{y}<extra></extra>\",\"legendgroup\":\"bitmax-token\",\"marker\":{\"color\":\"#EF553B\",\"symbol\":\"circle\"},\"mode\":\"markers\",\"name\":\"bitmax-token\",\"orientation\":\"v\",\"showlegend\":true,\"x\":[0.048976796682977816],\"xaxis\":\"x\",\"y\":[0.0008503556015811075],\"yaxis\":\"y\",\"type\":\"scatter\"},{\"hovertemplate\":\"color=travala<br>x=%{x}<br>y=%{y}<extra></extra>\",\"legendgroup\":\"travala\",\"marker\":{\"color\":\"#00cc96\",\"symbol\":\"circle\"},\"mode\":\"markers\",\"name\":\"travala\",\"orientation\":\"v\",\"showlegend\":true,\"x\":[0.07174398950031201],\"xaxis\":\"x\",\"y\":[-0.013173863833958072],\"yaxis\":\"y\",\"type\":\"scatter\"},{\"hovertemplate\":\"color=komodo<br>x=%{x}<br>y=%{y}<extra></extra>\",\"legendgroup\":\"komodo\",\"marker\":{\"color\":\"#ab63fa\",\"symbol\":\"circle\"},\"mode\":\"markers\",\"name\":\"komodo\",\"orientation\":\"v\",\"showlegend\":true,\"x\":[0.07835091718525436],\"xaxis\":\"x\",\"y\":[0.05347598486824128],\"yaxis\":\"y\",\"type\":\"scatter\"},{\"hovertemplate\":\"color=steem-dollars<br>x=%{x}<br>y=%{y}<extra></extra>\",\"legendgroup\":\"steem-dollars\",\"marker\":{\"color\":\"#FFA15A\",\"symbol\":\"circle\"},\"mode\":\"markers\",\"name\":\"steem-dollars\",\"orientation\":\"v\",\"showlegend\":true,\"x\":[0.05871951327172789],\"xaxis\":\"x\",\"y\":[0.14150123753638902],\"yaxis\":\"y\",\"type\":\"scatter\"},{\"hovertemplate\":\"color=melon<br>x=%{x}<br>y=%{y}<extra></extra>\",\"legendgroup\":\"melon\",\"marker\":{\"color\":\"#19d3f3\",\"symbol\":\"circle\"},\"mode\":\"markers\",\"name\":\"melon\",\"orientation\":\"v\",\"showlegend\":true,\"x\":[0.06196866400950166],\"xaxis\":\"x\",\"y\":[-0.010186033448369661],\"yaxis\":\"y\",\"type\":\"scatter\"},{\"hovertemplate\":\"color=bluzelle<br>x=%{x}<br>y=%{y}<extra></extra>\",\"legendgroup\":\"bluzelle\",\"marker\":{\"color\":\"#FF6692\",\"symbol\":\"circle\"},\"mode\":\"markers\",\"name\":\"bluzelle\",\"orientation\":\"v\",\"showlegend\":true,\"x\":[0.08756297645577975],\"xaxis\":\"x\",\"y\":[2.8743815228817367e-05],\"yaxis\":\"y\",\"type\":\"scatter\"},{\"hovertemplate\":\"color=groestlcoin<br>x=%{x}<br>y=%{y}<extra></extra>\",\"legendgroup\":\"groestlcoin\",\"marker\":{\"color\":\"#B6E880\",\"symbol\":\"circle\"},\"mode\":\"markers\",\"name\":\"groestlcoin\",\"orientation\":\"v\",\"showlegend\":true,\"x\":[0.07370702908755693],\"xaxis\":\"x\",\"y\":[0.16862583987674756],\"yaxis\":\"y\",\"type\":\"scatter\"},{\"hovertemplate\":\"color=tomochain<br>x=%{x}<br>y=%{y}<extra></extra>\",\"legendgroup\":\"tomochain\",\"marker\":{\"color\":\"#FF97FF\",\"symbol\":\"circle\"},\"mode\":\"markers\",\"name\":\"tomochain\",\"orientation\":\"v\",\"showlegend\":true,\"x\":[0.08461650225549244],\"xaxis\":\"x\",\"y\":[-0.031157793820047623],\"yaxis\":\"y\",\"type\":\"scatter\"},{\"hovertemplate\":\"color=bitcoin-diamond<br>x=%{x}<br>y=%{y}<extra></extra>\",\"legendgroup\":\"bitcoin-diamond\",\"marker\":{\"color\":\"#FECB52\",\"symbol\":\"circle\"},\"mode\":\"markers\",\"name\":\"bitcoin-diamond\",\"orientation\":\"v\",\"showlegend\":true,\"x\":[0.0669305892931868],\"xaxis\":\"x\",\"y\":[-0.07152978289224671],\"yaxis\":\"y\",\"type\":\"scatter\"},{\"hovertemplate\":\"color=monacoin<br>x=%{x}<br>y=%{y}<extra></extra>\",\"legendgroup\":\"monacoin\",\"marker\":{\"color\":\"#636efa\",\"symbol\":\"circle\"},\"mode\":\"markers\",\"name\":\"monacoin\",\"orientation\":\"v\",\"showlegend\":true,\"x\":[0.06905788461133584],\"xaxis\":\"x\",\"y\":[-0.05067293485523454],\"yaxis\":\"y\",\"type\":\"scatter\"},{\"hovertemplate\":\"color=bitshares<br>x=%{x}<br>y=%{y}<extra></extra>\",\"legendgroup\":\"bitshares\",\"marker\":{\"color\":\"#EF553B\",\"symbol\":\"circle\"},\"mode\":\"markers\",\"name\":\"bitshares\",\"orientation\":\"v\",\"showlegend\":true,\"x\":[0.0847123561847486],\"xaxis\":\"x\",\"y\":[-0.04098639954742705],\"yaxis\":\"y\",\"type\":\"scatter\"},{\"hovertemplate\":\"color=tpt<br>x=%{x}<br>y=%{y}<extra></extra>\",\"legendgroup\":\"tpt\",\"marker\":{\"color\":\"#00cc96\",\"symbol\":\"circle\"},\"mode\":\"markers\",\"name\":\"tpt\",\"orientation\":\"v\",\"showlegend\":true,\"x\":[0.0505528444709226],\"xaxis\":\"x\",\"y\":[-0.03731800009601909],\"yaxis\":\"y\",\"type\":\"scatter\"},{\"hovertemplate\":\"color=refereum<br>x=%{x}<br>y=%{y}<extra></extra>\",\"legendgroup\":\"refereum\",\"marker\":{\"color\":\"#ab63fa\",\"symbol\":\"circle\"},\"mode\":\"markers\",\"name\":\"refereum\",\"orientation\":\"v\",\"showlegend\":true,\"x\":[0.05272290905308084],\"xaxis\":\"x\",\"y\":[0.16394040106821586],\"yaxis\":\"y\",\"type\":\"scatter\"},{\"hovertemplate\":\"color=v-id<br>x=%{x}<br>y=%{y}<extra></extra>\",\"legendgroup\":\"v-id\",\"marker\":{\"color\":\"#FFA15A\",\"symbol\":\"circle\"},\"mode\":\"markers\",\"name\":\"v-id\",\"orientation\":\"v\",\"showlegend\":true,\"x\":[0.06193153094939041],\"xaxis\":\"x\",\"y\":[-0.007660997301614529],\"yaxis\":\"y\",\"type\":\"scatter\"},{\"hovertemplate\":\"color=aeternity<br>x=%{x}<br>y=%{y}<extra></extra>\",\"legendgroup\":\"aeternity\",\"marker\":{\"color\":\"#19d3f3\",\"symbol\":\"circle\"},\"mode\":\"markers\",\"name\":\"aeternity\",\"orientation\":\"v\",\"showlegend\":true,\"x\":[0.08093840969734134],\"xaxis\":\"x\",\"y\":[-0.02189487406204073],\"yaxis\":\"y\",\"type\":\"scatter\"},{\"hovertemplate\":\"color=streamr-datacoin<br>x=%{x}<br>y=%{y}<extra></extra>\",\"legendgroup\":\"streamr-datacoin\",\"marker\":{\"color\":\"#FF6692\",\"symbol\":\"circle\"},\"mode\":\"markers\",\"name\":\"streamr-datacoin\",\"orientation\":\"v\",\"showlegend\":true,\"x\":[0.077018632987386],\"xaxis\":\"x\",\"y\":[-0.004486191832594629],\"yaxis\":\"y\",\"type\":\"scatter\"},{\"hovertemplate\":\"color=pivx<br>x=%{x}<br>y=%{y}<extra></extra>\",\"legendgroup\":\"pivx\",\"marker\":{\"color\":\"#B6E880\",\"symbol\":\"circle\"},\"mode\":\"markers\",\"name\":\"pivx\",\"orientation\":\"v\",\"showlegend\":true,\"x\":[0.0814458739531465],\"xaxis\":\"x\",\"y\":[-0.0066937348278762136],\"yaxis\":\"y\",\"type\":\"scatter\"},{\"hovertemplate\":\"color=neblio<br>x=%{x}<br>y=%{y}<extra></extra>\",\"legendgroup\":\"neblio\",\"marker\":{\"color\":\"#FF97FF\",\"symbol\":\"circle\"},\"mode\":\"markers\",\"name\":\"neblio\",\"orientation\":\"v\",\"showlegend\":true,\"x\":[0.06559024084001867],\"xaxis\":\"x\",\"y\":[-0.005012519679842439],\"yaxis\":\"y\",\"type\":\"scatter\"}],                        {\"template\":{\"data\":{\"histogram2dcontour\":[{\"type\":\"histogram2dcontour\",\"colorbar\":{\"outlinewidth\":0,\"ticks\":\"\"},\"colorscale\":[[0.0,\"#0d0887\"],[0.1111111111111111,\"#46039f\"],[0.2222222222222222,\"#7201a8\"],[0.3333333333333333,\"#9c179e\"],[0.4444444444444444,\"#bd3786\"],[0.5555555555555556,\"#d8576b\"],[0.6666666666666666,\"#ed7953\"],[0.7777777777777778,\"#fb9f3a\"],[0.8888888888888888,\"#fdca26\"],[1.0,\"#f0f921\"]]}],\"choropleth\":[{\"type\":\"choropleth\",\"colorbar\":{\"outlinewidth\":0,\"ticks\":\"\"}}],\"histogram2d\":[{\"type\":\"histogram2d\",\"colorbar\":{\"outlinewidth\":0,\"ticks\":\"\"},\"colorscale\":[[0.0,\"#0d0887\"],[0.1111111111111111,\"#46039f\"],[0.2222222222222222,\"#7201a8\"],[0.3333333333333333,\"#9c179e\"],[0.4444444444444444,\"#bd3786\"],[0.5555555555555556,\"#d8576b\"],[0.6666666666666666,\"#ed7953\"],[0.7777777777777778,\"#fb9f3a\"],[0.8888888888888888,\"#fdca26\"],[1.0,\"#f0f921\"]]}],\"heatmap\":[{\"type\":\"heatmap\",\"colorbar\":{\"outlinewidth\":0,\"ticks\":\"\"},\"colorscale\":[[0.0,\"#0d0887\"],[0.1111111111111111,\"#46039f\"],[0.2222222222222222,\"#7201a8\"],[0.3333333333333333,\"#9c179e\"],[0.4444444444444444,\"#bd3786\"],[0.5555555555555556,\"#d8576b\"],[0.6666666666666666,\"#ed7953\"],[0.7777777777777778,\"#fb9f3a\"],[0.8888888888888888,\"#fdca26\"],[1.0,\"#f0f921\"]]}],\"heatmapgl\":[{\"type\":\"heatmapgl\",\"colorbar\":{\"outlinewidth\":0,\"ticks\":\"\"},\"colorscale\":[[0.0,\"#0d0887\"],[0.1111111111111111,\"#46039f\"],[0.2222222222222222,\"#7201a8\"],[0.3333333333333333,\"#9c179e\"],[0.4444444444444444,\"#bd3786\"],[0.5555555555555556,\"#d8576b\"],[0.6666666666666666,\"#ed7953\"],[0.7777777777777778,\"#fb9f3a\"],[0.8888888888888888,\"#fdca26\"],[1.0,\"#f0f921\"]]}],\"contourcarpet\":[{\"type\":\"contourcarpet\",\"colorbar\":{\"outlinewidth\":0,\"ticks\":\"\"}}],\"contour\":[{\"type\":\"contour\",\"colorbar\":{\"outlinewidth\":0,\"ticks\":\"\"},\"colorscale\":[[0.0,\"#0d0887\"],[0.1111111111111111,\"#46039f\"],[0.2222222222222222,\"#7201a8\"],[0.3333333333333333,\"#9c179e\"],[0.4444444444444444,\"#bd3786\"],[0.5555555555555556,\"#d8576b\"],[0.6666666666666666,\"#ed7953\"],[0.7777777777777778,\"#fb9f3a\"],[0.8888888888888888,\"#fdca26\"],[1.0,\"#f0f921\"]]}],\"surface\":[{\"type\":\"surface\",\"colorbar\":{\"outlinewidth\":0,\"ticks\":\"\"},\"colorscale\":[[0.0,\"#0d0887\"],[0.1111111111111111,\"#46039f\"],[0.2222222222222222,\"#7201a8\"],[0.3333333333333333,\"#9c179e\"],[0.4444444444444444,\"#bd3786\"],[0.5555555555555556,\"#d8576b\"],[0.6666666666666666,\"#ed7953\"],[0.7777777777777778,\"#fb9f3a\"],[0.8888888888888888,\"#fdca26\"],[1.0,\"#f0f921\"]]}],\"mesh3d\":[{\"type\":\"mesh3d\",\"colorbar\":{\"outlinewidth\":0,\"ticks\":\"\"}}],\"scatter\":[{\"fillpattern\":{\"fillmode\":\"overlay\",\"size\":10,\"solidity\":0.2},\"type\":\"scatter\"}],\"parcoords\":[{\"type\":\"parcoords\",\"line\":{\"colorbar\":{\"outlinewidth\":0,\"ticks\":\"\"}}}],\"scatterpolargl\":[{\"type\":\"scatterpolargl\",\"marker\":{\"colorbar\":{\"outlinewidth\":0,\"ticks\":\"\"}}}],\"bar\":[{\"error_x\":{\"color\":\"#2a3f5f\"},\"error_y\":{\"color\":\"#2a3f5f\"},\"marker\":{\"line\":{\"color\":\"#E5ECF6\",\"width\":0.5},\"pattern\":{\"fillmode\":\"overlay\",\"size\":10,\"solidity\":0.2}},\"type\":\"bar\"}],\"scattergeo\":[{\"type\":\"scattergeo\",\"marker\":{\"colorbar\":{\"outlinewidth\":0,\"ticks\":\"\"}}}],\"scatterpolar\":[{\"type\":\"scatterpolar\",\"marker\":{\"colorbar\":{\"outlinewidth\":0,\"ticks\":\"\"}}}],\"histogram\":[{\"marker\":{\"pattern\":{\"fillmode\":\"overlay\",\"size\":10,\"solidity\":0.2}},\"type\":\"histogram\"}],\"scattergl\":[{\"type\":\"scattergl\",\"marker\":{\"colorbar\":{\"outlinewidth\":0,\"ticks\":\"\"}}}],\"scatter3d\":[{\"type\":\"scatter3d\",\"line\":{\"colorbar\":{\"outlinewidth\":0,\"ticks\":\"\"}},\"marker\":{\"colorbar\":{\"outlinewidth\":0,\"ticks\":\"\"}}}],\"scattermapbox\":[{\"type\":\"scattermapbox\",\"marker\":{\"colorbar\":{\"outlinewidth\":0,\"ticks\":\"\"}}}],\"scatterternary\":[{\"type\":\"scatterternary\",\"marker\":{\"colorbar\":{\"outlinewidth\":0,\"ticks\":\"\"}}}],\"scattercarpet\":[{\"type\":\"scattercarpet\",\"marker\":{\"colorbar\":{\"outlinewidth\":0,\"ticks\":\"\"}}}],\"carpet\":[{\"aaxis\":{\"endlinecolor\":\"#2a3f5f\",\"gridcolor\":\"white\",\"linecolor\":\"white\",\"minorgridcolor\":\"white\",\"startlinecolor\":\"#2a3f5f\"},\"baxis\":{\"endlinecolor\":\"#2a3f5f\",\"gridcolor\":\"white\",\"linecolor\":\"white\",\"minorgridcolor\":\"white\",\"startlinecolor\":\"#2a3f5f\"},\"type\":\"carpet\"}],\"table\":[{\"cells\":{\"fill\":{\"color\":\"#EBF0F8\"},\"line\":{\"color\":\"white\"}},\"header\":{\"fill\":{\"color\":\"#C8D4E3\"},\"line\":{\"color\":\"white\"}},\"type\":\"table\"}],\"barpolar\":[{\"marker\":{\"line\":{\"color\":\"#E5ECF6\",\"width\":0.5},\"pattern\":{\"fillmode\":\"overlay\",\"size\":10,\"solidity\":0.2}},\"type\":\"barpolar\"}],\"pie\":[{\"automargin\":true,\"type\":\"pie\"}]},\"layout\":{\"autotypenumbers\":\"strict\",\"colorway\":[\"#636efa\",\"#EF553B\",\"#00cc96\",\"#ab63fa\",\"#FFA15A\",\"#19d3f3\",\"#FF6692\",\"#B6E880\",\"#FF97FF\",\"#FECB52\"],\"font\":{\"color\":\"#2a3f5f\"},\"hovermode\":\"closest\",\"hoverlabel\":{\"align\":\"left\"},\"paper_bgcolor\":\"white\",\"plot_bgcolor\":\"#E5ECF6\",\"polar\":{\"bgcolor\":\"#E5ECF6\",\"angularaxis\":{\"gridcolor\":\"white\",\"linecolor\":\"white\",\"ticks\":\"\"},\"radialaxis\":{\"gridcolor\":\"white\",\"linecolor\":\"white\",\"ticks\":\"\"}},\"ternary\":{\"bgcolor\":\"#E5ECF6\",\"aaxis\":{\"gridcolor\":\"white\",\"linecolor\":\"white\",\"ticks\":\"\"},\"baxis\":{\"gridcolor\":\"white\",\"linecolor\":\"white\",\"ticks\":\"\"},\"caxis\":{\"gridcolor\":\"white\",\"linecolor\":\"white\",\"ticks\":\"\"}},\"coloraxis\":{\"colorbar\":{\"outlinewidth\":0,\"ticks\":\"\"}},\"colorscale\":{\"sequential\":[[0.0,\"#0d0887\"],[0.1111111111111111,\"#46039f\"],[0.2222222222222222,\"#7201a8\"],[0.3333333333333333,\"#9c179e\"],[0.4444444444444444,\"#bd3786\"],[0.5555555555555556,\"#d8576b\"],[0.6666666666666666,\"#ed7953\"],[0.7777777777777778,\"#fb9f3a\"],[0.8888888888888888,\"#fdca26\"],[1.0,\"#f0f921\"]],\"sequentialminus\":[[0.0,\"#0d0887\"],[0.1111111111111111,\"#46039f\"],[0.2222222222222222,\"#7201a8\"],[0.3333333333333333,\"#9c179e\"],[0.4444444444444444,\"#bd3786\"],[0.5555555555555556,\"#d8576b\"],[0.6666666666666666,\"#ed7953\"],[0.7777777777777778,\"#fb9f3a\"],[0.8888888888888888,\"#fdca26\"],[1.0,\"#f0f921\"]],\"diverging\":[[0,\"#8e0152\"],[0.1,\"#c51b7d\"],[0.2,\"#de77ae\"],[0.3,\"#f1b6da\"],[0.4,\"#fde0ef\"],[0.5,\"#f7f7f7\"],[0.6,\"#e6f5d0\"],[0.7,\"#b8e186\"],[0.8,\"#7fbc41\"],[0.9,\"#4d9221\"],[1,\"#276419\"]]},\"xaxis\":{\"gridcolor\":\"white\",\"linecolor\":\"white\",\"ticks\":\"\",\"title\":{\"standoff\":15},\"zerolinecolor\":\"white\",\"automargin\":true,\"zerolinewidth\":2},\"yaxis\":{\"gridcolor\":\"white\",\"linecolor\":\"white\",\"ticks\":\"\",\"title\":{\"standoff\":15},\"zerolinecolor\":\"white\",\"automargin\":true,\"zerolinewidth\":2},\"scene\":{\"xaxis\":{\"backgroundcolor\":\"#E5ECF6\",\"gridcolor\":\"white\",\"linecolor\":\"white\",\"showbackground\":true,\"ticks\":\"\",\"zerolinecolor\":\"white\",\"gridwidth\":2},\"yaxis\":{\"backgroundcolor\":\"#E5ECF6\",\"gridcolor\":\"white\",\"linecolor\":\"white\",\"showbackground\":true,\"ticks\":\"\",\"zerolinecolor\":\"white\",\"gridwidth\":2},\"zaxis\":{\"backgroundcolor\":\"#E5ECF6\",\"gridcolor\":\"white\",\"linecolor\":\"white\",\"showbackground\":true,\"ticks\":\"\",\"zerolinecolor\":\"white\",\"gridwidth\":2}},\"shapedefaults\":{\"line\":{\"color\":\"#2a3f5f\"}},\"annotationdefaults\":{\"arrowcolor\":\"#2a3f5f\",\"arrowhead\":0,\"arrowwidth\":1},\"geo\":{\"bgcolor\":\"white\",\"landcolor\":\"#E5ECF6\",\"subunitcolor\":\"white\",\"showland\":true,\"showlakes\":true,\"lakecolor\":\"white\"},\"title\":{\"x\":0.05},\"mapbox\":{\"style\":\"light\"}}},\"xaxis\":{\"anchor\":\"y\",\"domain\":[0.0,1.0],\"title\":{\"text\":\"x\"}},\"yaxis\":{\"anchor\":\"x\",\"domain\":[0.0,1.0],\"title\":{\"text\":\"y\"}},\"legend\":{\"title\":{\"text\":\"color\"},\"tracegroupgap\":0},\"title\":{\"text\":\"Latent Relationships Between Different Crypto Tokens\"}},                        {\"responsive\": true}                    ).then(function(){\n",
       "                            \n",
       "var gd = document.getElementById('1fd6048b-9690-4418-8de5-d0e08994c5f2');\n",
       "var x = new MutationObserver(function (mutations, observer) {{\n",
       "        var display = window.getComputedStyle(gd).display;\n",
       "        if (!display || display === 'none') {{\n",
       "            console.log([gd, 'removed!']);\n",
       "            Plotly.purge(gd);\n",
       "            observer.disconnect();\n",
       "        }}\n",
       "}});\n",
       "\n",
       "// Listen for the removal of the full notebook cells\n",
       "var notebookContainer = gd.closest('#notebook-container');\n",
       "if (notebookContainer) {{\n",
       "    x.observe(notebookContainer, {childList: true});\n",
       "}}\n",
       "\n",
       "// Listen for the clearing of the current output cell\n",
       "var outputEl = gd.closest('.output');\n",
       "if (outputEl) {{\n",
       "    x.observe(outputEl, {childList: true});\n",
       "}}\n",
       "\n",
       "                        })                };                });            </script>        </div>"
      ]
     },
     "metadata": {},
     "output_type": "display_data"
    }
   ],
   "source": [
    "U, S, Vt = np.linalg.svd(df2)\n",
    "px.scatter(x = Vt[0, :], y = Vt[1, :], \n",
    "           labels = coin_names, color = coin_names,\n",
    "           title = \"Latent Relationships Between Different Crypto Tokens\")"
   ]
  },
  {
   "cell_type": "code",
   "execution_count": 54,
   "id": "24f53aa6",
   "metadata": {},
   "outputs": [
    {
     "data": {
      "application/vnd.plotly.v1+json": {
       "config": {
        "plotlyServerURL": "https://plot.ly"
       },
       "data": [
        {
         "hovertemplate": "<b>%{hovertext}</b><br><br>x=%{x}<br>y=%{y}<br>color=%{marker.color}<extra></extra>",
         "hovertext": [
          "2019-05-31T00:00:00",
          "2019-06-01T00:00:00",
          "2019-06-02T00:00:00",
          "2019-06-03T00:00:00",
          "2019-06-04T00:00:00",
          "2019-06-05T00:00:00",
          "2019-06-06T00:00:00",
          "2019-06-07T00:00:00",
          "2019-06-08T00:00:00",
          "2019-06-09T00:00:00",
          "2019-06-10T00:00:00",
          "2019-06-11T00:00:00",
          "2019-06-12T00:00:00",
          "2019-06-13T00:00:00",
          "2019-06-14T00:00:00",
          "2019-06-16T00:00:00",
          "2019-06-17T00:00:00",
          "2019-06-18T00:00:00",
          "2019-06-19T00:00:00",
          "2019-06-20T00:00:00",
          "2019-06-21T00:00:00",
          "2019-06-22T00:00:00",
          "2019-06-23T00:00:00",
          "2019-06-24T00:00:00",
          "2019-06-25T00:00:00",
          "2019-06-26T00:00:00",
          "2019-06-27T00:00:00",
          "2019-06-28T00:00:00",
          "2019-06-29T00:00:00",
          "2019-06-30T00:00:00",
          "2019-07-01T00:00:00",
          "2019-07-02T00:00:00",
          "2019-07-03T00:00:00",
          "2019-07-04T00:00:00",
          "2019-07-05T00:00:00",
          "2019-07-06T00:00:00",
          "2019-07-07T00:00:00",
          "2019-07-08T00:00:00",
          "2019-07-09T00:00:00",
          "2019-07-10T00:00:00",
          "2019-07-11T00:00:00",
          "2019-07-12T00:00:00",
          "2019-07-13T00:00:00",
          "2019-07-14T00:00:00",
          "2019-07-15T00:00:00",
          "2019-07-16T00:00:00",
          "2019-07-17T00:00:00",
          "2019-07-18T00:00:00",
          "2019-07-19T00:00:00",
          "2019-07-20T00:00:00",
          "2019-07-21T00:00:00",
          "2019-07-22T00:00:00",
          "2019-07-23T00:00:00",
          "2019-07-24T00:00:00",
          "2019-07-25T00:00:00",
          "2019-07-26T00:00:00",
          "2019-07-27T00:00:00",
          "2019-07-28T00:00:00",
          "2019-07-29T00:00:00",
          "2019-07-30T00:00:00",
          "2019-07-31T00:00:00",
          "2019-08-01T00:00:00",
          "2019-08-02T00:00:00",
          "2019-08-03T00:00:00",
          "2019-08-04T00:00:00",
          "2019-08-05T00:00:00",
          "2019-08-06T00:00:00",
          "2019-08-07T00:00:00",
          "2019-08-08T00:00:00",
          "2019-08-09T00:00:00",
          "2019-08-10T00:00:00",
          "2019-08-11T00:00:00",
          "2019-08-12T00:00:00",
          "2019-08-13T00:00:00",
          "2019-08-14T00:00:00",
          "2019-08-15T00:00:00",
          "2019-08-16T00:00:00",
          "2019-08-17T00:00:00",
          "2019-08-18T00:00:00",
          "2019-08-19T00:00:00",
          "2019-08-20T00:00:00",
          "2019-08-21T00:00:00",
          "2019-08-22T00:00:00",
          "2019-08-23T00:00:00",
          "2019-08-24T00:00:00",
          "2019-08-25T00:00:00",
          "2019-08-26T00:00:00",
          "2019-08-27T00:00:00",
          "2019-08-28T00:00:00",
          "2019-08-29T00:00:00",
          "2019-08-30T00:00:00",
          "2019-08-31T00:00:00",
          "2019-09-01T00:00:00",
          "2019-09-02T00:00:00",
          "2019-09-03T00:00:00",
          "2019-09-04T00:00:00",
          "2019-09-05T00:00:00",
          "2019-09-06T00:00:00",
          "2019-09-07T00:00:00",
          "2019-09-08T00:00:00",
          "2019-09-09T00:00:00",
          "2019-09-10T00:00:00",
          "2019-09-11T00:00:00",
          "2019-09-12T00:00:00",
          "2019-09-13T00:00:00",
          "2019-09-14T00:00:00",
          "2019-09-15T00:00:00",
          "2019-09-16T00:00:00",
          "2019-09-17T00:00:00",
          "2019-09-18T00:00:00",
          "2019-09-19T00:00:00",
          "2019-09-20T00:00:00",
          "2019-09-21T00:00:00",
          "2019-09-22T00:00:00",
          "2019-09-23T00:00:00",
          "2019-09-24T00:00:00",
          "2019-09-25T00:00:00",
          "2019-09-26T00:00:00",
          "2019-09-27T00:00:00",
          "2019-09-28T00:00:00",
          "2019-09-29T00:00:00",
          "2019-09-30T00:00:00",
          "2019-10-01T00:00:00",
          "2019-10-02T00:00:00",
          "2019-10-03T00:00:00",
          "2019-10-04T00:00:00",
          "2019-10-05T00:00:00",
          "2019-10-06T00:00:00",
          "2019-10-07T00:00:00",
          "2019-10-08T00:00:00",
          "2019-10-09T00:00:00",
          "2019-10-10T00:00:00",
          "2019-10-11T00:00:00",
          "2019-10-12T00:00:00",
          "2019-10-13T00:00:00",
          "2019-10-14T00:00:00",
          "2019-10-15T00:00:00",
          "2019-10-16T00:00:00",
          "2019-10-17T00:00:00",
          "2019-10-18T00:00:00",
          "2019-10-19T00:00:00",
          "2019-10-20T00:00:00",
          "2019-10-21T00:00:00",
          "2019-10-22T00:00:00",
          "2019-10-23T00:00:00",
          "2019-10-24T00:00:00",
          "2019-10-25T00:00:00",
          "2019-10-26T00:00:00",
          "2019-10-27T00:00:00",
          "2019-10-28T00:00:00",
          "2019-10-29T00:00:00",
          "2019-10-30T00:00:00",
          "2019-10-31T00:00:00",
          "2019-11-01T00:00:00",
          "2019-11-02T00:00:00",
          "2019-11-03T00:00:00",
          "2019-11-04T00:00:00",
          "2019-11-05T00:00:00",
          "2019-11-06T00:00:00",
          "2019-11-07T00:00:00",
          "2019-11-08T00:00:00",
          "2019-11-09T00:00:00",
          "2019-11-10T00:00:00",
          "2019-11-11T00:00:00",
          "2019-11-12T00:00:00",
          "2019-11-13T00:00:00",
          "2019-11-14T00:00:00",
          "2019-11-15T00:00:00",
          "2019-11-16T00:00:00",
          "2019-11-17T00:00:00",
          "2019-11-18T00:00:00",
          "2019-11-19T00:00:00",
          "2019-11-20T00:00:00",
          "2019-11-21T00:00:00",
          "2019-11-22T00:00:00",
          "2019-11-23T00:00:00",
          "2019-11-24T00:00:00",
          "2019-11-25T00:00:00",
          "2019-11-26T00:00:00",
          "2019-11-27T00:00:00",
          "2019-11-28T00:00:00",
          "2019-11-29T00:00:00",
          "2019-11-30T00:00:00",
          "2019-12-01T00:00:00",
          "2019-12-02T00:00:00",
          "2019-12-03T00:00:00",
          "2019-12-04T00:00:00",
          "2019-12-05T00:00:00",
          "2019-12-06T00:00:00",
          "2019-12-07T00:00:00",
          "2019-12-08T00:00:00",
          "2019-12-09T00:00:00",
          "2019-12-10T00:00:00",
          "2019-12-11T00:00:00",
          "2019-12-12T00:00:00",
          "2019-12-13T00:00:00",
          "2019-12-14T00:00:00",
          "2019-12-15T00:00:00",
          "2019-12-16T00:00:00",
          "2019-12-17T00:00:00",
          "2019-12-18T00:00:00",
          "2019-12-19T00:00:00",
          "2019-12-20T00:00:00",
          "2019-12-21T00:00:00",
          "2019-12-22T00:00:00",
          "2019-12-23T00:00:00",
          "2019-12-24T00:00:00",
          "2019-12-25T00:00:00",
          "2019-12-26T00:00:00",
          "2019-12-27T00:00:00",
          "2019-12-28T00:00:00",
          "2019-12-29T00:00:00",
          "2019-12-30T00:00:00",
          "2019-12-31T00:00:00",
          "2020-01-01T00:00:00",
          "2020-01-02T00:00:00",
          "2020-01-03T00:00:00",
          "2020-01-04T00:00:00",
          "2020-01-05T00:00:00",
          "2020-01-06T00:00:00",
          "2020-01-07T00:00:00",
          "2020-01-08T00:00:00",
          "2020-01-09T00:00:00",
          "2020-01-10T00:00:00",
          "2020-01-11T00:00:00",
          "2020-01-12T00:00:00",
          "2020-01-13T00:00:00",
          "2020-01-14T00:00:00",
          "2020-01-15T00:00:00",
          "2020-01-16T00:00:00",
          "2020-01-17T00:00:00",
          "2020-01-18T00:00:00",
          "2020-01-19T00:00:00",
          "2020-01-20T00:00:00",
          "2020-01-21T00:00:00",
          "2020-01-22T00:00:00",
          "2020-01-23T00:00:00",
          "2020-01-24T00:00:00",
          "2020-01-25T00:00:00",
          "2020-01-26T00:00:00",
          "2020-01-27T00:00:00",
          "2020-01-28T00:00:00",
          "2020-01-29T00:00:00",
          "2020-01-30T00:00:00",
          "2020-01-31T00:00:00",
          "2020-02-01T00:00:00",
          "2020-02-02T00:00:00",
          "2020-02-03T00:00:00",
          "2020-02-04T00:00:00",
          "2020-02-05T00:00:00",
          "2020-02-06T00:00:00",
          "2020-02-07T00:00:00",
          "2020-02-08T00:00:00",
          "2020-02-09T00:00:00",
          "2020-02-10T00:00:00",
          "2020-02-11T00:00:00",
          "2020-02-12T00:00:00",
          "2020-02-13T00:00:00",
          "2020-02-14T00:00:00",
          "2020-02-15T00:00:00",
          "2020-02-16T00:00:00",
          "2020-02-17T00:00:00",
          "2020-02-18T00:00:00",
          "2020-02-19T00:00:00",
          "2020-02-20T00:00:00",
          "2020-02-21T00:00:00",
          "2020-02-22T00:00:00",
          "2020-02-23T00:00:00",
          "2020-02-24T00:00:00",
          "2020-02-25T00:00:00",
          "2020-02-26T00:00:00",
          "2020-02-27T00:00:00",
          "2020-02-28T00:00:00",
          "2020-02-29T00:00:00",
          "2020-03-01T00:00:00",
          "2020-03-02T00:00:00",
          "2020-03-03T00:00:00",
          "2020-03-04T00:00:00",
          "2020-03-05T00:00:00",
          "2020-03-06T00:00:00",
          "2020-03-07T00:00:00",
          "2020-03-08T00:00:00",
          "2020-03-09T00:00:00",
          "2020-03-10T00:00:00",
          "2020-03-11T00:00:00",
          "2020-03-12T00:00:00",
          "2020-03-13T00:00:00",
          "2020-03-14T00:00:00",
          "2020-03-15T00:00:00",
          "2020-03-16T00:00:00",
          "2020-03-17T00:00:00",
          "2020-03-18T00:00:00",
          "2020-03-19T00:00:00",
          "2020-03-20T00:00:00",
          "2020-03-21T00:00:00",
          "2020-03-22T00:00:00",
          "2020-03-23T00:00:00",
          "2020-03-24T00:00:00",
          "2020-03-25T00:00:00",
          "2020-03-26T00:00:00",
          "2020-03-27T00:00:00",
          "2020-03-28T00:00:00",
          "2020-03-29T00:00:00",
          "2020-03-30T00:00:00",
          "2020-03-31T00:00:00",
          "2020-04-01T00:00:00",
          "2020-04-02T00:00:00",
          "2020-04-03T00:00:00",
          "2020-04-04T00:00:00",
          "2020-04-05T00:00:00",
          "2020-04-06T00:00:00",
          "2020-04-07T00:00:00",
          "2020-04-08T00:00:00",
          "2020-04-09T00:00:00",
          "2020-04-10T00:00:00",
          "2020-04-11T00:00:00",
          "2020-04-12T00:00:00",
          "2020-04-13T00:00:00",
          "2020-04-14T00:00:00",
          "2020-04-15T00:00:00",
          "2020-04-16T00:00:00",
          "2020-04-17T00:00:00",
          "2020-04-18T00:00:00",
          "2020-04-19T00:00:00",
          "2020-04-20T00:00:00",
          "2020-04-21T00:00:00",
          "2020-04-22T00:00:00",
          "2020-04-23T00:00:00",
          "2020-04-24T00:00:00",
          "2020-04-25T00:00:00",
          "2020-04-26T00:00:00",
          "2020-04-27T00:00:00",
          "2020-04-28T00:00:00",
          "2020-04-29T00:00:00",
          "2020-04-30T00:00:00",
          "2020-05-01T00:00:00",
          "2020-05-02T00:00:00",
          "2020-05-03T00:00:00",
          "2020-05-04T00:00:00",
          "2020-05-05T00:00:00",
          "2020-05-06T00:00:00",
          "2020-05-07T00:00:00",
          "2020-05-08T00:00:00",
          "2020-05-09T00:00:00",
          "2020-05-10T00:00:00",
          "2020-05-11T00:00:00",
          "2020-05-12T00:00:00",
          "2020-05-13T00:00:00",
          "2020-05-14T00:00:00",
          "2020-05-15T00:00:00",
          "2020-05-16T00:00:00",
          "2020-05-17T00:00:00",
          "2020-05-18T00:00:00",
          "2020-05-19T00:00:00",
          "2020-05-20T00:00:00",
          "2020-05-21T00:00:00",
          "2020-05-22T00:00:00",
          "2020-05-23T00:00:00",
          "2020-05-24T00:00:00",
          "2020-05-25T00:00:00",
          "2020-05-26T00:00:00",
          "2020-05-27T00:00:00",
          "2020-05-28T00:00:00",
          "2020-05-29T00:00:00",
          "2020-05-30T00:00:00",
          "2020-05-31T00:00:00",
          "2020-06-01T00:00:00",
          "2020-06-02T00:00:00",
          "2020-06-03T00:00:00",
          "2020-06-04T00:00:00",
          "2020-06-05T00:00:00",
          "2020-06-06T00:00:00",
          "2020-06-07T00:00:00",
          "2020-06-08T00:00:00",
          "2020-06-09T00:00:00",
          "2020-06-10T00:00:00",
          "2020-06-11T00:00:00",
          "2020-06-12T00:00:00",
          "2020-06-13T00:00:00",
          "2020-06-14T00:00:00",
          "2020-06-15T00:00:00",
          "2020-06-16T00:00:00",
          "2020-06-17T00:00:00",
          "2020-06-18T00:00:00",
          "2020-06-19T00:00:00",
          "2020-06-20T00:00:00",
          "2020-06-21T00:00:00",
          "2020-06-22T00:00:00",
          "2020-06-23T00:00:00",
          "2020-06-24T00:00:00",
          "2020-06-25T00:00:00",
          "2020-06-26T00:00:00",
          "2020-06-27T00:00:00",
          "2020-06-28T00:00:00",
          "2020-06-29T00:00:00",
          "2020-06-30T00:00:00",
          "2020-07-01T00:00:00",
          "2020-07-02T00:00:00",
          "2020-07-03T00:00:00",
          "2020-07-04T00:00:00",
          "2020-07-05T00:00:00",
          "2020-07-06T00:00:00",
          "2020-07-07T00:00:00",
          "2020-07-08T00:00:00",
          "2020-07-09T00:00:00",
          "2020-07-10T00:00:00",
          "2020-07-11T00:00:00",
          "2020-07-12T00:00:00",
          "2020-07-13T00:00:00",
          "2020-07-14T00:00:00",
          "2020-07-15T00:00:00",
          "2020-07-16T00:00:00",
          "2020-07-17T00:00:00",
          "2020-07-18T00:00:00",
          "2020-07-19T00:00:00",
          "2020-07-20T00:00:00",
          "2020-07-21T00:00:00",
          "2020-07-22T00:00:00",
          "2020-07-23T00:00:00",
          "2020-07-24T00:00:00",
          "2020-07-25T00:00:00",
          "2020-07-26T00:00:00",
          "2020-07-27T00:00:00",
          "2020-07-28T00:00:00",
          "2020-07-29T00:00:00",
          "2020-07-30T00:00:00",
          "2020-07-31T00:00:00",
          "2020-08-01T00:00:00",
          "2020-08-02T00:00:00",
          "2020-08-03T00:00:00",
          "2020-08-04T00:00:00",
          "2020-08-05T00:00:00",
          "2020-08-06T00:00:00",
          "2020-08-07T00:00:00",
          "2020-08-08T00:00:00",
          "2020-08-09T00:00:00",
          "2020-08-10T00:00:00",
          "2020-08-11T00:00:00",
          "2020-08-12T00:00:00",
          "2020-08-13T00:00:00",
          "2020-08-14T00:00:00",
          "2020-08-15T00:00:00",
          "2020-08-16T00:00:00",
          "2020-08-17T00:00:00",
          "2020-08-18T00:00:00",
          "2020-08-19T00:00:00",
          "2020-08-20T00:00:00",
          "2020-08-21T00:00:00",
          "2020-08-22T00:00:00",
          "2020-08-23T00:00:00",
          "2020-08-24T00:00:00",
          "2020-08-25T00:00:00",
          "2020-08-26T00:00:00",
          "2020-08-27T00:00:00",
          "2020-08-28T00:00:00",
          "2020-08-29T00:00:00",
          "2020-08-30T00:00:00",
          "2020-08-31T00:00:00",
          "2020-09-01T00:00:00",
          "2020-09-02T00:00:00",
          "2020-09-03T00:00:00",
          "2020-09-04T00:00:00",
          "2020-09-05T00:00:00",
          "2020-09-06T00:00:00",
          "2020-09-07T00:00:00",
          "2020-09-08T00:00:00",
          "2020-09-09T00:00:00",
          "2020-09-10T00:00:00",
          "2020-09-11T00:00:00",
          "2020-09-12T00:00:00",
          "2020-09-13T00:00:00",
          "2020-09-14T00:00:00",
          "2020-09-15T00:00:00",
          "2020-09-16T00:00:00",
          "2020-09-17T00:00:00",
          "2020-09-18T00:00:00",
          "2020-09-19T00:00:00",
          "2020-09-20T00:00:00",
          "2020-09-21T00:00:00",
          "2020-09-22T00:00:00",
          "2020-09-23T00:00:00",
          "2020-09-24T00:00:00",
          "2020-09-25T00:00:00",
          "2020-09-26T00:00:00",
          "2020-09-27T00:00:00",
          "2020-09-28T00:00:00",
          "2020-09-29T00:00:00",
          "2020-09-30T00:00:00",
          "2020-10-01T00:00:00",
          "2020-10-02T00:00:00",
          "2020-10-03T00:00:00",
          "2020-10-04T00:00:00",
          "2020-10-05T00:00:00",
          "2020-10-06T00:00:00",
          "2020-10-07T00:00:00",
          "2020-10-08T00:00:00",
          "2020-10-09T00:00:00",
          "2020-10-10T00:00:00",
          "2020-10-11T00:00:00",
          "2020-10-12T00:00:00",
          "2020-10-13T00:00:00",
          "2020-10-14T00:00:00",
          "2020-10-15T00:00:00",
          "2020-10-16T00:00:00",
          "2020-10-17T00:00:00",
          "2020-10-18T00:00:00",
          "2020-10-19T00:00:00",
          "2020-10-20T00:00:00",
          "2020-10-21T00:00:00",
          "2020-10-22T00:00:00",
          "2020-10-23T00:00:00",
          "2020-10-24T00:00:00",
          "2020-10-25T00:00:00",
          "2020-10-26T00:00:00",
          "2020-10-27T00:00:00",
          "2020-10-28T00:00:00",
          "2020-10-29T00:00:00",
          "2020-10-30T00:00:00",
          "2020-10-31T00:00:00",
          "2020-11-01T00:00:00",
          "2020-11-02T00:00:00",
          "2020-11-03T00:00:00",
          "2020-11-04T00:00:00",
          "2020-11-05T00:00:00",
          "2020-11-06T00:00:00",
          "2020-11-07T00:00:00",
          "2020-11-08T00:00:00",
          "2020-11-09T00:00:00",
          "2020-11-10T00:00:00",
          "2020-11-11T00:00:00",
          "2020-11-12T00:00:00",
          "2020-11-13T00:00:00",
          "2020-11-14T00:00:00",
          "2020-11-15T00:00:00",
          "2020-11-16T00:00:00",
          "2020-11-17T00:00:00",
          "2020-11-18T00:00:00",
          "2020-11-19T00:00:00",
          "2020-11-20T00:00:00",
          "2020-11-21T00:00:00",
          "2020-11-22T00:00:00",
          "2020-11-23T00:00:00",
          "2020-11-24T00:00:00",
          "2020-11-25T00:00:00",
          "2020-11-26T00:00:00",
          "2020-11-27T00:00:00",
          "2020-11-28T00:00:00",
          "2020-11-29T00:00:00",
          "2020-11-30T00:00:00",
          "2020-12-01T00:00:00",
          "2020-12-02T00:00:00",
          "2020-12-03T00:00:00",
          "2020-12-04T00:00:00",
          "2020-12-05T00:00:00",
          "2020-12-06T00:00:00",
          "2020-12-07T00:00:00",
          "2020-12-08T00:00:00",
          "2020-12-09T00:00:00",
          "2020-12-10T00:00:00",
          "2020-12-11T00:00:00",
          "2020-12-12T00:00:00",
          "2020-12-13T00:00:00",
          "2020-12-14T00:00:00",
          "2020-12-15T00:00:00",
          "2020-12-16T00:00:00",
          "2020-12-17T00:00:00",
          "2020-12-18T00:00:00",
          "2020-12-19T00:00:00",
          "2020-12-20T00:00:00",
          "2020-12-21T00:00:00",
          "2020-12-22T00:00:00",
          "2020-12-23T00:00:00",
          "2020-12-24T00:00:00",
          "2020-12-25T00:00:00",
          "2020-12-26T00:00:00",
          "2020-12-27T00:00:00",
          "2020-12-28T00:00:00",
          "2020-12-29T00:00:00",
          "2020-12-30T00:00:00",
          "2020-12-31T00:00:00",
          "2021-01-01T00:00:00",
          "2021-01-02T00:00:00",
          "2021-01-03T00:00:00",
          "2021-01-04T00:00:00",
          "2021-01-05T00:00:00",
          "2021-01-06T00:00:00",
          "2021-01-07T00:00:00",
          "2021-01-08T00:00:00",
          "2021-01-09T00:00:00",
          "2021-01-10T00:00:00",
          "2021-01-11T00:00:00",
          "2021-01-12T00:00:00",
          "2021-01-13T00:00:00",
          "2021-01-14T00:00:00",
          "2021-01-15T00:00:00",
          "2021-01-16T00:00:00",
          "2021-01-17T00:00:00",
          "2021-01-18T00:00:00",
          "2021-01-19T00:00:00",
          "2021-01-20T00:00:00",
          "2021-01-21T00:00:00",
          "2021-01-22T00:00:00",
          "2021-01-23T00:00:00",
          "2021-01-24T00:00:00",
          "2021-01-25T00:00:00",
          "2021-01-26T00:00:00",
          "2021-01-27T00:00:00",
          "2021-01-28T00:00:00",
          "2021-01-29T00:00:00",
          "2021-01-30T00:00:00",
          "2021-01-31T00:00:00",
          "2021-02-01T00:00:00",
          "2021-02-02T00:00:00",
          "2021-02-03T00:00:00",
          "2021-02-04T00:00:00",
          "2021-02-05T00:00:00",
          "2021-02-06T00:00:00",
          "2021-02-07T00:00:00",
          "2021-02-08T00:00:00",
          "2021-02-09T00:00:00",
          "2021-02-10T00:00:00",
          "2021-02-11T00:00:00",
          "2021-02-12T00:00:00",
          "2021-02-13T00:00:00",
          "2021-02-14T00:00:00",
          "2021-02-15T00:00:00",
          "2021-02-16T00:00:00",
          "2021-02-17T00:00:00",
          "2021-02-18T00:00:00",
          "2021-02-19T00:00:00",
          "2021-02-20T00:00:00",
          "2021-02-21T00:00:00",
          "2021-02-22T00:00:00",
          "2021-02-23T00:00:00",
          "2021-02-24T00:00:00",
          "2021-02-25T00:00:00",
          "2021-02-26T00:00:00",
          "2021-02-27T00:00:00",
          "2021-02-28T00:00:00",
          "2021-03-01T00:00:00",
          "2021-03-02T00:00:00",
          "2021-03-03T00:00:00",
          "2021-03-04T00:00:00",
          "2021-03-05T00:00:00",
          "2021-03-06T00:00:00",
          "2021-03-07T00:00:00",
          "2021-03-08T00:00:00",
          "2021-03-09T00:00:00",
          "2021-03-10T00:00:00",
          "2021-03-11T00:00:00",
          "2021-03-12T00:00:00",
          "2021-03-13T00:00:00",
          "2021-03-14T00:00:00",
          "2021-03-15T00:00:00",
          "2021-03-16T00:00:00",
          "2021-03-17T00:00:00",
          "2021-03-18T00:00:00",
          "2021-03-19T00:00:00",
          "2021-03-20T00:00:00",
          "2021-03-21T00:00:00",
          "2021-03-22T00:00:00",
          "2021-03-23T00:00:00",
          "2021-03-24T00:00:00",
          "2021-03-25T00:00:00",
          "2021-03-26T00:00:00",
          "2021-03-27T00:00:00",
          "2021-03-28T00:00:00",
          "2021-03-29T00:00:00",
          "2021-03-30T00:00:00",
          "2021-03-31T00:00:00",
          "2021-04-01T00:00:00",
          "2021-04-02T00:00:00",
          "2021-04-03T00:00:00",
          "2021-04-04T00:00:00",
          "2021-04-05T00:00:00",
          "2021-04-06T00:00:00",
          "2021-04-07T00:00:00",
          "2021-04-08T00:00:00",
          "2021-04-09T00:00:00",
          "2021-04-10T00:00:00",
          "2021-04-11T00:00:00",
          "2021-04-12T00:00:00",
          "2021-04-13T00:00:00",
          "2021-04-14T00:00:00",
          "2021-04-15T00:00:00",
          "2021-04-16T00:00:00",
          "2021-04-17T00:00:00",
          "2021-04-18T00:00:00",
          "2021-04-19T00:00:00",
          "2021-04-20T00:00:00",
          "2021-04-21T00:00:00",
          "2021-04-22T00:00:00",
          "2021-04-23T00:00:00",
          "2021-04-24T00:00:00",
          "2021-04-25T00:00:00",
          "2021-04-26T00:00:00",
          "2021-04-27T00:00:00",
          "2021-04-28T00:00:00",
          "2021-04-29T00:00:00",
          "2021-04-30T00:00:00",
          "2021-05-01T00:00:00",
          "2021-05-02T00:00:00",
          "2021-05-03T00:00:00",
          "2021-05-04T00:00:00",
          "2021-05-05T00:00:00",
          "2021-05-06T00:00:00",
          "2021-05-07T00:00:00",
          "2021-05-08T00:00:00",
          "2021-05-09T00:00:00",
          "2021-05-10T00:00:00",
          "2021-05-11T00:00:00",
          "2021-05-12T00:00:00",
          "2021-05-13T00:00:00",
          "2021-05-14T00:00:00",
          "2021-05-15T00:00:00",
          "2021-05-16T00:00:00",
          "2021-05-17T00:00:00",
          "2021-05-18T00:00:00",
          "2021-05-19T00:00:00",
          "2021-05-21T00:00:00",
          "2021-05-22T00:00:00",
          "2021-05-23T00:00:00",
          "2021-05-24T00:00:00",
          "2021-05-25T00:00:00",
          "2021-05-26T00:00:00",
          "2021-05-27T00:00:00",
          "2021-05-28T00:00:00",
          "2021-05-29T00:00:00",
          "2021-05-30T00:00:00",
          "2021-05-31T00:00:00",
          "2021-06-01T00:00:00",
          "2021-06-02T00:00:00",
          "2021-06-03T00:00:00",
          "2021-06-04T00:00:00",
          "2021-06-05T00:00:00",
          "2021-06-06T00:00:00",
          "2021-06-07T00:00:00",
          "2021-06-08T00:00:00",
          "2021-06-09T00:00:00",
          "2021-06-10T00:00:00",
          "2021-06-11T00:00:00",
          "2021-06-12T00:00:00",
          "2021-06-13T00:00:00",
          "2021-06-14T00:00:00",
          "2021-06-15T00:00:00",
          "2021-06-16T00:00:00",
          "2021-06-17T00:00:00",
          "2021-06-18T00:00:00",
          "2021-06-19T00:00:00",
          "2021-06-20T00:00:00",
          "2021-06-21T00:00:00",
          "2021-06-22T00:00:00",
          "2021-06-23T00:00:00",
          "2021-06-24T00:00:00",
          "2021-06-25T00:00:00",
          "2021-06-26T00:00:00",
          "2021-06-27T00:00:00",
          "2021-06-28T00:00:00",
          "2021-06-29T00:00:00",
          "2021-06-30T00:00:00",
          "2021-07-01T00:00:00",
          "2021-07-02T00:00:00",
          "2021-07-03T00:00:00",
          "2021-07-04T00:00:00",
          "2021-07-05T00:00:00",
          "2021-07-06T00:00:00",
          "2021-07-07T00:00:00",
          "2021-07-08T00:00:00",
          "2021-07-09T00:00:00",
          "2021-07-10T00:00:00",
          "2021-07-11T00:00:00",
          "2021-07-12T00:00:00",
          "2021-07-13T00:00:00",
          "2021-07-14T00:00:00",
          "2021-07-15T00:00:00",
          "2021-07-16T00:00:00",
          "2021-07-17T00:00:00",
          "2021-07-18T00:00:00",
          "2021-07-19T00:00:00",
          "2021-07-20T00:00:00",
          "2021-07-21T00:00:00",
          "2021-07-22T00:00:00",
          "2021-07-23T00:00:00",
          "2021-07-24T00:00:00",
          "2021-07-25T00:00:00",
          "2021-07-26T00:00:00",
          "2021-07-27T00:00:00",
          "2021-07-28T00:00:00",
          "2021-07-29T00:00:00",
          "2021-07-30T00:00:00",
          "2021-07-31T00:00:00",
          "2021-08-01T00:00:00",
          "2021-08-02T00:00:00",
          "2021-08-03T00:00:00",
          "2021-08-04T00:00:00",
          "2021-08-05T00:00:00",
          "2021-08-06T00:00:00",
          "2021-08-07T00:00:00",
          "2021-08-08T00:00:00",
          "2021-08-09T00:00:00",
          "2021-08-10T00:00:00",
          "2021-08-11T00:00:00",
          "2021-08-12T00:00:00",
          "2021-08-13T00:00:00",
          "2021-08-14T00:00:00",
          "2021-08-15T00:00:00",
          "2021-08-16T00:00:00",
          "2021-08-17T00:00:00",
          "2021-08-18T00:00:00",
          "2021-08-19T00:00:00",
          "2021-08-20T00:00:00",
          "2021-08-21T00:00:00",
          "2021-08-22T00:00:00",
          "2021-08-23T00:00:00",
          "2021-08-24T00:00:00",
          "2021-08-25T00:00:00",
          "2021-08-26T00:00:00",
          "2021-08-27T00:00:00",
          "2021-08-28T00:00:00",
          "2021-08-29T00:00:00",
          "2021-08-30T00:00:00",
          "2021-08-31T00:00:00",
          "2021-09-01T00:00:00",
          "2021-09-02T00:00:00",
          "2021-09-03T00:00:00",
          "2021-09-04T00:00:00",
          "2021-09-05T00:00:00",
          "2021-09-06T00:00:00",
          "2021-09-07T00:00:00",
          "2021-09-08T00:00:00",
          "2021-09-09T00:00:00",
          "2021-09-10T00:00:00",
          "2021-09-11T00:00:00",
          "2021-09-12T00:00:00",
          "2021-09-13T00:00:00",
          "2021-09-14T00:00:00",
          "2021-09-15T00:00:00",
          "2021-09-16T00:00:00",
          "2021-09-17T00:00:00",
          "2021-09-18T00:00:00",
          "2021-09-19T00:00:00",
          "2021-09-20T00:00:00",
          "2021-09-21T00:00:00",
          "2021-09-22T00:00:00",
          "2021-09-23T00:00:00",
          "2021-09-24T00:00:00",
          "2021-09-25T00:00:00",
          "2021-09-26T00:00:00",
          "2021-09-27T00:00:00",
          "2021-09-28T00:00:00",
          "2021-09-29T00:00:00",
          "2021-09-30T00:00:00",
          "2021-10-01T00:00:00",
          "2021-10-02T00:00:00",
          "2021-10-03T00:00:00",
          "2021-10-04T00:00:00",
          "2021-10-05T00:00:00",
          "2021-10-06T00:00:00",
          "2021-10-07T00:00:00",
          "2021-10-08T00:00:00",
          "2021-10-09T00:00:00",
          "2021-10-10T00:00:00",
          "2021-10-11T00:00:00",
          "2021-10-12T00:00:00",
          "2021-10-13T00:00:00",
          "2021-10-14T00:00:00",
          "2021-10-15T00:00:00",
          "2021-10-16T00:00:00",
          "2021-10-17T00:00:00",
          "2021-10-18T00:00:00",
          "2021-10-19T00:00:00",
          "2021-10-20T00:00:00",
          "2021-10-21T00:00:00",
          "2021-10-22T00:00:00",
          "2021-10-23T00:00:00",
          "2021-10-24T00:00:00",
          "2021-10-25T00:00:00",
          "2021-10-26T00:00:00",
          "2021-10-27T00:00:00",
          "2021-10-28T00:00:00",
          "2021-10-29T00:00:00",
          "2021-10-30T00:00:00",
          "2021-10-31T00:00:00",
          "2021-11-01T00:00:00",
          "2021-11-02T00:00:00",
          "2021-11-03T00:00:00",
          "2021-11-04T00:00:00",
          "2021-11-05T00:00:00",
          "2021-11-06T00:00:00",
          "2021-11-07T00:00:00",
          "2021-11-08T00:00:00",
          "2021-11-09T00:00:00",
          "2021-11-10T00:00:00",
          "2021-11-11T00:00:00",
          "2021-11-12T00:00:00",
          "2021-11-13T00:00:00",
          "2021-11-14T00:00:00",
          "2021-11-15T00:00:00",
          "2021-11-16T00:00:00",
          "2021-11-17T00:00:00",
          "2021-11-18T00:00:00",
          "2021-11-19T00:00:00",
          "2021-11-20T00:00:00",
          "2021-11-21T00:00:00",
          "2021-11-22T00:00:00",
          "2021-11-23T00:00:00",
          "2021-11-24T00:00:00",
          "2021-11-25T00:00:00",
          "2021-11-26T00:00:00",
          "2021-11-27T00:00:00",
          "2021-11-28T00:00:00",
          "2021-11-29T00:00:00",
          "2021-11-30T00:00:00",
          "2021-12-01T00:00:00",
          "2021-12-02T00:00:00",
          "2021-12-03T00:00:00",
          "2021-12-04T00:00:00",
          "2021-12-05T00:00:00",
          "2021-12-06T00:00:00",
          "2021-12-07T00:00:00",
          "2021-12-08T00:00:00",
          "2021-12-09T00:00:00",
          "2021-12-10T00:00:00",
          "2021-12-11T00:00:00",
          "2021-12-12T00:00:00",
          "2021-12-13T00:00:00",
          "2021-12-14T00:00:00",
          "2021-12-15T00:00:00",
          "2021-12-16T00:00:00",
          "2021-12-17T00:00:00",
          "2021-12-18T00:00:00",
          "2021-12-19T00:00:00",
          "2021-12-20T00:00:00",
          "2021-12-21T00:00:00",
          "2021-12-22T00:00:00",
          "2021-12-23T00:00:00",
          "2021-12-24T00:00:00",
          "2021-12-25T00:00:00",
          "2021-12-26T00:00:00",
          "2021-12-27T00:00:00",
          "2021-12-28T00:00:00",
          "2021-12-29T00:00:00",
          "2021-12-30T00:00:00",
          "2021-12-31T00:00:00",
          "2022-01-01T00:00:00",
          "2022-01-02T00:00:00",
          "2022-01-03T00:00:00",
          "2022-01-04T00:00:00",
          "2022-01-05T00:00:00",
          "2022-01-06T00:00:00",
          "2022-01-07T00:00:00",
          "2022-01-08T00:00:00",
          "2022-01-09T00:00:00",
          "2022-01-10T00:00:00",
          "2022-01-11T00:00:00",
          "2022-01-12T00:00:00",
          "2022-01-13T00:00:00",
          "2022-01-14T00:00:00",
          "2022-01-15T00:00:00",
          "2022-01-16T00:00:00",
          "2022-01-17T00:00:00",
          "2022-01-18T00:00:00",
          "2022-01-19T00:00:00",
          "2022-01-20T00:00:00",
          "2022-01-21T00:00:00",
          "2022-01-22T00:00:00",
          "2022-01-23T00:00:00",
          "2022-01-24T00:00:00",
          "2022-01-25T00:00:00",
          "2022-01-26T00:00:00",
          "2022-01-27T00:00:00",
          "2022-01-28T00:00:00",
          "2022-01-29T00:00:00",
          "2022-01-30T00:00:00",
          "2022-01-31T00:00:00",
          "2022-02-01T00:00:00",
          "2022-02-02T00:00:00",
          "2022-02-03T00:00:00",
          "2022-02-04T00:00:00",
          "2022-02-05T00:00:00",
          "2022-02-06T00:00:00",
          "2022-02-07T00:00:00",
          "2022-02-08T00:00:00",
          "2022-02-09T00:00:00",
          "2022-02-10T00:00:00",
          "2022-02-11T00:00:00",
          "2022-02-12T00:00:00",
          "2022-02-13T00:00:00",
          "2022-02-14T00:00:00",
          "2022-02-15T00:00:00",
          "2022-02-16T00:00:00",
          "2022-02-17T00:00:00",
          "2022-02-18T00:00:00",
          "2022-02-19T00:00:00",
          "2022-02-20T00:00:00",
          "2022-02-21T00:00:00",
          "2022-02-22T00:00:00",
          "2022-02-23T00:00:00",
          "2022-02-24T00:00:00",
          "2022-02-25T00:00:00",
          "2022-02-26T00:00:00",
          "2022-02-27T00:00:00",
          "2022-02-28T00:00:00",
          "2022-03-01T00:00:00",
          "2022-03-02T00:00:00",
          "2022-03-03T00:00:00",
          "2022-03-04T00:00:00",
          "2022-03-05T00:00:00",
          "2022-03-06T00:00:00",
          "2022-03-07T00:00:00",
          "2022-03-08T00:00:00",
          "2022-03-09T00:00:00",
          "2022-03-10T00:00:00",
          "2022-03-11T00:00:00",
          "2022-03-12T00:00:00",
          "2022-03-13T00:00:00",
          "2022-03-14T00:00:00",
          "2022-03-15T00:00:00",
          "2022-03-16T00:00:00",
          "2022-03-17T00:00:00",
          "2022-03-18T00:00:00",
          "2022-03-19T00:00:00",
          "2022-03-20T00:00:00",
          "2022-03-21T00:00:00",
          "2022-03-22T00:00:00",
          "2022-03-23T00:00:00",
          "2022-03-24T00:00:00",
          "2022-03-25T00:00:00",
          "2022-03-26T00:00:00",
          "2022-03-27T00:00:00",
          "2022-03-28T00:00:00",
          "2022-03-29T00:00:00",
          "2022-03-30T00:00:00",
          "2022-03-31T00:00:00",
          "2022-04-01T00:00:00",
          "2022-04-02T00:00:00",
          "2022-04-03T00:00:00",
          "2022-04-04T00:00:00",
          "2022-04-05T00:00:00",
          "2022-04-06T00:00:00",
          "2022-04-07T00:00:00",
          "2022-04-08T00:00:00",
          "2022-04-09T00:00:00",
          "2022-04-10T00:00:00",
          "2022-04-11T00:00:00",
          "2022-04-12T00:00:00",
          "2022-04-13T00:00:00",
          "2022-04-14T00:00:00",
          "2022-04-15T00:00:00",
          "2022-04-16T00:00:00",
          "2022-04-17T00:00:00",
          "2022-04-18T00:00:00",
          "2022-04-19T00:00:00",
          "2022-04-20T00:00:00",
          "2022-04-21T00:00:00",
          "2022-04-22T00:00:00",
          "2022-04-23T00:00:00",
          "2022-04-24T00:00:00",
          "2022-04-25T00:00:00",
          "2022-04-26T00:00:00",
          "2022-04-27T00:00:00",
          "2022-04-28T00:00:00",
          "2022-04-29T00:00:00",
          "2022-04-30T00:00:00",
          "2022-05-01T00:00:00",
          "2022-05-02T00:00:00",
          "2022-05-03T00:00:00",
          "2022-05-04T00:00:00",
          "2022-05-05T00:00:00",
          "2022-05-06T00:00:00",
          "2022-05-07T00:00:00",
          "2022-05-08T00:00:00",
          "2022-05-09T00:00:00",
          "2022-05-10T00:00:00",
          "2022-05-11T00:00:00",
          "2022-05-12T00:00:00",
          "2022-05-13T00:00:00",
          "2022-05-14T00:00:00",
          "2022-05-15T00:00:00",
          "2022-05-16T00:00:00",
          "2022-05-17T00:00:00",
          "2022-05-18T00:00:00",
          "2022-05-19T00:00:00",
          "2022-05-20T00:00:00",
          "2022-05-21T00:00:00",
          "2022-05-22T00:00:00",
          "2022-05-23T00:00:00",
          "2022-05-24T00:00:00",
          "2022-05-25T00:00:00",
          "2022-05-26T00:00:00",
          "2022-05-27T00:00:00",
          "2022-05-28T00:00:00",
          "2022-05-29T00:00:00",
          "2022-05-30T00:00:00",
          "2022-05-31T00:00:00",
          "2022-06-01T00:00:00",
          "2022-06-02T00:00:00",
          "2022-06-03T00:00:00",
          "2022-06-04T00:00:00",
          "2022-06-05T00:00:00",
          "2022-06-06T00:00:00",
          "2022-06-07T00:00:00",
          "2022-06-08T00:00:00",
          "2022-06-09T00:00:00",
          "2022-06-10T00:00:00",
          "2022-06-11T00:00:00",
          "2022-06-12T00:00:00",
          "2022-06-13T00:00:00",
          "2022-06-14T00:00:00",
          "2022-06-15T00:00:00",
          "2022-06-16T00:00:00",
          "2022-06-17T00:00:00",
          "2022-06-18T00:00:00",
          "2022-06-19T00:00:00",
          "2022-06-20T00:00:00",
          "2022-06-21T00:00:00",
          "2022-06-22T00:00:00",
          "2022-06-23T00:00:00",
          "2022-06-24T00:00:00",
          "2022-06-25T00:00:00",
          "2022-06-26T00:00:00",
          "2022-06-27T00:00:00",
          "2022-06-28T00:00:00",
          "2022-06-29T00:00:00",
          "2022-06-30T00:00:00",
          "2022-07-01T00:00:00",
          "2022-07-02T00:00:00",
          "2022-07-03T00:00:00",
          "2022-07-04T00:00:00",
          "2022-07-05T00:00:00",
          "2022-07-06T00:00:00",
          "2022-07-07T00:00:00",
          "2022-07-08T00:00:00",
          "2022-07-09T00:00:00",
          "2022-07-10T00:00:00",
          "2022-07-11T00:00:00",
          "2022-07-12T00:00:00",
          "2022-07-13T00:00:00",
          "2022-07-14T00:00:00",
          "2022-07-15T00:00:00",
          "2022-07-16T00:00:00",
          "2022-07-17T00:00:00",
          "2022-07-18T00:00:00",
          "2022-07-19T00:00:00",
          "2022-07-20T00:00:00",
          "2022-07-21T00:00:00",
          "2022-07-22T00:00:00",
          "2022-07-23T00:00:00",
          "2022-07-24T00:00:00",
          "2022-07-25T00:00:00",
          "2022-07-26T00:00:00",
          "2022-07-27T00:00:00",
          "2022-07-28T00:00:00",
          "2022-07-29T00:00:00",
          "2022-07-30T00:00:00",
          "2022-07-31T00:00:00",
          "2022-08-01T00:00:00",
          "2022-08-02T00:00:00",
          "2022-08-03T00:00:00",
          "2022-08-04T00:00:00",
          "2022-08-05T00:00:00",
          "2022-08-06T00:00:00",
          "2022-08-07T00:00:00",
          "2022-08-08T00:00:00",
          "2022-08-09T00:00:00",
          "2022-08-10T00:00:00",
          "2022-08-11T00:00:00",
          "2022-08-12T00:00:00",
          "2022-08-13T00:00:00",
          "2022-08-14T00:00:00",
          "2022-08-15T00:00:00",
          "2022-08-16T00:00:00",
          "2022-08-17T00:00:00",
          "2022-08-18T00:00:00",
          "2022-08-19T00:00:00",
          "2022-08-20T00:00:00",
          "2022-08-21T00:00:00",
          "2022-08-22T00:00:00",
          "2022-08-23T00:00:00",
          "2022-08-24T00:00:00",
          "2022-08-25T00:00:00",
          "2022-08-26T00:00:00",
          "2022-08-27T00:00:00",
          "2022-08-28T00:00:00",
          "2022-08-29T00:00:00",
          "2022-08-30T00:00:00",
          "2022-08-31T00:00:00",
          "2022-09-01T00:00:00",
          "2022-09-02T00:00:00",
          "2022-09-03T00:00:00",
          "2022-09-04T00:00:00",
          "2022-09-05T00:00:00",
          "2022-09-06T00:00:00",
          "2022-09-07T00:00:00",
          "2022-09-08T00:00:00",
          "2022-09-09T00:00:00",
          "2022-09-10T00:00:00",
          "2022-09-11T00:00:00",
          "2022-09-12T00:00:00",
          "2022-09-13T00:00:00",
          "2022-09-14T00:00:00",
          "2022-09-15T00:00:00",
          "2022-09-16T00:00:00",
          "2022-09-17T00:00:00",
          "2022-09-18T00:00:00",
          "2022-09-19T00:00:00",
          "2022-09-20T00:00:00",
          "2022-09-21T00:00:00",
          "2022-09-22T00:00:00",
          "2022-09-23T00:00:00",
          "2022-09-24T00:00:00",
          "2022-09-25T00:00:00",
          "2022-09-26T00:00:00",
          "2022-09-27T00:00:00",
          "2022-09-28T00:00:00",
          "2022-09-29T00:00:00",
          "2022-09-30T00:00:00",
          "2022-10-01T00:00:00",
          "2022-10-02T00:00:00",
          "2022-10-03T00:00:00",
          "2022-10-04T00:00:00",
          "2022-10-05T00:00:00",
          "2022-10-06T00:00:00",
          "2022-10-07T00:00:00",
          "2022-10-08T00:00:00",
          "2022-10-09T00:00:00",
          "2022-10-10T00:00:00",
          "2022-10-11T00:00:00",
          "2022-10-12T00:00:00",
          "2022-10-13T00:00:00",
          "2022-10-14T00:00:00",
          "2022-10-15T00:00:00",
          "2022-10-16T00:00:00",
          "2022-10-17T00:00:00",
          "2022-10-18T00:00:00",
          "2022-10-19T00:00:00",
          "2022-10-20T00:00:00",
          "2022-10-21T00:00:00",
          "2022-10-22T00:00:00",
          "2022-10-23T00:00:00",
          "2022-10-24T00:00:00",
          "2022-10-25T00:00:00",
          "2022-10-26T00:00:00",
          "2022-10-27T00:00:00",
          "2022-10-28T00:00:00",
          "2022-10-29T00:00:00",
          "2022-10-30T00:00:00",
          "2022-10-31T00:00:00",
          "2022-11-01T00:00:00",
          "2022-11-02T00:00:00",
          "2022-11-03T00:00:00",
          "2022-11-04T00:00:00",
          "2022-11-05T00:00:00",
          "2022-11-06T00:00:00",
          "2022-11-07T00:00:00",
          "2022-11-08T00:00:00",
          "2022-11-09T00:00:00",
          "2022-11-10T00:00:00",
          "2022-11-11T00:00:00",
          "2022-11-12T00:00:00",
          "2022-11-13T00:00:00",
          "2022-11-14T00:00:00",
          "2022-11-15T00:00:00",
          "2022-11-16T00:00:00",
          "2022-11-17T00:00:00",
          "2022-11-18T00:00:00",
          "2022-11-19T00:00:00",
          "2022-11-20T00:00:00",
          "2022-11-21T00:00:00",
          "2022-11-22T00:00:00",
          "2022-11-23T00:00:00",
          "2022-11-24T00:00:00",
          "2022-11-25T00:00:00",
          "2022-11-26T00:00:00",
          "2022-11-27T00:00:00",
          "2022-11-28T00:00:00",
          "2022-11-29T00:00:00",
          "2022-11-30T00:00:00",
          "2022-12-01T00:00:00",
          "2022-12-02T00:00:00",
          "2022-12-03T00:00:00",
          "2022-12-04T00:00:00",
          "2022-12-05T00:00:00",
          "2022-12-06T00:00:00",
          "2022-12-07T00:00:00",
          "2022-12-08T00:00:00",
          "2022-12-09T00:00:00",
          "2022-12-10T00:00:00",
          "2022-12-11T00:00:00",
          "2022-12-12T00:00:00",
          "2022-12-13T00:00:00",
          "2022-12-14T00:00:00",
          "2022-12-15T00:00:00",
          "2022-12-16T00:00:00",
          "2022-12-17T00:00:00",
          "2022-12-18T00:00:00",
          "2022-12-19T00:00:00",
          "2022-12-20T00:00:00",
          "2022-12-21T00:00:00",
          "2022-12-22T00:00:00",
          "2022-12-23T00:00:00",
          "2022-12-24T00:00:00",
          "2022-12-25T00:00:00",
          "2022-12-26T00:00:00",
          "2022-12-27T00:00:00",
          "2022-12-28T00:00:00",
          "2022-12-29T00:00:00",
          "2022-12-30T00:00:00",
          "2022-12-31T00:00:00",
          "2023-01-01T00:00:00",
          "2023-01-02T00:00:00",
          "2023-01-03T00:00:00",
          "2023-01-04T00:00:00",
          "2023-01-05T00:00:00",
          "2023-01-06T00:00:00",
          "2023-01-07T00:00:00",
          "2023-01-08T00:00:00",
          "2023-01-09T00:00:00",
          "2023-01-10T00:00:00",
          "2023-01-11T00:00:00",
          "2023-01-12T00:00:00",
          "2023-01-13T00:00:00",
          "2023-01-14T00:00:00",
          "2023-01-15T00:00:00",
          "2023-01-16T00:00:00",
          "2023-01-17T00:00:00",
          "2023-01-18T00:00:00",
          "2023-01-19T00:00:00",
          "2023-01-20T00:00:00",
          "2023-01-21T00:00:00",
          "2023-01-22T00:00:00",
          "2023-01-23T00:00:00",
          "2023-01-24T00:00:00",
          "2023-01-25T00:00:00",
          "2023-01-26T00:00:00",
          "2023-01-27T00:00:00",
          "2023-01-28T00:00:00",
          "2023-01-29T00:00:00",
          "2023-01-30T00:00:00",
          "2023-01-31T00:00:00",
          "2023-02-01T00:00:00",
          "2023-02-02T00:00:00",
          "2023-02-03T00:00:00",
          "2023-02-04T00:00:00",
          "2023-02-05T00:00:00",
          "2023-02-06T00:00:00",
          "2023-02-07T00:00:00",
          "2023-02-08T00:00:00",
          "2023-02-09T00:00:00",
          "2023-02-10T00:00:00",
          "2023-02-11T00:00:00",
          "2023-02-12T00:00:00",
          "2023-02-13T00:00:00",
          "2023-02-14T00:00:00",
          "2023-02-15T00:00:00",
          "2023-02-16T00:00:00",
          "2023-02-17T00:00:00",
          "2023-02-18T00:00:00",
          "2023-02-19T00:00:00",
          "2023-02-20T00:00:00",
          "2023-02-21T00:00:00",
          "2023-02-22T00:00:00",
          "2023-02-23T00:00:00",
          "2023-02-24T00:00:00",
          "2023-02-25T00:00:00",
          "2023-02-26T00:00:00",
          "2023-02-27T00:00:00",
          "2023-02-28T00:00:00",
          "2023-03-01T00:00:00",
          "2023-03-02T00:00:00",
          "2023-03-03T00:00:00",
          "2023-03-04T00:00:00",
          "2023-03-05T00:00:00"
         ],
         "legendgroup": "",
         "marker": {
          "color": [
           0,
           1,
           2,
           3,
           4,
           5,
           6,
           7,
           8,
           9,
           10,
           11,
           12,
           13,
           14,
           15,
           16,
           17,
           18,
           19,
           20,
           21,
           22,
           23,
           24,
           25,
           26,
           27,
           28,
           29,
           30,
           31,
           32,
           33,
           34,
           35,
           36,
           37,
           38,
           39,
           40,
           41,
           42,
           43,
           44,
           45,
           46,
           47,
           48,
           49,
           50,
           51,
           52,
           53,
           54,
           55,
           56,
           57,
           58,
           59,
           60,
           61,
           62,
           63,
           64,
           65,
           66,
           67,
           68,
           69,
           70,
           71,
           72,
           73,
           74,
           75,
           76,
           77,
           78,
           79,
           80,
           81,
           82,
           83,
           84,
           85,
           86,
           87,
           88,
           89,
           90,
           91,
           92,
           93,
           94,
           95,
           96,
           97,
           98,
           99,
           100,
           101,
           102,
           103,
           104,
           105,
           106,
           107,
           108,
           109,
           110,
           111,
           112,
           113,
           114,
           115,
           116,
           117,
           118,
           119,
           120,
           121,
           122,
           123,
           124,
           125,
           126,
           127,
           128,
           129,
           130,
           131,
           132,
           133,
           134,
           135,
           136,
           137,
           138,
           139,
           140,
           141,
           142,
           143,
           144,
           145,
           146,
           147,
           148,
           149,
           150,
           151,
           152,
           153,
           154,
           155,
           156,
           157,
           158,
           159,
           160,
           161,
           162,
           163,
           164,
           165,
           166,
           167,
           168,
           169,
           170,
           171,
           172,
           173,
           174,
           175,
           176,
           177,
           178,
           179,
           180,
           181,
           182,
           183,
           184,
           185,
           186,
           187,
           188,
           189,
           190,
           191,
           192,
           193,
           194,
           195,
           196,
           197,
           198,
           199,
           200,
           201,
           202,
           203,
           204,
           205,
           206,
           207,
           208,
           209,
           210,
           211,
           212,
           213,
           214,
           215,
           216,
           217,
           218,
           219,
           220,
           221,
           222,
           223,
           224,
           225,
           226,
           227,
           228,
           229,
           230,
           231,
           232,
           233,
           234,
           235,
           236,
           237,
           238,
           239,
           240,
           241,
           242,
           243,
           244,
           245,
           246,
           247,
           248,
           249,
           250,
           251,
           252,
           253,
           254,
           255,
           256,
           257,
           258,
           259,
           260,
           261,
           262,
           263,
           264,
           265,
           266,
           267,
           268,
           269,
           270,
           271,
           272,
           273,
           274,
           275,
           276,
           277,
           278,
           279,
           280,
           281,
           282,
           283,
           284,
           285,
           286,
           287,
           288,
           289,
           290,
           291,
           292,
           293,
           294,
           295,
           296,
           297,
           298,
           299,
           300,
           301,
           302,
           303,
           304,
           305,
           306,
           307,
           308,
           309,
           310,
           311,
           312,
           313,
           314,
           315,
           316,
           317,
           318,
           319,
           320,
           321,
           322,
           323,
           324,
           325,
           326,
           327,
           328,
           329,
           330,
           331,
           332,
           333,
           334,
           335,
           336,
           337,
           338,
           339,
           340,
           341,
           342,
           343,
           344,
           345,
           346,
           347,
           348,
           349,
           350,
           351,
           352,
           353,
           354,
           355,
           356,
           357,
           358,
           359,
           360,
           361,
           362,
           363,
           364,
           365,
           366,
           367,
           368,
           369,
           370,
           371,
           372,
           373,
           374,
           375,
           376,
           377,
           378,
           379,
           380,
           381,
           382,
           383,
           384,
           385,
           386,
           387,
           388,
           389,
           390,
           391,
           392,
           393,
           394,
           395,
           396,
           397,
           398,
           399,
           400,
           401,
           402,
           403,
           404,
           405,
           406,
           407,
           408,
           409,
           410,
           411,
           412,
           413,
           414,
           415,
           416,
           417,
           418,
           419,
           420,
           421,
           422,
           423,
           424,
           425,
           426,
           427,
           428,
           429,
           430,
           431,
           432,
           433,
           434,
           435,
           436,
           437,
           438,
           439,
           440,
           441,
           442,
           443,
           444,
           445,
           446,
           447,
           448,
           449,
           450,
           451,
           452,
           453,
           454,
           455,
           456,
           457,
           458,
           459,
           460,
           461,
           462,
           463,
           464,
           465,
           466,
           467,
           468,
           469,
           470,
           471,
           472,
           473,
           474,
           475,
           476,
           477,
           478,
           479,
           480,
           481,
           482,
           483,
           484,
           485,
           486,
           487,
           488,
           489,
           490,
           491,
           492,
           493,
           494,
           495,
           496,
           497,
           498,
           499,
           500,
           501,
           502,
           503,
           504,
           505,
           506,
           507,
           508,
           509,
           510,
           511,
           512,
           513,
           514,
           515,
           516,
           517,
           518,
           519,
           520,
           521,
           522,
           523,
           524,
           525,
           526,
           527,
           528,
           529,
           530,
           531,
           532,
           533,
           534,
           535,
           536,
           537,
           538,
           539,
           540,
           541,
           542,
           543,
           544,
           545,
           546,
           547,
           548,
           549,
           550,
           551,
           552,
           553,
           554,
           555,
           556,
           557,
           558,
           559,
           560,
           561,
           562,
           563,
           564,
           565,
           566,
           567,
           568,
           569,
           570,
           571,
           572,
           573,
           574,
           575,
           576,
           577,
           578,
           579,
           580,
           581,
           582,
           583,
           584,
           585,
           586,
           587,
           588,
           589,
           590,
           591,
           592,
           593,
           594,
           595,
           596,
           597,
           598,
           599,
           600,
           601,
           602,
           603,
           604,
           605,
           606,
           607,
           608,
           609,
           610,
           611,
           612,
           613,
           614,
           615,
           616,
           617,
           618,
           619,
           620,
           621,
           622,
           623,
           624,
           625,
           626,
           627,
           628,
           629,
           630,
           631,
           632,
           633,
           634,
           635,
           636,
           637,
           638,
           639,
           640,
           641,
           642,
           643,
           644,
           645,
           646,
           647,
           648,
           649,
           650,
           651,
           652,
           653,
           654,
           655,
           656,
           657,
           658,
           659,
           660,
           661,
           662,
           663,
           664,
           665,
           666,
           667,
           668,
           669,
           670,
           671,
           672,
           673,
           674,
           675,
           676,
           677,
           678,
           679,
           680,
           681,
           682,
           683,
           684,
           685,
           686,
           687,
           688,
           689,
           690,
           691,
           692,
           693,
           694,
           695,
           696,
           697,
           698,
           699,
           700,
           701,
           702,
           703,
           704,
           705,
           706,
           707,
           708,
           709,
           710,
           711,
           712,
           713,
           714,
           715,
           716,
           717,
           718,
           719,
           720,
           721,
           722,
           723,
           724,
           725,
           726,
           727,
           728,
           729,
           730,
           731,
           732,
           733,
           734,
           735,
           736,
           737,
           738,
           739,
           740,
           741,
           742,
           743,
           744,
           745,
           746,
           747,
           748,
           749,
           750,
           751,
           752,
           753,
           754,
           755,
           756,
           757,
           758,
           759,
           760,
           761,
           762,
           763,
           764,
           765,
           766,
           767,
           768,
           769,
           770,
           771,
           772,
           773,
           774,
           775,
           776,
           777,
           778,
           779,
           780,
           781,
           782,
           783,
           784,
           785,
           786,
           787,
           788,
           789,
           790,
           791,
           792,
           793,
           794,
           795,
           796,
           797,
           798,
           799,
           800,
           801,
           802,
           803,
           804,
           805,
           806,
           807,
           808,
           809,
           810,
           811,
           812,
           813,
           814,
           815,
           816,
           817,
           818,
           819,
           820,
           821,
           822,
           823,
           824,
           825,
           826,
           827,
           828,
           829,
           830,
           831,
           832,
           833,
           834,
           835,
           836,
           837,
           838,
           839,
           840,
           841,
           842,
           843,
           844,
           845,
           846,
           847,
           848,
           849,
           850,
           851,
           852,
           853,
           854,
           855,
           856,
           857,
           858,
           859,
           860,
           861,
           862,
           863,
           864,
           865,
           866,
           867,
           868,
           869,
           870,
           871,
           872,
           873,
           874,
           875,
           876,
           877,
           878,
           879,
           880,
           881,
           882,
           883,
           884,
           885,
           886,
           887,
           888,
           889,
           890,
           891,
           892,
           893,
           894,
           895,
           896,
           897,
           898,
           899,
           900,
           901,
           902,
           903,
           904,
           905,
           906,
           907,
           908,
           909,
           910,
           911,
           912,
           913,
           914,
           915,
           916,
           917,
           918,
           919,
           920,
           921,
           922,
           923,
           924,
           925,
           926,
           927,
           928,
           929,
           930,
           931,
           932,
           933,
           934,
           935,
           936,
           937,
           938,
           939,
           940,
           941,
           942,
           943,
           944,
           945,
           946,
           947,
           948,
           949,
           950,
           951,
           952,
           953,
           954,
           955,
           956,
           957,
           958,
           959,
           960,
           961,
           962,
           963,
           964,
           965,
           966,
           967,
           968,
           969,
           970,
           971,
           972,
           973,
           974,
           975,
           976,
           977,
           978,
           979,
           980,
           981,
           982,
           983,
           984,
           985,
           986,
           987,
           988,
           989,
           990,
           991,
           992,
           993,
           994,
           995,
           996,
           997,
           998,
           999,
           1000,
           1001,
           1002,
           1003,
           1004,
           1005,
           1006,
           1007,
           1008,
           1009,
           1010,
           1011,
           1012,
           1013,
           1014,
           1015,
           1016,
           1017,
           1018,
           1019,
           1020,
           1021,
           1022,
           1023,
           1024,
           1025,
           1026,
           1027,
           1028,
           1029,
           1030,
           1031,
           1032,
           1033,
           1034,
           1035,
           1036,
           1037,
           1038,
           1039,
           1040,
           1041,
           1042,
           1043,
           1044,
           1045,
           1046,
           1047,
           1048,
           1049,
           1050,
           1051,
           1052,
           1053,
           1054,
           1055,
           1056,
           1057,
           1058,
           1059,
           1060,
           1061,
           1062,
           1063,
           1064,
           1065,
           1066,
           1067,
           1068,
           1069,
           1070,
           1071,
           1072,
           1073,
           1074,
           1075,
           1076,
           1077,
           1078,
           1079,
           1080,
           1081,
           1082,
           1083,
           1084,
           1085,
           1086,
           1087,
           1088,
           1089,
           1090,
           1091,
           1092,
           1093,
           1094,
           1095,
           1096,
           1097,
           1098,
           1099,
           1100,
           1101,
           1102,
           1103,
           1104,
           1105,
           1106,
           1107,
           1108,
           1109,
           1110,
           1111,
           1112,
           1113,
           1114,
           1115,
           1116,
           1117,
           1118,
           1119,
           1120,
           1121,
           1122,
           1123,
           1124,
           1125,
           1126,
           1127,
           1128,
           1129,
           1130,
           1131,
           1132,
           1133,
           1134,
           1135,
           1136,
           1137,
           1138,
           1139,
           1140,
           1141,
           1142,
           1143,
           1144,
           1145,
           1146,
           1147,
           1148,
           1149,
           1150,
           1151,
           1152,
           1153,
           1154,
           1155,
           1156,
           1157,
           1158,
           1159,
           1160,
           1161,
           1162,
           1163,
           1164,
           1165,
           1166,
           1167,
           1168,
           1169,
           1170,
           1171,
           1172,
           1173,
           1174,
           1175,
           1176,
           1177,
           1178,
           1179,
           1180,
           1181,
           1182,
           1183,
           1184,
           1185,
           1186,
           1187,
           1188,
           1189,
           1190,
           1191,
           1192,
           1193,
           1194,
           1195,
           1196,
           1197,
           1198,
           1199,
           1200,
           1201,
           1202,
           1203,
           1204,
           1205,
           1206,
           1207,
           1208,
           1209,
           1210,
           1211,
           1212,
           1213,
           1214,
           1215,
           1216,
           1217,
           1218,
           1219,
           1220,
           1221,
           1222,
           1223,
           1224,
           1225,
           1226,
           1227,
           1228,
           1229,
           1230,
           1231,
           1232,
           1233,
           1234,
           1235,
           1236,
           1237,
           1238,
           1239,
           1240,
           1241,
           1242,
           1243,
           1244,
           1245,
           1246,
           1247,
           1248,
           1249,
           1250,
           1251,
           1252,
           1253,
           1254,
           1255,
           1256,
           1257,
           1258,
           1259,
           1260,
           1261,
           1262,
           1263,
           1264,
           1265,
           1266,
           1267,
           1268,
           1269,
           1270,
           1271,
           1272,
           1273,
           1274,
           1275,
           1276,
           1277,
           1278,
           1279,
           1280,
           1281,
           1282,
           1283,
           1284,
           1285,
           1286,
           1287,
           1288,
           1289,
           1290,
           1291,
           1292,
           1293,
           1294,
           1295,
           1296,
           1297,
           1298,
           1299,
           1300,
           1301,
           1302,
           1303,
           1304,
           1305,
           1306,
           1307,
           1308,
           1309,
           1310,
           1311,
           1312,
           1313,
           1314,
           1315,
           1316,
           1317,
           1318,
           1319,
           1320,
           1321,
           1322,
           1323,
           1324,
           1325,
           1326,
           1327,
           1328,
           1329,
           1330,
           1331,
           1332,
           1333,
           1334,
           1335,
           1336,
           1337,
           1338,
           1339,
           1340,
           1341,
           1342,
           1343,
           1344,
           1345,
           1346,
           1347,
           1348,
           1349,
           1350,
           1351,
           1352,
           1353,
           1354,
           1355,
           1356,
           1357,
           1358,
           1359,
           1360,
           1361,
           1362,
           1363,
           1364,
           1365,
           1366,
           1367,
           1368,
           1369,
           1370,
           1371,
           1372
          ],
          "coloraxis": "coloraxis",
          "symbol": "circle"
         },
         "mode": "markers",
         "name": "",
         "showlegend": false,
         "type": "scattergl",
         "x": [
          -0.02502796749256298,
          0.02753408728083351,
          0.001141740309625147,
          0.013453036338917847,
          -0.03540715901571787,
          -0.026643537362505403,
          0.00979137209388052,
          0.00177976250344062,
          0.005795337974969477,
          -0.0016702683518076827,
          -0.010139088767290229,
          0.026328867090429794,
          -3.038652044739837e-06,
          0.00940576016306392,
          -0.006105592494981027,
          0.00523148688495022,
          0.003082137158519088,
          0.002592043145312118,
          -0.010875018352343096,
          0.013849225076272542,
          -0.010624013768728695,
          0.0036773243442042693,
          0.015698193244036915,
          -0.001040704552658922,
          0.005211013168471468,
          0.006889672830383147,
          -0.014136650359978404,
          -0.056528787997899274,
          0.03141137822029112,
          0.019328841687919058,
          -0.0376562146510428,
          0.01006724049079397,
          -0.013308692924899293,
          0.01987758401506803,
          -0.021348126401524954,
          0.0013933223165198169,
          0.007160477924006511,
          0.012222905253534692,
          -0.0008302961109898785,
          -0.006158786156900799,
          -0.029440814135210686,
          -0.049182884440057556,
          0.027821287436530583,
          -0.017671762726245606,
          -0.07074126695594504,
          0.00570225832003011,
          -0.07412972604851496,
          0.01822751854557875,
          0.040564931860101294,
          0.006316854603868774,
          0.021613124483832083,
          -0.005652825900662196,
          -0.006574451941664543,
          -0.02255845539853787,
          0.003808764002414299,
          0.006859244271904555,
          0.008436741390645486,
          -0.03297448374687508,
          0.00399452854397412,
          0.0026325482631759456,
          0.003535492750349929,
          0.011431475668952178,
          -0.010507242075102584,
          -0.00015125613186057232,
          -0.0003314219290386447,
          -0.002527557606273331,
          0.004072761429783041,
          -0.024299584089318885,
          0.0009049863970222328,
          -0.008003653756968848,
          -0.013379651900965489,
          -0.017104847810637737,
          0.015142383280065431,
          -0.007450569505602874,
          -0.012537201960418623,
          -0.056067694712911405,
          0.011362056026369331,
          -0.00793589297366968,
          2.0408760591282154e-05,
          0.0128732607118081,
          0.013418415886335067,
          -0.011956969149089518,
          -0.01946429408761975,
          0.013488940489138275,
          0.014574450207841214,
          0.004905361933722126,
          -0.010194070454688956,
          0.004733940660159663,
          -0.007562720270006849,
          -0.0470838010680755,
          -0.021090878220802037,
          0.010598837031398384,
          -0.0017683813343300618,
          0.0008849393982195997,
          0.013865607188475345,
          -0.00011534273224064379,
          -0.0070397549986342435,
          -0.0030023769800061966,
          -0.013441710635107951,
          0.02046751868178769,
          0.005613413076563541,
          -0.002097511239118117,
          -0.00904744092177225,
          -0.0073860504394771586,
          0.0014867939807483037,
          0.007925454573403882,
          0.004470046002042266,
          0.0007390170931254053,
          0.0009304622836066948,
          0.01241989529609528,
          0.022499888498732187,
          -0.003325964286022293,
          -0.001372786785768299,
          -0.006051796431083494,
          -0.011603463107030875,
          -0.0320083747428465,
          -0.10563496954616362,
          0.005356965665041913,
          -0.01787499078525963,
          0.017210551752395508,
          0.0055025760916230775,
          -0.01516614837579455,
          0.019274891961805252,
          -0.003783569788049313,
          0.008794090657066243,
          -0.003595968929394846,
          0.004009515057239201,
          0.004156032939285987,
          -0.018674565409795514,
          0.02672803424406487,
          0.013290107645293862,
          0.0181422992892847,
          -0.011164546201928999,
          -0.017136202696023506,
          0.007031429563325575,
          -0.0015361785555031574,
          0.009724014674306605,
          -0.013827125089569223,
          -0.019581777475565342,
          0.011833847455680137,
          -0.0164992925490626,
          0.001397769830684656,
          0.010934822568324608,
          0.0008234109213576972,
          -0.010739757727753638,
          -0.036966157361984484,
          0.007744490252434286,
          0.053104893047284156,
          -0.0018455613882763563,
          0.030009715772013727,
          0.001368903060660012,
          0.009514962982107423,
          -0.0003700222095903726,
          -0.005627331679323639,
          0.007799864144440451,
          0.006402684949624896,
          -0.0010306678636892875,
          0.010467046332830033,
          0.0032936223650982827,
          0.0033064944313301093,
          -0.003966330618926361,
          -0.02551493442620277,
          0.009261210093324274,
          0.010069721608378468,
          -0.012811843014298326,
          0.005513808495732179,
          0.0018226238490844705,
          -0.0023442638776297628,
          -0.009206331828521984,
          0.001505090554273061,
          0.0018428768469253521,
          -0.022200362916885333,
          -0.013759110728071884,
          -0.004139762854701123,
          -0.0410401357850722,
          -0.03842121014685279,
          0.014734635323136767,
          -0.048430799394563524,
          0.017279978176035764,
          0.015928494369752,
          0.03528552342920042,
          0.022872821634709124,
          0.0038851389583031814,
          -0.018388539866481746,
          0.00016189262814850672,
          -0.018554108605065376,
          0.0008525208033800451,
          -0.017682851707384296,
          0.002674987556279504,
          0.010703481646776966,
          -0.00016560345099223374,
          0.00680535618934503,
          -0.01003109315960761,
          -0.03209659618264766,
          0.006430691979742036,
          -0.001649727732337913,
          0.01935800009232035,
          -0.021224728592499787,
          -0.0010334759380026713,
          -0.024573515494692368,
          -0.04566601234516797,
          0.047689354325169464,
          -0.005805927407880024,
          0.007626729616775602,
          -0.007148707160232678,
          0.017976291210268114,
          -0.019468309039396652,
          0.0019259507675983168,
          -0.007770209302783508,
          0.00023244999723099756,
          0.00017908924979647366,
          0.006585693934140088,
          0.005621232652799273,
          -0.009380013157508282,
          -0.009221297333582335,
          0.007664417554784181,
          -0.02037993179365955,
          0.02048996201377999,
          0.007540430169005723,
          0.0006347208053114834,
          0.021229324399206172,
          -0.003977853967515164,
          -0.010001125597795424,
          -0.009492940423331611,
          0.01873076905446016,
          -0.0011337352600563145,
          0.011409864501306141,
          -0.0043572262297456674,
          0.0469091182081784,
          0.021661848995627484,
          -0.004604180441671555,
          0.01924830724758131,
          -0.0071366446751753,
          -0.01836344980184561,
          0.00030597909693527573,
          0.016377289953737745,
          0.01296592612598898,
          -0.019934183200742972,
          0.0034062433525241746,
          -0.007308910961050806,
          0.011429349786700719,
          0.010511586988474292,
          0.02147831718335567,
          -3.7939479381123885e-05,
          0.01725959686883081,
          -0.005673258260676194,
          0.015407627328471344,
          0.007077156229169102,
          0.006064895214368924,
          0.016985273030983156,
          0.020950830515294235,
          0.021983145861749064,
          0.010454404274114298,
          0.0009896066308621215,
          0.019236973067268452,
          -0.004755483934510841,
          0.02797813204447136,
          0.035283182547390754,
          0.007523665709154986,
          0.026553985357312168,
          -0.034200188757210793,
          -0.022057501056444377,
          -0.009144862952057896,
          0.02251558070217627,
          -0.048277867396303985,
          -0.0030920486124304467,
          0.004626422427499046,
          -0.009954821969835794,
          0.027718927913558407,
          -0.03395688534629611,
          -0.040223896888720766,
          -0.058896617593007024,
          0.022978578673775348,
          0.0010249479493749367,
          -0.008700536643559778,
          -0.004561978440043038,
          0.03198646565855508,
          -0.004610433569584877,
          0.007122576086093734,
          0.015092773396870509,
          0.009101720452340544,
          -0.022051813336148973,
          -0.08943839362847666,
          -0.0012185058258377384,
          0.006758581016380775,
          -0.018566870899372694,
          -0.3544989971748584,
          0.10396805723965205,
          -0.016016954582642157,
          0.014802857600052031,
          -0.06904343962263283,
          0.046082811978512675,
          0.0023575610607963096,
          0.09916481587856535,
          -0.0118932779920866,
          0.006954329179192311,
          -0.05009577351835105,
          0.04620266919840333,
          0.01653055640041479,
          -0.004432904215328927,
          0.015519398359716649,
          -0.013517175270316813,
          -0.018794284355155316,
          -0.030340217745149927,
          0.04006375257578928,
          0.010500425348774498,
          0.008686922678839814,
          0.007053225312730798,
          0.003247843134944277,
          0.008343577232847038,
          -0.005884116311717241,
          0.047523839188516215,
          -0.008587107884883803,
          0.02042303251227147,
          0.0022915310747750267,
          -0.04868155712201826,
          0.003379251201621434,
          0.0021567371288053277,
          -0.009037790432790694,
          0.005011960774915247,
          -0.020946249923144474,
          0.03608895132755076,
          0.0010635400094232551,
          0.024301360054422884,
          -0.012936517256270444,
          -0.025075237343429847,
          0.0004283247780764324,
          0.023259379300501166,
          0.017226722072772493,
          0.013264413817963075,
          0.012948133681958232,
          0.011492027969644441,
          -0.0002487889291039576,
          0.002618915127903765,
          0.03694442020681929,
          -0.02109906075778747,
          0.020396316991457223,
          0.013830098833081558,
          -0.014826338713839721,
          -0.005270218458253573,
          0.004846907132942902,
          -0.008961697282265153,
          0.024096547554617667,
          0.01112163371549738,
          -0.006096438741396997,
          -0.05287802841472016,
          -0.010357590177507082,
          0.02484147248132694,
          0.01965158379797985,
          0.009525692543959534,
          -0.012965833994795263,
          0.012421425638265813,
          0.012338300329510095,
          0.013783033956830289,
          0.006773146940387875,
          -0.003235120395757727,
          -0.014978108489469696,
          0.031941005967418265,
          0.00178152193851502,
          -0.014231514682805922,
          0.033785641537810863,
          0.0003079467125290122,
          0.002872700156542129,
          0.014777755008939568,
          -0.0003106735353449756,
          0.02005040562623988,
          -0.017035639379883307,
          0.02944684919230811,
          -0.01488993454494247,
          0.01916787943602042,
          0.006220710527779113,
          -8.710692311300554e-05,
          0.007855268395471683,
          0.0068155773256779,
          0.004927198755594778,
          0.005636299657827717,
          0.016110829530779573,
          -0.05654809487620546,
          0.03351376730161139,
          0.01525378543205842,
          -0.017976620997527625,
          -0.0010796717671519278,
          0.014481514253623373,
          0.002431499744670698,
          -0.0016094720930889463,
          -0.003637168414627202,
          0.004049202943787038,
          -0.0035044650216981134,
          0.02090917766095462,
          0.0007487841383492132,
          -0.016122417173770116,
          -0.0037334329682762917,
          -0.009464765603973203,
          -0.03140547580450211,
          0.01447490538948258,
          0.0065303485730779905,
          -0.003052081733760983,
          0.01056562180181195,
          -0.006109082750440104,
          0.008114206583781721,
          0.010954583500940855,
          -0.003998447455144577,
          0.02665887659224984,
          0.0021162051859176336,
          0.026641949995926725,
          -0.007124734092286022,
          0.0016552818287652368,
          0.010279344208848185,
          0.002922993463022841,
          -0.006329894516161752,
          0.007210672280033228,
          0.0018742439562073009,
          -0.008066380268198616,
          0.010755087754040585,
          0.012193927899603394,
          0.008947423208567095,
          0.003379873480771412,
          0.015678961503799826,
          0.011618084454807366,
          0.0015895004459051134,
          -0.007979235815895701,
          0.010336349930941985,
          -0.006856718634788477,
          -0.01586015244819959,
          0.01943375904627749,
          0.002361062105003705,
          0.008613635061087541,
          0.001668364578054316,
          0.023274709940346094,
          -0.029095309201013247,
          0.017262575791425174,
          0.00855079977958363,
          0.012761125428499435,
          0.01152574179309437,
          -0.003570338271551568,
          0.022746961212780307,
          0.012821715946119359,
          0.02477926374749779,
          -0.03041745486696088,
          0.03028980282001087,
          0.011775483240114133,
          0.015852247109393296,
          0.007530523787635256,
          0.01857323745306446,
          0.006977098328555142,
          -0.012685683735209294,
          -0.03231203561811495,
          0.035287746129218645,
          -0.027124359389084172,
          0.02229855322680106,
          -0.0006657163278248548,
          0.01075813966577166,
          -0.03251484713644603,
          0.01593277229821388,
          -0.02265539027257198,
          0.024553610118769748,
          0.008546427949098186,
          0.009801327282668616,
          -0.000762041829657223,
          0.0016664948679748347,
          -0.03082812747772639,
          -0.11063642335696752,
          0.025171233028826356,
          -0.06098777409261708,
          0.02992998652980532,
          -0.006552162084541157,
          -0.014864489507987548,
          0.02213226475569361,
          0.024629320489341796,
          0.0034735028518221886,
          0.011317369549017894,
          -0.026916834748012458,
          0.009613546834118395,
          -0.025627949493133816,
          -0.0025286773585000352,
          0.0027861769481553307,
          -0.0032714192140120032,
          0.0049550306729425325,
          -0.018472280942050813,
          -0.0514910455288697,
          0.009426351277905195,
          -0.04229029212025236,
          0.04605045822951202,
          0.012912302638697276,
          0.0066422266208124746,
          -0.004348983955985725,
          -0.00219696703573305,
          0.010339604568861852,
          0.001068796649814238,
          -0.009814579515255903,
          -0.022212598109531898,
          0.005027951452772152,
          0.003042768867609548,
          0.00037152255762115834,
          -0.033812960780117474,
          0.007880580909991691,
          0.017909429331809914,
          0.024286246508539326,
          0.0042671795949202505,
          0.005500081748368288,
          0.006666863806794538,
          -0.004727314780903378,
          -0.008437262138061338,
          -0.005445042864822484,
          -0.02239022088857882,
          0.00559899002244186,
          0.009152813512562748,
          -0.006129615549602935,
          -0.022612185057439307,
          0.02336974040915349,
          0.01395620825577544,
          -0.0038408060134134886,
          0.007532296544390702,
          -0.010687899590757943,
          -0.014253271085108862,
          0.0016607776875643878,
          -0.02590366062356952,
          -0.010437085311653323,
          -0.010632752252637372,
          0.004816594469575009,
          0.006260461047799713,
          -0.019935121159147327,
          -0.010940003589217139,
          -0.0007555037649949472,
          0.023444670062095267,
          0.044301751808158915,
          -0.030285586452063855,
          0.02850606992552123,
          0.0037584905691077277,
          0.02117144937321837,
          -0.00836775749433087,
          -0.008503758906074497,
          0.019201751170985663,
          -0.012529641972183989,
          -0.009226434052316913,
          0.016963830001968425,
          0.015742736501710815,
          -0.008915483634683592,
          -0.0016884815484397811,
          0.02312552140245504,
          0.04158806523991726,
          -0.010752252717909817,
          0.03578389293908924,
          0.037182069403435644,
          -0.00952521907469718,
          -0.07096048582091624,
          0.0037288107677614906,
          0.0261293509291171,
          0.004340410752974439,
          0.02157344734026559,
          -0.013714216853104805,
          0.025223009741227966,
          0.009500695098214627,
          -0.04215662028077257,
          0.030362217167277362,
          -0.005071902524405563,
          6.1028777728566626e-05,
          -0.03937351541379182,
          0.009052933755067358,
          -0.013892192433014481,
          -0.01960607224232983,
          0.028007717475685208,
          0.012934621341060269,
          0.0048297592478739135,
          0.002234834473827639,
          0.02377037458771825,
          -0.002528799987700666,
          0.02233746421197687,
          0.0115509659993176,
          -0.015854799753095825,
          -0.02896455554582657,
          0.00937547965049736,
          -0.07990861257109458,
          0.04183044904687175,
          0.005431130330419591,
          0.010479319996080122,
          0.004686792995322824,
          0.016808567620860176,
          -0.010238760515856562,
          -0.0026370604781543513,
          -0.003997479567874236,
          0.01682536507834046,
          0.004354246087974474,
          0.03246390852216146,
          0.006786324622790999,
          0.021652523476173625,
          0.05158687300849388,
          0.015446405079254526,
          0.007294693684643811,
          0.03935140862021253,
          -0.012045003727056131,
          -0.06582232885698065,
          -0.0020608873536616763,
          0.04143330399239372,
          0.015079425512801744,
          -0.002523841178378192,
          0.019453813014551975,
          0.007046998841622318,
          0.02131772443054619,
          -0.00290900460111756,
          0.009157674862030759,
          -0.08351309975145811,
          0.04227258740556686,
          0.01289302955750381,
          0.013805575239549032,
          -0.01085163738322578,
          0.0061386942828618235,
          -0.041227900135938675,
          0.048189480201009764,
          0.023654106266836717,
          0.008073264167638016,
          -0.010074979331160428,
          0.019705420010906145,
          0.023675647261077577,
          0.03651436752147611,
          0.0022568603645039464,
          0.060280420018702124,
          -0.008295048886172563,
          -0.0044777082634072166,
          0.0442327782394473,
          0.05505954369819477,
          0.018258676544987168,
          0.055714091479141324,
          0.04062101611380296,
          0.040550636339030895,
          -0.016903955243502695,
          -0.013033454084187138,
          0.0007683945930770442,
          0.030285112341645985,
          0.046801379094241896,
          0.03903426399897027,
          -0.01561760667709078,
          0.04313604174314194,
          -0.042660440433423916,
          -0.1020442423029609,
          0.033807323502681286,
          -0.03277327366127113,
          -0.00160792651192961,
          0.021345368492657148,
          -0.03322258054056506,
          0.05416611509955442,
          -0.004407849669146537,
          0.03761814040019492,
          -0.01151580945139841,
          0.005460967480299561,
          0.010182777101609088,
          0.020270728737255172,
          0.017116625439073545,
          0.03596939430815635,
          -0.0059486218812435845,
          0.018126096569885758,
          0.0031868552635252482,
          0.0439462833000197,
          -0.01060512718392664,
          0.008060446294234825,
          0.01864307733197501,
          0.024375666974110713,
          0.0029029982514108404,
          0.022620434015185643,
          -0.0027231219216835804,
          0.01112371707390293,
          -0.022903857089500386,
          0.01346400640382762,
          -0.03606770605483432,
          -0.01146405150222657,
          0.049308104463924404,
          0.01463853716095159,
          0.012004018806242809,
          0.037034296701740445,
          0.02255836309171348,
          0.00881882384565272,
          0.017477835680001177,
          0.02424401433824246,
          -0.036253294783821194,
          0.04612259320081557,
          0.022916506297137443,
          0.0005064003701212478,
          -0.054991126803638636,
          0.05372710288234666,
          0.022434070188435386,
          0.009269677838193022,
          0.005547509638941044,
          -0.011195072648389289,
          0.01441956524010432,
          0.000710314625663989,
          0.030508429860837814,
          0.005530315169909457,
          0.0004996697312851117,
          -0.04867125619193913,
          -0.03828483678321457,
          0.01347785692129467,
          -0.020784150197721767,
          -0.06944641787929039,
          -0.011344398212624522,
          -0.03381823007847715,
          0.003462385684938119,
          0.0849929645510297,
          0.043860035462140574,
          -0.01490284745651814,
          0.0015944341210952886,
          0.03781448173800976,
          0.015123176016298739,
          -0.001982166840825671,
          0.021219479455042004,
          -0.04901094217074357,
          0.06035563805894939,
          0.01483019494989507,
          0.002936631037076771,
          0.00579110831031331,
          0.001560765814567212,
          -0.04743342462654042,
          0.041186404725818596,
          -0.09540411791764745,
          0.01287429326980111,
          0.029317236504576853,
          -0.042078044933468735,
          -0.0016890994029031055,
          -0.05075884044373566,
          0.023721006892774735,
          -0.12491664294714158,
          -0.07400162559186646,
          -0.036011031674965006,
          -0.1000224842329146,
          0.11373479991459817,
          0.007451431239348899,
          0.05834069148763095,
          -0.018883217314001992,
          -0.06513608672650652,
          -0.02782940905239593,
          0.017850429607686253,
          0.03742924636850358,
          -0.006714518169043832,
          0.022895212506412195,
          0.028753765323027577,
          -0.04409583365867561,
          -0.016026463253372758,
          0.019880082078884,
          -0.053114601173874766,
          -0.011864646596740256,
          0.03520716036794316,
          -0.024048734851158025,
          -0.03305808551790734,
          -0.02055287968939222,
          0.03270662586774727,
          0.015063708518472208,
          -0.0033165087857766726,
          -0.02346126394186071,
          0.001559619072248055,
          -0.03811876521916071,
          -0.010286920949691246,
          -0.0016152912414390795,
          -0.14547588138265138,
          -0.031698398977387354,
          0.04912928949752675,
          0.03106589779279701,
          -0.051091345482654676,
          0.006584021080657347,
          0.018772943190209508,
          0.03568342634415472,
          0.042969565018461206,
          0.013456013025280862,
          -0.019703210450441475,
          0.0030992012834129344,
          0.015097811292073484,
          0.013627422402273845,
          -0.016221163280073128,
          0.015362695833165593,
          0.0031817341800216207,
          -0.04023413070387401,
          0.010594644533023972,
          -0.006611974306525501,
          0.012281282916223862,
          -0.014099286054708348,
          -0.01416897881157592,
          -0.000775127315239105,
          -0.02458675475465567,
          -0.024299685677163868,
          0.003555468582510766,
          0.0024548486308999676,
          -0.03615511267765304,
          -0.037299619246625206,
          0.05274039654178879,
          0.016590282187988276,
          0.017976988199409134,
          0.01807538506663843,
          0.010117498634946598,
          0.012919558477307849,
          0.020980147316541246,
          0.0035574704325137736,
          0.019683803383105034,
          0.020673680440488562,
          0.016920867834548582,
          -0.013962277254452779,
          0.005219873029893884,
          -0.009447156029193817,
          0.020730310302792283,
          0.019033892562897285,
          0.017888856025427648,
          0.027920661600913808,
          -0.021484950139716387,
          0.025217004771379902,
          0.016048896488432184,
          0.028787972430284695,
          -0.013826185694917621,
          0.04921201267977648,
          0.006901662107774288,
          0.006467244541857686,
          -0.011939884142163104,
          -0.03347749758637715,
          0.0003464474708131406,
          0.031017774507321124,
          0.023455679197648776,
          -0.002590571326434104,
          0.010537528400233838,
          0.02334524192590821,
          -0.030103691926436377,
          0.022011591768922114,
          -0.0445197729605466,
          0.032516566596555545,
          -0.0038444310913542832,
          0.003760417215274039,
          -0.015431390154836045,
          0.010349141760593246,
          0.030888652019468967,
          0.003113527532773281,
          0.020581743335976805,
          0.025938487154685406,
          0.013098082875564448,
          0.010822017943645679,
          -0.10642175677489327,
          0.001911668761817894,
          0.016025538134342827,
          -0.026138374327293254,
          0.0087768438796352,
          0.01693249916429922,
          -0.02636046422052537,
          0.02410828139835196,
          0.0198197041287303,
          -0.008378075215003498,
          -0.015724123838942537,
          0.012785474880729978,
          -0.016063482400430498,
          -0.08237178159433564,
          -0.04273100024888144,
          0.06605477924129803,
          0.015903142065592138,
          -0.043033417969018224,
          -0.005155867091408966,
          -0.009438195225905752,
          -0.020025306617847276,
          -0.027149504903097647,
          0.014340421298121096,
          0.031860562568015935,
          0.0517709032923185,
          0.009017672766026682,
          0.008641527262033164,
          -0.0064018002586514414,
          0.024667651967780334,
          0.0074298495753723414,
          -0.00040253334482687707,
          0.013482333580365534,
          0.004459598699923215,
          -0.020579030245874746,
          0.0007298993490544995,
          -0.014465952527683972,
          0.01682514125838611,
          0.00856203092166337,
          -0.0029299543116468344,
          0.0013310926463368112,
          -0.003798999175444721,
          -0.003868043309433329,
          0.006433382532174073,
          0.024808837786799168,
          -0.010933389648876947,
          0.0060098481042564255,
          0.007533880014415453,
          -0.010417256480789318,
          0.014124237352373212,
          -0.001953723981247668,
          -0.056621665740058634,
          0.03283431410532522,
          0.01862241513191588,
          0.006794515885860429,
          0.014179591757257946,
          0.0057110734952655635,
          0.025322719887701895,
          0.0028289538866877813,
          -0.005910955842633095,
          -0.001714025700544643,
          0.002096657808098916,
          0.011402455723838457,
          0.017760591550925815,
          0.010238449958656193,
          -0.0250696806430379,
          0.01280342054853701,
          -0.004972310934892985,
          0.004930591587836304,
          0.008123719362685737,
          -0.0037312441084825223,
          -0.037662418035382436,
          0.015821104005468888,
          -0.05187407074537882,
          0.03361685095841284,
          0.02397856237732877,
          -0.0008677400979417252,
          -0.021231305176702187,
          0.015990982787164213,
          -0.005284208886008354,
          0.028156983833652588,
          -0.04365857263241622,
          0.013607925446603051,
          0.00131854955229327,
          0.009959097716280618,
          -0.009810368472125812,
          0.004161306547387022,
          -0.0025404190483038123,
          -0.024484064603765933,
          -0.07396918615865154,
          -0.03185900913848543,
          0.016782645082636532,
          0.0032367047397272907,
          0.016114983224667128,
          -0.048090051368216334,
          -0.02026065701126501,
          0.023484758918281633,
          0.0007309524214548776,
          -0.06100100126342314,
          0.014703502763961223,
          0.02017487311952344,
          -0.006623280335491445,
          -0.008310808816579687,
          0.007635943426687704,
          -0.006166559807080372,
          -0.03730824359902922,
          0.047287361245513505,
          0.012674453166510093,
          0.03082894530826879,
          -0.0024777830145660653,
          0.013407777309358236,
          0.0029134857645449416,
          0.001160228560778713,
          -0.04395076232702346,
          -0.016893518492810768,
          0.007644539901785091,
          -0.004095803631393151,
          0.018363751848163135,
          0.01658185983208475,
          -0.008957683127877413,
          -0.004161439652515976,
          -0.03865887499936717,
          -0.004739084526585931,
          -0.02965489424860245,
          -0.016479955156222865,
          0.010639348431399007,
          -0.022136723102894554,
          0.020730872277700835,
          0.02685034424340623,
          -0.019319517701843678,
          0.009930440255481005,
          0.005540054938940229,
          -0.0004286734123199494,
          -0.019721954717192063,
          -0.008974262915908752,
          -0.018888746189098308,
          -0.021166098229906772,
          -0.0819766166058498,
          -0.05261038945488709,
          0.02706241975727164,
          -0.021607300014748514,
          0.0029340898326554086,
          0.009260376233390257,
          -0.0018783800324789332,
          0.017132423766949737,
          0.011874336458624223,
          -0.005233945354538713,
          0.007906955638196449,
          0.0056201442742118924,
          -0.019042062699981346,
          0.012288315600074871,
          0.0468414080492788,
          0.01240028360896327,
          0.012529933377228075,
          0.025372556088953474,
          -0.01126945516097045,
          0.01216299705794565,
          -0.02214107862552431,
          -0.03509451743870514,
          0.0005825833492399493,
          -0.008026224329814457,
          0.002273567794612772,
          0.035505053790287934,
          -0.004623151577498237,
          -0.04725817676331102,
          -0.010334107950135854,
          -0.0028077027502649743,
          -0.03144066780270749,
          -0.04105372689138341,
          0.022712789685621064,
          -0.015380168883298765,
          -0.009834407526883346,
          0.034415102320912605,
          0.01217523436008286,
          -0.025067652801119177,
          0.05134368399568081,
          0.011254789169697231,
          -0.008397854322697471,
          -0.013894730952029165,
          -0.03529399541086977,
          0.006760286320338878,
          -0.01949837987774708,
          -0.006625784587108138,
          0.015516644515069797,
          0.02955038166359196,
          -0.021091173758458297,
          -0.013306052080508295,
          0.003739226196642078,
          -0.014784690887515956,
          0.015290948982104695,
          -0.004860135452811825,
          0.024035237994027524,
          0.0027593748136104353,
          0.013890047700841816,
          0.015022462340313706,
          -0.008351129619228114,
          0.006790806709973238,
          0.020853332869558722,
          0.01137495778795944,
          0.008920432253249691,
          -0.002393848415195227,
          0.021304412055294694,
          0.031596620635285434,
          -0.002681131672022064,
          0.014881000117404267,
          0.013629802236359118,
          -0.007944454486170418,
          0.018014507280042127,
          -0.0004317542800128057,
          0.007945727111579115,
          -0.016270894890930775,
          -0.017757574624321048,
          -0.05868612143696237,
          0.021126455478719094,
          -0.02559613993199941,
          0.011836224648928239,
          -0.014081661201632314,
          -0.054743204784409624,
          0.021125988227927196,
          0.01900977517468296,
          -0.015205086225058385,
          0.00955294207500849,
          -0.0015517036470274748,
          -0.016999080125123568,
          0.011502280198920863,
          0.013773388511442438,
          -0.0015422406888019142,
          -0.0103725402121178,
          -0.003642207530476509,
          -0.004958459280577913,
          -0.009081715186094479,
          -0.0010733185212663436,
          -0.04029602083653561,
          0.01408935965621245,
          -0.0010787384807912693,
          -0.025709905065268823,
          -0.04277726617193989,
          0.015023042243677774,
          -0.007733412484490795,
          -0.009816360765733584,
          0.04744828048236892,
          -0.05182814855032997,
          -0.007065746377809321,
          -0.019048821408343946,
          -0.01771926405098715,
          -0.09413858353981502,
          0.025277760890510453,
          -0.15921675212421832,
          -0.05173265290185064,
          0.05799458661992358,
          0.028032295226868585,
          0.032380919890987306,
          -0.03920607085419149,
          0.031155680237770315,
          -0.05621882883875446,
          0.034481163744427924,
          -0.014003112323750445,
          0.013235790197982992,
          0.025781885082476388,
          -0.02162471224523017,
          0.009373689403077548,
          -0.0069467807723086646,
          -0.033135782828411973,
          -0.02242005529743795,
          0.014227820518219773,
          0.015224441042304516,
          0.049163258142052656,
          -0.0005548782942698126,
          -0.03440230634911199,
          0.021268124887880123,
          -0.01920513907621496,
          0.003444557404200726,
          0.004937187983247176,
          0.01397489004020237,
          -0.0041951394099276505,
          -0.01168897499172649,
          -0.0019236676471406818,
          -0.03503370565018875,
          -0.03875220646407358,
          -0.04666059403000922,
          -0.08099808462770926,
          0.009581472047655649,
          0.03283929783651639,
          -0.05700749234096393,
          0.022658299238889727,
          -0.03534220832184061,
          0.03841800126750239,
          0.017402604765252377,
          0.014372603448919165,
          -0.02064035524246135,
          0.03590927076255997,
          0.022828360323248618,
          0.007404073517408419,
          -0.02655664342170848,
          0.0053180431259311585,
          -0.024078793365657516,
          -0.003566278831617475,
          -0.020968087495645906,
          0.002527936647197869,
          0.0067090589611960875,
          0.0031296222190681823,
          0.01859138304101918,
          -0.010748484831653918,
          0.011322559446181194,
          0.021018865332518115,
          -0.001462861255972553,
          0.017973706674701637,
          -0.02190655471675947,
          -0.0392249920068682,
          -0.016301013428558837,
          0.02631001304258832,
          0.013818847078601953,
          0.006635049425944581,
          0.017644730526769535,
          -0.003039055411288352,
          0.04273576028730294,
          0.016805438352624297,
          -0.02448368623143613,
          0.011494044845869682,
          -0.008312451173522334,
          0.004869004948567632,
          6.677605854750444e-05,
          -0.03565041002622111,
          -0.006274371711555379,
          0.039588477604857675,
          0.02666184928532805,
          0.009092071879220362,
          -0.0018587746187421214,
          0.0021962648993024683,
          0.009756822871195,
          -0.013813977107575471,
          -0.0017098776419379777,
          0.004324299672671432,
          0.0216438998174438,
          -0.0024199269805725418,
          0.004115694647410043,
          0.011505075061632342,
          -0.019740213828745034,
          0.028063095126569855,
          0.0055850811393354845,
          0.01308130960367554,
          0.0014993722102199158,
          -0.010449804900545248,
          -0.008509335080705093,
          -0.004951897420595577,
          -0.017708182463242367,
          -0.015637926775831805,
          -0.06101187251624112,
          0.005431017486093939,
          0.013807990921460733,
          -0.009561645611962889,
          0.009779863276697371,
          -0.0007542674835861382,
          0.012886372438853036,
          -0.04315339355345701,
          -0.0009516366292981818,
          -0.014711502050775567,
          0.024918657840739593,
          -0.012376002512638214,
          0.003750429516032509,
          0.0015845646684210736,
          -0.0017764258140537017,
          0.0006807339435728228,
          0.007538439763498174,
          -8.891644937597187e-05,
          -0.03715020643915655,
          0.022633035415278908,
          0.015392797505260744,
          0.028741081424100336,
          0.005630673538310262,
          0.007127325434151208,
          0.0014934324690311137,
          -0.04590689704612319,
          0.008586773726232951,
          -0.013880731506877925,
          0.0012145250382992584,
          0.012334583743603982,
          -0.04240694356270561,
          0.006898927108040077,
          -0.013564042189739958,
          -0.010072548376555156,
          0.025992770336608875,
          -0.0005676097925417226,
          -0.005180689510840808,
          -0.008946704270452894,
          0.0029386419697421087,
          -0.0016210921386365818,
          0.0009464880934197797,
          0.00165842775026049,
          -0.004055960458725763,
          -0.0011050974810552915,
          -0.012731359656252576,
          0.014439239213219848,
          0.01163103259010968,
          -0.005219257415408165,
          -0.0027500984015164757,
          -0.0038882776255532952,
          0.0005768066097194039,
          0.00231995042052367,
          -0.019409045740813646,
          -0.011633915821245665,
          0.0019356226455436063,
          -0.005705150818147201,
          -0.002644461523840606,
          0.005573755795970579,
          0.007007604126652515,
          0.0112644978333803,
          -0.005198400729877822,
          -0.017324656052209904,
          -0.0031935038716162938,
          0.0034381971321831672,
          0.004016573181382284,
          0.009861010185753475,
          -0.008820069217141787,
          0.01623931840392613,
          0.011067763069552046,
          -0.01017520935582053,
          0.010909665378859727,
          0.009309389498235017,
          -0.006315605074237223,
          0.002131645456901183,
          -0.002680937098791449,
          -0.014777312979694089,
          0.01694558316217532,
          0.03437765416676902,
          0.0011520330762199217,
          -0.022967389568128518,
          0.0017974762281842993,
          -0.08559880900583766,
          -0.12618968614469853,
          0.08573648739041582,
          -0.0233899663564521,
          -0.025504719964711608,
          -0.019619478078725206,
          0.009402324436247918,
          0.013871402528251581,
          -0.010820271897355469,
          -0.002448925550055593,
          0.00511119025504229,
          0.015904548453505144,
          -0.02586426834436516,
          -0.008078244341641045,
          0.01898897342967003,
          0.028968427648724517,
          0.0016769714970836093,
          -0.004744442841114742,
          0.0031843298357641455,
          -0.001963272739332904,
          -0.005463716762343266,
          0.00852578044957576,
          0.02251478547227618,
          -0.0076695260249679395,
          0.006383439598543817,
          -0.010557883553460342,
          0.007211321967416215,
          -0.0031332921873581513,
          0.0005878576118899196,
          -0.017548629549899098,
          0.012749763897966506,
          0.003271362817172201,
          0.005277000953569708,
          -0.010704078969839796,
          -0.003552954124034175,
          0.008948681194878889,
          -0.004658765346529996,
          -0.013802921594603609,
          -0.05239629620917426,
          0.005177394322746236,
          -0.0004640378118414604,
          -0.025281971411440035,
          0.023727585424008362,
          -0.003198849679688712,
          -0.002284063394823724,
          0.00034692393350698743,
          0.0007399765899593887,
          -0.0033792991258659085,
          0.005740440189240407,
          -0.00935751038773352,
          -0.018724034973581234,
          -0.0029694091855265756,
          -0.00539911586416845,
          0.003723085444217009,
          0.0031365164620820616,
          0.008336583529235737,
          -0.00055826559179261,
          0.012769651003305278,
          -0.004774302788500274,
          0.005877818592439495,
          0.003057844909275357,
          0.0164636064377245,
          0.012735839057439946,
          0.011186287875798572,
          0.010666320834501485,
          0.013754224332827667,
          0.025151181897394882,
          0.02581339366189179,
          0.004253466272659973,
          0.0010218709197804673,
          0.004491832386152151,
          -0.03282948116829715,
          0.018074551442650567,
          0.03730677720985289,
          -0.003977890442523859,
          0.006061062851929124,
          0.011714074296750704,
          -0.01950884221776598,
          0.01774943784078639,
          0.003462282513493028,
          0.013770499212001809,
          -0.009420238062656103,
          0.015305051160354308,
          -0.03506828466304941,
          0.008597979610095938,
          0.01976305562767899,
          0.0019859362581734,
          0.01806982081330822,
          0.004121546238097712,
          -0.003688331600402748,
          -0.0032073419844206594,
          0.03070075687768431,
          -0.008001484044190299,
          -0.049603430680021404,
          0.006630640964801608,
          0.014365792347973794,
          -0.008731853838056663,
          -0.014852708110737196,
          0.02034026650554945,
          0.04005508468553776,
          -0.020338690800795745,
          0.02909498527161297,
          0.0026205528219017497,
          0.004931914203163183,
          0.029849093294787927,
          -0.01038294842738693,
          -0.004407495683097418,
          0.0013067297774389842,
          -0.02145832117728679,
          -0.008384535821353945,
          0.013226474493128295,
          -0.0007310739755006449,
          -0.01495700319495956,
          0.02055596915925864,
          -0.01618500689515486,
          -0.03236565585633481,
          -0.011183105638856272
         ],
         "xaxis": "x",
         "y": [
          0.008599276029771851,
          -0.041832018111222856,
          -0.006198910197512326,
          0.014966556658094623,
          0.029023533163569173,
          0.01066816331066287,
          -0.0007614011724084266,
          -0.007361471755588214,
          -0.01665076398133362,
          0.009408392265829998,
          0.05176827453809746,
          -0.022729245572804247,
          0.018995610514410278,
          -0.03807602414628211,
          -0.02870490538432252,
          -0.014692319554948118,
          -0.01260281726504736,
          -0.014481228634605532,
          0.006864375340768935,
          0.0077223621604105095,
          0.006145421164677179,
          -0.03605992039301178,
          -0.03925852973390377,
          -0.007399541278956715,
          0.01135789606015307,
          -0.018361818495518135,
          -0.04376938080465704,
          0.017588262347973435,
          -0.0349984173511985,
          -0.0003390333095135509,
          0.0586098328792477,
          -0.003725628834368108,
          -0.017255924272133363,
          -0.027181773818912864,
          0.007195121563714561,
          -0.0062431264400337055,
          0.01152740637158938,
          -0.007335966302255962,
          -0.03750044441494857,
          -0.0038900815766893583,
          -0.01821597579575931,
          -0.010813219718578205,
          0.005603484986593692,
          0.0008198484740882019,
          0.0006919319939903277,
          -0.01593335499057647,
          -0.004605643702057387,
          -0.022236391319305254,
          -0.014743589983170578,
          0.03922502080067571,
          -0.013414615940651785,
          -0.0050714816330979465,
          0.03869615485514608,
          0.004519064787463305,
          -0.01945500326675038,
          0.008661354440050922,
          -0.005195146874892737,
          0.004748525187200616,
          -0.0026479798553506683,
          0.019743544245577144,
          -0.016735029164529788,
          -0.0205144182294043,
          -0.025106818568835766,
          -0.009074937935217294,
          -0.01886232200820667,
          -0.013859728842320366,
          -0.03668751681055572,
          0.0008805721001702772,
          -0.02429660399399511,
          0.014464532699301199,
          0.01224109989349845,
          -0.012667098488836856,
          -0.01759313980123103,
          0.005865328263762799,
          0.015764509104585985,
          0.010542876826321787,
          -0.017531911046911222,
          -0.013753841320653002,
          -0.0008376719480838017,
          -0.0036755201927562366,
          -0.016067575646399768,
          0.01572919358700282,
          0.02156475511858368,
          -9.866051869550802e-05,
          0.013642000518988508,
          0.04545111767251406,
          -0.016518489994307235,
          -0.008685415566616018,
          -0.014326041517255805,
          0.002734363323209448,
          0.012523873572768834,
          0.012559941191919426,
          0.007694199273311735,
          -0.014386843790903797,
          -0.02809294131852621,
          0.007973261463514802,
          0.01579184517338002,
          -0.005973575110272568,
          0.018812304836434174,
          0.018440775625458188,
          -0.018054473942416042,
          -0.004342229924707425,
          0.008168162875384825,
          -0.002409503199178254,
          -0.009656929378881506,
          -0.0026101719059451124,
          -0.02600537394778244,
          -0.0031448304225684103,
          -0.019009562582177102,
          -0.021041728241155102,
          0.005254894135912713,
          -0.01558286104161955,
          0.0017261892827614312,
          0.015180234950981416,
          0.00566119902332498,
          -0.001084251567982787,
          -0.002318591422895767,
          0.004277167484010088,
          0.001259179297018349,
          -0.008720469324036391,
          0.016525968449929047,
          0.0006185418016766645,
          -0.0074462780846174465,
          0.00902759804944268,
          0.014921399960937127,
          0.02217603365868469,
          0.0032763102599489232,
          0.008847259271068478,
          -0.007899826281323616,
          -0.020664885429660985,
          0.0326301951783824,
          -0.05209799294547831,
          0.005258087022219483,
          0.011154166560396146,
          -0.0006842505833464046,
          -0.0051326910111605195,
          -0.00255273895905298,
          0.006440811247875938,
          -0.00322547818931183,
          0.0068218269864305054,
          -0.003787275023553801,
          0.007956237053510087,
          -0.013841260584347924,
          -0.01155320151303924,
          0.009405073801980553,
          0.003916861114405743,
          0.0027727798653684995,
          -0.05714131927373296,
          -0.024339443896216072,
          -0.005506682672089345,
          0.029363920952394304,
          -0.015826636469608732,
          0.0008784696019521802,
          0.03657258113113941,
          0.0007204353210644811,
          0.0016136378073063823,
          0.005751239032427006,
          -0.005871732685697237,
          -0.021440226550615383,
          -0.006954235615816726,
          -0.003830403332810753,
          -0.006971433243012974,
          -0.003145605381515823,
          0.0038369083398220117,
          0.0005116849322927156,
          -0.008641335616443504,
          -0.0005463653603157741,
          0.02515423820493652,
          0.01929151238463879,
          0.0009672551391147551,
          -0.011538950712954448,
          0.034915445088366054,
          -0.014792372584897216,
          0.015888340075980657,
          -0.004863086536745698,
          0.00433785602279419,
          -0.01137596757329115,
          0.004304269604543819,
          -0.02374349836922532,
          0.0023718788738708745,
          0.08917340021006105,
          0.11221361121075225,
          -0.10186465702100339,
          -0.01950991099803524,
          0.05699019835494526,
          -0.05902928981275942,
          0.014259264745744814,
          -0.010625316858545047,
          -0.05123018780752984,
          -0.009340578402186552,
          -0.006826624540374777,
          0.002809729668660213,
          0.009330297209879318,
          -0.0316738351113316,
          0.007979753962592517,
          -0.010874740722911213,
          0.07225399965513228,
          -0.02973381167626012,
          -0.02700131742902708,
          0.014296334107169205,
          0.0014080724857725203,
          -0.02954858240928224,
          0.0047462856232274855,
          0.007129213872004599,
          -0.004391326346743036,
          0.004381432257114427,
          -0.023563596602146433,
          0.016110833869640965,
          0.010801921542063725,
          -0.0051651630079467305,
          -0.016465178201990574,
          -0.012951068470652697,
          -0.012111941414625326,
          0.00987072007968409,
          -0.010592092504426116,
          -0.002952589656647362,
          0.02513771028450091,
          -0.029837634115348254,
          -0.012769441542251134,
          -0.014842673617839967,
          -0.021324408680725254,
          -0.019703095050234005,
          -0.010855725786208427,
          0.012815779419533734,
          -0.028566960677168032,
          0.003075916144219652,
          -0.010910827013653103,
          0.004994865321558053,
          -0.06641458978062154,
          0.028749639573104516,
          0.0011177136881378473,
          -0.0072968593924783364,
          0.020185194577171505,
          -0.003998962540385185,
          -0.014473080672049773,
          0.04859688429751,
          0.048782363938077854,
          0.02692728123395813,
          0.005856953753533948,
          -0.013170970727891425,
          -0.05030929633420875,
          -0.030299964471141933,
          0.014272107579467588,
          -0.011039558547075423,
          -0.013792302682954276,
          0.0010749378450971693,
          0.012690606950437373,
          -0.011287298497283342,
          0.017971991981495763,
          0.06838835797230007,
          -0.02643497228332749,
          0.0025553514357685237,
          -0.021583030950351665,
          -0.003550619016420454,
          -0.004930780588563221,
          -0.013133883852446073,
          -0.004939980232701721,
          0.08541277808212693,
          0.07420934331816828,
          0.046409244964900134,
          0.061657873416425805,
          -0.05270403915721344,
          0.03268489675356924,
          -0.006238751641633507,
          -0.013997858744845597,
          -0.01878411142941687,
          -0.06280853395102699,
          -0.02562253111878298,
          0.0054743692517747345,
          -0.015618871336692968,
          -0.005608247511814429,
          -0.020738161272649058,
          0.06610134332798813,
          0.04161370547682171,
          0.024120673267846223,
          -0.02354354546761654,
          -0.03271370457723736,
          0.0355778202219468,
          0.012142285064843685,
          -0.024257542820934733,
          -0.029979053340722542,
          -0.007985181492422257,
          0.003718496440005573,
          0.018565150960776468,
          0.011175702771960137,
          -0.021623121436841166,
          0.012290821822466144,
          -0.039464773694558114,
          0.20585658894135672,
          0.000980385290783775,
          -0.018491365339966894,
          -0.0024065074159874936,
          -0.04504305376326881,
          0.0073086623271409355,
          -0.013725873021090927,
          0.020736953153936526,
          -0.005161292287630374,
          -0.05090534647975888,
          -0.007094953616385439,
          0.010764088795577468,
          -0.01769307245384152,
          0.01919265152454225,
          -0.01906943281097783,
          0.020443005108986986,
          -0.023111000715639922,
          0.022206390407321502,
          -0.017643689093182573,
          -0.020683252724276013,
          0.0022328315614442086,
          -0.003497656859348459,
          0.010819811084639887,
          -0.04660568268429227,
          0.013751435825226475,
          -0.021924592614331613,
          0.003639192651825315,
          0.005364413721929666,
          -0.002286048887987658,
          -0.005525751652756873,
          -0.0027449363110031923,
          0.0005575858501542757,
          -0.004320244814266931,
          -0.03243868053936817,
          0.008135681926527364,
          -0.02129565441043572,
          0.008959386770345188,
          0.015618148889265446,
          -0.020290163933328213,
          -0.02028574831053702,
          -0.009805721154443175,
          -0.0012781962807754477,
          0.0032385928342884337,
          0.0005285572221591606,
          0.012136700801927115,
          -0.012917235716363997,
          -0.03968405279531455,
          0.007140741060628504,
          0.02500686627465436,
          -0.007265771447958328,
          0.002669891119061891,
          -0.0008804348552548519,
          0.004229463987215137,
          -0.00242058942613427,
          -0.02721568726788953,
          0.002441819618090833,
          -0.008615948313820824,
          0.008375359417804618,
          -0.00655596243330199,
          -0.015959603716161095,
          -0.022008308324940013,
          0.0033402724104206194,
          0.009552764361501534,
          0.006938257789018376,
          -0.01512170396274684,
          0.027649641389588808,
          0.008839547740486554,
          0.018953957529587496,
          0.04552588045394357,
          0.0010766773874543911,
          -0.021377196360591384,
          0.0299138709972669,
          0.06429934891271315,
          0.010417713480522957,
          -0.04768713117403234,
          -0.03443343205623796,
          0.0002583951135687544,
          -0.03461027853067516,
          0.026970533998002838,
          -0.009367506506809105,
          0.015586514926827584,
          0.012194488909645324,
          0.025557975875059296,
          -0.007003164633530689,
          0.003126924016597169,
          -0.006148797761041601,
          0.004526636468259694,
          -0.004434944956222221,
          -0.006997192442609058,
          -0.04056122242963709,
          0.02638567811778298,
          0.03407843058039389,
          -0.003659998630243955,
          -0.00012837834461657598,
          -0.006779645152729836,
          0.02512835172387501,
          0.021677718311303985,
          -0.0031942377483742024,
          0.005284629681135205,
          0.009847919032488956,
          -0.026953543737685156,
          -0.011486143966710197,
          -0.010745130410022737,
          -0.008995221681211621,
          0.003541376727904854,
          -0.00540043814037176,
          -0.00998317811241759,
          -0.006804658768733168,
          0.0023367770059565013,
          -0.009078528825698498,
          -0.0047619679788712945,
          0.01081801209155811,
          0.0022626855900301775,
          -0.00823003248524174,
          -0.0315829810813096,
          0.006005612356090553,
          -0.017525514797510116,
          0.0018113707433598852,
          0.02077813996242988,
          -0.0011324900840857413,
          -0.009384276254401969,
          -0.0031922059583562395,
          0.006371244791142298,
          0.012565762835547141,
          0.013463411900407167,
          -0.004338526040481404,
          0.014439955728486917,
          0.0169621254198565,
          0.03137047863834972,
          -0.01846749531046804,
          -0.005942520805156122,
          -0.01858735494963374,
          0.004429084861885439,
          -0.04227941970727077,
          -0.024994604702105242,
          -0.058783537767371115,
          0.00619361148029656,
          0.05131091896874724,
          -0.01505099781619469,
          -0.022473202189337675,
          -0.0356976275823019,
          0.01295258546318621,
          -0.0057049860895967445,
          -0.010352177229824063,
          0.002108531787881157,
          0.00988253511004687,
          0.014573159764178415,
          0.013530167199799936,
          0.03209589971050295,
          0.026206828677045352,
          0.008685006325692723,
          -0.023793897209862323,
          -0.031189246088023738,
          -0.0019539231641716726,
          -0.017765496501577323,
          -0.0009351582974967256,
          0.01469619621525766,
          0.02190058243141402,
          -0.014907904366062286,
          -0.000434631788728771,
          0.05356317538110151,
          -0.020051971860109933,
          0.005373052842236952,
          0.010264211539042497,
          0.00955671801696417,
          0.01868867586032911,
          -0.019706188843756335,
          0.0033402303464451057,
          0.026302558959293662,
          -0.028958879732860016,
          -0.009150529394588517,
          -0.04660949318224188,
          0.005320335333001317,
          0.006792993075756422,
          0.005444403296076838,
          0.005059957566610262,
          -0.026262263766214333,
          -0.00965705397475168,
          0.007729439009035009,
          0.007025038930257784,
          0.05514790548353422,
          -0.0012828508343691173,
          -0.004692618728527604,
          -0.012015685464783387,
          -0.0009597826679024781,
          -0.008344046798722285,
          -0.02644635349566752,
          -0.005980750985882239,
          0.02059905028594365,
          0.0033356227259524972,
          0.0019231157637307748,
          -0.009695694523655147,
          -0.013448596008863592,
          -0.007792908507975659,
          -0.007813429405160237,
          -0.004612667070927337,
          0.009046383918775512,
          -0.003622933071450816,
          0.0054087082753842925,
          0.009200700515974216,
          -0.0058096447318152005,
          -0.028599832242550027,
          0.009992197465434104,
          -0.011019939582372991,
          0.0002458839800458064,
          0.016030782222469068,
          -0.003418687577730286,
          0.002107044181588848,
          0.062102071253479725,
          0.029405368016542192,
          -0.004161393722829469,
          -0.012756452254079738,
          -0.0016818158220634372,
          -0.012481763636196484,
          0.0018377247363189787,
          -0.013550134882376465,
          0.009861642360983247,
          0.006391103080935858,
          -0.010670254361893535,
          -0.010823674525550418,
          0.007652994181323216,
          -0.020940497905194515,
          -0.015190981057866433,
          0.02220771939574649,
          0.005030154526509263,
          -0.012224062723853447,
          -0.004457869771893736,
          0.006334254427321197,
          0.0018554445015108298,
          -0.008831182891482174,
          -0.02096510193192128,
          -0.0053193097616737895,
          -0.000457834009399048,
          0.006302627139505492,
          -0.010505106146779864,
          0.006720278085629211,
          -0.005544828722943195,
          0.0257224639860681,
          -0.001179870898266569,
          0.010086813775568231,
          0.06108700966975793,
          0.013027552929209476,
          -0.017005365758662388,
          -0.008132542795242276,
          0.003209584401659524,
          -0.003286063127672447,
          -0.001006185201733692,
          -0.029355568173234908,
          -0.04483344166004471,
          0.005730832132773482,
          -0.010967362289993598,
          -0.019596369959521395,
          -0.04726459286302187,
          0.03255081399129234,
          -0.03022555251539225,
          0.0048703661774841716,
          0.10589824851919499,
          -0.011913617126727439,
          -0.004048923646309378,
          -0.005287382868217581,
          -0.021297017482820833,
          -0.03546840515793662,
          0.13471975192329136,
          0.024245029171507886,
          -0.01641058356718488,
          -0.013378924558744792,
          0.026614655768254888,
          -0.0009526414243738948,
          0.025501152516035363,
          -0.01905307508235811,
          -0.015810654700179935,
          -0.009625226877309394,
          -0.020643553815677982,
          0.01664252269629688,
          -0.013069735623948007,
          0.00040791229793178224,
          -0.00024451889630673336,
          -0.0461135943254725,
          -0.016355676539555254,
          0.03250456589804794,
          0.04828054111366655,
          -0.02974278422421187,
          0.007420283916996742,
          -0.015396588107423368,
          -0.014935539061002123,
          0.0006293892214678972,
          -0.019274053108263443,
          -7.156946289312026e-05,
          0.015494183174074782,
          -0.011610655925842404,
          -0.01255138684602956,
          0.011292322505825528,
          0.00915701457828812,
          0.0633180816669711,
          -0.027191318148814023,
          -0.07488686344329347,
          -0.03119864399741732,
          -0.025887021452556447,
          -0.04641774465504738,
          0.039021146659904374,
          0.008123726662292597,
          -0.04365285584449296,
          -0.03430184149845695,
          0.007558467965029392,
          0.018950283388914628,
          -0.037153521887095926,
          0.012953485829793021,
          0.0014474598351005255,
          0.019739442718437476,
          4.6281163251914936e-05,
          0.004251309927915502,
          0.01899583592870109,
          0.012235541235979305,
          0.02572188816738506,
          -0.03391971166728721,
          -0.0068452205240761834,
          0.0011986919548870746,
          0.016925429839364084,
          -0.00827500169048507,
          0.006262059973808474,
          -0.02207720026716241,
          -0.02111019552095842,
          -0.014356559486763907,
          0.009939549357100664,
          -0.03748843505400106,
          0.016007004958352136,
          0.008299257409363865,
          0.02082983954090795,
          0.018001485158129268,
          -0.02280885434748681,
          -0.01672693705431144,
          -0.05374644710785685,
          0.0033781604471239653,
          -0.00400752868793817,
          0.0198733276939646,
          0.01666854257814205,
          0.007779469229162953,
          0.013815860983969436,
          0.010459847591930565,
          0.007779874398717422,
          0.0038920915963193336,
          0.149903334049846,
          -0.03417466819460335,
          0.007526307643709645,
          0.029891932228393245,
          -0.018104102490048218,
          -0.08478106851937248,
          0.03234859947958585,
          0.049275385189782216,
          0.059026238882061224,
          0.04392193382201471,
          -0.021834193027509007,
          -0.02464130680747409,
          0.01267523154821144,
          0.04748080709516613,
          0.04081097942336046,
          0.031021353658021826,
          6.1801413833357454e-06,
          -0.02605645365711052,
          -0.005166847407953823,
          0.03649108197232806,
          0.0358910660379327,
          0.006797023581290176,
          0.08344926512082483,
          0.052260037560808964,
          0.05649968931911363,
          0.07349201648153121,
          0.024185438876441714,
          -0.019640500312357246,
          0.025954202159286663,
          0.08873144946999556,
          -0.030950588081328674,
          0.07839947411200608,
          0.007440324446130138,
          0.04301851559379179,
          -0.04050859515532819,
          -0.005079504929327876,
          -0.0011928174135447975,
          0.056122443686592326,
          0.019526788802401034,
          0.02139737035446061,
          0.059567008511036475,
          0.006781615988048798,
          0.026199911779066457,
          0.04522429146221359,
          -0.04273067141083669,
          0.013697704116477858,
          -0.1242670414766086,
          -0.06203310622092775,
          -0.12367484672853937,
          0.08014285641866964,
          0.10307311600817087,
          -0.048808482391180914,
          -0.055337970936925766,
          -0.02002152561107991,
          -0.04122348567848951,
          -0.07547333105350998,
          -0.011220649982857227,
          -0.06498327875570452,
          0.041431685427093086,
          -0.03148720678658719,
          -0.01663552873603694,
          -0.04301680021096378,
          0.03180508970938478,
          -0.14513601531556933,
          -0.00436583037043274,
          0.028687940746077133,
          0.038228625729873816,
          0.027575316517923793,
          0.011445737678347646,
          -0.02398928905056066,
          0.005791441589042241,
          -0.033262013214125474,
          -0.029987849657190997,
          0.027116859435500535,
          -0.025403608959471573,
          -0.04786297720804215,
          -0.09510683796085989,
          -0.021725935570839315,
          0.03164218460267672,
          -0.008946367217915882,
          -0.03373467929770237,
          -0.029394285595388862,
          -0.024721907827020984,
          -0.010077544459429025,
          0.01022247954575954,
          -0.02138063590379816,
          0.008575169479902887,
          -0.010233528729223245,
          -0.014929205705139791,
          0.046400007760265156,
          0.11803777377930984,
          0.14172501351754477,
          0.04651935087281112,
          -0.04425675984459992,
          -0.1381518330949393,
          0.004607318308447063,
          -0.0027404039673053536,
          0.026517393460959163,
          -0.005850506879217955,
          0.010991985582992664,
          -0.04004357145522969,
          -0.04489151233915355,
          -0.001820128463670245,
          -0.00933590394459892,
          -0.014813933944919155,
          0.026588896710087993,
          0.021725226194707334,
          0.025861229043661935,
          0.020272312951842796,
          -0.02662050314666264,
          -0.04732311256567645,
          0.05896870600923199,
          -0.062031808284344174,
          -0.06179483335992116,
          -0.01696846468562811,
          -0.007638886443340574,
          0.014212699269972987,
          0.005005027029465267,
          -0.03749191327225158,
          0.0017418389448469011,
          -0.015148722687125367,
          -0.024633132650198255,
          -0.06565739451848923,
          -0.059361806766951124,
          0.0026880801351608606,
          0.04701383589507644,
          0.03451106333561101,
          0.01465082990210335,
          -0.024355787260830198,
          0.07664386105522783,
          0.03119409603651602,
          0.04532876779513189,
          0.08573500713946948,
          -0.022647695951762723,
          0.005007222897748695,
          0.014207219804806446,
          0.040487582134218415,
          -0.018918916537319936,
          0.01969435947475964,
          -0.05305096665268177,
          -0.008589536277462615,
          0.010772167244650714,
          0.014421780613096902,
          0.040599143145907936,
          0.026519597346073624,
          -0.02215950435273289,
          -0.003478635881964329,
          -0.035757359129987724,
          0.011114191639786533,
          0.0013321024951736347,
          0.002386857872869457,
          -0.021391355017809973,
          -0.011594219970190993,
          -5.917989329420614e-05,
          -0.011921742161995605,
          0.0067503677300808085,
          0.0008740066002611559,
          0.003224131996846505,
          0.0048597542289996465,
          0.0010843995443411828,
          0.041910572258641005,
          0.0002218723932222636,
          0.03314445521006808,
          -0.018547857471558855,
          -0.004309019558357794,
          0.0026912681775551257,
          -0.0141012153134067,
          0.009733422143720196,
          0.006270416211272207,
          -0.02065885657375988,
          0.019832014163285765,
          -0.03172030927365755,
          0.005908025582419163,
          0.008991584514949733,
          -0.003995664993817585,
          -0.03825527812489856,
          0.002491782200817014,
          -0.009962326602803063,
          0.01571140257135848,
          -0.013642510002072537,
          -0.02452104748013252,
          -0.013333678587162728,
          -0.018826400778308532,
          0.01585175121006436,
          -0.01748842944366976,
          0.05300310636344492,
          0.03111288419865721,
          -0.009204032952937584,
          0.012496197448166813,
          -0.013339560024819178,
          0.0005066993381903632,
          -0.007304353021481647,
          0.008002101218472583,
          0.023154607267817085,
          -0.01388477494523494,
          0.0017306031798096234,
          0.03866482975229979,
          0.1253620220521152,
          -0.09368058995375447,
          0.02148829404604412,
          0.0010359439780918682,
          0.007716627472400075,
          0.034572825737418045,
          -0.002267719033446815,
          -0.008831812567055973,
          -0.022459913848371427,
          -0.007415766537296447,
          -0.013607975252127615,
          -0.007366946598177161,
          0.02057591905736792,
          0.026087783407601355,
          -0.017958326860493184,
          0.009633836347141775,
          -0.005148789426022488,
          -0.038811233163636216,
          -0.004792022495136002,
          0.0048764971146371605,
          -0.0036703598718631847,
          0.005363410102437534,
          -0.009416138190305581,
          0.0007937528552448119,
          -0.031777440394600565,
          -0.01115179170788704,
          0.04273274712201824,
          -0.005001185896296182,
          0.006532295769472985,
          0.0018368536959330014,
          0.011130195068217314,
          0.022438267228078363,
          0.004152736973926075,
          0.01881861106647013,
          0.09357484506122986,
          -0.06972941434198943,
          0.049205851503130504,
          -0.026594997211991298,
          -0.03552417811567798,
          0.02384794488294482,
          0.0007463478509601407,
          -0.07845008617469472,
          0.0049682561961028665,
          -0.010311930581200886,
          -0.007222286695707151,
          0.018147239364774047,
          -0.032285127720457114,
          -0.0011779166328004461,
          0.025257961418922722,
          -0.007960429836381813,
          -0.009532531102407213,
          -0.01036569394203651,
          -0.0005541847357304567,
          -0.003258987573248848,
          -0.008410318950692844,
          0.009208304504582638,
          0.05068396887153534,
          -0.0011219971572364491,
          -0.010454610587831727,
          -0.00022797206798684476,
          -0.01252708949133056,
          0.01568030343236153,
          0.004387249505027836,
          0.0009592862116381205,
          -0.01983934150800428,
          -0.052526351008725575,
          -0.024796465485685888,
          2.1671497426932865e-06,
          -0.013595349930510953,
          0.008911732193146367,
          0.002429718201061267,
          0.006255862491312492,
          0.051828528502320254,
          0.0746928123328234,
          0.06890220570570071,
          -0.03754650026828034,
          -0.009764560755634663,
          0.04740521336892079,
          -0.0040847168161402036,
          0.006548063045181935,
          -0.012683320600225454,
          0.03431883532250962,
          -0.003464249693565867,
          0.07105175865467053,
          0.007608665470423778,
          -0.030264104790026003,
          -0.014118146874528264,
          -0.022376630059669105,
          0.02048050335342791,
          -0.00442360494955317,
          -0.00837858097065181,
          -0.042082998441511456,
          -0.039535628042771484,
          0.009232885677024018,
          0.013042301453060609,
          -0.008468304899843735,
          -0.007297390326975089,
          0.0032890940875763284,
          -0.02553578351673728,
          -0.009789861063312545,
          -0.009730424121810733,
          -0.024359922453532825,
          0.008153922962882379,
          0.016815620448912993,
          0.03920015591868797,
          -0.013727679700929139,
          -0.0009442799351548006,
          -0.072722709499366,
          0.03454588510035673,
          0.013568002088746242,
          -0.0053208180497338695,
          0.011463208871727535,
          0.0018815800152705102,
          -0.011958940727489684,
          -0.009985560009571706,
          -0.005768029288646794,
          -0.008032880120517172,
          -0.009716092865824248,
          0.00722593963466862,
          -0.01477197380341523,
          0.0704786617335879,
          -0.0040938281784443035,
          -0.008724426804161233,
          -0.0007320392620521489,
          -0.005142675267660696,
          -0.0019390577199545952,
          0.009282328768164623,
          0.007325234529752971,
          -0.011597017126359924,
          -0.003228220232430867,
          -0.015012044388851432,
          0.006211409731371751,
          -0.008776351737053156,
          0.005220689326947383,
          0.00046298421051863475,
          -0.00219820037065822,
          -0.00907868187201707,
          -0.0035285666282443124,
          0.008813060245171216,
          0.010541752591540289,
          0.001685074242924115,
          -0.013861779112314003,
          -0.005523600734747405,
          -0.006702907677183599,
          0.03142765686016736,
          0.02073375046907705,
          -0.002367319097742018,
          0.0011761243985693034,
          0.010129815365602885,
          -0.009357364678525822,
          -0.01388195939172812,
          0.032445588532711706,
          0.020116907841681037,
          -0.02415526173992869,
          0.025579099067489126,
          -0.014430707501627497,
          -0.01434941828569906,
          -0.030037505281414693,
          -0.006590161676325234,
          -0.0015161995075823648,
          0.01672635649630067,
          -0.0053568897801465004,
          0.016297740339637528,
          -0.011442075700913979,
          -0.003118967135540377,
          -0.0015814538356095852,
          -0.0015760812045921598,
          0.008278095601740514,
          -0.008178521298473903,
          0.007460560354470506,
          -0.009979544402586952,
          0.001232704835957946,
          0.014225281593881619,
          -0.014774522579035129,
          0.032986651987253285,
          0.04109098730169218,
          0.002116059424195414,
          -0.042526451779693726,
          0.012996559381061664,
          -0.012635889848016668,
          -0.009025297216518196,
          0.030262707081131542,
          -0.003149770849176323,
          0.030551759527816656,
          0.011650847545928485,
          -0.007500922486996448,
          -0.021779324796280534,
          0.0036319367961615934,
          -0.0002439056377363794,
          0.0003452846922786625,
          0.011461604732522718,
          0.00019558424639270062,
          -0.006689332748206149,
          -0.01512739863390292,
          0.006882662091692262,
          0.002532799660345405,
          -0.009851431574744595,
          -0.0018239823221277195,
          -0.009132044504245521,
          -0.017683971572738162,
          -0.0033471477882233004,
          -0.007920436704897386,
          0.010820337560120744,
          0.028841874010679155,
          -0.0006094087292683612,
          0.009783841239313624,
          0.0026211294576763784,
          0.014820934369646563,
          0.051768660278384976,
          0.016532331329942956,
          0.0271338651676645,
          -0.03505627933301666,
          -0.03798990514591126,
          0.017866300948152336,
          -0.023015621789519592,
          0.015262865013240232,
          0.0009427153340930551,
          0.00017936288836045992,
          -0.009458293382704333,
          -0.006573992690328405,
          0.03410233710167095,
          0.009416880523603587,
          -0.0045280125403280745,
          -0.005609611553614862,
          -0.008254845207670655,
          0.01170847180619482,
          -0.020991857610959685,
          0.002740215786228151,
          0.01131450767568324,
          0.030701759775490795,
          0.0010617878448525124,
          0.01063044200465615,
          -0.013193713675397118,
          -0.027037893692714428,
          0.01799801103285962,
          -0.001512472679697227,
          3.721223792130092e-05,
          0.007087462397021271,
          -0.017481538052736677,
          -0.018773409618180373,
          -0.005416364643400496,
          0.0055522723519054315,
          -0.011584757434008445,
          0.010281700005593981,
          -0.01328776562836284,
          -0.002710941917621931,
          -0.009706658518830081,
          0.028031655341441093,
          -0.002482748469628376,
          -0.06553837368536101,
          -0.0776972961315902,
          0.06248091393418213,
          0.048204617645068795,
          0.002736143311932935,
          0.0036593112437520903,
          0.0019339751486602088,
          -0.014882987543194923,
          -0.0020961372303807727,
          0.01032672260241791,
          0.0030009956681119393,
          0.034915971896879144,
          -0.017351474390563653,
          -0.0008925647817859762,
          0.0084681043127314,
          0.013976481856368569,
          0.008390927166728217,
          -0.013695025826138829,
          -0.0015173121570733986,
          -0.012966630804688494,
          -0.006743295088866798,
          0.0562237677921961,
          0.022842914524362944,
          0.005144335824772164,
          -0.007449556011990208,
          0.04164781548207781,
          -0.010600067428335462,
          -0.013887970980634592,
          -0.014057087746378752,
          -0.01328047800431326,
          -0.007708441712596191,
          0.02372918778753107,
          -0.023383090761603633,
          -0.02568978830236753,
          -0.0018419384244148637,
          0.006527365273688278,
          0.05777906071980114,
          0.015017478731866755,
          0.0022684906240078673,
          -0.031406611722237035,
          -0.0035434673743253223,
          0.02902516314289439,
          0.00769694084540527,
          -0.009978593396113698,
          -0.0034969656672155444,
          -0.007153747319600641,
          -0.0006641555404218403,
          0.045762333827327195,
          0.014919265372221562,
          -0.011310253613181625,
          -0.004100565643193555,
          0.021602814566412724,
          -0.0013326251852053864,
          0.004848051076136965,
          -0.027123451130815858,
          -0.007828542301166901,
          -0.007920792838064579,
          0.0021609895520195736,
          0.024090402287738344,
          0.020712336917284527,
          0.014767246375629435,
          -0.0006198551298949285,
          -0.005366882838969711,
          -0.01358018859054696,
          -0.03265404893623169,
          0.0059538957818279885,
          -0.01806617227466235,
          0.0030406241082725272,
          -0.05341712006830768,
          0.022704953899772333,
          0.0028681677652609857,
          -0.012271566504331291,
          0.00014242538591928395,
          0.00334645369305774,
          -0.016409799025566923,
          0.013831163582204355,
          -0.0011413840726328687,
          -0.0352837656550604,
          -0.02541858285231293,
          -0.010078317909452711,
          0.01499776701165571,
          0.02484781841592109,
          0.049910522211932686,
          -0.02387504541739878,
          -0.0011272951459063412,
          -0.002783233297759011,
          -0.014608197429646136,
          0.008663861349968393,
          -0.009142415190387113,
          -0.014902148985364823,
          -0.0014071264221800028,
          0.009540403927308993,
          0.02834204510807451,
          -0.0019061235470210264,
          -0.01422141121114281,
          0.011596338199311702,
          0.011114428072291046,
          -0.010432583157304654,
          -0.0062070790902774555,
          0.0052442925929843094,
          -0.010828025197665105,
          0.007494489298365699,
          -0.015727112664472395,
          -0.015543697423020511,
          -0.01419701879925676,
          0.008499817623668015,
          0.028376102482451038,
          0.020347160988524585,
          -0.002647200146232217,
          0.0062019570249090905,
          -0.02364392153604894,
          0.023985480006884243,
          -1.847196865429216e-05,
          -0.02512700640667401,
          -0.008385257764669128,
          0.0016618787104322604,
          -0.011220291380054094,
          -0.015578182580564794,
          0.02179518436370144,
          -0.01414693273356232,
          0.04195411248249101,
          -0.03913345840587684,
          -0.00023448863016299555,
          0.039124361285033375,
          0.005928080690704899,
          -0.007098152842531117,
          -0.0060223875546505665,
          0.019529725704411114,
          -0.0031284356546650866,
          -0.00675572504939121,
          0.0058342370218901485,
          -0.004452529026121798,
          -0.003928436592847484,
          0.01668624520762307,
          -0.021099737165750143,
          -0.007741167581013572,
          0.014181577404539163,
          -0.007872444321252083,
          -0.013860284470801058,
          0.005452888042279411,
          -0.003335885905120158,
          -0.010420371015068416,
          -0.003188898890099527,
          0.007464434552099483,
          0.001952845633294613,
          -0.010931740745139971,
          -0.0022224327549569124,
          -0.006523820772672789,
          0.008408076324421955,
          0.005802346124725024,
          0.022586262108853068,
          -0.010986375963427058,
          -0.00038595443148289324,
          -0.009823508556871611,
          -0.004398319717690561,
          -0.011667775713720458,
          -0.002237489182060444,
          -0.00028956054025469505,
          -0.009113878802154682,
          0.017057519497224928,
          0.004409510324944514,
          -0.0072624082347529356,
          0.0037334055531220538,
          -0.0029098534987177134,
          -0.0016532884191602,
          -0.0007064334526764121,
          0.014625092527215906,
          -0.013178126507412857,
          -0.0043179873403289245,
          0.0027542657553737892,
          -0.010778462809553824,
          -0.01641941136773312,
          -0.0020869593807251088,
          0.010696307639882996,
          0.007167835161096692,
          -0.006958595872550207,
          -0.0037696197661688203,
          -0.01593028564332473,
          0.0029648383459574485,
          0.007148509707194138,
          -0.005714876670636018,
          -0.0004112227229910963,
          -0.06223224386536742,
          0.0203331358573672,
          0.007813133500696725,
          0.003183243308628337,
          -0.02212630917407608,
          -0.008228328336867496,
          0.020678433077633472,
          0.008744088540655677,
          -0.016630523700875005,
          0.020563595444075978,
          0.06247556985296211,
          0.010035976568043229,
          0.0021508391356140737,
          -0.0012191812497599976,
          -0.0018460188505364217,
          0.005696640822031506,
          -0.020266168520122547,
          0.014724539503619323,
          -0.008498157283589908,
          -0.018035774285562824,
          0.005099438664441667,
          -0.006625714997753014,
          7.689576658151962e-05,
          -0.004839076278712117,
          0.008999865588646922,
          -0.007014212483883804,
          -0.00992105320898749,
          -4.306816319580545e-06,
          -0.0028227760597914395,
          -0.0002496680100955901,
          0.024386622628345848,
          0.03514963577527064,
          -0.03158617427786429,
          -0.019160382006654632,
          0.0019993818430715424,
          -0.0035234174844146547,
          -0.002129322414017041,
          -0.0014898644657382165,
          -0.025492437070141306,
          0.002669921254282285,
          -0.014280812461463352,
          0.022603515098457736,
          0.008975493701841019,
          -0.013272450236379945,
          0.015579772285459864,
          0.008167101658598776,
          -0.01127321023547332,
          -0.01586067825734154,
          -0.0037067502229333523,
          -0.017326151242401767,
          -0.008032763374175769,
          -0.010193566521022306,
          0.013023299698252892,
          0.009568862211656223,
          -0.004547320019912309,
          -0.008290875453637436,
          -0.00688338297953537,
          0.0049355982409608635,
          -0.005012893128983633,
          -0.0007634857181417164,
          0.001958798587886655,
          0.01077017426026826,
          0.009114310690642903,
          9.489802246346277e-05,
          -0.007717686637456804,
          -0.0030173730712690677,
          0.004912964355854566,
          0.03250646273735247,
          -0.007082036689440641,
          0.025655414583229195,
          -0.0142614756520536,
          0.013751777185059757,
          -0.007923122657276198,
          0.0026476719512947035,
          0.0011283077548486734,
          -3.2634089660599217e-05,
          0.004304333492106353,
          0.005691764079832361,
          -0.002781327334542145,
          0.022461178688938866,
          -0.0009389319149996111,
          -0.013667313674279669,
          -0.02274023760565126,
          -0.004208572169702995,
          0.00859555164564218,
          0.01965900513777995,
          0.028234533756427493,
          0.012376668367752058,
          0.0051954448029241165,
          0.004491021355209587,
          -0.022482107461810216,
          0.017053234221754823,
          0.011772250961147078,
          0.005393117522854258,
          -0.0005322833803866625,
          -0.007110799122968458,
          -0.01762939858695344,
          -0.0060402753154471835,
          0.01383076608458668,
          0.023411186936355823,
          0.0011874415380349575,
          -0.004067142698936612,
          0.009271891488293686,
          -0.010889453505385548,
          -0.013673961364592929,
          0.004357953030829567,
          0.03140501134450352,
          0.0368210672497361,
          -0.015045395336043585,
          -0.02124697078840199,
          -0.0034132259374588646,
          0.0032192244730434596,
          -0.009171490206505432,
          -0.017705212323866775,
          -0.00936673580580756,
          0.010489038448375095
         ],
         "yaxis": "y"
        }
       ],
       "layout": {
        "coloraxis": {
         "colorbar": {
          "title": {
           "text": "color"
          }
         },
         "colorscale": [
          [
           0,
           "#0d0887"
          ],
          [
           0.1111111111111111,
           "#46039f"
          ],
          [
           0.2222222222222222,
           "#7201a8"
          ],
          [
           0.3333333333333333,
           "#9c179e"
          ],
          [
           0.4444444444444444,
           "#bd3786"
          ],
          [
           0.5555555555555556,
           "#d8576b"
          ],
          [
           0.6666666666666666,
           "#ed7953"
          ],
          [
           0.7777777777777778,
           "#fb9f3a"
          ],
          [
           0.8888888888888888,
           "#fdca26"
          ],
          [
           1,
           "#f0f921"
          ]
         ]
        },
        "legend": {
         "tracegroupgap": 0
        },
        "template": {
         "data": {
          "bar": [
           {
            "error_x": {
             "color": "#2a3f5f"
            },
            "error_y": {
             "color": "#2a3f5f"
            },
            "marker": {
             "line": {
              "color": "#E5ECF6",
              "width": 0.5
             },
             "pattern": {
              "fillmode": "overlay",
              "size": 10,
              "solidity": 0.2
             }
            },
            "type": "bar"
           }
          ],
          "barpolar": [
           {
            "marker": {
             "line": {
              "color": "#E5ECF6",
              "width": 0.5
             },
             "pattern": {
              "fillmode": "overlay",
              "size": 10,
              "solidity": 0.2
             }
            },
            "type": "barpolar"
           }
          ],
          "carpet": [
           {
            "aaxis": {
             "endlinecolor": "#2a3f5f",
             "gridcolor": "white",
             "linecolor": "white",
             "minorgridcolor": "white",
             "startlinecolor": "#2a3f5f"
            },
            "baxis": {
             "endlinecolor": "#2a3f5f",
             "gridcolor": "white",
             "linecolor": "white",
             "minorgridcolor": "white",
             "startlinecolor": "#2a3f5f"
            },
            "type": "carpet"
           }
          ],
          "choropleth": [
           {
            "colorbar": {
             "outlinewidth": 0,
             "ticks": ""
            },
            "type": "choropleth"
           }
          ],
          "contour": [
           {
            "colorbar": {
             "outlinewidth": 0,
             "ticks": ""
            },
            "colorscale": [
             [
              0,
              "#0d0887"
             ],
             [
              0.1111111111111111,
              "#46039f"
             ],
             [
              0.2222222222222222,
              "#7201a8"
             ],
             [
              0.3333333333333333,
              "#9c179e"
             ],
             [
              0.4444444444444444,
              "#bd3786"
             ],
             [
              0.5555555555555556,
              "#d8576b"
             ],
             [
              0.6666666666666666,
              "#ed7953"
             ],
             [
              0.7777777777777778,
              "#fb9f3a"
             ],
             [
              0.8888888888888888,
              "#fdca26"
             ],
             [
              1,
              "#f0f921"
             ]
            ],
            "type": "contour"
           }
          ],
          "contourcarpet": [
           {
            "colorbar": {
             "outlinewidth": 0,
             "ticks": ""
            },
            "type": "contourcarpet"
           }
          ],
          "heatmap": [
           {
            "colorbar": {
             "outlinewidth": 0,
             "ticks": ""
            },
            "colorscale": [
             [
              0,
              "#0d0887"
             ],
             [
              0.1111111111111111,
              "#46039f"
             ],
             [
              0.2222222222222222,
              "#7201a8"
             ],
             [
              0.3333333333333333,
              "#9c179e"
             ],
             [
              0.4444444444444444,
              "#bd3786"
             ],
             [
              0.5555555555555556,
              "#d8576b"
             ],
             [
              0.6666666666666666,
              "#ed7953"
             ],
             [
              0.7777777777777778,
              "#fb9f3a"
             ],
             [
              0.8888888888888888,
              "#fdca26"
             ],
             [
              1,
              "#f0f921"
             ]
            ],
            "type": "heatmap"
           }
          ],
          "heatmapgl": [
           {
            "colorbar": {
             "outlinewidth": 0,
             "ticks": ""
            },
            "colorscale": [
             [
              0,
              "#0d0887"
             ],
             [
              0.1111111111111111,
              "#46039f"
             ],
             [
              0.2222222222222222,
              "#7201a8"
             ],
             [
              0.3333333333333333,
              "#9c179e"
             ],
             [
              0.4444444444444444,
              "#bd3786"
             ],
             [
              0.5555555555555556,
              "#d8576b"
             ],
             [
              0.6666666666666666,
              "#ed7953"
             ],
             [
              0.7777777777777778,
              "#fb9f3a"
             ],
             [
              0.8888888888888888,
              "#fdca26"
             ],
             [
              1,
              "#f0f921"
             ]
            ],
            "type": "heatmapgl"
           }
          ],
          "histogram": [
           {
            "marker": {
             "pattern": {
              "fillmode": "overlay",
              "size": 10,
              "solidity": 0.2
             }
            },
            "type": "histogram"
           }
          ],
          "histogram2d": [
           {
            "colorbar": {
             "outlinewidth": 0,
             "ticks": ""
            },
            "colorscale": [
             [
              0,
              "#0d0887"
             ],
             [
              0.1111111111111111,
              "#46039f"
             ],
             [
              0.2222222222222222,
              "#7201a8"
             ],
             [
              0.3333333333333333,
              "#9c179e"
             ],
             [
              0.4444444444444444,
              "#bd3786"
             ],
             [
              0.5555555555555556,
              "#d8576b"
             ],
             [
              0.6666666666666666,
              "#ed7953"
             ],
             [
              0.7777777777777778,
              "#fb9f3a"
             ],
             [
              0.8888888888888888,
              "#fdca26"
             ],
             [
              1,
              "#f0f921"
             ]
            ],
            "type": "histogram2d"
           }
          ],
          "histogram2dcontour": [
           {
            "colorbar": {
             "outlinewidth": 0,
             "ticks": ""
            },
            "colorscale": [
             [
              0,
              "#0d0887"
             ],
             [
              0.1111111111111111,
              "#46039f"
             ],
             [
              0.2222222222222222,
              "#7201a8"
             ],
             [
              0.3333333333333333,
              "#9c179e"
             ],
             [
              0.4444444444444444,
              "#bd3786"
             ],
             [
              0.5555555555555556,
              "#d8576b"
             ],
             [
              0.6666666666666666,
              "#ed7953"
             ],
             [
              0.7777777777777778,
              "#fb9f3a"
             ],
             [
              0.8888888888888888,
              "#fdca26"
             ],
             [
              1,
              "#f0f921"
             ]
            ],
            "type": "histogram2dcontour"
           }
          ],
          "mesh3d": [
           {
            "colorbar": {
             "outlinewidth": 0,
             "ticks": ""
            },
            "type": "mesh3d"
           }
          ],
          "parcoords": [
           {
            "line": {
             "colorbar": {
              "outlinewidth": 0,
              "ticks": ""
             }
            },
            "type": "parcoords"
           }
          ],
          "pie": [
           {
            "automargin": true,
            "type": "pie"
           }
          ],
          "scatter": [
           {
            "fillpattern": {
             "fillmode": "overlay",
             "size": 10,
             "solidity": 0.2
            },
            "type": "scatter"
           }
          ],
          "scatter3d": [
           {
            "line": {
             "colorbar": {
              "outlinewidth": 0,
              "ticks": ""
             }
            },
            "marker": {
             "colorbar": {
              "outlinewidth": 0,
              "ticks": ""
             }
            },
            "type": "scatter3d"
           }
          ],
          "scattercarpet": [
           {
            "marker": {
             "colorbar": {
              "outlinewidth": 0,
              "ticks": ""
             }
            },
            "type": "scattercarpet"
           }
          ],
          "scattergeo": [
           {
            "marker": {
             "colorbar": {
              "outlinewidth": 0,
              "ticks": ""
             }
            },
            "type": "scattergeo"
           }
          ],
          "scattergl": [
           {
            "marker": {
             "colorbar": {
              "outlinewidth": 0,
              "ticks": ""
             }
            },
            "type": "scattergl"
           }
          ],
          "scattermapbox": [
           {
            "marker": {
             "colorbar": {
              "outlinewidth": 0,
              "ticks": ""
             }
            },
            "type": "scattermapbox"
           }
          ],
          "scatterpolar": [
           {
            "marker": {
             "colorbar": {
              "outlinewidth": 0,
              "ticks": ""
             }
            },
            "type": "scatterpolar"
           }
          ],
          "scatterpolargl": [
           {
            "marker": {
             "colorbar": {
              "outlinewidth": 0,
              "ticks": ""
             }
            },
            "type": "scatterpolargl"
           }
          ],
          "scatterternary": [
           {
            "marker": {
             "colorbar": {
              "outlinewidth": 0,
              "ticks": ""
             }
            },
            "type": "scatterternary"
           }
          ],
          "surface": [
           {
            "colorbar": {
             "outlinewidth": 0,
             "ticks": ""
            },
            "colorscale": [
             [
              0,
              "#0d0887"
             ],
             [
              0.1111111111111111,
              "#46039f"
             ],
             [
              0.2222222222222222,
              "#7201a8"
             ],
             [
              0.3333333333333333,
              "#9c179e"
             ],
             [
              0.4444444444444444,
              "#bd3786"
             ],
             [
              0.5555555555555556,
              "#d8576b"
             ],
             [
              0.6666666666666666,
              "#ed7953"
             ],
             [
              0.7777777777777778,
              "#fb9f3a"
             ],
             [
              0.8888888888888888,
              "#fdca26"
             ],
             [
              1,
              "#f0f921"
             ]
            ],
            "type": "surface"
           }
          ],
          "table": [
           {
            "cells": {
             "fill": {
              "color": "#EBF0F8"
             },
             "line": {
              "color": "white"
             }
            },
            "header": {
             "fill": {
              "color": "#C8D4E3"
             },
             "line": {
              "color": "white"
             }
            },
            "type": "table"
           }
          ]
         },
         "layout": {
          "annotationdefaults": {
           "arrowcolor": "#2a3f5f",
           "arrowhead": 0,
           "arrowwidth": 1
          },
          "autotypenumbers": "strict",
          "coloraxis": {
           "colorbar": {
            "outlinewidth": 0,
            "ticks": ""
           }
          },
          "colorscale": {
           "diverging": [
            [
             0,
             "#8e0152"
            ],
            [
             0.1,
             "#c51b7d"
            ],
            [
             0.2,
             "#de77ae"
            ],
            [
             0.3,
             "#f1b6da"
            ],
            [
             0.4,
             "#fde0ef"
            ],
            [
             0.5,
             "#f7f7f7"
            ],
            [
             0.6,
             "#e6f5d0"
            ],
            [
             0.7,
             "#b8e186"
            ],
            [
             0.8,
             "#7fbc41"
            ],
            [
             0.9,
             "#4d9221"
            ],
            [
             1,
             "#276419"
            ]
           ],
           "sequential": [
            [
             0,
             "#0d0887"
            ],
            [
             0.1111111111111111,
             "#46039f"
            ],
            [
             0.2222222222222222,
             "#7201a8"
            ],
            [
             0.3333333333333333,
             "#9c179e"
            ],
            [
             0.4444444444444444,
             "#bd3786"
            ],
            [
             0.5555555555555556,
             "#d8576b"
            ],
            [
             0.6666666666666666,
             "#ed7953"
            ],
            [
             0.7777777777777778,
             "#fb9f3a"
            ],
            [
             0.8888888888888888,
             "#fdca26"
            ],
            [
             1,
             "#f0f921"
            ]
           ],
           "sequentialminus": [
            [
             0,
             "#0d0887"
            ],
            [
             0.1111111111111111,
             "#46039f"
            ],
            [
             0.2222222222222222,
             "#7201a8"
            ],
            [
             0.3333333333333333,
             "#9c179e"
            ],
            [
             0.4444444444444444,
             "#bd3786"
            ],
            [
             0.5555555555555556,
             "#d8576b"
            ],
            [
             0.6666666666666666,
             "#ed7953"
            ],
            [
             0.7777777777777778,
             "#fb9f3a"
            ],
            [
             0.8888888888888888,
             "#fdca26"
            ],
            [
             1,
             "#f0f921"
            ]
           ]
          },
          "colorway": [
           "#636efa",
           "#EF553B",
           "#00cc96",
           "#ab63fa",
           "#FFA15A",
           "#19d3f3",
           "#FF6692",
           "#B6E880",
           "#FF97FF",
           "#FECB52"
          ],
          "font": {
           "color": "#2a3f5f"
          },
          "geo": {
           "bgcolor": "white",
           "lakecolor": "white",
           "landcolor": "#E5ECF6",
           "showlakes": true,
           "showland": true,
           "subunitcolor": "white"
          },
          "hoverlabel": {
           "align": "left"
          },
          "hovermode": "closest",
          "mapbox": {
           "style": "light"
          },
          "paper_bgcolor": "white",
          "plot_bgcolor": "#E5ECF6",
          "polar": {
           "angularaxis": {
            "gridcolor": "white",
            "linecolor": "white",
            "ticks": ""
           },
           "bgcolor": "#E5ECF6",
           "radialaxis": {
            "gridcolor": "white",
            "linecolor": "white",
            "ticks": ""
           }
          },
          "scene": {
           "xaxis": {
            "backgroundcolor": "#E5ECF6",
            "gridcolor": "white",
            "gridwidth": 2,
            "linecolor": "white",
            "showbackground": true,
            "ticks": "",
            "zerolinecolor": "white"
           },
           "yaxis": {
            "backgroundcolor": "#E5ECF6",
            "gridcolor": "white",
            "gridwidth": 2,
            "linecolor": "white",
            "showbackground": true,
            "ticks": "",
            "zerolinecolor": "white"
           },
           "zaxis": {
            "backgroundcolor": "#E5ECF6",
            "gridcolor": "white",
            "gridwidth": 2,
            "linecolor": "white",
            "showbackground": true,
            "ticks": "",
            "zerolinecolor": "white"
           }
          },
          "shapedefaults": {
           "line": {
            "color": "#2a3f5f"
           }
          },
          "ternary": {
           "aaxis": {
            "gridcolor": "white",
            "linecolor": "white",
            "ticks": ""
           },
           "baxis": {
            "gridcolor": "white",
            "linecolor": "white",
            "ticks": ""
           },
           "bgcolor": "#E5ECF6",
           "caxis": {
            "gridcolor": "white",
            "linecolor": "white",
            "ticks": ""
           }
          },
          "title": {
           "x": 0.05
          },
          "xaxis": {
           "automargin": true,
           "gridcolor": "white",
           "linecolor": "white",
           "ticks": "",
           "title": {
            "standoff": 15
           },
           "zerolinecolor": "white",
           "zerolinewidth": 2
          },
          "yaxis": {
           "automargin": true,
           "gridcolor": "white",
           "linecolor": "white",
           "ticks": "",
           "title": {
            "standoff": 15
           },
           "zerolinecolor": "white",
           "zerolinewidth": 2
          }
         }
        },
        "title": {
         "text": "Latent Relationships Between Different Trading Days During Dataset"
        },
        "xaxis": {
         "anchor": "y",
         "domain": [
          0,
          1
         ],
         "title": {
          "text": "x"
         }
        },
        "yaxis": {
         "anchor": "x",
         "domain": [
          0,
          1
         ],
         "title": {
          "text": "y"
         }
        }
       }
      },
      "text/html": [
       "<div>                            <div id=\"206a915f-e24b-4855-8dfc-113cd625ce05\" class=\"plotly-graph-div\" style=\"height:525px; width:100%;\"></div>            <script type=\"text/javascript\">                require([\"plotly\"], function(Plotly) {                    window.PLOTLYENV=window.PLOTLYENV || {};                                    if (document.getElementById(\"206a915f-e24b-4855-8dfc-113cd625ce05\")) {                    Plotly.newPlot(                        \"206a915f-e24b-4855-8dfc-113cd625ce05\",                        [{\"hovertemplate\":\"<b>%{hovertext}</b><br><br>x=%{x}<br>y=%{y}<br>color=%{marker.color}<extra></extra>\",\"hovertext\":[\"2019-05-31T00:00:00\",\"2019-06-01T00:00:00\",\"2019-06-02T00:00:00\",\"2019-06-03T00:00:00\",\"2019-06-04T00:00:00\",\"2019-06-05T00:00:00\",\"2019-06-06T00:00:00\",\"2019-06-07T00:00:00\",\"2019-06-08T00:00:00\",\"2019-06-09T00:00:00\",\"2019-06-10T00:00:00\",\"2019-06-11T00:00:00\",\"2019-06-12T00:00:00\",\"2019-06-13T00:00:00\",\"2019-06-14T00:00:00\",\"2019-06-16T00:00:00\",\"2019-06-17T00:00:00\",\"2019-06-18T00:00:00\",\"2019-06-19T00:00:00\",\"2019-06-20T00:00:00\",\"2019-06-21T00:00:00\",\"2019-06-22T00:00:00\",\"2019-06-23T00:00:00\",\"2019-06-24T00:00:00\",\"2019-06-25T00:00:00\",\"2019-06-26T00:00:00\",\"2019-06-27T00:00:00\",\"2019-06-28T00:00:00\",\"2019-06-29T00:00:00\",\"2019-06-30T00:00:00\",\"2019-07-01T00:00:00\",\"2019-07-02T00:00:00\",\"2019-07-03T00:00:00\",\"2019-07-04T00:00:00\",\"2019-07-05T00:00:00\",\"2019-07-06T00:00:00\",\"2019-07-07T00:00:00\",\"2019-07-08T00:00:00\",\"2019-07-09T00:00:00\",\"2019-07-10T00:00:00\",\"2019-07-11T00:00:00\",\"2019-07-12T00:00:00\",\"2019-07-13T00:00:00\",\"2019-07-14T00:00:00\",\"2019-07-15T00:00:00\",\"2019-07-16T00:00:00\",\"2019-07-17T00:00:00\",\"2019-07-18T00:00:00\",\"2019-07-19T00:00:00\",\"2019-07-20T00:00:00\",\"2019-07-21T00:00:00\",\"2019-07-22T00:00:00\",\"2019-07-23T00:00:00\",\"2019-07-24T00:00:00\",\"2019-07-25T00:00:00\",\"2019-07-26T00:00:00\",\"2019-07-27T00:00:00\",\"2019-07-28T00:00:00\",\"2019-07-29T00:00:00\",\"2019-07-30T00:00:00\",\"2019-07-31T00:00:00\",\"2019-08-01T00:00:00\",\"2019-08-02T00:00:00\",\"2019-08-03T00:00:00\",\"2019-08-04T00:00:00\",\"2019-08-05T00:00:00\",\"2019-08-06T00:00:00\",\"2019-08-07T00:00:00\",\"2019-08-08T00:00:00\",\"2019-08-09T00:00:00\",\"2019-08-10T00:00:00\",\"2019-08-11T00:00:00\",\"2019-08-12T00:00:00\",\"2019-08-13T00:00:00\",\"2019-08-14T00:00:00\",\"2019-08-15T00:00:00\",\"2019-08-16T00:00:00\",\"2019-08-17T00:00:00\",\"2019-08-18T00:00:00\",\"2019-08-19T00:00:00\",\"2019-08-20T00:00:00\",\"2019-08-21T00:00:00\",\"2019-08-22T00:00:00\",\"2019-08-23T00:00:00\",\"2019-08-24T00:00:00\",\"2019-08-25T00:00:00\",\"2019-08-26T00:00:00\",\"2019-08-27T00:00:00\",\"2019-08-28T00:00:00\",\"2019-08-29T00:00:00\",\"2019-08-30T00:00:00\",\"2019-08-31T00:00:00\",\"2019-09-01T00:00:00\",\"2019-09-02T00:00:00\",\"2019-09-03T00:00:00\",\"2019-09-04T00:00:00\",\"2019-09-05T00:00:00\",\"2019-09-06T00:00:00\",\"2019-09-07T00:00:00\",\"2019-09-08T00:00:00\",\"2019-09-09T00:00:00\",\"2019-09-10T00:00:00\",\"2019-09-11T00:00:00\",\"2019-09-12T00:00:00\",\"2019-09-13T00:00:00\",\"2019-09-14T00:00:00\",\"2019-09-15T00:00:00\",\"2019-09-16T00:00:00\",\"2019-09-17T00:00:00\",\"2019-09-18T00:00:00\",\"2019-09-19T00:00:00\",\"2019-09-20T00:00:00\",\"2019-09-21T00:00:00\",\"2019-09-22T00:00:00\",\"2019-09-23T00:00:00\",\"2019-09-24T00:00:00\",\"2019-09-25T00:00:00\",\"2019-09-26T00:00:00\",\"2019-09-27T00:00:00\",\"2019-09-28T00:00:00\",\"2019-09-29T00:00:00\",\"2019-09-30T00:00:00\",\"2019-10-01T00:00:00\",\"2019-10-02T00:00:00\",\"2019-10-03T00:00:00\",\"2019-10-04T00:00:00\",\"2019-10-05T00:00:00\",\"2019-10-06T00:00:00\",\"2019-10-07T00:00:00\",\"2019-10-08T00:00:00\",\"2019-10-09T00:00:00\",\"2019-10-10T00:00:00\",\"2019-10-11T00:00:00\",\"2019-10-12T00:00:00\",\"2019-10-13T00:00:00\",\"2019-10-14T00:00:00\",\"2019-10-15T00:00:00\",\"2019-10-16T00:00:00\",\"2019-10-17T00:00:00\",\"2019-10-18T00:00:00\",\"2019-10-19T00:00:00\",\"2019-10-20T00:00:00\",\"2019-10-21T00:00:00\",\"2019-10-22T00:00:00\",\"2019-10-23T00:00:00\",\"2019-10-24T00:00:00\",\"2019-10-25T00:00:00\",\"2019-10-26T00:00:00\",\"2019-10-27T00:00:00\",\"2019-10-28T00:00:00\",\"2019-10-29T00:00:00\",\"2019-10-30T00:00:00\",\"2019-10-31T00:00:00\",\"2019-11-01T00:00:00\",\"2019-11-02T00:00:00\",\"2019-11-03T00:00:00\",\"2019-11-04T00:00:00\",\"2019-11-05T00:00:00\",\"2019-11-06T00:00:00\",\"2019-11-07T00:00:00\",\"2019-11-08T00:00:00\",\"2019-11-09T00:00:00\",\"2019-11-10T00:00:00\",\"2019-11-11T00:00:00\",\"2019-11-12T00:00:00\",\"2019-11-13T00:00:00\",\"2019-11-14T00:00:00\",\"2019-11-15T00:00:00\",\"2019-11-16T00:00:00\",\"2019-11-17T00:00:00\",\"2019-11-18T00:00:00\",\"2019-11-19T00:00:00\",\"2019-11-20T00:00:00\",\"2019-11-21T00:00:00\",\"2019-11-22T00:00:00\",\"2019-11-23T00:00:00\",\"2019-11-24T00:00:00\",\"2019-11-25T00:00:00\",\"2019-11-26T00:00:00\",\"2019-11-27T00:00:00\",\"2019-11-28T00:00:00\",\"2019-11-29T00:00:00\",\"2019-11-30T00:00:00\",\"2019-12-01T00:00:00\",\"2019-12-02T00:00:00\",\"2019-12-03T00:00:00\",\"2019-12-04T00:00:00\",\"2019-12-05T00:00:00\",\"2019-12-06T00:00:00\",\"2019-12-07T00:00:00\",\"2019-12-08T00:00:00\",\"2019-12-09T00:00:00\",\"2019-12-10T00:00:00\",\"2019-12-11T00:00:00\",\"2019-12-12T00:00:00\",\"2019-12-13T00:00:00\",\"2019-12-14T00:00:00\",\"2019-12-15T00:00:00\",\"2019-12-16T00:00:00\",\"2019-12-17T00:00:00\",\"2019-12-18T00:00:00\",\"2019-12-19T00:00:00\",\"2019-12-20T00:00:00\",\"2019-12-21T00:00:00\",\"2019-12-22T00:00:00\",\"2019-12-23T00:00:00\",\"2019-12-24T00:00:00\",\"2019-12-25T00:00:00\",\"2019-12-26T00:00:00\",\"2019-12-27T00:00:00\",\"2019-12-28T00:00:00\",\"2019-12-29T00:00:00\",\"2019-12-30T00:00:00\",\"2019-12-31T00:00:00\",\"2020-01-01T00:00:00\",\"2020-01-02T00:00:00\",\"2020-01-03T00:00:00\",\"2020-01-04T00:00:00\",\"2020-01-05T00:00:00\",\"2020-01-06T00:00:00\",\"2020-01-07T00:00:00\",\"2020-01-08T00:00:00\",\"2020-01-09T00:00:00\",\"2020-01-10T00:00:00\",\"2020-01-11T00:00:00\",\"2020-01-12T00:00:00\",\"2020-01-13T00:00:00\",\"2020-01-14T00:00:00\",\"2020-01-15T00:00:00\",\"2020-01-16T00:00:00\",\"2020-01-17T00:00:00\",\"2020-01-18T00:00:00\",\"2020-01-19T00:00:00\",\"2020-01-20T00:00:00\",\"2020-01-21T00:00:00\",\"2020-01-22T00:00:00\",\"2020-01-23T00:00:00\",\"2020-01-24T00:00:00\",\"2020-01-25T00:00:00\",\"2020-01-26T00:00:00\",\"2020-01-27T00:00:00\",\"2020-01-28T00:00:00\",\"2020-01-29T00:00:00\",\"2020-01-30T00:00:00\",\"2020-01-31T00:00:00\",\"2020-02-01T00:00:00\",\"2020-02-02T00:00:00\",\"2020-02-03T00:00:00\",\"2020-02-04T00:00:00\",\"2020-02-05T00:00:00\",\"2020-02-06T00:00:00\",\"2020-02-07T00:00:00\",\"2020-02-08T00:00:00\",\"2020-02-09T00:00:00\",\"2020-02-10T00:00:00\",\"2020-02-11T00:00:00\",\"2020-02-12T00:00:00\",\"2020-02-13T00:00:00\",\"2020-02-14T00:00:00\",\"2020-02-15T00:00:00\",\"2020-02-16T00:00:00\",\"2020-02-17T00:00:00\",\"2020-02-18T00:00:00\",\"2020-02-19T00:00:00\",\"2020-02-20T00:00:00\",\"2020-02-21T00:00:00\",\"2020-02-22T00:00:00\",\"2020-02-23T00:00:00\",\"2020-02-24T00:00:00\",\"2020-02-25T00:00:00\",\"2020-02-26T00:00:00\",\"2020-02-27T00:00:00\",\"2020-02-28T00:00:00\",\"2020-02-29T00:00:00\",\"2020-03-01T00:00:00\",\"2020-03-02T00:00:00\",\"2020-03-03T00:00:00\",\"2020-03-04T00:00:00\",\"2020-03-05T00:00:00\",\"2020-03-06T00:00:00\",\"2020-03-07T00:00:00\",\"2020-03-08T00:00:00\",\"2020-03-09T00:00:00\",\"2020-03-10T00:00:00\",\"2020-03-11T00:00:00\",\"2020-03-12T00:00:00\",\"2020-03-13T00:00:00\",\"2020-03-14T00:00:00\",\"2020-03-15T00:00:00\",\"2020-03-16T00:00:00\",\"2020-03-17T00:00:00\",\"2020-03-18T00:00:00\",\"2020-03-19T00:00:00\",\"2020-03-20T00:00:00\",\"2020-03-21T00:00:00\",\"2020-03-22T00:00:00\",\"2020-03-23T00:00:00\",\"2020-03-24T00:00:00\",\"2020-03-25T00:00:00\",\"2020-03-26T00:00:00\",\"2020-03-27T00:00:00\",\"2020-03-28T00:00:00\",\"2020-03-29T00:00:00\",\"2020-03-30T00:00:00\",\"2020-03-31T00:00:00\",\"2020-04-01T00:00:00\",\"2020-04-02T00:00:00\",\"2020-04-03T00:00:00\",\"2020-04-04T00:00:00\",\"2020-04-05T00:00:00\",\"2020-04-06T00:00:00\",\"2020-04-07T00:00:00\",\"2020-04-08T00:00:00\",\"2020-04-09T00:00:00\",\"2020-04-10T00:00:00\",\"2020-04-11T00:00:00\",\"2020-04-12T00:00:00\",\"2020-04-13T00:00:00\",\"2020-04-14T00:00:00\",\"2020-04-15T00:00:00\",\"2020-04-16T00:00:00\",\"2020-04-17T00:00:00\",\"2020-04-18T00:00:00\",\"2020-04-19T00:00:00\",\"2020-04-20T00:00:00\",\"2020-04-21T00:00:00\",\"2020-04-22T00:00:00\",\"2020-04-23T00:00:00\",\"2020-04-24T00:00:00\",\"2020-04-25T00:00:00\",\"2020-04-26T00:00:00\",\"2020-04-27T00:00:00\",\"2020-04-28T00:00:00\",\"2020-04-29T00:00:00\",\"2020-04-30T00:00:00\",\"2020-05-01T00:00:00\",\"2020-05-02T00:00:00\",\"2020-05-03T00:00:00\",\"2020-05-04T00:00:00\",\"2020-05-05T00:00:00\",\"2020-05-06T00:00:00\",\"2020-05-07T00:00:00\",\"2020-05-08T00:00:00\",\"2020-05-09T00:00:00\",\"2020-05-10T00:00:00\",\"2020-05-11T00:00:00\",\"2020-05-12T00:00:00\",\"2020-05-13T00:00:00\",\"2020-05-14T00:00:00\",\"2020-05-15T00:00:00\",\"2020-05-16T00:00:00\",\"2020-05-17T00:00:00\",\"2020-05-18T00:00:00\",\"2020-05-19T00:00:00\",\"2020-05-20T00:00:00\",\"2020-05-21T00:00:00\",\"2020-05-22T00:00:00\",\"2020-05-23T00:00:00\",\"2020-05-24T00:00:00\",\"2020-05-25T00:00:00\",\"2020-05-26T00:00:00\",\"2020-05-27T00:00:00\",\"2020-05-28T00:00:00\",\"2020-05-29T00:00:00\",\"2020-05-30T00:00:00\",\"2020-05-31T00:00:00\",\"2020-06-01T00:00:00\",\"2020-06-02T00:00:00\",\"2020-06-03T00:00:00\",\"2020-06-04T00:00:00\",\"2020-06-05T00:00:00\",\"2020-06-06T00:00:00\",\"2020-06-07T00:00:00\",\"2020-06-08T00:00:00\",\"2020-06-09T00:00:00\",\"2020-06-10T00:00:00\",\"2020-06-11T00:00:00\",\"2020-06-12T00:00:00\",\"2020-06-13T00:00:00\",\"2020-06-14T00:00:00\",\"2020-06-15T00:00:00\",\"2020-06-16T00:00:00\",\"2020-06-17T00:00:00\",\"2020-06-18T00:00:00\",\"2020-06-19T00:00:00\",\"2020-06-20T00:00:00\",\"2020-06-21T00:00:00\",\"2020-06-22T00:00:00\",\"2020-06-23T00:00:00\",\"2020-06-24T00:00:00\",\"2020-06-25T00:00:00\",\"2020-06-26T00:00:00\",\"2020-06-27T00:00:00\",\"2020-06-28T00:00:00\",\"2020-06-29T00:00:00\",\"2020-06-30T00:00:00\",\"2020-07-01T00:00:00\",\"2020-07-02T00:00:00\",\"2020-07-03T00:00:00\",\"2020-07-04T00:00:00\",\"2020-07-05T00:00:00\",\"2020-07-06T00:00:00\",\"2020-07-07T00:00:00\",\"2020-07-08T00:00:00\",\"2020-07-09T00:00:00\",\"2020-07-10T00:00:00\",\"2020-07-11T00:00:00\",\"2020-07-12T00:00:00\",\"2020-07-13T00:00:00\",\"2020-07-14T00:00:00\",\"2020-07-15T00:00:00\",\"2020-07-16T00:00:00\",\"2020-07-17T00:00:00\",\"2020-07-18T00:00:00\",\"2020-07-19T00:00:00\",\"2020-07-20T00:00:00\",\"2020-07-21T00:00:00\",\"2020-07-22T00:00:00\",\"2020-07-23T00:00:00\",\"2020-07-24T00:00:00\",\"2020-07-25T00:00:00\",\"2020-07-26T00:00:00\",\"2020-07-27T00:00:00\",\"2020-07-28T00:00:00\",\"2020-07-29T00:00:00\",\"2020-07-30T00:00:00\",\"2020-07-31T00:00:00\",\"2020-08-01T00:00:00\",\"2020-08-02T00:00:00\",\"2020-08-03T00:00:00\",\"2020-08-04T00:00:00\",\"2020-08-05T00:00:00\",\"2020-08-06T00:00:00\",\"2020-08-07T00:00:00\",\"2020-08-08T00:00:00\",\"2020-08-09T00:00:00\",\"2020-08-10T00:00:00\",\"2020-08-11T00:00:00\",\"2020-08-12T00:00:00\",\"2020-08-13T00:00:00\",\"2020-08-14T00:00:00\",\"2020-08-15T00:00:00\",\"2020-08-16T00:00:00\",\"2020-08-17T00:00:00\",\"2020-08-18T00:00:00\",\"2020-08-19T00:00:00\",\"2020-08-20T00:00:00\",\"2020-08-21T00:00:00\",\"2020-08-22T00:00:00\",\"2020-08-23T00:00:00\",\"2020-08-24T00:00:00\",\"2020-08-25T00:00:00\",\"2020-08-26T00:00:00\",\"2020-08-27T00:00:00\",\"2020-08-28T00:00:00\",\"2020-08-29T00:00:00\",\"2020-08-30T00:00:00\",\"2020-08-31T00:00:00\",\"2020-09-01T00:00:00\",\"2020-09-02T00:00:00\",\"2020-09-03T00:00:00\",\"2020-09-04T00:00:00\",\"2020-09-05T00:00:00\",\"2020-09-06T00:00:00\",\"2020-09-07T00:00:00\",\"2020-09-08T00:00:00\",\"2020-09-09T00:00:00\",\"2020-09-10T00:00:00\",\"2020-09-11T00:00:00\",\"2020-09-12T00:00:00\",\"2020-09-13T00:00:00\",\"2020-09-14T00:00:00\",\"2020-09-15T00:00:00\",\"2020-09-16T00:00:00\",\"2020-09-17T00:00:00\",\"2020-09-18T00:00:00\",\"2020-09-19T00:00:00\",\"2020-09-20T00:00:00\",\"2020-09-21T00:00:00\",\"2020-09-22T00:00:00\",\"2020-09-23T00:00:00\",\"2020-09-24T00:00:00\",\"2020-09-25T00:00:00\",\"2020-09-26T00:00:00\",\"2020-09-27T00:00:00\",\"2020-09-28T00:00:00\",\"2020-09-29T00:00:00\",\"2020-09-30T00:00:00\",\"2020-10-01T00:00:00\",\"2020-10-02T00:00:00\",\"2020-10-03T00:00:00\",\"2020-10-04T00:00:00\",\"2020-10-05T00:00:00\",\"2020-10-06T00:00:00\",\"2020-10-07T00:00:00\",\"2020-10-08T00:00:00\",\"2020-10-09T00:00:00\",\"2020-10-10T00:00:00\",\"2020-10-11T00:00:00\",\"2020-10-12T00:00:00\",\"2020-10-13T00:00:00\",\"2020-10-14T00:00:00\",\"2020-10-15T00:00:00\",\"2020-10-16T00:00:00\",\"2020-10-17T00:00:00\",\"2020-10-18T00:00:00\",\"2020-10-19T00:00:00\",\"2020-10-20T00:00:00\",\"2020-10-21T00:00:00\",\"2020-10-22T00:00:00\",\"2020-10-23T00:00:00\",\"2020-10-24T00:00:00\",\"2020-10-25T00:00:00\",\"2020-10-26T00:00:00\",\"2020-10-27T00:00:00\",\"2020-10-28T00:00:00\",\"2020-10-29T00:00:00\",\"2020-10-30T00:00:00\",\"2020-10-31T00:00:00\",\"2020-11-01T00:00:00\",\"2020-11-02T00:00:00\",\"2020-11-03T00:00:00\",\"2020-11-04T00:00:00\",\"2020-11-05T00:00:00\",\"2020-11-06T00:00:00\",\"2020-11-07T00:00:00\",\"2020-11-08T00:00:00\",\"2020-11-09T00:00:00\",\"2020-11-10T00:00:00\",\"2020-11-11T00:00:00\",\"2020-11-12T00:00:00\",\"2020-11-13T00:00:00\",\"2020-11-14T00:00:00\",\"2020-11-15T00:00:00\",\"2020-11-16T00:00:00\",\"2020-11-17T00:00:00\",\"2020-11-18T00:00:00\",\"2020-11-19T00:00:00\",\"2020-11-20T00:00:00\",\"2020-11-21T00:00:00\",\"2020-11-22T00:00:00\",\"2020-11-23T00:00:00\",\"2020-11-24T00:00:00\",\"2020-11-25T00:00:00\",\"2020-11-26T00:00:00\",\"2020-11-27T00:00:00\",\"2020-11-28T00:00:00\",\"2020-11-29T00:00:00\",\"2020-11-30T00:00:00\",\"2020-12-01T00:00:00\",\"2020-12-02T00:00:00\",\"2020-12-03T00:00:00\",\"2020-12-04T00:00:00\",\"2020-12-05T00:00:00\",\"2020-12-06T00:00:00\",\"2020-12-07T00:00:00\",\"2020-12-08T00:00:00\",\"2020-12-09T00:00:00\",\"2020-12-10T00:00:00\",\"2020-12-11T00:00:00\",\"2020-12-12T00:00:00\",\"2020-12-13T00:00:00\",\"2020-12-14T00:00:00\",\"2020-12-15T00:00:00\",\"2020-12-16T00:00:00\",\"2020-12-17T00:00:00\",\"2020-12-18T00:00:00\",\"2020-12-19T00:00:00\",\"2020-12-20T00:00:00\",\"2020-12-21T00:00:00\",\"2020-12-22T00:00:00\",\"2020-12-23T00:00:00\",\"2020-12-24T00:00:00\",\"2020-12-25T00:00:00\",\"2020-12-26T00:00:00\",\"2020-12-27T00:00:00\",\"2020-12-28T00:00:00\",\"2020-12-29T00:00:00\",\"2020-12-30T00:00:00\",\"2020-12-31T00:00:00\",\"2021-01-01T00:00:00\",\"2021-01-02T00:00:00\",\"2021-01-03T00:00:00\",\"2021-01-04T00:00:00\",\"2021-01-05T00:00:00\",\"2021-01-06T00:00:00\",\"2021-01-07T00:00:00\",\"2021-01-08T00:00:00\",\"2021-01-09T00:00:00\",\"2021-01-10T00:00:00\",\"2021-01-11T00:00:00\",\"2021-01-12T00:00:00\",\"2021-01-13T00:00:00\",\"2021-01-14T00:00:00\",\"2021-01-15T00:00:00\",\"2021-01-16T00:00:00\",\"2021-01-17T00:00:00\",\"2021-01-18T00:00:00\",\"2021-01-19T00:00:00\",\"2021-01-20T00:00:00\",\"2021-01-21T00:00:00\",\"2021-01-22T00:00:00\",\"2021-01-23T00:00:00\",\"2021-01-24T00:00:00\",\"2021-01-25T00:00:00\",\"2021-01-26T00:00:00\",\"2021-01-27T00:00:00\",\"2021-01-28T00:00:00\",\"2021-01-29T00:00:00\",\"2021-01-30T00:00:00\",\"2021-01-31T00:00:00\",\"2021-02-01T00:00:00\",\"2021-02-02T00:00:00\",\"2021-02-03T00:00:00\",\"2021-02-04T00:00:00\",\"2021-02-05T00:00:00\",\"2021-02-06T00:00:00\",\"2021-02-07T00:00:00\",\"2021-02-08T00:00:00\",\"2021-02-09T00:00:00\",\"2021-02-10T00:00:00\",\"2021-02-11T00:00:00\",\"2021-02-12T00:00:00\",\"2021-02-13T00:00:00\",\"2021-02-14T00:00:00\",\"2021-02-15T00:00:00\",\"2021-02-16T00:00:00\",\"2021-02-17T00:00:00\",\"2021-02-18T00:00:00\",\"2021-02-19T00:00:00\",\"2021-02-20T00:00:00\",\"2021-02-21T00:00:00\",\"2021-02-22T00:00:00\",\"2021-02-23T00:00:00\",\"2021-02-24T00:00:00\",\"2021-02-25T00:00:00\",\"2021-02-26T00:00:00\",\"2021-02-27T00:00:00\",\"2021-02-28T00:00:00\",\"2021-03-01T00:00:00\",\"2021-03-02T00:00:00\",\"2021-03-03T00:00:00\",\"2021-03-04T00:00:00\",\"2021-03-05T00:00:00\",\"2021-03-06T00:00:00\",\"2021-03-07T00:00:00\",\"2021-03-08T00:00:00\",\"2021-03-09T00:00:00\",\"2021-03-10T00:00:00\",\"2021-03-11T00:00:00\",\"2021-03-12T00:00:00\",\"2021-03-13T00:00:00\",\"2021-03-14T00:00:00\",\"2021-03-15T00:00:00\",\"2021-03-16T00:00:00\",\"2021-03-17T00:00:00\",\"2021-03-18T00:00:00\",\"2021-03-19T00:00:00\",\"2021-03-20T00:00:00\",\"2021-03-21T00:00:00\",\"2021-03-22T00:00:00\",\"2021-03-23T00:00:00\",\"2021-03-24T00:00:00\",\"2021-03-25T00:00:00\",\"2021-03-26T00:00:00\",\"2021-03-27T00:00:00\",\"2021-03-28T00:00:00\",\"2021-03-29T00:00:00\",\"2021-03-30T00:00:00\",\"2021-03-31T00:00:00\",\"2021-04-01T00:00:00\",\"2021-04-02T00:00:00\",\"2021-04-03T00:00:00\",\"2021-04-04T00:00:00\",\"2021-04-05T00:00:00\",\"2021-04-06T00:00:00\",\"2021-04-07T00:00:00\",\"2021-04-08T00:00:00\",\"2021-04-09T00:00:00\",\"2021-04-10T00:00:00\",\"2021-04-11T00:00:00\",\"2021-04-12T00:00:00\",\"2021-04-13T00:00:00\",\"2021-04-14T00:00:00\",\"2021-04-15T00:00:00\",\"2021-04-16T00:00:00\",\"2021-04-17T00:00:00\",\"2021-04-18T00:00:00\",\"2021-04-19T00:00:00\",\"2021-04-20T00:00:00\",\"2021-04-21T00:00:00\",\"2021-04-22T00:00:00\",\"2021-04-23T00:00:00\",\"2021-04-24T00:00:00\",\"2021-04-25T00:00:00\",\"2021-04-26T00:00:00\",\"2021-04-27T00:00:00\",\"2021-04-28T00:00:00\",\"2021-04-29T00:00:00\",\"2021-04-30T00:00:00\",\"2021-05-01T00:00:00\",\"2021-05-02T00:00:00\",\"2021-05-03T00:00:00\",\"2021-05-04T00:00:00\",\"2021-05-05T00:00:00\",\"2021-05-06T00:00:00\",\"2021-05-07T00:00:00\",\"2021-05-08T00:00:00\",\"2021-05-09T00:00:00\",\"2021-05-10T00:00:00\",\"2021-05-11T00:00:00\",\"2021-05-12T00:00:00\",\"2021-05-13T00:00:00\",\"2021-05-14T00:00:00\",\"2021-05-15T00:00:00\",\"2021-05-16T00:00:00\",\"2021-05-17T00:00:00\",\"2021-05-18T00:00:00\",\"2021-05-19T00:00:00\",\"2021-05-21T00:00:00\",\"2021-05-22T00:00:00\",\"2021-05-23T00:00:00\",\"2021-05-24T00:00:00\",\"2021-05-25T00:00:00\",\"2021-05-26T00:00:00\",\"2021-05-27T00:00:00\",\"2021-05-28T00:00:00\",\"2021-05-29T00:00:00\",\"2021-05-30T00:00:00\",\"2021-05-31T00:00:00\",\"2021-06-01T00:00:00\",\"2021-06-02T00:00:00\",\"2021-06-03T00:00:00\",\"2021-06-04T00:00:00\",\"2021-06-05T00:00:00\",\"2021-06-06T00:00:00\",\"2021-06-07T00:00:00\",\"2021-06-08T00:00:00\",\"2021-06-09T00:00:00\",\"2021-06-10T00:00:00\",\"2021-06-11T00:00:00\",\"2021-06-12T00:00:00\",\"2021-06-13T00:00:00\",\"2021-06-14T00:00:00\",\"2021-06-15T00:00:00\",\"2021-06-16T00:00:00\",\"2021-06-17T00:00:00\",\"2021-06-18T00:00:00\",\"2021-06-19T00:00:00\",\"2021-06-20T00:00:00\",\"2021-06-21T00:00:00\",\"2021-06-22T00:00:00\",\"2021-06-23T00:00:00\",\"2021-06-24T00:00:00\",\"2021-06-25T00:00:00\",\"2021-06-26T00:00:00\",\"2021-06-27T00:00:00\",\"2021-06-28T00:00:00\",\"2021-06-29T00:00:00\",\"2021-06-30T00:00:00\",\"2021-07-01T00:00:00\",\"2021-07-02T00:00:00\",\"2021-07-03T00:00:00\",\"2021-07-04T00:00:00\",\"2021-07-05T00:00:00\",\"2021-07-06T00:00:00\",\"2021-07-07T00:00:00\",\"2021-07-08T00:00:00\",\"2021-07-09T00:00:00\",\"2021-07-10T00:00:00\",\"2021-07-11T00:00:00\",\"2021-07-12T00:00:00\",\"2021-07-13T00:00:00\",\"2021-07-14T00:00:00\",\"2021-07-15T00:00:00\",\"2021-07-16T00:00:00\",\"2021-07-17T00:00:00\",\"2021-07-18T00:00:00\",\"2021-07-19T00:00:00\",\"2021-07-20T00:00:00\",\"2021-07-21T00:00:00\",\"2021-07-22T00:00:00\",\"2021-07-23T00:00:00\",\"2021-07-24T00:00:00\",\"2021-07-25T00:00:00\",\"2021-07-26T00:00:00\",\"2021-07-27T00:00:00\",\"2021-07-28T00:00:00\",\"2021-07-29T00:00:00\",\"2021-07-30T00:00:00\",\"2021-07-31T00:00:00\",\"2021-08-01T00:00:00\",\"2021-08-02T00:00:00\",\"2021-08-03T00:00:00\",\"2021-08-04T00:00:00\",\"2021-08-05T00:00:00\",\"2021-08-06T00:00:00\",\"2021-08-07T00:00:00\",\"2021-08-08T00:00:00\",\"2021-08-09T00:00:00\",\"2021-08-10T00:00:00\",\"2021-08-11T00:00:00\",\"2021-08-12T00:00:00\",\"2021-08-13T00:00:00\",\"2021-08-14T00:00:00\",\"2021-08-15T00:00:00\",\"2021-08-16T00:00:00\",\"2021-08-17T00:00:00\",\"2021-08-18T00:00:00\",\"2021-08-19T00:00:00\",\"2021-08-20T00:00:00\",\"2021-08-21T00:00:00\",\"2021-08-22T00:00:00\",\"2021-08-23T00:00:00\",\"2021-08-24T00:00:00\",\"2021-08-25T00:00:00\",\"2021-08-26T00:00:00\",\"2021-08-27T00:00:00\",\"2021-08-28T00:00:00\",\"2021-08-29T00:00:00\",\"2021-08-30T00:00:00\",\"2021-08-31T00:00:00\",\"2021-09-01T00:00:00\",\"2021-09-02T00:00:00\",\"2021-09-03T00:00:00\",\"2021-09-04T00:00:00\",\"2021-09-05T00:00:00\",\"2021-09-06T00:00:00\",\"2021-09-07T00:00:00\",\"2021-09-08T00:00:00\",\"2021-09-09T00:00:00\",\"2021-09-10T00:00:00\",\"2021-09-11T00:00:00\",\"2021-09-12T00:00:00\",\"2021-09-13T00:00:00\",\"2021-09-14T00:00:00\",\"2021-09-15T00:00:00\",\"2021-09-16T00:00:00\",\"2021-09-17T00:00:00\",\"2021-09-18T00:00:00\",\"2021-09-19T00:00:00\",\"2021-09-20T00:00:00\",\"2021-09-21T00:00:00\",\"2021-09-22T00:00:00\",\"2021-09-23T00:00:00\",\"2021-09-24T00:00:00\",\"2021-09-25T00:00:00\",\"2021-09-26T00:00:00\",\"2021-09-27T00:00:00\",\"2021-09-28T00:00:00\",\"2021-09-29T00:00:00\",\"2021-09-30T00:00:00\",\"2021-10-01T00:00:00\",\"2021-10-02T00:00:00\",\"2021-10-03T00:00:00\",\"2021-10-04T00:00:00\",\"2021-10-05T00:00:00\",\"2021-10-06T00:00:00\",\"2021-10-07T00:00:00\",\"2021-10-08T00:00:00\",\"2021-10-09T00:00:00\",\"2021-10-10T00:00:00\",\"2021-10-11T00:00:00\",\"2021-10-12T00:00:00\",\"2021-10-13T00:00:00\",\"2021-10-14T00:00:00\",\"2021-10-15T00:00:00\",\"2021-10-16T00:00:00\",\"2021-10-17T00:00:00\",\"2021-10-18T00:00:00\",\"2021-10-19T00:00:00\",\"2021-10-20T00:00:00\",\"2021-10-21T00:00:00\",\"2021-10-22T00:00:00\",\"2021-10-23T00:00:00\",\"2021-10-24T00:00:00\",\"2021-10-25T00:00:00\",\"2021-10-26T00:00:00\",\"2021-10-27T00:00:00\",\"2021-10-28T00:00:00\",\"2021-10-29T00:00:00\",\"2021-10-30T00:00:00\",\"2021-10-31T00:00:00\",\"2021-11-01T00:00:00\",\"2021-11-02T00:00:00\",\"2021-11-03T00:00:00\",\"2021-11-04T00:00:00\",\"2021-11-05T00:00:00\",\"2021-11-06T00:00:00\",\"2021-11-07T00:00:00\",\"2021-11-08T00:00:00\",\"2021-11-09T00:00:00\",\"2021-11-10T00:00:00\",\"2021-11-11T00:00:00\",\"2021-11-12T00:00:00\",\"2021-11-13T00:00:00\",\"2021-11-14T00:00:00\",\"2021-11-15T00:00:00\",\"2021-11-16T00:00:00\",\"2021-11-17T00:00:00\",\"2021-11-18T00:00:00\",\"2021-11-19T00:00:00\",\"2021-11-20T00:00:00\",\"2021-11-21T00:00:00\",\"2021-11-22T00:00:00\",\"2021-11-23T00:00:00\",\"2021-11-24T00:00:00\",\"2021-11-25T00:00:00\",\"2021-11-26T00:00:00\",\"2021-11-27T00:00:00\",\"2021-11-28T00:00:00\",\"2021-11-29T00:00:00\",\"2021-11-30T00:00:00\",\"2021-12-01T00:00:00\",\"2021-12-02T00:00:00\",\"2021-12-03T00:00:00\",\"2021-12-04T00:00:00\",\"2021-12-05T00:00:00\",\"2021-12-06T00:00:00\",\"2021-12-07T00:00:00\",\"2021-12-08T00:00:00\",\"2021-12-09T00:00:00\",\"2021-12-10T00:00:00\",\"2021-12-11T00:00:00\",\"2021-12-12T00:00:00\",\"2021-12-13T00:00:00\",\"2021-12-14T00:00:00\",\"2021-12-15T00:00:00\",\"2021-12-16T00:00:00\",\"2021-12-17T00:00:00\",\"2021-12-18T00:00:00\",\"2021-12-19T00:00:00\",\"2021-12-20T00:00:00\",\"2021-12-21T00:00:00\",\"2021-12-22T00:00:00\",\"2021-12-23T00:00:00\",\"2021-12-24T00:00:00\",\"2021-12-25T00:00:00\",\"2021-12-26T00:00:00\",\"2021-12-27T00:00:00\",\"2021-12-28T00:00:00\",\"2021-12-29T00:00:00\",\"2021-12-30T00:00:00\",\"2021-12-31T00:00:00\",\"2022-01-01T00:00:00\",\"2022-01-02T00:00:00\",\"2022-01-03T00:00:00\",\"2022-01-04T00:00:00\",\"2022-01-05T00:00:00\",\"2022-01-06T00:00:00\",\"2022-01-07T00:00:00\",\"2022-01-08T00:00:00\",\"2022-01-09T00:00:00\",\"2022-01-10T00:00:00\",\"2022-01-11T00:00:00\",\"2022-01-12T00:00:00\",\"2022-01-13T00:00:00\",\"2022-01-14T00:00:00\",\"2022-01-15T00:00:00\",\"2022-01-16T00:00:00\",\"2022-01-17T00:00:00\",\"2022-01-18T00:00:00\",\"2022-01-19T00:00:00\",\"2022-01-20T00:00:00\",\"2022-01-21T00:00:00\",\"2022-01-22T00:00:00\",\"2022-01-23T00:00:00\",\"2022-01-24T00:00:00\",\"2022-01-25T00:00:00\",\"2022-01-26T00:00:00\",\"2022-01-27T00:00:00\",\"2022-01-28T00:00:00\",\"2022-01-29T00:00:00\",\"2022-01-30T00:00:00\",\"2022-01-31T00:00:00\",\"2022-02-01T00:00:00\",\"2022-02-02T00:00:00\",\"2022-02-03T00:00:00\",\"2022-02-04T00:00:00\",\"2022-02-05T00:00:00\",\"2022-02-06T00:00:00\",\"2022-02-07T00:00:00\",\"2022-02-08T00:00:00\",\"2022-02-09T00:00:00\",\"2022-02-10T00:00:00\",\"2022-02-11T00:00:00\",\"2022-02-12T00:00:00\",\"2022-02-13T00:00:00\",\"2022-02-14T00:00:00\",\"2022-02-15T00:00:00\",\"2022-02-16T00:00:00\",\"2022-02-17T00:00:00\",\"2022-02-18T00:00:00\",\"2022-02-19T00:00:00\",\"2022-02-20T00:00:00\",\"2022-02-21T00:00:00\",\"2022-02-22T00:00:00\",\"2022-02-23T00:00:00\",\"2022-02-24T00:00:00\",\"2022-02-25T00:00:00\",\"2022-02-26T00:00:00\",\"2022-02-27T00:00:00\",\"2022-02-28T00:00:00\",\"2022-03-01T00:00:00\",\"2022-03-02T00:00:00\",\"2022-03-03T00:00:00\",\"2022-03-04T00:00:00\",\"2022-03-05T00:00:00\",\"2022-03-06T00:00:00\",\"2022-03-07T00:00:00\",\"2022-03-08T00:00:00\",\"2022-03-09T00:00:00\",\"2022-03-10T00:00:00\",\"2022-03-11T00:00:00\",\"2022-03-12T00:00:00\",\"2022-03-13T00:00:00\",\"2022-03-14T00:00:00\",\"2022-03-15T00:00:00\",\"2022-03-16T00:00:00\",\"2022-03-17T00:00:00\",\"2022-03-18T00:00:00\",\"2022-03-19T00:00:00\",\"2022-03-20T00:00:00\",\"2022-03-21T00:00:00\",\"2022-03-22T00:00:00\",\"2022-03-23T00:00:00\",\"2022-03-24T00:00:00\",\"2022-03-25T00:00:00\",\"2022-03-26T00:00:00\",\"2022-03-27T00:00:00\",\"2022-03-28T00:00:00\",\"2022-03-29T00:00:00\",\"2022-03-30T00:00:00\",\"2022-03-31T00:00:00\",\"2022-04-01T00:00:00\",\"2022-04-02T00:00:00\",\"2022-04-03T00:00:00\",\"2022-04-04T00:00:00\",\"2022-04-05T00:00:00\",\"2022-04-06T00:00:00\",\"2022-04-07T00:00:00\",\"2022-04-08T00:00:00\",\"2022-04-09T00:00:00\",\"2022-04-10T00:00:00\",\"2022-04-11T00:00:00\",\"2022-04-12T00:00:00\",\"2022-04-13T00:00:00\",\"2022-04-14T00:00:00\",\"2022-04-15T00:00:00\",\"2022-04-16T00:00:00\",\"2022-04-17T00:00:00\",\"2022-04-18T00:00:00\",\"2022-04-19T00:00:00\",\"2022-04-20T00:00:00\",\"2022-04-21T00:00:00\",\"2022-04-22T00:00:00\",\"2022-04-23T00:00:00\",\"2022-04-24T00:00:00\",\"2022-04-25T00:00:00\",\"2022-04-26T00:00:00\",\"2022-04-27T00:00:00\",\"2022-04-28T00:00:00\",\"2022-04-29T00:00:00\",\"2022-04-30T00:00:00\",\"2022-05-01T00:00:00\",\"2022-05-02T00:00:00\",\"2022-05-03T00:00:00\",\"2022-05-04T00:00:00\",\"2022-05-05T00:00:00\",\"2022-05-06T00:00:00\",\"2022-05-07T00:00:00\",\"2022-05-08T00:00:00\",\"2022-05-09T00:00:00\",\"2022-05-10T00:00:00\",\"2022-05-11T00:00:00\",\"2022-05-12T00:00:00\",\"2022-05-13T00:00:00\",\"2022-05-14T00:00:00\",\"2022-05-15T00:00:00\",\"2022-05-16T00:00:00\",\"2022-05-17T00:00:00\",\"2022-05-18T00:00:00\",\"2022-05-19T00:00:00\",\"2022-05-20T00:00:00\",\"2022-05-21T00:00:00\",\"2022-05-22T00:00:00\",\"2022-05-23T00:00:00\",\"2022-05-24T00:00:00\",\"2022-05-25T00:00:00\",\"2022-05-26T00:00:00\",\"2022-05-27T00:00:00\",\"2022-05-28T00:00:00\",\"2022-05-29T00:00:00\",\"2022-05-30T00:00:00\",\"2022-05-31T00:00:00\",\"2022-06-01T00:00:00\",\"2022-06-02T00:00:00\",\"2022-06-03T00:00:00\",\"2022-06-04T00:00:00\",\"2022-06-05T00:00:00\",\"2022-06-06T00:00:00\",\"2022-06-07T00:00:00\",\"2022-06-08T00:00:00\",\"2022-06-09T00:00:00\",\"2022-06-10T00:00:00\",\"2022-06-11T00:00:00\",\"2022-06-12T00:00:00\",\"2022-06-13T00:00:00\",\"2022-06-14T00:00:00\",\"2022-06-15T00:00:00\",\"2022-06-16T00:00:00\",\"2022-06-17T00:00:00\",\"2022-06-18T00:00:00\",\"2022-06-19T00:00:00\",\"2022-06-20T00:00:00\",\"2022-06-21T00:00:00\",\"2022-06-22T00:00:00\",\"2022-06-23T00:00:00\",\"2022-06-24T00:00:00\",\"2022-06-25T00:00:00\",\"2022-06-26T00:00:00\",\"2022-06-27T00:00:00\",\"2022-06-28T00:00:00\",\"2022-06-29T00:00:00\",\"2022-06-30T00:00:00\",\"2022-07-01T00:00:00\",\"2022-07-02T00:00:00\",\"2022-07-03T00:00:00\",\"2022-07-04T00:00:00\",\"2022-07-05T00:00:00\",\"2022-07-06T00:00:00\",\"2022-07-07T00:00:00\",\"2022-07-08T00:00:00\",\"2022-07-09T00:00:00\",\"2022-07-10T00:00:00\",\"2022-07-11T00:00:00\",\"2022-07-12T00:00:00\",\"2022-07-13T00:00:00\",\"2022-07-14T00:00:00\",\"2022-07-15T00:00:00\",\"2022-07-16T00:00:00\",\"2022-07-17T00:00:00\",\"2022-07-18T00:00:00\",\"2022-07-19T00:00:00\",\"2022-07-20T00:00:00\",\"2022-07-21T00:00:00\",\"2022-07-22T00:00:00\",\"2022-07-23T00:00:00\",\"2022-07-24T00:00:00\",\"2022-07-25T00:00:00\",\"2022-07-26T00:00:00\",\"2022-07-27T00:00:00\",\"2022-07-28T00:00:00\",\"2022-07-29T00:00:00\",\"2022-07-30T00:00:00\",\"2022-07-31T00:00:00\",\"2022-08-01T00:00:00\",\"2022-08-02T00:00:00\",\"2022-08-03T00:00:00\",\"2022-08-04T00:00:00\",\"2022-08-05T00:00:00\",\"2022-08-06T00:00:00\",\"2022-08-07T00:00:00\",\"2022-08-08T00:00:00\",\"2022-08-09T00:00:00\",\"2022-08-10T00:00:00\",\"2022-08-11T00:00:00\",\"2022-08-12T00:00:00\",\"2022-08-13T00:00:00\",\"2022-08-14T00:00:00\",\"2022-08-15T00:00:00\",\"2022-08-16T00:00:00\",\"2022-08-17T00:00:00\",\"2022-08-18T00:00:00\",\"2022-08-19T00:00:00\",\"2022-08-20T00:00:00\",\"2022-08-21T00:00:00\",\"2022-08-22T00:00:00\",\"2022-08-23T00:00:00\",\"2022-08-24T00:00:00\",\"2022-08-25T00:00:00\",\"2022-08-26T00:00:00\",\"2022-08-27T00:00:00\",\"2022-08-28T00:00:00\",\"2022-08-29T00:00:00\",\"2022-08-30T00:00:00\",\"2022-08-31T00:00:00\",\"2022-09-01T00:00:00\",\"2022-09-02T00:00:00\",\"2022-09-03T00:00:00\",\"2022-09-04T00:00:00\",\"2022-09-05T00:00:00\",\"2022-09-06T00:00:00\",\"2022-09-07T00:00:00\",\"2022-09-08T00:00:00\",\"2022-09-09T00:00:00\",\"2022-09-10T00:00:00\",\"2022-09-11T00:00:00\",\"2022-09-12T00:00:00\",\"2022-09-13T00:00:00\",\"2022-09-14T00:00:00\",\"2022-09-15T00:00:00\",\"2022-09-16T00:00:00\",\"2022-09-17T00:00:00\",\"2022-09-18T00:00:00\",\"2022-09-19T00:00:00\",\"2022-09-20T00:00:00\",\"2022-09-21T00:00:00\",\"2022-09-22T00:00:00\",\"2022-09-23T00:00:00\",\"2022-09-24T00:00:00\",\"2022-09-25T00:00:00\",\"2022-09-26T00:00:00\",\"2022-09-27T00:00:00\",\"2022-09-28T00:00:00\",\"2022-09-29T00:00:00\",\"2022-09-30T00:00:00\",\"2022-10-01T00:00:00\",\"2022-10-02T00:00:00\",\"2022-10-03T00:00:00\",\"2022-10-04T00:00:00\",\"2022-10-05T00:00:00\",\"2022-10-06T00:00:00\",\"2022-10-07T00:00:00\",\"2022-10-08T00:00:00\",\"2022-10-09T00:00:00\",\"2022-10-10T00:00:00\",\"2022-10-11T00:00:00\",\"2022-10-12T00:00:00\",\"2022-10-13T00:00:00\",\"2022-10-14T00:00:00\",\"2022-10-15T00:00:00\",\"2022-10-16T00:00:00\",\"2022-10-17T00:00:00\",\"2022-10-18T00:00:00\",\"2022-10-19T00:00:00\",\"2022-10-20T00:00:00\",\"2022-10-21T00:00:00\",\"2022-10-22T00:00:00\",\"2022-10-23T00:00:00\",\"2022-10-24T00:00:00\",\"2022-10-25T00:00:00\",\"2022-10-26T00:00:00\",\"2022-10-27T00:00:00\",\"2022-10-28T00:00:00\",\"2022-10-29T00:00:00\",\"2022-10-30T00:00:00\",\"2022-10-31T00:00:00\",\"2022-11-01T00:00:00\",\"2022-11-02T00:00:00\",\"2022-11-03T00:00:00\",\"2022-11-04T00:00:00\",\"2022-11-05T00:00:00\",\"2022-11-06T00:00:00\",\"2022-11-07T00:00:00\",\"2022-11-08T00:00:00\",\"2022-11-09T00:00:00\",\"2022-11-10T00:00:00\",\"2022-11-11T00:00:00\",\"2022-11-12T00:00:00\",\"2022-11-13T00:00:00\",\"2022-11-14T00:00:00\",\"2022-11-15T00:00:00\",\"2022-11-16T00:00:00\",\"2022-11-17T00:00:00\",\"2022-11-18T00:00:00\",\"2022-11-19T00:00:00\",\"2022-11-20T00:00:00\",\"2022-11-21T00:00:00\",\"2022-11-22T00:00:00\",\"2022-11-23T00:00:00\",\"2022-11-24T00:00:00\",\"2022-11-25T00:00:00\",\"2022-11-26T00:00:00\",\"2022-11-27T00:00:00\",\"2022-11-28T00:00:00\",\"2022-11-29T00:00:00\",\"2022-11-30T00:00:00\",\"2022-12-01T00:00:00\",\"2022-12-02T00:00:00\",\"2022-12-03T00:00:00\",\"2022-12-04T00:00:00\",\"2022-12-05T00:00:00\",\"2022-12-06T00:00:00\",\"2022-12-07T00:00:00\",\"2022-12-08T00:00:00\",\"2022-12-09T00:00:00\",\"2022-12-10T00:00:00\",\"2022-12-11T00:00:00\",\"2022-12-12T00:00:00\",\"2022-12-13T00:00:00\",\"2022-12-14T00:00:00\",\"2022-12-15T00:00:00\",\"2022-12-16T00:00:00\",\"2022-12-17T00:00:00\",\"2022-12-18T00:00:00\",\"2022-12-19T00:00:00\",\"2022-12-20T00:00:00\",\"2022-12-21T00:00:00\",\"2022-12-22T00:00:00\",\"2022-12-23T00:00:00\",\"2022-12-24T00:00:00\",\"2022-12-25T00:00:00\",\"2022-12-26T00:00:00\",\"2022-12-27T00:00:00\",\"2022-12-28T00:00:00\",\"2022-12-29T00:00:00\",\"2022-12-30T00:00:00\",\"2022-12-31T00:00:00\",\"2023-01-01T00:00:00\",\"2023-01-02T00:00:00\",\"2023-01-03T00:00:00\",\"2023-01-04T00:00:00\",\"2023-01-05T00:00:00\",\"2023-01-06T00:00:00\",\"2023-01-07T00:00:00\",\"2023-01-08T00:00:00\",\"2023-01-09T00:00:00\",\"2023-01-10T00:00:00\",\"2023-01-11T00:00:00\",\"2023-01-12T00:00:00\",\"2023-01-13T00:00:00\",\"2023-01-14T00:00:00\",\"2023-01-15T00:00:00\",\"2023-01-16T00:00:00\",\"2023-01-17T00:00:00\",\"2023-01-18T00:00:00\",\"2023-01-19T00:00:00\",\"2023-01-20T00:00:00\",\"2023-01-21T00:00:00\",\"2023-01-22T00:00:00\",\"2023-01-23T00:00:00\",\"2023-01-24T00:00:00\",\"2023-01-25T00:00:00\",\"2023-01-26T00:00:00\",\"2023-01-27T00:00:00\",\"2023-01-28T00:00:00\",\"2023-01-29T00:00:00\",\"2023-01-30T00:00:00\",\"2023-01-31T00:00:00\",\"2023-02-01T00:00:00\",\"2023-02-02T00:00:00\",\"2023-02-03T00:00:00\",\"2023-02-04T00:00:00\",\"2023-02-05T00:00:00\",\"2023-02-06T00:00:00\",\"2023-02-07T00:00:00\",\"2023-02-08T00:00:00\",\"2023-02-09T00:00:00\",\"2023-02-10T00:00:00\",\"2023-02-11T00:00:00\",\"2023-02-12T00:00:00\",\"2023-02-13T00:00:00\",\"2023-02-14T00:00:00\",\"2023-02-15T00:00:00\",\"2023-02-16T00:00:00\",\"2023-02-17T00:00:00\",\"2023-02-18T00:00:00\",\"2023-02-19T00:00:00\",\"2023-02-20T00:00:00\",\"2023-02-21T00:00:00\",\"2023-02-22T00:00:00\",\"2023-02-23T00:00:00\",\"2023-02-24T00:00:00\",\"2023-02-25T00:00:00\",\"2023-02-26T00:00:00\",\"2023-02-27T00:00:00\",\"2023-02-28T00:00:00\",\"2023-03-01T00:00:00\",\"2023-03-02T00:00:00\",\"2023-03-03T00:00:00\",\"2023-03-04T00:00:00\",\"2023-03-05T00:00:00\"],\"legendgroup\":\"\",\"marker\":{\"color\":[0,1,2,3,4,5,6,7,8,9,10,11,12,13,14,15,16,17,18,19,20,21,22,23,24,25,26,27,28,29,30,31,32,33,34,35,36,37,38,39,40,41,42,43,44,45,46,47,48,49,50,51,52,53,54,55,56,57,58,59,60,61,62,63,64,65,66,67,68,69,70,71,72,73,74,75,76,77,78,79,80,81,82,83,84,85,86,87,88,89,90,91,92,93,94,95,96,97,98,99,100,101,102,103,104,105,106,107,108,109,110,111,112,113,114,115,116,117,118,119,120,121,122,123,124,125,126,127,128,129,130,131,132,133,134,135,136,137,138,139,140,141,142,143,144,145,146,147,148,149,150,151,152,153,154,155,156,157,158,159,160,161,162,163,164,165,166,167,168,169,170,171,172,173,174,175,176,177,178,179,180,181,182,183,184,185,186,187,188,189,190,191,192,193,194,195,196,197,198,199,200,201,202,203,204,205,206,207,208,209,210,211,212,213,214,215,216,217,218,219,220,221,222,223,224,225,226,227,228,229,230,231,232,233,234,235,236,237,238,239,240,241,242,243,244,245,246,247,248,249,250,251,252,253,254,255,256,257,258,259,260,261,262,263,264,265,266,267,268,269,270,271,272,273,274,275,276,277,278,279,280,281,282,283,284,285,286,287,288,289,290,291,292,293,294,295,296,297,298,299,300,301,302,303,304,305,306,307,308,309,310,311,312,313,314,315,316,317,318,319,320,321,322,323,324,325,326,327,328,329,330,331,332,333,334,335,336,337,338,339,340,341,342,343,344,345,346,347,348,349,350,351,352,353,354,355,356,357,358,359,360,361,362,363,364,365,366,367,368,369,370,371,372,373,374,375,376,377,378,379,380,381,382,383,384,385,386,387,388,389,390,391,392,393,394,395,396,397,398,399,400,401,402,403,404,405,406,407,408,409,410,411,412,413,414,415,416,417,418,419,420,421,422,423,424,425,426,427,428,429,430,431,432,433,434,435,436,437,438,439,440,441,442,443,444,445,446,447,448,449,450,451,452,453,454,455,456,457,458,459,460,461,462,463,464,465,466,467,468,469,470,471,472,473,474,475,476,477,478,479,480,481,482,483,484,485,486,487,488,489,490,491,492,493,494,495,496,497,498,499,500,501,502,503,504,505,506,507,508,509,510,511,512,513,514,515,516,517,518,519,520,521,522,523,524,525,526,527,528,529,530,531,532,533,534,535,536,537,538,539,540,541,542,543,544,545,546,547,548,549,550,551,552,553,554,555,556,557,558,559,560,561,562,563,564,565,566,567,568,569,570,571,572,573,574,575,576,577,578,579,580,581,582,583,584,585,586,587,588,589,590,591,592,593,594,595,596,597,598,599,600,601,602,603,604,605,606,607,608,609,610,611,612,613,614,615,616,617,618,619,620,621,622,623,624,625,626,627,628,629,630,631,632,633,634,635,636,637,638,639,640,641,642,643,644,645,646,647,648,649,650,651,652,653,654,655,656,657,658,659,660,661,662,663,664,665,666,667,668,669,670,671,672,673,674,675,676,677,678,679,680,681,682,683,684,685,686,687,688,689,690,691,692,693,694,695,696,697,698,699,700,701,702,703,704,705,706,707,708,709,710,711,712,713,714,715,716,717,718,719,720,721,722,723,724,725,726,727,728,729,730,731,732,733,734,735,736,737,738,739,740,741,742,743,744,745,746,747,748,749,750,751,752,753,754,755,756,757,758,759,760,761,762,763,764,765,766,767,768,769,770,771,772,773,774,775,776,777,778,779,780,781,782,783,784,785,786,787,788,789,790,791,792,793,794,795,796,797,798,799,800,801,802,803,804,805,806,807,808,809,810,811,812,813,814,815,816,817,818,819,820,821,822,823,824,825,826,827,828,829,830,831,832,833,834,835,836,837,838,839,840,841,842,843,844,845,846,847,848,849,850,851,852,853,854,855,856,857,858,859,860,861,862,863,864,865,866,867,868,869,870,871,872,873,874,875,876,877,878,879,880,881,882,883,884,885,886,887,888,889,890,891,892,893,894,895,896,897,898,899,900,901,902,903,904,905,906,907,908,909,910,911,912,913,914,915,916,917,918,919,920,921,922,923,924,925,926,927,928,929,930,931,932,933,934,935,936,937,938,939,940,941,942,943,944,945,946,947,948,949,950,951,952,953,954,955,956,957,958,959,960,961,962,963,964,965,966,967,968,969,970,971,972,973,974,975,976,977,978,979,980,981,982,983,984,985,986,987,988,989,990,991,992,993,994,995,996,997,998,999,1000,1001,1002,1003,1004,1005,1006,1007,1008,1009,1010,1011,1012,1013,1014,1015,1016,1017,1018,1019,1020,1021,1022,1023,1024,1025,1026,1027,1028,1029,1030,1031,1032,1033,1034,1035,1036,1037,1038,1039,1040,1041,1042,1043,1044,1045,1046,1047,1048,1049,1050,1051,1052,1053,1054,1055,1056,1057,1058,1059,1060,1061,1062,1063,1064,1065,1066,1067,1068,1069,1070,1071,1072,1073,1074,1075,1076,1077,1078,1079,1080,1081,1082,1083,1084,1085,1086,1087,1088,1089,1090,1091,1092,1093,1094,1095,1096,1097,1098,1099,1100,1101,1102,1103,1104,1105,1106,1107,1108,1109,1110,1111,1112,1113,1114,1115,1116,1117,1118,1119,1120,1121,1122,1123,1124,1125,1126,1127,1128,1129,1130,1131,1132,1133,1134,1135,1136,1137,1138,1139,1140,1141,1142,1143,1144,1145,1146,1147,1148,1149,1150,1151,1152,1153,1154,1155,1156,1157,1158,1159,1160,1161,1162,1163,1164,1165,1166,1167,1168,1169,1170,1171,1172,1173,1174,1175,1176,1177,1178,1179,1180,1181,1182,1183,1184,1185,1186,1187,1188,1189,1190,1191,1192,1193,1194,1195,1196,1197,1198,1199,1200,1201,1202,1203,1204,1205,1206,1207,1208,1209,1210,1211,1212,1213,1214,1215,1216,1217,1218,1219,1220,1221,1222,1223,1224,1225,1226,1227,1228,1229,1230,1231,1232,1233,1234,1235,1236,1237,1238,1239,1240,1241,1242,1243,1244,1245,1246,1247,1248,1249,1250,1251,1252,1253,1254,1255,1256,1257,1258,1259,1260,1261,1262,1263,1264,1265,1266,1267,1268,1269,1270,1271,1272,1273,1274,1275,1276,1277,1278,1279,1280,1281,1282,1283,1284,1285,1286,1287,1288,1289,1290,1291,1292,1293,1294,1295,1296,1297,1298,1299,1300,1301,1302,1303,1304,1305,1306,1307,1308,1309,1310,1311,1312,1313,1314,1315,1316,1317,1318,1319,1320,1321,1322,1323,1324,1325,1326,1327,1328,1329,1330,1331,1332,1333,1334,1335,1336,1337,1338,1339,1340,1341,1342,1343,1344,1345,1346,1347,1348,1349,1350,1351,1352,1353,1354,1355,1356,1357,1358,1359,1360,1361,1362,1363,1364,1365,1366,1367,1368,1369,1370,1371,1372],\"coloraxis\":\"coloraxis\",\"symbol\":\"circle\"},\"mode\":\"markers\",\"name\":\"\",\"showlegend\":false,\"x\":[-0.02502796749256298,0.02753408728083351,0.001141740309625147,0.013453036338917847,-0.03540715901571787,-0.026643537362505403,0.00979137209388052,0.00177976250344062,0.005795337974969477,-0.0016702683518076827,-0.010139088767290229,0.026328867090429794,-3.038652044739837e-06,0.00940576016306392,-0.006105592494981027,0.00523148688495022,0.003082137158519088,0.002592043145312118,-0.010875018352343096,0.013849225076272542,-0.010624013768728695,0.0036773243442042693,0.015698193244036915,-0.001040704552658922,0.005211013168471468,0.006889672830383147,-0.014136650359978404,-0.056528787997899274,0.03141137822029112,0.019328841687919058,-0.0376562146510428,0.01006724049079397,-0.013308692924899293,0.01987758401506803,-0.021348126401524954,0.0013933223165198169,0.007160477924006511,0.012222905253534692,-0.0008302961109898785,-0.006158786156900799,-0.029440814135210686,-0.049182884440057556,0.027821287436530583,-0.017671762726245606,-0.07074126695594504,0.00570225832003011,-0.07412972604851496,0.01822751854557875,0.040564931860101294,0.006316854603868774,0.021613124483832083,-0.005652825900662196,-0.006574451941664543,-0.02255845539853787,0.003808764002414299,0.006859244271904555,0.008436741390645486,-0.03297448374687508,0.00399452854397412,0.0026325482631759456,0.003535492750349929,0.011431475668952178,-0.010507242075102584,-0.00015125613186057232,-0.0003314219290386447,-0.002527557606273331,0.004072761429783041,-0.024299584089318885,0.0009049863970222328,-0.008003653756968848,-0.013379651900965489,-0.017104847810637737,0.015142383280065431,-0.007450569505602874,-0.012537201960418623,-0.056067694712911405,0.011362056026369331,-0.00793589297366968,2.0408760591282154e-05,0.0128732607118081,0.013418415886335067,-0.011956969149089518,-0.01946429408761975,0.013488940489138275,0.014574450207841214,0.004905361933722126,-0.010194070454688956,0.004733940660159663,-0.007562720270006849,-0.0470838010680755,-0.021090878220802037,0.010598837031398384,-0.0017683813343300618,0.0008849393982195997,0.013865607188475345,-0.00011534273224064379,-0.0070397549986342435,-0.0030023769800061966,-0.013441710635107951,0.02046751868178769,0.005613413076563541,-0.002097511239118117,-0.00904744092177225,-0.0073860504394771586,0.0014867939807483037,0.007925454573403882,0.004470046002042266,0.0007390170931254053,0.0009304622836066948,0.01241989529609528,0.022499888498732187,-0.003325964286022293,-0.001372786785768299,-0.006051796431083494,-0.011603463107030875,-0.0320083747428465,-0.10563496954616362,0.005356965665041913,-0.01787499078525963,0.017210551752395508,0.0055025760916230775,-0.01516614837579455,0.019274891961805252,-0.003783569788049313,0.008794090657066243,-0.003595968929394846,0.004009515057239201,0.004156032939285987,-0.018674565409795514,0.02672803424406487,0.013290107645293862,0.0181422992892847,-0.011164546201928999,-0.017136202696023506,0.007031429563325575,-0.0015361785555031574,0.009724014674306605,-0.013827125089569223,-0.019581777475565342,0.011833847455680137,-0.0164992925490626,0.001397769830684656,0.010934822568324608,0.0008234109213576972,-0.010739757727753638,-0.036966157361984484,0.007744490252434286,0.053104893047284156,-0.0018455613882763563,0.030009715772013727,0.001368903060660012,0.009514962982107423,-0.0003700222095903726,-0.005627331679323639,0.007799864144440451,0.006402684949624896,-0.0010306678636892875,0.010467046332830033,0.0032936223650982827,0.0033064944313301093,-0.003966330618926361,-0.02551493442620277,0.009261210093324274,0.010069721608378468,-0.012811843014298326,0.005513808495732179,0.0018226238490844705,-0.0023442638776297628,-0.009206331828521984,0.001505090554273061,0.0018428768469253521,-0.022200362916885333,-0.013759110728071884,-0.004139762854701123,-0.0410401357850722,-0.03842121014685279,0.014734635323136767,-0.048430799394563524,0.017279978176035764,0.015928494369752,0.03528552342920042,0.022872821634709124,0.0038851389583031814,-0.018388539866481746,0.00016189262814850672,-0.018554108605065376,0.0008525208033800451,-0.017682851707384296,0.002674987556279504,0.010703481646776966,-0.00016560345099223374,0.00680535618934503,-0.01003109315960761,-0.03209659618264766,0.006430691979742036,-0.001649727732337913,0.01935800009232035,-0.021224728592499787,-0.0010334759380026713,-0.024573515494692368,-0.04566601234516797,0.047689354325169464,-0.005805927407880024,0.007626729616775602,-0.007148707160232678,0.017976291210268114,-0.019468309039396652,0.0019259507675983168,-0.007770209302783508,0.00023244999723099756,0.00017908924979647366,0.006585693934140088,0.005621232652799273,-0.009380013157508282,-0.009221297333582335,0.007664417554784181,-0.02037993179365955,0.02048996201377999,0.007540430169005723,0.0006347208053114834,0.021229324399206172,-0.003977853967515164,-0.010001125597795424,-0.009492940423331611,0.01873076905446016,-0.0011337352600563145,0.011409864501306141,-0.0043572262297456674,0.0469091182081784,0.021661848995627484,-0.004604180441671555,0.01924830724758131,-0.0071366446751753,-0.01836344980184561,0.00030597909693527573,0.016377289953737745,0.01296592612598898,-0.019934183200742972,0.0034062433525241746,-0.007308910961050806,0.011429349786700719,0.010511586988474292,0.02147831718335567,-3.7939479381123885e-05,0.01725959686883081,-0.005673258260676194,0.015407627328471344,0.007077156229169102,0.006064895214368924,0.016985273030983156,0.020950830515294235,0.021983145861749064,0.010454404274114298,0.0009896066308621215,0.019236973067268452,-0.004755483934510841,0.02797813204447136,0.035283182547390754,0.007523665709154986,0.026553985357312168,-0.034200188757210793,-0.022057501056444377,-0.009144862952057896,0.02251558070217627,-0.048277867396303985,-0.0030920486124304467,0.004626422427499046,-0.009954821969835794,0.027718927913558407,-0.03395688534629611,-0.040223896888720766,-0.058896617593007024,0.022978578673775348,0.0010249479493749367,-0.008700536643559778,-0.004561978440043038,0.03198646565855508,-0.004610433569584877,0.007122576086093734,0.015092773396870509,0.009101720452340544,-0.022051813336148973,-0.08943839362847666,-0.0012185058258377384,0.006758581016380775,-0.018566870899372694,-0.3544989971748584,0.10396805723965205,-0.016016954582642157,0.014802857600052031,-0.06904343962263283,0.046082811978512675,0.0023575610607963096,0.09916481587856535,-0.0118932779920866,0.006954329179192311,-0.05009577351835105,0.04620266919840333,0.01653055640041479,-0.004432904215328927,0.015519398359716649,-0.013517175270316813,-0.018794284355155316,-0.030340217745149927,0.04006375257578928,0.010500425348774498,0.008686922678839814,0.007053225312730798,0.003247843134944277,0.008343577232847038,-0.005884116311717241,0.047523839188516215,-0.008587107884883803,0.02042303251227147,0.0022915310747750267,-0.04868155712201826,0.003379251201621434,0.0021567371288053277,-0.009037790432790694,0.005011960774915247,-0.020946249923144474,0.03608895132755076,0.0010635400094232551,0.024301360054422884,-0.012936517256270444,-0.025075237343429847,0.0004283247780764324,0.023259379300501166,0.017226722072772493,0.013264413817963075,0.012948133681958232,0.011492027969644441,-0.0002487889291039576,0.002618915127903765,0.03694442020681929,-0.02109906075778747,0.020396316991457223,0.013830098833081558,-0.014826338713839721,-0.005270218458253573,0.004846907132942902,-0.008961697282265153,0.024096547554617667,0.01112163371549738,-0.006096438741396997,-0.05287802841472016,-0.010357590177507082,0.02484147248132694,0.01965158379797985,0.009525692543959534,-0.012965833994795263,0.012421425638265813,0.012338300329510095,0.013783033956830289,0.006773146940387875,-0.003235120395757727,-0.014978108489469696,0.031941005967418265,0.00178152193851502,-0.014231514682805922,0.033785641537810863,0.0003079467125290122,0.002872700156542129,0.014777755008939568,-0.0003106735353449756,0.02005040562623988,-0.017035639379883307,0.02944684919230811,-0.01488993454494247,0.01916787943602042,0.006220710527779113,-8.710692311300554e-05,0.007855268395471683,0.0068155773256779,0.004927198755594778,0.005636299657827717,0.016110829530779573,-0.05654809487620546,0.03351376730161139,0.01525378543205842,-0.017976620997527625,-0.0010796717671519278,0.014481514253623373,0.002431499744670698,-0.0016094720930889463,-0.003637168414627202,0.004049202943787038,-0.0035044650216981134,0.02090917766095462,0.0007487841383492132,-0.016122417173770116,-0.0037334329682762917,-0.009464765603973203,-0.03140547580450211,0.01447490538948258,0.0065303485730779905,-0.003052081733760983,0.01056562180181195,-0.006109082750440104,0.008114206583781721,0.010954583500940855,-0.003998447455144577,0.02665887659224984,0.0021162051859176336,0.026641949995926725,-0.007124734092286022,0.0016552818287652368,0.010279344208848185,0.002922993463022841,-0.006329894516161752,0.007210672280033228,0.0018742439562073009,-0.008066380268198616,0.010755087754040585,0.012193927899603394,0.008947423208567095,0.003379873480771412,0.015678961503799826,0.011618084454807366,0.0015895004459051134,-0.007979235815895701,0.010336349930941985,-0.006856718634788477,-0.01586015244819959,0.01943375904627749,0.002361062105003705,0.008613635061087541,0.001668364578054316,0.023274709940346094,-0.029095309201013247,0.017262575791425174,0.00855079977958363,0.012761125428499435,0.01152574179309437,-0.003570338271551568,0.022746961212780307,0.012821715946119359,0.02477926374749779,-0.03041745486696088,0.03028980282001087,0.011775483240114133,0.015852247109393296,0.007530523787635256,0.01857323745306446,0.006977098328555142,-0.012685683735209294,-0.03231203561811495,0.035287746129218645,-0.027124359389084172,0.02229855322680106,-0.0006657163278248548,0.01075813966577166,-0.03251484713644603,0.01593277229821388,-0.02265539027257198,0.024553610118769748,0.008546427949098186,0.009801327282668616,-0.000762041829657223,0.0016664948679748347,-0.03082812747772639,-0.11063642335696752,0.025171233028826356,-0.06098777409261708,0.02992998652980532,-0.006552162084541157,-0.014864489507987548,0.02213226475569361,0.024629320489341796,0.0034735028518221886,0.011317369549017894,-0.026916834748012458,0.009613546834118395,-0.025627949493133816,-0.0025286773585000352,0.0027861769481553307,-0.0032714192140120032,0.0049550306729425325,-0.018472280942050813,-0.0514910455288697,0.009426351277905195,-0.04229029212025236,0.04605045822951202,0.012912302638697276,0.0066422266208124746,-0.004348983955985725,-0.00219696703573305,0.010339604568861852,0.001068796649814238,-0.009814579515255903,-0.022212598109531898,0.005027951452772152,0.003042768867609548,0.00037152255762115834,-0.033812960780117474,0.007880580909991691,0.017909429331809914,0.024286246508539326,0.0042671795949202505,0.005500081748368288,0.006666863806794538,-0.004727314780903378,-0.008437262138061338,-0.005445042864822484,-0.02239022088857882,0.00559899002244186,0.009152813512562748,-0.006129615549602935,-0.022612185057439307,0.02336974040915349,0.01395620825577544,-0.0038408060134134886,0.007532296544390702,-0.010687899590757943,-0.014253271085108862,0.0016607776875643878,-0.02590366062356952,-0.010437085311653323,-0.010632752252637372,0.004816594469575009,0.006260461047799713,-0.019935121159147327,-0.010940003589217139,-0.0007555037649949472,0.023444670062095267,0.044301751808158915,-0.030285586452063855,0.02850606992552123,0.0037584905691077277,0.02117144937321837,-0.00836775749433087,-0.008503758906074497,0.019201751170985663,-0.012529641972183989,-0.009226434052316913,0.016963830001968425,0.015742736501710815,-0.008915483634683592,-0.0016884815484397811,0.02312552140245504,0.04158806523991726,-0.010752252717909817,0.03578389293908924,0.037182069403435644,-0.00952521907469718,-0.07096048582091624,0.0037288107677614906,0.0261293509291171,0.004340410752974439,0.02157344734026559,-0.013714216853104805,0.025223009741227966,0.009500695098214627,-0.04215662028077257,0.030362217167277362,-0.005071902524405563,6.1028777728566626e-05,-0.03937351541379182,0.009052933755067358,-0.013892192433014481,-0.01960607224232983,0.028007717475685208,0.012934621341060269,0.0048297592478739135,0.002234834473827639,0.02377037458771825,-0.002528799987700666,0.02233746421197687,0.0115509659993176,-0.015854799753095825,-0.02896455554582657,0.00937547965049736,-0.07990861257109458,0.04183044904687175,0.005431130330419591,0.010479319996080122,0.004686792995322824,0.016808567620860176,-0.010238760515856562,-0.0026370604781543513,-0.003997479567874236,0.01682536507834046,0.004354246087974474,0.03246390852216146,0.006786324622790999,0.021652523476173625,0.05158687300849388,0.015446405079254526,0.007294693684643811,0.03935140862021253,-0.012045003727056131,-0.06582232885698065,-0.0020608873536616763,0.04143330399239372,0.015079425512801744,-0.002523841178378192,0.019453813014551975,0.007046998841622318,0.02131772443054619,-0.00290900460111756,0.009157674862030759,-0.08351309975145811,0.04227258740556686,0.01289302955750381,0.013805575239549032,-0.01085163738322578,0.0061386942828618235,-0.041227900135938675,0.048189480201009764,0.023654106266836717,0.008073264167638016,-0.010074979331160428,0.019705420010906145,0.023675647261077577,0.03651436752147611,0.0022568603645039464,0.060280420018702124,-0.008295048886172563,-0.0044777082634072166,0.0442327782394473,0.05505954369819477,0.018258676544987168,0.055714091479141324,0.04062101611380296,0.040550636339030895,-0.016903955243502695,-0.013033454084187138,0.0007683945930770442,0.030285112341645985,0.046801379094241896,0.03903426399897027,-0.01561760667709078,0.04313604174314194,-0.042660440433423916,-0.1020442423029609,0.033807323502681286,-0.03277327366127113,-0.00160792651192961,0.021345368492657148,-0.03322258054056506,0.05416611509955442,-0.004407849669146537,0.03761814040019492,-0.01151580945139841,0.005460967480299561,0.010182777101609088,0.020270728737255172,0.017116625439073545,0.03596939430815635,-0.0059486218812435845,0.018126096569885758,0.0031868552635252482,0.0439462833000197,-0.01060512718392664,0.008060446294234825,0.01864307733197501,0.024375666974110713,0.0029029982514108404,0.022620434015185643,-0.0027231219216835804,0.01112371707390293,-0.022903857089500386,0.01346400640382762,-0.03606770605483432,-0.01146405150222657,0.049308104463924404,0.01463853716095159,0.012004018806242809,0.037034296701740445,0.02255836309171348,0.00881882384565272,0.017477835680001177,0.02424401433824246,-0.036253294783821194,0.04612259320081557,0.022916506297137443,0.0005064003701212478,-0.054991126803638636,0.05372710288234666,0.022434070188435386,0.009269677838193022,0.005547509638941044,-0.011195072648389289,0.01441956524010432,0.000710314625663989,0.030508429860837814,0.005530315169909457,0.0004996697312851117,-0.04867125619193913,-0.03828483678321457,0.01347785692129467,-0.020784150197721767,-0.06944641787929039,-0.011344398212624522,-0.03381823007847715,0.003462385684938119,0.0849929645510297,0.043860035462140574,-0.01490284745651814,0.0015944341210952886,0.03781448173800976,0.015123176016298739,-0.001982166840825671,0.021219479455042004,-0.04901094217074357,0.06035563805894939,0.01483019494989507,0.002936631037076771,0.00579110831031331,0.001560765814567212,-0.04743342462654042,0.041186404725818596,-0.09540411791764745,0.01287429326980111,0.029317236504576853,-0.042078044933468735,-0.0016890994029031055,-0.05075884044373566,0.023721006892774735,-0.12491664294714158,-0.07400162559186646,-0.036011031674965006,-0.1000224842329146,0.11373479991459817,0.007451431239348899,0.05834069148763095,-0.018883217314001992,-0.06513608672650652,-0.02782940905239593,0.017850429607686253,0.03742924636850358,-0.006714518169043832,0.022895212506412195,0.028753765323027577,-0.04409583365867561,-0.016026463253372758,0.019880082078884,-0.053114601173874766,-0.011864646596740256,0.03520716036794316,-0.024048734851158025,-0.03305808551790734,-0.02055287968939222,0.03270662586774727,0.015063708518472208,-0.0033165087857766726,-0.02346126394186071,0.001559619072248055,-0.03811876521916071,-0.010286920949691246,-0.0016152912414390795,-0.14547588138265138,-0.031698398977387354,0.04912928949752675,0.03106589779279701,-0.051091345482654676,0.006584021080657347,0.018772943190209508,0.03568342634415472,0.042969565018461206,0.013456013025280862,-0.019703210450441475,0.0030992012834129344,0.015097811292073484,0.013627422402273845,-0.016221163280073128,0.015362695833165593,0.0031817341800216207,-0.04023413070387401,0.010594644533023972,-0.006611974306525501,0.012281282916223862,-0.014099286054708348,-0.01416897881157592,-0.000775127315239105,-0.02458675475465567,-0.024299685677163868,0.003555468582510766,0.0024548486308999676,-0.03615511267765304,-0.037299619246625206,0.05274039654178879,0.016590282187988276,0.017976988199409134,0.01807538506663843,0.010117498634946598,0.012919558477307849,0.020980147316541246,0.0035574704325137736,0.019683803383105034,0.020673680440488562,0.016920867834548582,-0.013962277254452779,0.005219873029893884,-0.009447156029193817,0.020730310302792283,0.019033892562897285,0.017888856025427648,0.027920661600913808,-0.021484950139716387,0.025217004771379902,0.016048896488432184,0.028787972430284695,-0.013826185694917621,0.04921201267977648,0.006901662107774288,0.006467244541857686,-0.011939884142163104,-0.03347749758637715,0.0003464474708131406,0.031017774507321124,0.023455679197648776,-0.002590571326434104,0.010537528400233838,0.02334524192590821,-0.030103691926436377,0.022011591768922114,-0.0445197729605466,0.032516566596555545,-0.0038444310913542832,0.003760417215274039,-0.015431390154836045,0.010349141760593246,0.030888652019468967,0.003113527532773281,0.020581743335976805,0.025938487154685406,0.013098082875564448,0.010822017943645679,-0.10642175677489327,0.001911668761817894,0.016025538134342827,-0.026138374327293254,0.0087768438796352,0.01693249916429922,-0.02636046422052537,0.02410828139835196,0.0198197041287303,-0.008378075215003498,-0.015724123838942537,0.012785474880729978,-0.016063482400430498,-0.08237178159433564,-0.04273100024888144,0.06605477924129803,0.015903142065592138,-0.043033417969018224,-0.005155867091408966,-0.009438195225905752,-0.020025306617847276,-0.027149504903097647,0.014340421298121096,0.031860562568015935,0.0517709032923185,0.009017672766026682,0.008641527262033164,-0.0064018002586514414,0.024667651967780334,0.0074298495753723414,-0.00040253334482687707,0.013482333580365534,0.004459598699923215,-0.020579030245874746,0.0007298993490544995,-0.014465952527683972,0.01682514125838611,0.00856203092166337,-0.0029299543116468344,0.0013310926463368112,-0.003798999175444721,-0.003868043309433329,0.006433382532174073,0.024808837786799168,-0.010933389648876947,0.0060098481042564255,0.007533880014415453,-0.010417256480789318,0.014124237352373212,-0.001953723981247668,-0.056621665740058634,0.03283431410532522,0.01862241513191588,0.006794515885860429,0.014179591757257946,0.0057110734952655635,0.025322719887701895,0.0028289538866877813,-0.005910955842633095,-0.001714025700544643,0.002096657808098916,0.011402455723838457,0.017760591550925815,0.010238449958656193,-0.0250696806430379,0.01280342054853701,-0.004972310934892985,0.004930591587836304,0.008123719362685737,-0.0037312441084825223,-0.037662418035382436,0.015821104005468888,-0.05187407074537882,0.03361685095841284,0.02397856237732877,-0.0008677400979417252,-0.021231305176702187,0.015990982787164213,-0.005284208886008354,0.028156983833652588,-0.04365857263241622,0.013607925446603051,0.00131854955229327,0.009959097716280618,-0.009810368472125812,0.004161306547387022,-0.0025404190483038123,-0.024484064603765933,-0.07396918615865154,-0.03185900913848543,0.016782645082636532,0.0032367047397272907,0.016114983224667128,-0.048090051368216334,-0.02026065701126501,0.023484758918281633,0.0007309524214548776,-0.06100100126342314,0.014703502763961223,0.02017487311952344,-0.006623280335491445,-0.008310808816579687,0.007635943426687704,-0.006166559807080372,-0.03730824359902922,0.047287361245513505,0.012674453166510093,0.03082894530826879,-0.0024777830145660653,0.013407777309358236,0.0029134857645449416,0.001160228560778713,-0.04395076232702346,-0.016893518492810768,0.007644539901785091,-0.004095803631393151,0.018363751848163135,0.01658185983208475,-0.008957683127877413,-0.004161439652515976,-0.03865887499936717,-0.004739084526585931,-0.02965489424860245,-0.016479955156222865,0.010639348431399007,-0.022136723102894554,0.020730872277700835,0.02685034424340623,-0.019319517701843678,0.009930440255481005,0.005540054938940229,-0.0004286734123199494,-0.019721954717192063,-0.008974262915908752,-0.018888746189098308,-0.021166098229906772,-0.0819766166058498,-0.05261038945488709,0.02706241975727164,-0.021607300014748514,0.0029340898326554086,0.009260376233390257,-0.0018783800324789332,0.017132423766949737,0.011874336458624223,-0.005233945354538713,0.007906955638196449,0.0056201442742118924,-0.019042062699981346,0.012288315600074871,0.0468414080492788,0.01240028360896327,0.012529933377228075,0.025372556088953474,-0.01126945516097045,0.01216299705794565,-0.02214107862552431,-0.03509451743870514,0.0005825833492399493,-0.008026224329814457,0.002273567794612772,0.035505053790287934,-0.004623151577498237,-0.04725817676331102,-0.010334107950135854,-0.0028077027502649743,-0.03144066780270749,-0.04105372689138341,0.022712789685621064,-0.015380168883298765,-0.009834407526883346,0.034415102320912605,0.01217523436008286,-0.025067652801119177,0.05134368399568081,0.011254789169697231,-0.008397854322697471,-0.013894730952029165,-0.03529399541086977,0.006760286320338878,-0.01949837987774708,-0.006625784587108138,0.015516644515069797,0.02955038166359196,-0.021091173758458297,-0.013306052080508295,0.003739226196642078,-0.014784690887515956,0.015290948982104695,-0.004860135452811825,0.024035237994027524,0.0027593748136104353,0.013890047700841816,0.015022462340313706,-0.008351129619228114,0.006790806709973238,0.020853332869558722,0.01137495778795944,0.008920432253249691,-0.002393848415195227,0.021304412055294694,0.031596620635285434,-0.002681131672022064,0.014881000117404267,0.013629802236359118,-0.007944454486170418,0.018014507280042127,-0.0004317542800128057,0.007945727111579115,-0.016270894890930775,-0.017757574624321048,-0.05868612143696237,0.021126455478719094,-0.02559613993199941,0.011836224648928239,-0.014081661201632314,-0.054743204784409624,0.021125988227927196,0.01900977517468296,-0.015205086225058385,0.00955294207500849,-0.0015517036470274748,-0.016999080125123568,0.011502280198920863,0.013773388511442438,-0.0015422406888019142,-0.0103725402121178,-0.003642207530476509,-0.004958459280577913,-0.009081715186094479,-0.0010733185212663436,-0.04029602083653561,0.01408935965621245,-0.0010787384807912693,-0.025709905065268823,-0.04277726617193989,0.015023042243677774,-0.007733412484490795,-0.009816360765733584,0.04744828048236892,-0.05182814855032997,-0.007065746377809321,-0.019048821408343946,-0.01771926405098715,-0.09413858353981502,0.025277760890510453,-0.15921675212421832,-0.05173265290185064,0.05799458661992358,0.028032295226868585,0.032380919890987306,-0.03920607085419149,0.031155680237770315,-0.05621882883875446,0.034481163744427924,-0.014003112323750445,0.013235790197982992,0.025781885082476388,-0.02162471224523017,0.009373689403077548,-0.0069467807723086646,-0.033135782828411973,-0.02242005529743795,0.014227820518219773,0.015224441042304516,0.049163258142052656,-0.0005548782942698126,-0.03440230634911199,0.021268124887880123,-0.01920513907621496,0.003444557404200726,0.004937187983247176,0.01397489004020237,-0.0041951394099276505,-0.01168897499172649,-0.0019236676471406818,-0.03503370565018875,-0.03875220646407358,-0.04666059403000922,-0.08099808462770926,0.009581472047655649,0.03283929783651639,-0.05700749234096393,0.022658299238889727,-0.03534220832184061,0.03841800126750239,0.017402604765252377,0.014372603448919165,-0.02064035524246135,0.03590927076255997,0.022828360323248618,0.007404073517408419,-0.02655664342170848,0.0053180431259311585,-0.024078793365657516,-0.003566278831617475,-0.020968087495645906,0.002527936647197869,0.0067090589611960875,0.0031296222190681823,0.01859138304101918,-0.010748484831653918,0.011322559446181194,0.021018865332518115,-0.001462861255972553,0.017973706674701637,-0.02190655471675947,-0.0392249920068682,-0.016301013428558837,0.02631001304258832,0.013818847078601953,0.006635049425944581,0.017644730526769535,-0.003039055411288352,0.04273576028730294,0.016805438352624297,-0.02448368623143613,0.011494044845869682,-0.008312451173522334,0.004869004948567632,6.677605854750444e-05,-0.03565041002622111,-0.006274371711555379,0.039588477604857675,0.02666184928532805,0.009092071879220362,-0.0018587746187421214,0.0021962648993024683,0.009756822871195,-0.013813977107575471,-0.0017098776419379777,0.004324299672671432,0.0216438998174438,-0.0024199269805725418,0.004115694647410043,0.011505075061632342,-0.019740213828745034,0.028063095126569855,0.0055850811393354845,0.01308130960367554,0.0014993722102199158,-0.010449804900545248,-0.008509335080705093,-0.004951897420595577,-0.017708182463242367,-0.015637926775831805,-0.06101187251624112,0.005431017486093939,0.013807990921460733,-0.009561645611962889,0.009779863276697371,-0.0007542674835861382,0.012886372438853036,-0.04315339355345701,-0.0009516366292981818,-0.014711502050775567,0.024918657840739593,-0.012376002512638214,0.003750429516032509,0.0015845646684210736,-0.0017764258140537017,0.0006807339435728228,0.007538439763498174,-8.891644937597187e-05,-0.03715020643915655,0.022633035415278908,0.015392797505260744,0.028741081424100336,0.005630673538310262,0.007127325434151208,0.0014934324690311137,-0.04590689704612319,0.008586773726232951,-0.013880731506877925,0.0012145250382992584,0.012334583743603982,-0.04240694356270561,0.006898927108040077,-0.013564042189739958,-0.010072548376555156,0.025992770336608875,-0.0005676097925417226,-0.005180689510840808,-0.008946704270452894,0.0029386419697421087,-0.0016210921386365818,0.0009464880934197797,0.00165842775026049,-0.004055960458725763,-0.0011050974810552915,-0.012731359656252576,0.014439239213219848,0.01163103259010968,-0.005219257415408165,-0.0027500984015164757,-0.0038882776255532952,0.0005768066097194039,0.00231995042052367,-0.019409045740813646,-0.011633915821245665,0.0019356226455436063,-0.005705150818147201,-0.002644461523840606,0.005573755795970579,0.007007604126652515,0.0112644978333803,-0.005198400729877822,-0.017324656052209904,-0.0031935038716162938,0.0034381971321831672,0.004016573181382284,0.009861010185753475,-0.008820069217141787,0.01623931840392613,0.011067763069552046,-0.01017520935582053,0.010909665378859727,0.009309389498235017,-0.006315605074237223,0.002131645456901183,-0.002680937098791449,-0.014777312979694089,0.01694558316217532,0.03437765416676902,0.0011520330762199217,-0.022967389568128518,0.0017974762281842993,-0.08559880900583766,-0.12618968614469853,0.08573648739041582,-0.0233899663564521,-0.025504719964711608,-0.019619478078725206,0.009402324436247918,0.013871402528251581,-0.010820271897355469,-0.002448925550055593,0.00511119025504229,0.015904548453505144,-0.02586426834436516,-0.008078244341641045,0.01898897342967003,0.028968427648724517,0.0016769714970836093,-0.004744442841114742,0.0031843298357641455,-0.001963272739332904,-0.005463716762343266,0.00852578044957576,0.02251478547227618,-0.0076695260249679395,0.006383439598543817,-0.010557883553460342,0.007211321967416215,-0.0031332921873581513,0.0005878576118899196,-0.017548629549899098,0.012749763897966506,0.003271362817172201,0.005277000953569708,-0.010704078969839796,-0.003552954124034175,0.008948681194878889,-0.004658765346529996,-0.013802921594603609,-0.05239629620917426,0.005177394322746236,-0.0004640378118414604,-0.025281971411440035,0.023727585424008362,-0.003198849679688712,-0.002284063394823724,0.00034692393350698743,0.0007399765899593887,-0.0033792991258659085,0.005740440189240407,-0.00935751038773352,-0.018724034973581234,-0.0029694091855265756,-0.00539911586416845,0.003723085444217009,0.0031365164620820616,0.008336583529235737,-0.00055826559179261,0.012769651003305278,-0.004774302788500274,0.005877818592439495,0.003057844909275357,0.0164636064377245,0.012735839057439946,0.011186287875798572,0.010666320834501485,0.013754224332827667,0.025151181897394882,0.02581339366189179,0.004253466272659973,0.0010218709197804673,0.004491832386152151,-0.03282948116829715,0.018074551442650567,0.03730677720985289,-0.003977890442523859,0.006061062851929124,0.011714074296750704,-0.01950884221776598,0.01774943784078639,0.003462282513493028,0.013770499212001809,-0.009420238062656103,0.015305051160354308,-0.03506828466304941,0.008597979610095938,0.01976305562767899,0.0019859362581734,0.01806982081330822,0.004121546238097712,-0.003688331600402748,-0.0032073419844206594,0.03070075687768431,-0.008001484044190299,-0.049603430680021404,0.006630640964801608,0.014365792347973794,-0.008731853838056663,-0.014852708110737196,0.02034026650554945,0.04005508468553776,-0.020338690800795745,0.02909498527161297,0.0026205528219017497,0.004931914203163183,0.029849093294787927,-0.01038294842738693,-0.004407495683097418,0.0013067297774389842,-0.02145832117728679,-0.008384535821353945,0.013226474493128295,-0.0007310739755006449,-0.01495700319495956,0.02055596915925864,-0.01618500689515486,-0.03236565585633481,-0.011183105638856272],\"xaxis\":\"x\",\"y\":[0.008599276029771851,-0.041832018111222856,-0.006198910197512326,0.014966556658094623,0.029023533163569173,0.01066816331066287,-0.0007614011724084266,-0.007361471755588214,-0.01665076398133362,0.009408392265829998,0.05176827453809746,-0.022729245572804247,0.018995610514410278,-0.03807602414628211,-0.02870490538432252,-0.014692319554948118,-0.01260281726504736,-0.014481228634605532,0.006864375340768935,0.0077223621604105095,0.006145421164677179,-0.03605992039301178,-0.03925852973390377,-0.007399541278956715,0.01135789606015307,-0.018361818495518135,-0.04376938080465704,0.017588262347973435,-0.0349984173511985,-0.0003390333095135509,0.0586098328792477,-0.003725628834368108,-0.017255924272133363,-0.027181773818912864,0.007195121563714561,-0.0062431264400337055,0.01152740637158938,-0.007335966302255962,-0.03750044441494857,-0.0038900815766893583,-0.01821597579575931,-0.010813219718578205,0.005603484986593692,0.0008198484740882019,0.0006919319939903277,-0.01593335499057647,-0.004605643702057387,-0.022236391319305254,-0.014743589983170578,0.03922502080067571,-0.013414615940651785,-0.0050714816330979465,0.03869615485514608,0.004519064787463305,-0.01945500326675038,0.008661354440050922,-0.005195146874892737,0.004748525187200616,-0.0026479798553506683,0.019743544245577144,-0.016735029164529788,-0.0205144182294043,-0.025106818568835766,-0.009074937935217294,-0.01886232200820667,-0.013859728842320366,-0.03668751681055572,0.0008805721001702772,-0.02429660399399511,0.014464532699301199,0.01224109989349845,-0.012667098488836856,-0.01759313980123103,0.005865328263762799,0.015764509104585985,0.010542876826321787,-0.017531911046911222,-0.013753841320653002,-0.0008376719480838017,-0.0036755201927562366,-0.016067575646399768,0.01572919358700282,0.02156475511858368,-9.866051869550802e-05,0.013642000518988508,0.04545111767251406,-0.016518489994307235,-0.008685415566616018,-0.014326041517255805,0.002734363323209448,0.012523873572768834,0.012559941191919426,0.007694199273311735,-0.014386843790903797,-0.02809294131852621,0.007973261463514802,0.01579184517338002,-0.005973575110272568,0.018812304836434174,0.018440775625458188,-0.018054473942416042,-0.004342229924707425,0.008168162875384825,-0.002409503199178254,-0.009656929378881506,-0.0026101719059451124,-0.02600537394778244,-0.0031448304225684103,-0.019009562582177102,-0.021041728241155102,0.005254894135912713,-0.01558286104161955,0.0017261892827614312,0.015180234950981416,0.00566119902332498,-0.001084251567982787,-0.002318591422895767,0.004277167484010088,0.001259179297018349,-0.008720469324036391,0.016525968449929047,0.0006185418016766645,-0.0074462780846174465,0.00902759804944268,0.014921399960937127,0.02217603365868469,0.0032763102599489232,0.008847259271068478,-0.007899826281323616,-0.020664885429660985,0.0326301951783824,-0.05209799294547831,0.005258087022219483,0.011154166560396146,-0.0006842505833464046,-0.0051326910111605195,-0.00255273895905298,0.006440811247875938,-0.00322547818931183,0.0068218269864305054,-0.003787275023553801,0.007956237053510087,-0.013841260584347924,-0.01155320151303924,0.009405073801980553,0.003916861114405743,0.0027727798653684995,-0.05714131927373296,-0.024339443896216072,-0.005506682672089345,0.029363920952394304,-0.015826636469608732,0.0008784696019521802,0.03657258113113941,0.0007204353210644811,0.0016136378073063823,0.005751239032427006,-0.005871732685697237,-0.021440226550615383,-0.006954235615816726,-0.003830403332810753,-0.006971433243012974,-0.003145605381515823,0.0038369083398220117,0.0005116849322927156,-0.008641335616443504,-0.0005463653603157741,0.02515423820493652,0.01929151238463879,0.0009672551391147551,-0.011538950712954448,0.034915445088366054,-0.014792372584897216,0.015888340075980657,-0.004863086536745698,0.00433785602279419,-0.01137596757329115,0.004304269604543819,-0.02374349836922532,0.0023718788738708745,0.08917340021006105,0.11221361121075225,-0.10186465702100339,-0.01950991099803524,0.05699019835494526,-0.05902928981275942,0.014259264745744814,-0.010625316858545047,-0.05123018780752984,-0.009340578402186552,-0.006826624540374777,0.002809729668660213,0.009330297209879318,-0.0316738351113316,0.007979753962592517,-0.010874740722911213,0.07225399965513228,-0.02973381167626012,-0.02700131742902708,0.014296334107169205,0.0014080724857725203,-0.02954858240928224,0.0047462856232274855,0.007129213872004599,-0.004391326346743036,0.004381432257114427,-0.023563596602146433,0.016110833869640965,0.010801921542063725,-0.0051651630079467305,-0.016465178201990574,-0.012951068470652697,-0.012111941414625326,0.00987072007968409,-0.010592092504426116,-0.002952589656647362,0.02513771028450091,-0.029837634115348254,-0.012769441542251134,-0.014842673617839967,-0.021324408680725254,-0.019703095050234005,-0.010855725786208427,0.012815779419533734,-0.028566960677168032,0.003075916144219652,-0.010910827013653103,0.004994865321558053,-0.06641458978062154,0.028749639573104516,0.0011177136881378473,-0.0072968593924783364,0.020185194577171505,-0.003998962540385185,-0.014473080672049773,0.04859688429751,0.048782363938077854,0.02692728123395813,0.005856953753533948,-0.013170970727891425,-0.05030929633420875,-0.030299964471141933,0.014272107579467588,-0.011039558547075423,-0.013792302682954276,0.0010749378450971693,0.012690606950437373,-0.011287298497283342,0.017971991981495763,0.06838835797230007,-0.02643497228332749,0.0025553514357685237,-0.021583030950351665,-0.003550619016420454,-0.004930780588563221,-0.013133883852446073,-0.004939980232701721,0.08541277808212693,0.07420934331816828,0.046409244964900134,0.061657873416425805,-0.05270403915721344,0.03268489675356924,-0.006238751641633507,-0.013997858744845597,-0.01878411142941687,-0.06280853395102699,-0.02562253111878298,0.0054743692517747345,-0.015618871336692968,-0.005608247511814429,-0.020738161272649058,0.06610134332798813,0.04161370547682171,0.024120673267846223,-0.02354354546761654,-0.03271370457723736,0.0355778202219468,0.012142285064843685,-0.024257542820934733,-0.029979053340722542,-0.007985181492422257,0.003718496440005573,0.018565150960776468,0.011175702771960137,-0.021623121436841166,0.012290821822466144,-0.039464773694558114,0.20585658894135672,0.000980385290783775,-0.018491365339966894,-0.0024065074159874936,-0.04504305376326881,0.0073086623271409355,-0.013725873021090927,0.020736953153936526,-0.005161292287630374,-0.05090534647975888,-0.007094953616385439,0.010764088795577468,-0.01769307245384152,0.01919265152454225,-0.01906943281097783,0.020443005108986986,-0.023111000715639922,0.022206390407321502,-0.017643689093182573,-0.020683252724276013,0.0022328315614442086,-0.003497656859348459,0.010819811084639887,-0.04660568268429227,0.013751435825226475,-0.021924592614331613,0.003639192651825315,0.005364413721929666,-0.002286048887987658,-0.005525751652756873,-0.0027449363110031923,0.0005575858501542757,-0.004320244814266931,-0.03243868053936817,0.008135681926527364,-0.02129565441043572,0.008959386770345188,0.015618148889265446,-0.020290163933328213,-0.02028574831053702,-0.009805721154443175,-0.0012781962807754477,0.0032385928342884337,0.0005285572221591606,0.012136700801927115,-0.012917235716363997,-0.03968405279531455,0.007140741060628504,0.02500686627465436,-0.007265771447958328,0.002669891119061891,-0.0008804348552548519,0.004229463987215137,-0.00242058942613427,-0.02721568726788953,0.002441819618090833,-0.008615948313820824,0.008375359417804618,-0.00655596243330199,-0.015959603716161095,-0.022008308324940013,0.0033402724104206194,0.009552764361501534,0.006938257789018376,-0.01512170396274684,0.027649641389588808,0.008839547740486554,0.018953957529587496,0.04552588045394357,0.0010766773874543911,-0.021377196360591384,0.0299138709972669,0.06429934891271315,0.010417713480522957,-0.04768713117403234,-0.03443343205623796,0.0002583951135687544,-0.03461027853067516,0.026970533998002838,-0.009367506506809105,0.015586514926827584,0.012194488909645324,0.025557975875059296,-0.007003164633530689,0.003126924016597169,-0.006148797761041601,0.004526636468259694,-0.004434944956222221,-0.006997192442609058,-0.04056122242963709,0.02638567811778298,0.03407843058039389,-0.003659998630243955,-0.00012837834461657598,-0.006779645152729836,0.02512835172387501,0.021677718311303985,-0.0031942377483742024,0.005284629681135205,0.009847919032488956,-0.026953543737685156,-0.011486143966710197,-0.010745130410022737,-0.008995221681211621,0.003541376727904854,-0.00540043814037176,-0.00998317811241759,-0.006804658768733168,0.0023367770059565013,-0.009078528825698498,-0.0047619679788712945,0.01081801209155811,0.0022626855900301775,-0.00823003248524174,-0.0315829810813096,0.006005612356090553,-0.017525514797510116,0.0018113707433598852,0.02077813996242988,-0.0011324900840857413,-0.009384276254401969,-0.0031922059583562395,0.006371244791142298,0.012565762835547141,0.013463411900407167,-0.004338526040481404,0.014439955728486917,0.0169621254198565,0.03137047863834972,-0.01846749531046804,-0.005942520805156122,-0.01858735494963374,0.004429084861885439,-0.04227941970727077,-0.024994604702105242,-0.058783537767371115,0.00619361148029656,0.05131091896874724,-0.01505099781619469,-0.022473202189337675,-0.0356976275823019,0.01295258546318621,-0.0057049860895967445,-0.010352177229824063,0.002108531787881157,0.00988253511004687,0.014573159764178415,0.013530167199799936,0.03209589971050295,0.026206828677045352,0.008685006325692723,-0.023793897209862323,-0.031189246088023738,-0.0019539231641716726,-0.017765496501577323,-0.0009351582974967256,0.01469619621525766,0.02190058243141402,-0.014907904366062286,-0.000434631788728771,0.05356317538110151,-0.020051971860109933,0.005373052842236952,0.010264211539042497,0.00955671801696417,0.01868867586032911,-0.019706188843756335,0.0033402303464451057,0.026302558959293662,-0.028958879732860016,-0.009150529394588517,-0.04660949318224188,0.005320335333001317,0.006792993075756422,0.005444403296076838,0.005059957566610262,-0.026262263766214333,-0.00965705397475168,0.007729439009035009,0.007025038930257784,0.05514790548353422,-0.0012828508343691173,-0.004692618728527604,-0.012015685464783387,-0.0009597826679024781,-0.008344046798722285,-0.02644635349566752,-0.005980750985882239,0.02059905028594365,0.0033356227259524972,0.0019231157637307748,-0.009695694523655147,-0.013448596008863592,-0.007792908507975659,-0.007813429405160237,-0.004612667070927337,0.009046383918775512,-0.003622933071450816,0.0054087082753842925,0.009200700515974216,-0.0058096447318152005,-0.028599832242550027,0.009992197465434104,-0.011019939582372991,0.0002458839800458064,0.016030782222469068,-0.003418687577730286,0.002107044181588848,0.062102071253479725,0.029405368016542192,-0.004161393722829469,-0.012756452254079738,-0.0016818158220634372,-0.012481763636196484,0.0018377247363189787,-0.013550134882376465,0.009861642360983247,0.006391103080935858,-0.010670254361893535,-0.010823674525550418,0.007652994181323216,-0.020940497905194515,-0.015190981057866433,0.02220771939574649,0.005030154526509263,-0.012224062723853447,-0.004457869771893736,0.006334254427321197,0.0018554445015108298,-0.008831182891482174,-0.02096510193192128,-0.0053193097616737895,-0.000457834009399048,0.006302627139505492,-0.010505106146779864,0.006720278085629211,-0.005544828722943195,0.0257224639860681,-0.001179870898266569,0.010086813775568231,0.06108700966975793,0.013027552929209476,-0.017005365758662388,-0.008132542795242276,0.003209584401659524,-0.003286063127672447,-0.001006185201733692,-0.029355568173234908,-0.04483344166004471,0.005730832132773482,-0.010967362289993598,-0.019596369959521395,-0.04726459286302187,0.03255081399129234,-0.03022555251539225,0.0048703661774841716,0.10589824851919499,-0.011913617126727439,-0.004048923646309378,-0.005287382868217581,-0.021297017482820833,-0.03546840515793662,0.13471975192329136,0.024245029171507886,-0.01641058356718488,-0.013378924558744792,0.026614655768254888,-0.0009526414243738948,0.025501152516035363,-0.01905307508235811,-0.015810654700179935,-0.009625226877309394,-0.020643553815677982,0.01664252269629688,-0.013069735623948007,0.00040791229793178224,-0.00024451889630673336,-0.0461135943254725,-0.016355676539555254,0.03250456589804794,0.04828054111366655,-0.02974278422421187,0.007420283916996742,-0.015396588107423368,-0.014935539061002123,0.0006293892214678972,-0.019274053108263443,-7.156946289312026e-05,0.015494183174074782,-0.011610655925842404,-0.01255138684602956,0.011292322505825528,0.00915701457828812,0.0633180816669711,-0.027191318148814023,-0.07488686344329347,-0.03119864399741732,-0.025887021452556447,-0.04641774465504738,0.039021146659904374,0.008123726662292597,-0.04365285584449296,-0.03430184149845695,0.007558467965029392,0.018950283388914628,-0.037153521887095926,0.012953485829793021,0.0014474598351005255,0.019739442718437476,4.6281163251914936e-05,0.004251309927915502,0.01899583592870109,0.012235541235979305,0.02572188816738506,-0.03391971166728721,-0.0068452205240761834,0.0011986919548870746,0.016925429839364084,-0.00827500169048507,0.006262059973808474,-0.02207720026716241,-0.02111019552095842,-0.014356559486763907,0.009939549357100664,-0.03748843505400106,0.016007004958352136,0.008299257409363865,0.02082983954090795,0.018001485158129268,-0.02280885434748681,-0.01672693705431144,-0.05374644710785685,0.0033781604471239653,-0.00400752868793817,0.0198733276939646,0.01666854257814205,0.007779469229162953,0.013815860983969436,0.010459847591930565,0.007779874398717422,0.0038920915963193336,0.149903334049846,-0.03417466819460335,0.007526307643709645,0.029891932228393245,-0.018104102490048218,-0.08478106851937248,0.03234859947958585,0.049275385189782216,0.059026238882061224,0.04392193382201471,-0.021834193027509007,-0.02464130680747409,0.01267523154821144,0.04748080709516613,0.04081097942336046,0.031021353658021826,6.1801413833357454e-06,-0.02605645365711052,-0.005166847407953823,0.03649108197232806,0.0358910660379327,0.006797023581290176,0.08344926512082483,0.052260037560808964,0.05649968931911363,0.07349201648153121,0.024185438876441714,-0.019640500312357246,0.025954202159286663,0.08873144946999556,-0.030950588081328674,0.07839947411200608,0.007440324446130138,0.04301851559379179,-0.04050859515532819,-0.005079504929327876,-0.0011928174135447975,0.056122443686592326,0.019526788802401034,0.02139737035446061,0.059567008511036475,0.006781615988048798,0.026199911779066457,0.04522429146221359,-0.04273067141083669,0.013697704116477858,-0.1242670414766086,-0.06203310622092775,-0.12367484672853937,0.08014285641866964,0.10307311600817087,-0.048808482391180914,-0.055337970936925766,-0.02002152561107991,-0.04122348567848951,-0.07547333105350998,-0.011220649982857227,-0.06498327875570452,0.041431685427093086,-0.03148720678658719,-0.01663552873603694,-0.04301680021096378,0.03180508970938478,-0.14513601531556933,-0.00436583037043274,0.028687940746077133,0.038228625729873816,0.027575316517923793,0.011445737678347646,-0.02398928905056066,0.005791441589042241,-0.033262013214125474,-0.029987849657190997,0.027116859435500535,-0.025403608959471573,-0.04786297720804215,-0.09510683796085989,-0.021725935570839315,0.03164218460267672,-0.008946367217915882,-0.03373467929770237,-0.029394285595388862,-0.024721907827020984,-0.010077544459429025,0.01022247954575954,-0.02138063590379816,0.008575169479902887,-0.010233528729223245,-0.014929205705139791,0.046400007760265156,0.11803777377930984,0.14172501351754477,0.04651935087281112,-0.04425675984459992,-0.1381518330949393,0.004607318308447063,-0.0027404039673053536,0.026517393460959163,-0.005850506879217955,0.010991985582992664,-0.04004357145522969,-0.04489151233915355,-0.001820128463670245,-0.00933590394459892,-0.014813933944919155,0.026588896710087993,0.021725226194707334,0.025861229043661935,0.020272312951842796,-0.02662050314666264,-0.04732311256567645,0.05896870600923199,-0.062031808284344174,-0.06179483335992116,-0.01696846468562811,-0.007638886443340574,0.014212699269972987,0.005005027029465267,-0.03749191327225158,0.0017418389448469011,-0.015148722687125367,-0.024633132650198255,-0.06565739451848923,-0.059361806766951124,0.0026880801351608606,0.04701383589507644,0.03451106333561101,0.01465082990210335,-0.024355787260830198,0.07664386105522783,0.03119409603651602,0.04532876779513189,0.08573500713946948,-0.022647695951762723,0.005007222897748695,0.014207219804806446,0.040487582134218415,-0.018918916537319936,0.01969435947475964,-0.05305096665268177,-0.008589536277462615,0.010772167244650714,0.014421780613096902,0.040599143145907936,0.026519597346073624,-0.02215950435273289,-0.003478635881964329,-0.035757359129987724,0.011114191639786533,0.0013321024951736347,0.002386857872869457,-0.021391355017809973,-0.011594219970190993,-5.917989329420614e-05,-0.011921742161995605,0.0067503677300808085,0.0008740066002611559,0.003224131996846505,0.0048597542289996465,0.0010843995443411828,0.041910572258641005,0.0002218723932222636,0.03314445521006808,-0.018547857471558855,-0.004309019558357794,0.0026912681775551257,-0.0141012153134067,0.009733422143720196,0.006270416211272207,-0.02065885657375988,0.019832014163285765,-0.03172030927365755,0.005908025582419163,0.008991584514949733,-0.003995664993817585,-0.03825527812489856,0.002491782200817014,-0.009962326602803063,0.01571140257135848,-0.013642510002072537,-0.02452104748013252,-0.013333678587162728,-0.018826400778308532,0.01585175121006436,-0.01748842944366976,0.05300310636344492,0.03111288419865721,-0.009204032952937584,0.012496197448166813,-0.013339560024819178,0.0005066993381903632,-0.007304353021481647,0.008002101218472583,0.023154607267817085,-0.01388477494523494,0.0017306031798096234,0.03866482975229979,0.1253620220521152,-0.09368058995375447,0.02148829404604412,0.0010359439780918682,0.007716627472400075,0.034572825737418045,-0.002267719033446815,-0.008831812567055973,-0.022459913848371427,-0.007415766537296447,-0.013607975252127615,-0.007366946598177161,0.02057591905736792,0.026087783407601355,-0.017958326860493184,0.009633836347141775,-0.005148789426022488,-0.038811233163636216,-0.004792022495136002,0.0048764971146371605,-0.0036703598718631847,0.005363410102437534,-0.009416138190305581,0.0007937528552448119,-0.031777440394600565,-0.01115179170788704,0.04273274712201824,-0.005001185896296182,0.006532295769472985,0.0018368536959330014,0.011130195068217314,0.022438267228078363,0.004152736973926075,0.01881861106647013,0.09357484506122986,-0.06972941434198943,0.049205851503130504,-0.026594997211991298,-0.03552417811567798,0.02384794488294482,0.0007463478509601407,-0.07845008617469472,0.0049682561961028665,-0.010311930581200886,-0.007222286695707151,0.018147239364774047,-0.032285127720457114,-0.0011779166328004461,0.025257961418922722,-0.007960429836381813,-0.009532531102407213,-0.01036569394203651,-0.0005541847357304567,-0.003258987573248848,-0.008410318950692844,0.009208304504582638,0.05068396887153534,-0.0011219971572364491,-0.010454610587831727,-0.00022797206798684476,-0.01252708949133056,0.01568030343236153,0.004387249505027836,0.0009592862116381205,-0.01983934150800428,-0.052526351008725575,-0.024796465485685888,2.1671497426932865e-06,-0.013595349930510953,0.008911732193146367,0.002429718201061267,0.006255862491312492,0.051828528502320254,0.0746928123328234,0.06890220570570071,-0.03754650026828034,-0.009764560755634663,0.04740521336892079,-0.0040847168161402036,0.006548063045181935,-0.012683320600225454,0.03431883532250962,-0.003464249693565867,0.07105175865467053,0.007608665470423778,-0.030264104790026003,-0.014118146874528264,-0.022376630059669105,0.02048050335342791,-0.00442360494955317,-0.00837858097065181,-0.042082998441511456,-0.039535628042771484,0.009232885677024018,0.013042301453060609,-0.008468304899843735,-0.007297390326975089,0.0032890940875763284,-0.02553578351673728,-0.009789861063312545,-0.009730424121810733,-0.024359922453532825,0.008153922962882379,0.016815620448912993,0.03920015591868797,-0.013727679700929139,-0.0009442799351548006,-0.072722709499366,0.03454588510035673,0.013568002088746242,-0.0053208180497338695,0.011463208871727535,0.0018815800152705102,-0.011958940727489684,-0.009985560009571706,-0.005768029288646794,-0.008032880120517172,-0.009716092865824248,0.00722593963466862,-0.01477197380341523,0.0704786617335879,-0.0040938281784443035,-0.008724426804161233,-0.0007320392620521489,-0.005142675267660696,-0.0019390577199545952,0.009282328768164623,0.007325234529752971,-0.011597017126359924,-0.003228220232430867,-0.015012044388851432,0.006211409731371751,-0.008776351737053156,0.005220689326947383,0.00046298421051863475,-0.00219820037065822,-0.00907868187201707,-0.0035285666282443124,0.008813060245171216,0.010541752591540289,0.001685074242924115,-0.013861779112314003,-0.005523600734747405,-0.006702907677183599,0.03142765686016736,0.02073375046907705,-0.002367319097742018,0.0011761243985693034,0.010129815365602885,-0.009357364678525822,-0.01388195939172812,0.032445588532711706,0.020116907841681037,-0.02415526173992869,0.025579099067489126,-0.014430707501627497,-0.01434941828569906,-0.030037505281414693,-0.006590161676325234,-0.0015161995075823648,0.01672635649630067,-0.0053568897801465004,0.016297740339637528,-0.011442075700913979,-0.003118967135540377,-0.0015814538356095852,-0.0015760812045921598,0.008278095601740514,-0.008178521298473903,0.007460560354470506,-0.009979544402586952,0.001232704835957946,0.014225281593881619,-0.014774522579035129,0.032986651987253285,0.04109098730169218,0.002116059424195414,-0.042526451779693726,0.012996559381061664,-0.012635889848016668,-0.009025297216518196,0.030262707081131542,-0.003149770849176323,0.030551759527816656,0.011650847545928485,-0.007500922486996448,-0.021779324796280534,0.0036319367961615934,-0.0002439056377363794,0.0003452846922786625,0.011461604732522718,0.00019558424639270062,-0.006689332748206149,-0.01512739863390292,0.006882662091692262,0.002532799660345405,-0.009851431574744595,-0.0018239823221277195,-0.009132044504245521,-0.017683971572738162,-0.0033471477882233004,-0.007920436704897386,0.010820337560120744,0.028841874010679155,-0.0006094087292683612,0.009783841239313624,0.0026211294576763784,0.014820934369646563,0.051768660278384976,0.016532331329942956,0.0271338651676645,-0.03505627933301666,-0.03798990514591126,0.017866300948152336,-0.023015621789519592,0.015262865013240232,0.0009427153340930551,0.00017936288836045992,-0.009458293382704333,-0.006573992690328405,0.03410233710167095,0.009416880523603587,-0.0045280125403280745,-0.005609611553614862,-0.008254845207670655,0.01170847180619482,-0.020991857610959685,0.002740215786228151,0.01131450767568324,0.030701759775490795,0.0010617878448525124,0.01063044200465615,-0.013193713675397118,-0.027037893692714428,0.01799801103285962,-0.001512472679697227,3.721223792130092e-05,0.007087462397021271,-0.017481538052736677,-0.018773409618180373,-0.005416364643400496,0.0055522723519054315,-0.011584757434008445,0.010281700005593981,-0.01328776562836284,-0.002710941917621931,-0.009706658518830081,0.028031655341441093,-0.002482748469628376,-0.06553837368536101,-0.0776972961315902,0.06248091393418213,0.048204617645068795,0.002736143311932935,0.0036593112437520903,0.0019339751486602088,-0.014882987543194923,-0.0020961372303807727,0.01032672260241791,0.0030009956681119393,0.034915971896879144,-0.017351474390563653,-0.0008925647817859762,0.0084681043127314,0.013976481856368569,0.008390927166728217,-0.013695025826138829,-0.0015173121570733986,-0.012966630804688494,-0.006743295088866798,0.0562237677921961,0.022842914524362944,0.005144335824772164,-0.007449556011990208,0.04164781548207781,-0.010600067428335462,-0.013887970980634592,-0.014057087746378752,-0.01328047800431326,-0.007708441712596191,0.02372918778753107,-0.023383090761603633,-0.02568978830236753,-0.0018419384244148637,0.006527365273688278,0.05777906071980114,0.015017478731866755,0.0022684906240078673,-0.031406611722237035,-0.0035434673743253223,0.02902516314289439,0.00769694084540527,-0.009978593396113698,-0.0034969656672155444,-0.007153747319600641,-0.0006641555404218403,0.045762333827327195,0.014919265372221562,-0.011310253613181625,-0.004100565643193555,0.021602814566412724,-0.0013326251852053864,0.004848051076136965,-0.027123451130815858,-0.007828542301166901,-0.007920792838064579,0.0021609895520195736,0.024090402287738344,0.020712336917284527,0.014767246375629435,-0.0006198551298949285,-0.005366882838969711,-0.01358018859054696,-0.03265404893623169,0.0059538957818279885,-0.01806617227466235,0.0030406241082725272,-0.05341712006830768,0.022704953899772333,0.0028681677652609857,-0.012271566504331291,0.00014242538591928395,0.00334645369305774,-0.016409799025566923,0.013831163582204355,-0.0011413840726328687,-0.0352837656550604,-0.02541858285231293,-0.010078317909452711,0.01499776701165571,0.02484781841592109,0.049910522211932686,-0.02387504541739878,-0.0011272951459063412,-0.002783233297759011,-0.014608197429646136,0.008663861349968393,-0.009142415190387113,-0.014902148985364823,-0.0014071264221800028,0.009540403927308993,0.02834204510807451,-0.0019061235470210264,-0.01422141121114281,0.011596338199311702,0.011114428072291046,-0.010432583157304654,-0.0062070790902774555,0.0052442925929843094,-0.010828025197665105,0.007494489298365699,-0.015727112664472395,-0.015543697423020511,-0.01419701879925676,0.008499817623668015,0.028376102482451038,0.020347160988524585,-0.002647200146232217,0.0062019570249090905,-0.02364392153604894,0.023985480006884243,-1.847196865429216e-05,-0.02512700640667401,-0.008385257764669128,0.0016618787104322604,-0.011220291380054094,-0.015578182580564794,0.02179518436370144,-0.01414693273356232,0.04195411248249101,-0.03913345840587684,-0.00023448863016299555,0.039124361285033375,0.005928080690704899,-0.007098152842531117,-0.0060223875546505665,0.019529725704411114,-0.0031284356546650866,-0.00675572504939121,0.0058342370218901485,-0.004452529026121798,-0.003928436592847484,0.01668624520762307,-0.021099737165750143,-0.007741167581013572,0.014181577404539163,-0.007872444321252083,-0.013860284470801058,0.005452888042279411,-0.003335885905120158,-0.010420371015068416,-0.003188898890099527,0.007464434552099483,0.001952845633294613,-0.010931740745139971,-0.0022224327549569124,-0.006523820772672789,0.008408076324421955,0.005802346124725024,0.022586262108853068,-0.010986375963427058,-0.00038595443148289324,-0.009823508556871611,-0.004398319717690561,-0.011667775713720458,-0.002237489182060444,-0.00028956054025469505,-0.009113878802154682,0.017057519497224928,0.004409510324944514,-0.0072624082347529356,0.0037334055531220538,-0.0029098534987177134,-0.0016532884191602,-0.0007064334526764121,0.014625092527215906,-0.013178126507412857,-0.0043179873403289245,0.0027542657553737892,-0.010778462809553824,-0.01641941136773312,-0.0020869593807251088,0.010696307639882996,0.007167835161096692,-0.006958595872550207,-0.0037696197661688203,-0.01593028564332473,0.0029648383459574485,0.007148509707194138,-0.005714876670636018,-0.0004112227229910963,-0.06223224386536742,0.0203331358573672,0.007813133500696725,0.003183243308628337,-0.02212630917407608,-0.008228328336867496,0.020678433077633472,0.008744088540655677,-0.016630523700875005,0.020563595444075978,0.06247556985296211,0.010035976568043229,0.0021508391356140737,-0.0012191812497599976,-0.0018460188505364217,0.005696640822031506,-0.020266168520122547,0.014724539503619323,-0.008498157283589908,-0.018035774285562824,0.005099438664441667,-0.006625714997753014,7.689576658151962e-05,-0.004839076278712117,0.008999865588646922,-0.007014212483883804,-0.00992105320898749,-4.306816319580545e-06,-0.0028227760597914395,-0.0002496680100955901,0.024386622628345848,0.03514963577527064,-0.03158617427786429,-0.019160382006654632,0.0019993818430715424,-0.0035234174844146547,-0.002129322414017041,-0.0014898644657382165,-0.025492437070141306,0.002669921254282285,-0.014280812461463352,0.022603515098457736,0.008975493701841019,-0.013272450236379945,0.015579772285459864,0.008167101658598776,-0.01127321023547332,-0.01586067825734154,-0.0037067502229333523,-0.017326151242401767,-0.008032763374175769,-0.010193566521022306,0.013023299698252892,0.009568862211656223,-0.004547320019912309,-0.008290875453637436,-0.00688338297953537,0.0049355982409608635,-0.005012893128983633,-0.0007634857181417164,0.001958798587886655,0.01077017426026826,0.009114310690642903,9.489802246346277e-05,-0.007717686637456804,-0.0030173730712690677,0.004912964355854566,0.03250646273735247,-0.007082036689440641,0.025655414583229195,-0.0142614756520536,0.013751777185059757,-0.007923122657276198,0.0026476719512947035,0.0011283077548486734,-3.2634089660599217e-05,0.004304333492106353,0.005691764079832361,-0.002781327334542145,0.022461178688938866,-0.0009389319149996111,-0.013667313674279669,-0.02274023760565126,-0.004208572169702995,0.00859555164564218,0.01965900513777995,0.028234533756427493,0.012376668367752058,0.0051954448029241165,0.004491021355209587,-0.022482107461810216,0.017053234221754823,0.011772250961147078,0.005393117522854258,-0.0005322833803866625,-0.007110799122968458,-0.01762939858695344,-0.0060402753154471835,0.01383076608458668,0.023411186936355823,0.0011874415380349575,-0.004067142698936612,0.009271891488293686,-0.010889453505385548,-0.013673961364592929,0.004357953030829567,0.03140501134450352,0.0368210672497361,-0.015045395336043585,-0.02124697078840199,-0.0034132259374588646,0.0032192244730434596,-0.009171490206505432,-0.017705212323866775,-0.00936673580580756,0.010489038448375095],\"yaxis\":\"y\",\"type\":\"scattergl\"}],                        {\"template\":{\"data\":{\"histogram2dcontour\":[{\"type\":\"histogram2dcontour\",\"colorbar\":{\"outlinewidth\":0,\"ticks\":\"\"},\"colorscale\":[[0.0,\"#0d0887\"],[0.1111111111111111,\"#46039f\"],[0.2222222222222222,\"#7201a8\"],[0.3333333333333333,\"#9c179e\"],[0.4444444444444444,\"#bd3786\"],[0.5555555555555556,\"#d8576b\"],[0.6666666666666666,\"#ed7953\"],[0.7777777777777778,\"#fb9f3a\"],[0.8888888888888888,\"#fdca26\"],[1.0,\"#f0f921\"]]}],\"choropleth\":[{\"type\":\"choropleth\",\"colorbar\":{\"outlinewidth\":0,\"ticks\":\"\"}}],\"histogram2d\":[{\"type\":\"histogram2d\",\"colorbar\":{\"outlinewidth\":0,\"ticks\":\"\"},\"colorscale\":[[0.0,\"#0d0887\"],[0.1111111111111111,\"#46039f\"],[0.2222222222222222,\"#7201a8\"],[0.3333333333333333,\"#9c179e\"],[0.4444444444444444,\"#bd3786\"],[0.5555555555555556,\"#d8576b\"],[0.6666666666666666,\"#ed7953\"],[0.7777777777777778,\"#fb9f3a\"],[0.8888888888888888,\"#fdca26\"],[1.0,\"#f0f921\"]]}],\"heatmap\":[{\"type\":\"heatmap\",\"colorbar\":{\"outlinewidth\":0,\"ticks\":\"\"},\"colorscale\":[[0.0,\"#0d0887\"],[0.1111111111111111,\"#46039f\"],[0.2222222222222222,\"#7201a8\"],[0.3333333333333333,\"#9c179e\"],[0.4444444444444444,\"#bd3786\"],[0.5555555555555556,\"#d8576b\"],[0.6666666666666666,\"#ed7953\"],[0.7777777777777778,\"#fb9f3a\"],[0.8888888888888888,\"#fdca26\"],[1.0,\"#f0f921\"]]}],\"heatmapgl\":[{\"type\":\"heatmapgl\",\"colorbar\":{\"outlinewidth\":0,\"ticks\":\"\"},\"colorscale\":[[0.0,\"#0d0887\"],[0.1111111111111111,\"#46039f\"],[0.2222222222222222,\"#7201a8\"],[0.3333333333333333,\"#9c179e\"],[0.4444444444444444,\"#bd3786\"],[0.5555555555555556,\"#d8576b\"],[0.6666666666666666,\"#ed7953\"],[0.7777777777777778,\"#fb9f3a\"],[0.8888888888888888,\"#fdca26\"],[1.0,\"#f0f921\"]]}],\"contourcarpet\":[{\"type\":\"contourcarpet\",\"colorbar\":{\"outlinewidth\":0,\"ticks\":\"\"}}],\"contour\":[{\"type\":\"contour\",\"colorbar\":{\"outlinewidth\":0,\"ticks\":\"\"},\"colorscale\":[[0.0,\"#0d0887\"],[0.1111111111111111,\"#46039f\"],[0.2222222222222222,\"#7201a8\"],[0.3333333333333333,\"#9c179e\"],[0.4444444444444444,\"#bd3786\"],[0.5555555555555556,\"#d8576b\"],[0.6666666666666666,\"#ed7953\"],[0.7777777777777778,\"#fb9f3a\"],[0.8888888888888888,\"#fdca26\"],[1.0,\"#f0f921\"]]}],\"surface\":[{\"type\":\"surface\",\"colorbar\":{\"outlinewidth\":0,\"ticks\":\"\"},\"colorscale\":[[0.0,\"#0d0887\"],[0.1111111111111111,\"#46039f\"],[0.2222222222222222,\"#7201a8\"],[0.3333333333333333,\"#9c179e\"],[0.4444444444444444,\"#bd3786\"],[0.5555555555555556,\"#d8576b\"],[0.6666666666666666,\"#ed7953\"],[0.7777777777777778,\"#fb9f3a\"],[0.8888888888888888,\"#fdca26\"],[1.0,\"#f0f921\"]]}],\"mesh3d\":[{\"type\":\"mesh3d\",\"colorbar\":{\"outlinewidth\":0,\"ticks\":\"\"}}],\"scatter\":[{\"fillpattern\":{\"fillmode\":\"overlay\",\"size\":10,\"solidity\":0.2},\"type\":\"scatter\"}],\"parcoords\":[{\"type\":\"parcoords\",\"line\":{\"colorbar\":{\"outlinewidth\":0,\"ticks\":\"\"}}}],\"scatterpolargl\":[{\"type\":\"scatterpolargl\",\"marker\":{\"colorbar\":{\"outlinewidth\":0,\"ticks\":\"\"}}}],\"bar\":[{\"error_x\":{\"color\":\"#2a3f5f\"},\"error_y\":{\"color\":\"#2a3f5f\"},\"marker\":{\"line\":{\"color\":\"#E5ECF6\",\"width\":0.5},\"pattern\":{\"fillmode\":\"overlay\",\"size\":10,\"solidity\":0.2}},\"type\":\"bar\"}],\"scattergeo\":[{\"type\":\"scattergeo\",\"marker\":{\"colorbar\":{\"outlinewidth\":0,\"ticks\":\"\"}}}],\"scatterpolar\":[{\"type\":\"scatterpolar\",\"marker\":{\"colorbar\":{\"outlinewidth\":0,\"ticks\":\"\"}}}],\"histogram\":[{\"marker\":{\"pattern\":{\"fillmode\":\"overlay\",\"size\":10,\"solidity\":0.2}},\"type\":\"histogram\"}],\"scattergl\":[{\"type\":\"scattergl\",\"marker\":{\"colorbar\":{\"outlinewidth\":0,\"ticks\":\"\"}}}],\"scatter3d\":[{\"type\":\"scatter3d\",\"line\":{\"colorbar\":{\"outlinewidth\":0,\"ticks\":\"\"}},\"marker\":{\"colorbar\":{\"outlinewidth\":0,\"ticks\":\"\"}}}],\"scattermapbox\":[{\"type\":\"scattermapbox\",\"marker\":{\"colorbar\":{\"outlinewidth\":0,\"ticks\":\"\"}}}],\"scatterternary\":[{\"type\":\"scatterternary\",\"marker\":{\"colorbar\":{\"outlinewidth\":0,\"ticks\":\"\"}}}],\"scattercarpet\":[{\"type\":\"scattercarpet\",\"marker\":{\"colorbar\":{\"outlinewidth\":0,\"ticks\":\"\"}}}],\"carpet\":[{\"aaxis\":{\"endlinecolor\":\"#2a3f5f\",\"gridcolor\":\"white\",\"linecolor\":\"white\",\"minorgridcolor\":\"white\",\"startlinecolor\":\"#2a3f5f\"},\"baxis\":{\"endlinecolor\":\"#2a3f5f\",\"gridcolor\":\"white\",\"linecolor\":\"white\",\"minorgridcolor\":\"white\",\"startlinecolor\":\"#2a3f5f\"},\"type\":\"carpet\"}],\"table\":[{\"cells\":{\"fill\":{\"color\":\"#EBF0F8\"},\"line\":{\"color\":\"white\"}},\"header\":{\"fill\":{\"color\":\"#C8D4E3\"},\"line\":{\"color\":\"white\"}},\"type\":\"table\"}],\"barpolar\":[{\"marker\":{\"line\":{\"color\":\"#E5ECF6\",\"width\":0.5},\"pattern\":{\"fillmode\":\"overlay\",\"size\":10,\"solidity\":0.2}},\"type\":\"barpolar\"}],\"pie\":[{\"automargin\":true,\"type\":\"pie\"}]},\"layout\":{\"autotypenumbers\":\"strict\",\"colorway\":[\"#636efa\",\"#EF553B\",\"#00cc96\",\"#ab63fa\",\"#FFA15A\",\"#19d3f3\",\"#FF6692\",\"#B6E880\",\"#FF97FF\",\"#FECB52\"],\"font\":{\"color\":\"#2a3f5f\"},\"hovermode\":\"closest\",\"hoverlabel\":{\"align\":\"left\"},\"paper_bgcolor\":\"white\",\"plot_bgcolor\":\"#E5ECF6\",\"polar\":{\"bgcolor\":\"#E5ECF6\",\"angularaxis\":{\"gridcolor\":\"white\",\"linecolor\":\"white\",\"ticks\":\"\"},\"radialaxis\":{\"gridcolor\":\"white\",\"linecolor\":\"white\",\"ticks\":\"\"}},\"ternary\":{\"bgcolor\":\"#E5ECF6\",\"aaxis\":{\"gridcolor\":\"white\",\"linecolor\":\"white\",\"ticks\":\"\"},\"baxis\":{\"gridcolor\":\"white\",\"linecolor\":\"white\",\"ticks\":\"\"},\"caxis\":{\"gridcolor\":\"white\",\"linecolor\":\"white\",\"ticks\":\"\"}},\"coloraxis\":{\"colorbar\":{\"outlinewidth\":0,\"ticks\":\"\"}},\"colorscale\":{\"sequential\":[[0.0,\"#0d0887\"],[0.1111111111111111,\"#46039f\"],[0.2222222222222222,\"#7201a8\"],[0.3333333333333333,\"#9c179e\"],[0.4444444444444444,\"#bd3786\"],[0.5555555555555556,\"#d8576b\"],[0.6666666666666666,\"#ed7953\"],[0.7777777777777778,\"#fb9f3a\"],[0.8888888888888888,\"#fdca26\"],[1.0,\"#f0f921\"]],\"sequentialminus\":[[0.0,\"#0d0887\"],[0.1111111111111111,\"#46039f\"],[0.2222222222222222,\"#7201a8\"],[0.3333333333333333,\"#9c179e\"],[0.4444444444444444,\"#bd3786\"],[0.5555555555555556,\"#d8576b\"],[0.6666666666666666,\"#ed7953\"],[0.7777777777777778,\"#fb9f3a\"],[0.8888888888888888,\"#fdca26\"],[1.0,\"#f0f921\"]],\"diverging\":[[0,\"#8e0152\"],[0.1,\"#c51b7d\"],[0.2,\"#de77ae\"],[0.3,\"#f1b6da\"],[0.4,\"#fde0ef\"],[0.5,\"#f7f7f7\"],[0.6,\"#e6f5d0\"],[0.7,\"#b8e186\"],[0.8,\"#7fbc41\"],[0.9,\"#4d9221\"],[1,\"#276419\"]]},\"xaxis\":{\"gridcolor\":\"white\",\"linecolor\":\"white\",\"ticks\":\"\",\"title\":{\"standoff\":15},\"zerolinecolor\":\"white\",\"automargin\":true,\"zerolinewidth\":2},\"yaxis\":{\"gridcolor\":\"white\",\"linecolor\":\"white\",\"ticks\":\"\",\"title\":{\"standoff\":15},\"zerolinecolor\":\"white\",\"automargin\":true,\"zerolinewidth\":2},\"scene\":{\"xaxis\":{\"backgroundcolor\":\"#E5ECF6\",\"gridcolor\":\"white\",\"linecolor\":\"white\",\"showbackground\":true,\"ticks\":\"\",\"zerolinecolor\":\"white\",\"gridwidth\":2},\"yaxis\":{\"backgroundcolor\":\"#E5ECF6\",\"gridcolor\":\"white\",\"linecolor\":\"white\",\"showbackground\":true,\"ticks\":\"\",\"zerolinecolor\":\"white\",\"gridwidth\":2},\"zaxis\":{\"backgroundcolor\":\"#E5ECF6\",\"gridcolor\":\"white\",\"linecolor\":\"white\",\"showbackground\":true,\"ticks\":\"\",\"zerolinecolor\":\"white\",\"gridwidth\":2}},\"shapedefaults\":{\"line\":{\"color\":\"#2a3f5f\"}},\"annotationdefaults\":{\"arrowcolor\":\"#2a3f5f\",\"arrowhead\":0,\"arrowwidth\":1},\"geo\":{\"bgcolor\":\"white\",\"landcolor\":\"#E5ECF6\",\"subunitcolor\":\"white\",\"showland\":true,\"showlakes\":true,\"lakecolor\":\"white\"},\"title\":{\"x\":0.05},\"mapbox\":{\"style\":\"light\"}}},\"xaxis\":{\"anchor\":\"y\",\"domain\":[0.0,1.0],\"title\":{\"text\":\"x\"}},\"yaxis\":{\"anchor\":\"x\",\"domain\":[0.0,1.0],\"title\":{\"text\":\"y\"}},\"coloraxis\":{\"colorbar\":{\"title\":{\"text\":\"color\"}},\"colorscale\":[[0.0,\"#0d0887\"],[0.1111111111111111,\"#46039f\"],[0.2222222222222222,\"#7201a8\"],[0.3333333333333333,\"#9c179e\"],[0.4444444444444444,\"#bd3786\"],[0.5555555555555556,\"#d8576b\"],[0.6666666666666666,\"#ed7953\"],[0.7777777777777778,\"#fb9f3a\"],[0.8888888888888888,\"#fdca26\"],[1.0,\"#f0f921\"]]},\"legend\":{\"tracegroupgap\":0},\"title\":{\"text\":\"Latent Relationships Between Different Trading Days During Dataset\"}},                        {\"responsive\": true}                    ).then(function(){\n",
       "                            \n",
       "var gd = document.getElementById('206a915f-e24b-4855-8dfc-113cd625ce05');\n",
       "var x = new MutationObserver(function (mutations, observer) {{\n",
       "        var display = window.getComputedStyle(gd).display;\n",
       "        if (!display || display === 'none') {{\n",
       "            console.log([gd, 'removed!']);\n",
       "            Plotly.purge(gd);\n",
       "            observer.disconnect();\n",
       "        }}\n",
       "}});\n",
       "\n",
       "// Listen for the removal of the full notebook cells\n",
       "var notebookContainer = gd.closest('#notebook-container');\n",
       "if (notebookContainer) {{\n",
       "    x.observe(notebookContainer, {childList: true});\n",
       "}}\n",
       "\n",
       "// Listen for the clearing of the current output cell\n",
       "var outputEl = gd.closest('.output');\n",
       "if (outputEl) {{\n",
       "    x.observe(outputEl, {childList: true});\n",
       "}}\n",
       "\n",
       "                        })                };                });            </script>        </div>"
      ]
     },
     "metadata": {},
     "output_type": "display_data"
    }
   ],
   "source": [
    "# latent relationships between different trading days\n",
    "trading_days = np.arange(len(df.index))\n",
    "px.scatter(x = U[:, 0], y = U[:, 1], \n",
    "           hover_name = df.index, color = trading_days,\n",
    "           title = \"Latent Relationships Between Different Trading Days During Dataset\")"
   ]
  },
  {
   "cell_type": "markdown",
   "id": "3975e0c1",
   "metadata": {},
   "source": [
    "**TO DO:** \n",
    "\n",
    "Try and cluster w/ KMeans + PCA\n",
    "\n",
    " - Use PCA to reduce dimensionality of dataset (probably keep 95% of explained variance)\n",
    " - Fit KMeans to find optimal # of clusters using Silhouette Score (or some other metric) w/ training, validation, test sets (can report these scores in our final report)\n",
    " - Visualize on reduced dataset similar to above chart, but this time color coded w/ cluster labels (how well do different clusters separate themselves?)\n",
    " - Report patterns contained within different clusters -- any overarching themes?"
   ]
  }
 ],
 "metadata": {
  "kernelspec": {
   "display_name": "Python 3 (ipykernel)",
   "language": "python",
   "name": "python3"
  },
  "language_info": {
   "codemirror_mode": {
    "name": "ipython",
    "version": 3
   },
   "file_extension": ".py",
   "mimetype": "text/x-python",
   "name": "python",
   "nbconvert_exporter": "python",
   "pygments_lexer": "ipython3",
   "version": "3.9.7"
  }
 },
 "nbformat": 4,
 "nbformat_minor": 5
}
