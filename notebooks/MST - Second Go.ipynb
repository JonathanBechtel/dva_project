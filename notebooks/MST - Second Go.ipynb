{
 "cells": [
  {
   "cell_type": "code",
   "execution_count": 1,
   "id": "4ec2846d",
   "metadata": {},
   "outputs": [],
   "source": [
    "# library imports\n",
    "import pandas as pd\n",
    "import numpy as np\n",
    "import matplotlib.pyplot as plt\n",
    "import networkx as nx\n",
    "from scipy.sparse import csr_matrix\n",
    "from scipy.sparse.csgraph import minimum_spanning_tree\n",
    "\n",
    "# log returns data\n",
    "log_rets = pd.read_csv('../data/returns_clean.csv', index_col = 'timestamp', parse_dates = ['timestamp'])\n",
    "\n",
    "# import distance matrix\n",
    "with open('../artifacts/dtw_standardized.npy', 'rb') as matrix:\n",
    "    dist_mat = np.load(matrix)\n",
    "    \n",
    "# input for the MST\n",
    "X = csr_matrix(dist_mat)\n",
    "\n",
    "# turn into an MST\n",
    "graph = minimum_spanning_tree(X).toarray()"
   ]
  },
  {
   "cell_type": "code",
   "execution_count": 3,
   "id": "72df9c48",
   "metadata": {},
   "outputs": [
    {
     "data": {
      "text/html": [
       "<div>\n",
       "<style scoped>\n",
       "    .dataframe tbody tr th:only-of-type {\n",
       "        vertical-align: middle;\n",
       "    }\n",
       "\n",
       "    .dataframe tbody tr th {\n",
       "        vertical-align: top;\n",
       "    }\n",
       "\n",
       "    .dataframe thead th {\n",
       "        text-align: right;\n",
       "    }\n",
       "</style>\n",
       "<table border=\"1\" class=\"dataframe\">\n",
       "  <thead>\n",
       "    <tr style=\"text-align: right;\">\n",
       "      <th></th>\n",
       "      <th>Source</th>\n",
       "      <th>Target</th>\n",
       "      <th>Weight</th>\n",
       "    </tr>\n",
       "  </thead>\n",
       "  <tbody>\n",
       "    <tr>\n",
       "      <th>1</th>\n",
       "      <td>ethereum</td>\n",
       "      <td>bitcoin</td>\n",
       "      <td>324.385698</td>\n",
       "    </tr>\n",
       "    <tr>\n",
       "      <th>2</th>\n",
       "      <td>tether</td>\n",
       "      <td>bitcoin</td>\n",
       "      <td>0.000000</td>\n",
       "    </tr>\n",
       "    <tr>\n",
       "      <th>3</th>\n",
       "      <td>binance-coin</td>\n",
       "      <td>bitcoin</td>\n",
       "      <td>0.000000</td>\n",
       "    </tr>\n",
       "    <tr>\n",
       "      <th>4</th>\n",
       "      <td>usd-coin</td>\n",
       "      <td>bitcoin</td>\n",
       "      <td>0.000000</td>\n",
       "    </tr>\n",
       "    <tr>\n",
       "      <th>5</th>\n",
       "      <td>ripple</td>\n",
       "      <td>bitcoin</td>\n",
       "      <td>0.000000</td>\n",
       "    </tr>\n",
       "  </tbody>\n",
       "</table>\n",
       "</div>"
      ],
      "text/plain": [
       "         Source   Target      Weight\n",
       "1      ethereum  bitcoin  324.385698\n",
       "2        tether  bitcoin    0.000000\n",
       "3  binance-coin  bitcoin    0.000000\n",
       "4      usd-coin  bitcoin    0.000000\n",
       "5        ripple  bitcoin    0.000000"
      ]
     },
     "execution_count": 3,
     "metadata": {},
     "output_type": "execute_result"
    }
   ],
   "source": [
    "# process into source / target data\n",
    "coin_names = [col.split('_')[0] for col in log_rets.columns]\n",
    "\n",
    "# convert to df\n",
    "graph_df   = pd.DataFrame(graph, columns = coin_names, index = coin_names)\n",
    "\n",
    "# melt to re-organize into source / target dichotomy\n",
    "graph_data = graph_df.melt(ignore_index = False).reset_index()\n",
    "\n",
    "# rename for clarity\n",
    "graph_data.rename({'index': 'Source', 'variable': 'Target', 'value': 'Weight'},\n",
    "                  axis = 1, inplace = True)\n",
    "\n",
    "# remove redundant pairs w/ same Source - Target values (ie, bitcoin to bitcoin)\n",
    "query = graph_data.Source != graph_data.Target\n",
    "graph_data = graph_data.loc[query, :]\n",
    "\n",
    "# initial dataset\n",
    "graph_data.head()"
   ]
  },
  {
   "cell_type": "code",
   "execution_count": 4,
   "id": "bff7d7e9",
   "metadata": {},
   "outputs": [],
   "source": [
    "# export this to use for visualization\n",
    "graph_data.to_csv('dtw_graph.csv', index = False)"
   ]
  },
  {
   "cell_type": "markdown",
   "id": "8023dd41",
   "metadata": {},
   "source": [
    "This next block of code will now create similar code, but for a correlation matrix, instead of a dtw matrix."
   ]
  },
  {
   "cell_type": "code",
   "execution_count": 5,
   "id": "807052e9",
   "metadata": {},
   "outputs": [],
   "source": [
    "# standardize log_returns\n",
    "log_means = log_rets.mean(axis = 0)\n",
    "log_stds  = log_rets.std(axis = 0)\n",
    "\n",
    "rets_copy = log_rets.copy(deep = True)\n",
    "\n",
    "rets_copy -= log_means\n",
    "rets_copy /= log_stds\n",
    "\n",
    "# create correlation matrix\n",
    "log_corr = rets_copy.corr()\n",
    "\n",
    "# convert to a distance matrix\n",
    "corr_mat = np.sqrt(2 * (1 - log_corr))\n",
    "\n",
    "# turn into an MST\n",
    "graph2 = minimum_spanning_tree(csr_matrix(corr_mat)).toarray()\n",
    "\n",
    "# convert to Source / Target / Weight format -- same code as above\n",
    "graph_df2   = pd.DataFrame(graph2, columns = coin_names, index = coin_names)\n",
    "graph_data2 = graph_df2.melt(ignore_index = False).reset_index()\n",
    "graph_data2.rename({'index': 'Source', 'variable': 'Target', 'value': 'Weight'},\n",
    "                  axis = 1, inplace = True)\n",
    "\n",
    "query       = graph_data2.Source != graph_data2.Target\n",
    "graph_data2 = graph_data2.loc[query, :]\n",
    "\n",
    "# export to csv\n",
    "graph_data2.to_csv('corr_graph.csv', index = False)"
   ]
  },
  {
   "cell_type": "markdown",
   "id": "0771cbbc",
   "metadata": {},
   "source": [
    "We'll now visualize each, to compare the two."
   ]
  },
  {
   "cell_type": "code",
   "execution_count": 6,
   "id": "79bf4c0b",
   "metadata": {},
   "outputs": [
    {
     "data": {
      "image/png": "[encoded data removed]",
      "text/plain": [
       "<Figure size 432x288 with 1 Axes>"
      ]
     },
     "metadata": {},
     "output_type": "display_data"
    }
   ],
   "source": [
    "def make_label_dict(labels):\n",
    "    l = {}\n",
    "    for i, label in enumerate(labels):\n",
    "        l[i] = label\n",
    "    return l\n",
    "\n",
    "def show_graph_with_labels(adjacency_matrix, mylabels, calc):\n",
    "    rows, cols = np.where(adjacency_matrix != 0)\n",
    "    edges = zip(rows.tolist(), cols.tolist())\n",
    "    gr = nx.Graph()\n",
    "    gr.add_edges_from(edges)\n",
    "    nx.draw(gr, node_size=500, labels=mylabels, with_labels=False)\n",
    "    plt.title(f\"Basic Structure of Graph With {calc} Calculatioin\")\n",
    "    plt.show()\n",
    "    \n",
    "#\n",
    "show_graph_with_labels(graph, make_label_dict(coin_names), 'DTW')"
   ]
  },
  {
   "cell_type": "code",
   "execution_count": 7,
   "id": "d6d91c67",
   "metadata": {},
   "outputs": [
    {
     "data": {
      "image/png": "[encoded data removed]",
      "text/plain": [
       "<Figure size 432x288 with 1 Axes>"
      ]
     },
     "metadata": {},
     "output_type": "display_data"
    }
   ],
   "source": [
    "# and for correlation\n",
    "show_graph_with_labels(graph2, make_label_dict(coin_names), 'Correlation')"
   ]
  },
  {
   "cell_type": "code",
   "execution_count": 15,
   "id": "d4639049",
   "metadata": {},
   "outputs": [
    {
     "name": "stdout",
     "output_type": "stream",
     "text": [
      "Different edges between the two MSTs: set()\n"
     ]
    }
   ],
   "source": [
    "# Assuming you have two distance matrices `distance_matrix1` and `distance_matrix2`\n",
    "distance_matrix1 = np.array([[0, 2, 3], [2, 0, 1], [3, 1, 0]])\n",
    "distance_matrix2 = np.array([[0, 3, 3], [3, 0, 1], [3, 1, 0]])\n",
    "\n",
    "# Create graphs from distance matrices\n",
    "G1 = nx.from_numpy_matrix(distance_matrix1)\n",
    "G2 = nx.from_numpy_matrix(distance_matrix2)\n",
    "\n",
    "# Compute the minimum spanning tree for each graph\n",
    "mst1 = nx.minimum_spanning_tree(G1)\n",
    "mst2 = nx.minimum_spanning_tree(G2)\n",
    "\n",
    "# Find the differences between the two MSTs\n",
    "diff_edges = set(mst1.edges()) ^ set(mst2.edges())\n",
    "\n",
    "print(\"Different edges between the two MSTs:\", diff_edges)"
   ]
  }
 ],
 "metadata": {
  "kernelspec": {
   "display_name": "Python 3 (ipykernel)",
   "language": "python",
   "name": "python3"
  },
  "language_info": {
   "codemirror_mode": {
    "name": "ipython",
    "version": 3
   },
   "file_extension": ".py",
   "mimetype": "text/x-python",
   "name": "python",
   "nbconvert_exporter": "python",
   "pygments_lexer": "ipython3",
   "version": "3.8.15"
  }
 },
 "nbformat": 4,
 "nbformat_minor": 5
}
